{
 "cells": [
  {
   "cell_type": "markdown",
   "id": "177de8fb",
   "metadata": {},
   "source": [
    "ELEC5305 PROJECT MAIN CODE"
   ]
  },
  {
   "cell_type": "code",
   "execution_count": 3,
   "id": "526ba9b0",
   "metadata": {},
   "outputs": [
    {
     "name": "stdout",
     "output_type": "stream",
     "text": [
      "Requirement already satisfied: pip in c:\\users\\cyborg 15\\appdata\\roaming\\python\\python312\\site-packages (25.2)\n",
      "Requirement already satisfied: setuptools in c:\\python312\\lib\\site-packages (69.5.1)\n",
      "Collecting setuptools\n",
      "  Using cached setuptools-80.9.0-py3-none-any.whl.metadata (6.6 kB)\n",
      "Requirement already satisfied: wheel in c:\\python312\\lib\\site-packages (0.43.0)\n",
      "Collecting wheel\n",
      "  Using cached wheel-0.45.1-py3-none-any.whl.metadata (2.3 kB)\n",
      "Using cached setuptools-80.9.0-py3-none-any.whl (1.2 MB)\n",
      "Using cached wheel-0.45.1-py3-none-any.whl (72 kB)\n",
      "Installing collected packages: wheel, setuptools\n",
      "\n",
      "   ---------------------------------------- 0/2 [wheel]\n",
      "   ---------------------------------------- 0/2 [wheel]\n",
      "   -------------------- ------------------- 1/2 [setuptools]\n",
      "   -------------------- ------------------- 1/2 [setuptools]\n",
      "   -------------------- ------------------- 1/2 [setuptools]\n",
      "   -------------------- ------------------- 1/2 [setuptools]\n",
      "   -------------------- ------------------- 1/2 [setuptools]\n",
      "   -------------------- ------------------- 1/2 [setuptools]\n",
      "   -------------------- ------------------- 1/2 [setuptools]\n",
      "   -------------------- ------------------- 1/2 [setuptools]\n",
      "   -------------------- ------------------- 1/2 [setuptools]\n",
      "   -------------------- ------------------- 1/2 [setuptools]\n",
      "   -------------------- ------------------- 1/2 [setuptools]\n",
      "   -------------------- ------------------- 1/2 [setuptools]\n",
      "   -------------------- ------------------- 1/2 [setuptools]\n",
      "   -------------------- ------------------- 1/2 [setuptools]\n",
      "   -------------------- ------------------- 1/2 [setuptools]\n",
      "   -------------------- ------------------- 1/2 [setuptools]\n",
      "   -------------------- ------------------- 1/2 [setuptools]\n",
      "   -------------------- ------------------- 1/2 [setuptools]\n",
      "   -------------------- ------------------- 1/2 [setuptools]\n",
      "   -------------------- ------------------- 1/2 [setuptools]\n",
      "   -------------------- ------------------- 1/2 [setuptools]\n",
      "   -------------------- ------------------- 1/2 [setuptools]\n",
      "   -------------------- ------------------- 1/2 [setuptools]\n",
      "   -------------------- ------------------- 1/2 [setuptools]\n",
      "   -------------------- ------------------- 1/2 [setuptools]\n",
      "   -------------------- ------------------- 1/2 [setuptools]\n",
      "   ---------------------------------------- 2/2 [setuptools]\n",
      "\n",
      "Successfully installed setuptools-80.9.0 wheel-0.45.1\n",
      "Note: you may need to restart the kernel to use updated packages.\n"
     ]
    },
    {
     "name": "stderr",
     "output_type": "stream",
     "text": [
      "WARNING: Ignoring invalid distribution ~ (c:\\Python312\\Lib\\site-packages)\n",
      "WARNING: Ignoring invalid distribution ~-p (c:\\Python312\\Lib\\site-packages)\n",
      "WARNING: Ignoring invalid distribution ~=p (c:\\Python312\\Lib\\site-packages)\n",
      "WARNING: Ignoring invalid distribution ~ip (c:\\Python312\\Lib\\site-packages)\n",
      "WARNING: Ignoring invalid distribution ~~p (c:\\Python312\\Lib\\site-packages)\n",
      "WARNING: Ignoring invalid distribution ~ (c:\\Python312\\Lib\\site-packages)\n",
      "WARNING: Ignoring invalid distribution ~-p (c:\\Python312\\Lib\\site-packages)\n",
      "WARNING: Ignoring invalid distribution ~=p (c:\\Python312\\Lib\\site-packages)\n",
      "WARNING: Ignoring invalid distribution ~ip (c:\\Python312\\Lib\\site-packages)\n",
      "WARNING: Ignoring invalid distribution ~~p (c:\\Python312\\Lib\\site-packages)\n"
     ]
    },
    {
     "name": "stdout",
     "output_type": "stream",
     "text": [
      "Requirement already satisfied: librosa==0.11.0 in c:\\python312\\lib\\site-packages (0.11.0)\n",
      "Requirement already satisfied: numba==0.61.2 in c:\\python312\\lib\\site-packages (0.61.2)\n",
      "Requirement already satisfied: llvmlite in c:\\python312\\lib\\site-packages (0.44.0)\n",
      "Requirement already satisfied: soxr in c:\\python312\\lib\\site-packages (1.0.0)\n",
      "Requirement already satisfied: soundfile in c:\\python312\\lib\\site-packages (0.13.1)\n",
      "Requirement already satisfied: ffmpeg-python in c:\\python312\\lib\\site-packages (0.2.0)\n",
      "Requirement already satisfied: matplotlib in c:\\python312\\lib\\site-packages (3.8.4)\n",
      "Requirement already satisfied: tqdm in c:\\python312\\lib\\site-packages (4.66.5)\n",
      "Requirement already satisfied: pandas in c:\\python312\\lib\\site-packages (2.2.2)\n",
      "Requirement already satisfied: numpy in c:\\python312\\lib\\site-packages (1.26.4)\n",
      "Requirement already satisfied: audioread>=2.1.9 in c:\\python312\\lib\\site-packages (from librosa==0.11.0) (3.0.1)\n",
      "Requirement already satisfied: scipy>=1.6.0 in c:\\python312\\lib\\site-packages (from librosa==0.11.0) (1.13.0)\n",
      "Requirement already satisfied: scikit-learn>=1.1.0 in c:\\python312\\lib\\site-packages (from librosa==0.11.0) (1.4.2)\n",
      "Requirement already satisfied: joblib>=1.0 in c:\\python312\\lib\\site-packages (from librosa==0.11.0) (1.4.0)\n",
      "Requirement already satisfied: decorator>=4.3.0 in c:\\users\\cyborg 15\\appdata\\roaming\\python\\python312\\site-packages (from librosa==0.11.0) (5.1.1)\n",
      "Requirement already satisfied: pooch>=1.1 in c:\\python312\\lib\\site-packages (from librosa==0.11.0) (1.8.2)\n",
      "Requirement already satisfied: typing_extensions>=4.1.1 in c:\\users\\cyborg 15\\appdata\\roaming\\python\\python312\\site-packages (from librosa==0.11.0) (4.13.2)\n",
      "Requirement already satisfied: lazy_loader>=0.1 in c:\\users\\cyborg 15\\appdata\\roaming\\python\\python312\\site-packages (from librosa==0.11.0) (0.4)\n",
      "Requirement already satisfied: msgpack>=1.0 in c:\\python312\\lib\\site-packages (from librosa==0.11.0) (1.1.1)\n",
      "Requirement already satisfied: cffi>=1.0 in c:\\users\\cyborg 15\\appdata\\roaming\\python\\python312\\site-packages (from soundfile) (1.17.1)\n",
      "Requirement already satisfied: future in c:\\python312\\lib\\site-packages (from ffmpeg-python) (1.0.0)\n",
      "Requirement already satisfied: contourpy>=1.0.1 in c:\\python312\\lib\\site-packages (from matplotlib) (1.2.1)\n",
      "Requirement already satisfied: cycler>=0.10 in c:\\python312\\lib\\site-packages (from matplotlib) (0.12.1)\n",
      "Requirement already satisfied: fonttools>=4.22.0 in c:\\python312\\lib\\site-packages (from matplotlib) (4.51.0)\n",
      "Requirement already satisfied: kiwisolver>=1.3.1 in c:\\python312\\lib\\site-packages (from matplotlib) (1.4.5)\n",
      "Requirement already satisfied: packaging>=20.0 in c:\\python312\\lib\\site-packages (from matplotlib) (24.0)\n",
      "Requirement already satisfied: pillow>=8 in c:\\python312\\lib\\site-packages (from matplotlib) (10.3.0)\n",
      "Requirement already satisfied: pyparsing>=2.3.1 in c:\\python312\\lib\\site-packages (from matplotlib) (3.1.2)\n",
      "Requirement already satisfied: python-dateutil>=2.7 in c:\\python312\\lib\\site-packages (from matplotlib) (2.9.0.post0)\n",
      "Requirement already satisfied: colorama in c:\\users\\cyborg 15\\appdata\\roaming\\python\\python312\\site-packages (from tqdm) (0.4.6)\n",
      "Requirement already satisfied: pytz>=2020.1 in c:\\python312\\lib\\site-packages (from pandas) (2024.1)\n",
      "Requirement already satisfied: tzdata>=2022.7 in c:\\python312\\lib\\site-packages (from pandas) (2024.1)\n",
      "Requirement already satisfied: pycparser in c:\\users\\cyborg 15\\appdata\\roaming\\python\\python312\\site-packages (from cffi>=1.0->soundfile) (2.22)\n",
      "Requirement already satisfied: platformdirs>=2.5.0 in c:\\users\\cyborg 15\\appdata\\roaming\\python\\python312\\site-packages (from pooch>=1.1->librosa==0.11.0) (4.2.1)\n",
      "Requirement already satisfied: requests>=2.19.0 in c:\\users\\cyborg 15\\appdata\\roaming\\python\\python312\\site-packages (from pooch>=1.1->librosa==0.11.0) (2.31.0)\n",
      "Requirement already satisfied: six>=1.5 in c:\\python312\\lib\\site-packages (from python-dateutil>=2.7->matplotlib) (1.16.0)\n",
      "Requirement already satisfied: charset-normalizer<4,>=2 in c:\\python312\\lib\\site-packages (from requests>=2.19.0->pooch>=1.1->librosa==0.11.0) (3.3.2)\n",
      "Requirement already satisfied: idna<4,>=2.5 in c:\\python312\\lib\\site-packages (from requests>=2.19.0->pooch>=1.1->librosa==0.11.0) (3.7)\n",
      "Requirement already satisfied: urllib3<3,>=1.21.1 in c:\\users\\cyborg 15\\appdata\\roaming\\python\\python312\\site-packages (from requests>=2.19.0->pooch>=1.1->librosa==0.11.0) (1.26.20)\n",
      "Requirement already satisfied: certifi>=2017.4.17 in c:\\python312\\lib\\site-packages (from requests>=2.19.0->pooch>=1.1->librosa==0.11.0) (2024.2.2)\n",
      "Requirement already satisfied: threadpoolctl>=2.0.0 in c:\\python312\\lib\\site-packages (from scikit-learn>=1.1.0->librosa==0.11.0) (3.4.0)\n",
      "Note: you may need to restart the kernel to use updated packages.\n"
     ]
    },
    {
     "name": "stderr",
     "output_type": "stream",
     "text": [
      "WARNING: Ignoring invalid distribution ~ (c:\\Python312\\Lib\\site-packages)\n",
      "WARNING: Ignoring invalid distribution ~-p (c:\\Python312\\Lib\\site-packages)\n",
      "WARNING: Ignoring invalid distribution ~=p (c:\\Python312\\Lib\\site-packages)\n",
      "WARNING: Ignoring invalid distribution ~ip (c:\\Python312\\Lib\\site-packages)\n",
      "WARNING: Ignoring invalid distribution ~~p (c:\\Python312\\Lib\\site-packages)\n",
      "WARNING: Ignoring invalid distribution ~ (c:\\Python312\\Lib\\site-packages)\n",
      "WARNING: Ignoring invalid distribution ~-p (c:\\Python312\\Lib\\site-packages)\n",
      "WARNING: Ignoring invalid distribution ~=p (c:\\Python312\\Lib\\site-packages)\n",
      "WARNING: Ignoring invalid distribution ~ip (c:\\Python312\\Lib\\site-packages)\n",
      "WARNING: Ignoring invalid distribution ~~p (c:\\Python312\\Lib\\site-packages)\n"
     ]
    },
    {
     "name": "stdout",
     "output_type": "stream",
     "text": [
      "Requirement already satisfied: pandas in c:\\python312\\lib\\site-packages (2.2.2)\n",
      "Requirement already satisfied: numpy in c:\\python312\\lib\\site-packages (1.26.4)\n",
      "Requirement already satisfied: librosa in c:\\python312\\lib\\site-packages (0.11.0)\n",
      "Requirement already satisfied: torchaudio in c:\\users\\cyborg 15\\appdata\\roaming\\python\\python312\\site-packages (2.4.1+cu121)\n",
      "Requirement already satisfied: tqdm in c:\\python312\\lib\\site-packages (4.66.5)\n",
      "Requirement already satisfied: ffmpeg-python in c:\\python312\\lib\\site-packages (0.2.0)\n",
      "Requirement already satisfied: matplotlib in c:\\python312\\lib\\site-packages (3.8.4)\n",
      "Requirement already satisfied: soundfile in c:\\python312\\lib\\site-packages (0.13.1)\n",
      "Requirement already satisfied: python-dateutil>=2.8.2 in c:\\python312\\lib\\site-packages (from pandas) (2.9.0.post0)\n",
      "Requirement already satisfied: pytz>=2020.1 in c:\\python312\\lib\\site-packages (from pandas) (2024.1)\n",
      "Requirement already satisfied: tzdata>=2022.7 in c:\\python312\\lib\\site-packages (from pandas) (2024.1)\n",
      "Requirement already satisfied: audioread>=2.1.9 in c:\\python312\\lib\\site-packages (from librosa) (3.0.1)\n",
      "Requirement already satisfied: numba>=0.51.0 in c:\\python312\\lib\\site-packages (from librosa) (0.61.2)\n",
      "Requirement already satisfied: scipy>=1.6.0 in c:\\python312\\lib\\site-packages (from librosa) (1.13.0)\n",
      "Requirement already satisfied: scikit-learn>=1.1.0 in c:\\python312\\lib\\site-packages (from librosa) (1.4.2)\n",
      "Requirement already satisfied: joblib>=1.0 in c:\\python312\\lib\\site-packages (from librosa) (1.4.0)\n",
      "Requirement already satisfied: decorator>=4.3.0 in c:\\users\\cyborg 15\\appdata\\roaming\\python\\python312\\site-packages (from librosa) (5.1.1)\n",
      "Requirement already satisfied: pooch>=1.1 in c:\\python312\\lib\\site-packages (from librosa) (1.8.2)\n",
      "Requirement already satisfied: soxr>=0.3.2 in c:\\python312\\lib\\site-packages (from librosa) (1.0.0)\n",
      "Requirement already satisfied: typing_extensions>=4.1.1 in c:\\users\\cyborg 15\\appdata\\roaming\\python\\python312\\site-packages (from librosa) (4.13.2)\n",
      "Requirement already satisfied: lazy_loader>=0.1 in c:\\users\\cyborg 15\\appdata\\roaming\\python\\python312\\site-packages (from librosa) (0.4)\n",
      "Requirement already satisfied: msgpack>=1.0 in c:\\python312\\lib\\site-packages (from librosa) (1.1.1)\n",
      "Requirement already satisfied: torch==2.4.1+cu121 in c:\\users\\cyborg 15\\appdata\\roaming\\python\\python312\\site-packages (from torchaudio) (2.4.1+cu121)\n",
      "Requirement already satisfied: filelock in c:\\python312\\lib\\site-packages (from torch==2.4.1+cu121->torchaudio) (3.15.4)\n",
      "Requirement already satisfied: sympy in c:\\python312\\lib\\site-packages (from torch==2.4.1+cu121->torchaudio) (1.13.2)\n",
      "Requirement already satisfied: networkx in c:\\python312\\lib\\site-packages (from torch==2.4.1+cu121->torchaudio) (3.3)\n",
      "Requirement already satisfied: jinja2 in c:\\python312\\lib\\site-packages (from torch==2.4.1+cu121->torchaudio) (3.1.4)\n",
      "Requirement already satisfied: fsspec in c:\\python312\\lib\\site-packages (from torch==2.4.1+cu121->torchaudio) (2024.6.1)\n",
      "Requirement already satisfied: setuptools in c:\\users\\cyborg 15\\appdata\\roaming\\python\\python312\\site-packages (from torch==2.4.1+cu121->torchaudio) (80.9.0)\n",
      "Requirement already satisfied: colorama in c:\\users\\cyborg 15\\appdata\\roaming\\python\\python312\\site-packages (from tqdm) (0.4.6)\n",
      "Requirement already satisfied: future in c:\\python312\\lib\\site-packages (from ffmpeg-python) (1.0.0)\n",
      "Requirement already satisfied: contourpy>=1.0.1 in c:\\python312\\lib\\site-packages (from matplotlib) (1.2.1)\n",
      "Requirement already satisfied: cycler>=0.10 in c:\\python312\\lib\\site-packages (from matplotlib) (0.12.1)\n",
      "Requirement already satisfied: fonttools>=4.22.0 in c:\\python312\\lib\\site-packages (from matplotlib) (4.51.0)\n",
      "Requirement already satisfied: kiwisolver>=1.3.1 in c:\\python312\\lib\\site-packages (from matplotlib) (1.4.5)\n",
      "Requirement already satisfied: packaging>=20.0 in c:\\python312\\lib\\site-packages (from matplotlib) (24.0)\n",
      "Requirement already satisfied: pillow>=8 in c:\\python312\\lib\\site-packages (from matplotlib) (10.3.0)\n",
      "Requirement already satisfied: pyparsing>=2.3.1 in c:\\python312\\lib\\site-packages (from matplotlib) (3.1.2)\n",
      "Requirement already satisfied: cffi>=1.0 in c:\\users\\cyborg 15\\appdata\\roaming\\python\\python312\\site-packages (from soundfile) (1.17.1)\n",
      "Requirement already satisfied: pycparser in c:\\users\\cyborg 15\\appdata\\roaming\\python\\python312\\site-packages (from cffi>=1.0->soundfile) (2.22)\n",
      "Requirement already satisfied: llvmlite<0.45,>=0.44.0dev0 in c:\\python312\\lib\\site-packages (from numba>=0.51.0->librosa) (0.44.0)\n",
      "Requirement already satisfied: platformdirs>=2.5.0 in c:\\users\\cyborg 15\\appdata\\roaming\\python\\python312\\site-packages (from pooch>=1.1->librosa) (4.2.1)\n",
      "Requirement already satisfied: requests>=2.19.0 in c:\\users\\cyborg 15\\appdata\\roaming\\python\\python312\\site-packages (from pooch>=1.1->librosa) (2.31.0)\n",
      "Requirement already satisfied: six>=1.5 in c:\\python312\\lib\\site-packages (from python-dateutil>=2.8.2->pandas) (1.16.0)\n",
      "Requirement already satisfied: charset-normalizer<4,>=2 in c:\\python312\\lib\\site-packages (from requests>=2.19.0->pooch>=1.1->librosa) (3.3.2)\n",
      "Requirement already satisfied: idna<4,>=2.5 in c:\\python312\\lib\\site-packages (from requests>=2.19.0->pooch>=1.1->librosa) (3.7)\n",
      "Requirement already satisfied: urllib3<3,>=1.21.1 in c:\\users\\cyborg 15\\appdata\\roaming\\python\\python312\\site-packages (from requests>=2.19.0->pooch>=1.1->librosa) (1.26.20)\n",
      "Requirement already satisfied: certifi>=2017.4.17 in c:\\python312\\lib\\site-packages (from requests>=2.19.0->pooch>=1.1->librosa) (2024.2.2)\n",
      "Requirement already satisfied: threadpoolctl>=2.0.0 in c:\\python312\\lib\\site-packages (from scikit-learn>=1.1.0->librosa) (3.4.0)\n",
      "Requirement already satisfied: MarkupSafe>=2.0 in c:\\python312\\lib\\site-packages (from jinja2->torch==2.4.1+cu121->torchaudio) (2.1.5)\n",
      "Requirement already satisfied: mpmath<1.4,>=1.1.0 in c:\\python312\\lib\\site-packages (from sympy->torch==2.4.1+cu121->torchaudio) (1.3.0)\n"
     ]
    },
    {
     "name": "stderr",
     "output_type": "stream",
     "text": [
      "WARNING: Ignoring invalid distribution ~ (C:\\Python312\\Lib\\site-packages)\n",
      "WARNING: Ignoring invalid distribution ~-p (C:\\Python312\\Lib\\site-packages)\n",
      "WARNING: Ignoring invalid distribution ~=p (C:\\Python312\\Lib\\site-packages)\n",
      "WARNING: Ignoring invalid distribution ~ip (C:\\Python312\\Lib\\site-packages)\n",
      "WARNING: Ignoring invalid distribution ~~p (C:\\Python312\\Lib\\site-packages)\n",
      "WARNING: Ignoring invalid distribution ~ (C:\\Python312\\Lib\\site-packages)\n",
      "WARNING: Ignoring invalid distribution ~-p (C:\\Python312\\Lib\\site-packages)\n",
      "WARNING: Ignoring invalid distribution ~=p (C:\\Python312\\Lib\\site-packages)\n",
      "WARNING: Ignoring invalid distribution ~ip (C:\\Python312\\Lib\\site-packages)\n",
      "WARNING: Ignoring invalid distribution ~~p (C:\\Python312\\Lib\\site-packages)\n"
     ]
    }
   ],
   "source": [
    "'''\n",
    "1. Pre - Requisite\n",
    "Install all Library\n",
    "'''\n",
    "# 1) Upgrade core tooling inside THIS kernel\n",
    "%pip install --upgrade pip setuptools wheel --user\n",
    "\n",
    "# 2) Clean install of audio deps (librosa works with Py3.12 now via numba>=0.61)\n",
    "%pip install librosa==0.11.0 numba==0.61.2 llvmlite soxr soundfile ffmpeg-python matplotlib tqdm pandas numpy --user\n",
    "\n",
    "!pip install pandas numpy librosa torchaudio tqdm ffmpeg-python matplotlib soundfile --user\n",
    "import os, sys, json, random, subprocess, shutil\n",
    "from pathlib import Path\n",
    "import numpy as np\n",
    "import pandas as pd\n",
    "import librosa, librosa.display\n",
    "import soundfile as sf\n",
    "import matplotlib.pyplot as plt\n",
    "from tqdm import tqdm\n",
    "from IPython.display import Audio, display"
   ]
  },
  {
   "cell_type": "markdown",
   "id": "34c0172f",
   "metadata": {},
   "source": [
    "1) Config & paths"
   ]
  },
  {
   "cell_type": "code",
   "execution_count": 5,
   "id": "1f88ff74",
   "metadata": {},
   "outputs": [
    {
     "name": "stdout",
     "output_type": "stream",
     "text": [
      "Collecting SoccerNet\n",
      "  Using cached SoccerNet-0.1.62-py3-none-any.whl.metadata (13 kB)\n",
      "Requirement already satisfied: tqdm in c:\\python312\\lib\\site-packages (from SoccerNet) (4.66.5)\n",
      "Collecting scikit-video (from SoccerNet)\n",
      "  Using cached scikit_video-1.1.11-py2.py3-none-any.whl.metadata (1.1 kB)\n",
      "Requirement already satisfied: matplotlib in c:\\python312\\lib\\site-packages (from SoccerNet) (3.8.4)\n",
      "Collecting google-measurement-protocol (from SoccerNet)\n",
      "  Using cached google_measurement_protocol-1.1.0-py2.py3-none-any.whl.metadata (845 bytes)\n",
      "Collecting pycocoevalcap (from SoccerNet)\n",
      "  Using cached pycocoevalcap-1.2-py3-none-any.whl.metadata (3.2 kB)\n",
      "Requirement already satisfied: huggingface_hub[cli] in c:\\users\\cyborg 15\\appdata\\roaming\\python\\python312\\site-packages (from SoccerNet) (0.25.2)\n",
      "Collecting boto3 (from SoccerNet)\n",
      "  Using cached boto3-1.40.30-py3-none-any.whl.metadata (6.7 kB)\n",
      "Collecting botocore<1.41.0,>=1.40.30 (from boto3->SoccerNet)\n",
      "  Using cached botocore-1.40.30-py3-none-any.whl.metadata (5.7 kB)\n",
      "Requirement already satisfied: jmespath<2.0.0,>=0.7.1 in c:\\python312\\lib\\site-packages (from boto3->SoccerNet) (1.0.1)\n",
      "Collecting s3transfer<0.15.0,>=0.14.0 (from boto3->SoccerNet)\n",
      "  Using cached s3transfer-0.14.0-py3-none-any.whl.metadata (1.7 kB)\n",
      "Requirement already satisfied: python-dateutil<3.0.0,>=2.1 in c:\\python312\\lib\\site-packages (from botocore<1.41.0,>=1.40.30->boto3->SoccerNet) (2.9.0.post0)\n",
      "Requirement already satisfied: urllib3!=2.2.0,<3,>=1.25.4 in c:\\users\\cyborg 15\\appdata\\roaming\\python\\python312\\site-packages (from botocore<1.41.0,>=1.40.30->boto3->SoccerNet) (1.26.20)\n",
      "Requirement already satisfied: six>=1.5 in c:\\python312\\lib\\site-packages (from python-dateutil<3.0.0,>=2.1->botocore<1.41.0,>=1.40.30->boto3->SoccerNet) (1.16.0)\n",
      "Requirement already satisfied: requests<3.0a0,>=2.0 in c:\\users\\cyborg 15\\appdata\\roaming\\python\\python312\\site-packages (from google-measurement-protocol->SoccerNet) (2.31.0)\n",
      "Requirement already satisfied: prices>=1.0.0 in c:\\python312\\lib\\site-packages (from google-measurement-protocol->SoccerNet) (1.1.1)\n",
      "Requirement already satisfied: charset-normalizer<4,>=2 in c:\\python312\\lib\\site-packages (from requests<3.0a0,>=2.0->google-measurement-protocol->SoccerNet) (3.3.2)\n",
      "Requirement already satisfied: idna<4,>=2.5 in c:\\python312\\lib\\site-packages (from requests<3.0a0,>=2.0->google-measurement-protocol->SoccerNet) (3.7)\n",
      "Requirement already satisfied: certifi>=2017.4.17 in c:\\python312\\lib\\site-packages (from requests<3.0a0,>=2.0->google-measurement-protocol->SoccerNet) (2024.2.2)\n",
      "Requirement already satisfied: babel>=2.5.0 in c:\\users\\cyborg 15\\appdata\\roaming\\python\\python312\\site-packages (from prices>=1.0.0->google-measurement-protocol->SoccerNet) (2.17.0)\n",
      "Requirement already satisfied: filelock in c:\\python312\\lib\\site-packages (from huggingface_hub[cli]->SoccerNet) (3.15.4)\n",
      "Requirement already satisfied: fsspec>=2023.5.0 in c:\\python312\\lib\\site-packages (from huggingface_hub[cli]->SoccerNet) (2024.6.1)\n",
      "Requirement already satisfied: packaging>=20.9 in c:\\python312\\lib\\site-packages (from huggingface_hub[cli]->SoccerNet) (24.0)\n",
      "Requirement already satisfied: pyyaml>=5.1 in c:\\users\\cyborg 15\\appdata\\roaming\\python\\python312\\site-packages (from huggingface_hub[cli]->SoccerNet) (6.0.2)\n",
      "Requirement already satisfied: typing-extensions>=3.7.4.3 in c:\\users\\cyborg 15\\appdata\\roaming\\python\\python312\\site-packages (from huggingface_hub[cli]->SoccerNet) (4.13.2)\n",
      "Collecting InquirerPy==0.3.4 (from huggingface_hub[cli]->SoccerNet)\n",
      "  Using cached InquirerPy-0.3.4-py3-none-any.whl.metadata (8.1 kB)\n",
      "Requirement already satisfied: pfzy<0.4.0,>=0.3.1 in c:\\python312\\lib\\site-packages (from InquirerPy==0.3.4->huggingface_hub[cli]->SoccerNet) (0.3.4)\n",
      "Requirement already satisfied: prompt-toolkit<4.0.0,>=3.0.1 in c:\\users\\cyborg 15\\appdata\\roaming\\python\\python312\\site-packages (from InquirerPy==0.3.4->huggingface_hub[cli]->SoccerNet) (3.0.43)\n",
      "Requirement already satisfied: wcwidth in c:\\users\\cyborg 15\\appdata\\roaming\\python\\python312\\site-packages (from prompt-toolkit<4.0.0,>=3.0.1->InquirerPy==0.3.4->huggingface_hub[cli]->SoccerNet) (0.2.13)\n",
      "Requirement already satisfied: colorama in c:\\users\\cyborg 15\\appdata\\roaming\\python\\python312\\site-packages (from tqdm->SoccerNet) (0.4.6)\n",
      "Requirement already satisfied: contourpy>=1.0.1 in c:\\python312\\lib\\site-packages (from matplotlib->SoccerNet) (1.2.1)\n",
      "Requirement already satisfied: cycler>=0.10 in c:\\python312\\lib\\site-packages (from matplotlib->SoccerNet) (0.12.1)\n",
      "Requirement already satisfied: fonttools>=4.22.0 in c:\\python312\\lib\\site-packages (from matplotlib->SoccerNet) (4.51.0)\n",
      "Requirement already satisfied: kiwisolver>=1.3.1 in c:\\python312\\lib\\site-packages (from matplotlib->SoccerNet) (1.4.5)\n",
      "Requirement already satisfied: numpy>=1.21 in c:\\python312\\lib\\site-packages (from matplotlib->SoccerNet) (1.26.4)\n",
      "Requirement already satisfied: pillow>=8 in c:\\python312\\lib\\site-packages (from matplotlib->SoccerNet) (10.3.0)\n",
      "Requirement already satisfied: pyparsing>=2.3.1 in c:\\python312\\lib\\site-packages (from matplotlib->SoccerNet) (3.1.2)\n",
      "Requirement already satisfied: pycocotools>=2.0.2 in c:\\users\\cyborg 15\\appdata\\roaming\\python\\python312\\site-packages (from pycocoevalcap->SoccerNet) (2.0.8)\n",
      "Requirement already satisfied: scipy in c:\\python312\\lib\\site-packages (from scikit-video->SoccerNet) (1.13.0)\n",
      "Using cached SoccerNet-0.1.62-py3-none-any.whl (86 kB)\n",
      "Using cached boto3-1.40.30-py3-none-any.whl (139 kB)\n",
      "Using cached botocore-1.40.30-py3-none-any.whl (14.0 MB)\n",
      "Using cached s3transfer-0.14.0-py3-none-any.whl (85 kB)\n",
      "Using cached google_measurement_protocol-1.1.0-py2.py3-none-any.whl (5.9 kB)\n",
      "Using cached InquirerPy-0.3.4-py3-none-any.whl (67 kB)\n",
      "Using cached pycocoevalcap-1.2-py3-none-any.whl (104.3 MB)\n",
      "Using cached scikit_video-1.1.11-py2.py3-none-any.whl (2.3 MB)\n",
      "Installing collected packages: scikit-video, InquirerPy, google-measurement-protocol, botocore, s3transfer, pycocoevalcap, boto3, SoccerNet\n",
      "\n",
      "   ---------------------------------------- 0/8 [scikit-video]\n",
      "   ---------------------------------------- 0/8 [scikit-video]\n",
      "   ---------------------------------------- 0/8 [scikit-video]\n",
      "   ---------------------------------------- 0/8 [scikit-video]\n",
      "   ---------------------------------------- 0/8 [scikit-video]\n",
      "   ---------------------------------------- 0/8 [scikit-video]\n",
      "   ---------------------------------------- 0/8 [scikit-video]\n",
      "   ---------------------------------------- 0/8 [scikit-video]\n",
      "   ----- ---------------------------------- 1/8 [InquirerPy]\n",
      "   ----- ---------------------------------- 1/8 [InquirerPy]\n",
      "   ----- ---------------------------------- 1/8 [InquirerPy]\n",
      "   ----- ---------------------------------- 1/8 [InquirerPy]\n",
      "   ---------- ----------------------------- 2/8 [google-measurement-protocol]\n",
      "   --------------- ------------------------ 3/8 [botocore]\n",
      "   --------------- ------------------------ 3/8 [botocore]\n",
      "   --------------- ------------------------ 3/8 [botocore]\n",
      "   --------------- ------------------------ 3/8 [botocore]\n",
      "   --------------- ------------------------ 3/8 [botocore]\n",
      "   --------------- ------------------------ 3/8 [botocore]\n",
      "   --------------- ------------------------ 3/8 [botocore]\n",
      "   --------------- ------------------------ 3/8 [botocore]\n",
      "   --------------- ------------------------ 3/8 [botocore]\n",
      "   --------------- ------------------------ 3/8 [botocore]\n",
      "   --------------- ------------------------ 3/8 [botocore]\n",
      "   --------------- ------------------------ 3/8 [botocore]\n",
      "   --------------- ------------------------ 3/8 [botocore]\n",
      "   --------------- ------------------------ 3/8 [botocore]\n",
      "   --------------- ------------------------ 3/8 [botocore]\n",
      "   --------------- ------------------------ 3/8 [botocore]\n",
      "   --------------- ------------------------ 3/8 [botocore]\n",
      "   --------------- ------------------------ 3/8 [botocore]\n",
      "   --------------- ------------------------ 3/8 [botocore]\n",
      "   --------------- ------------------------ 3/8 [botocore]\n",
      "   --------------- ------------------------ 3/8 [botocore]\n",
      "   --------------- ------------------------ 3/8 [botocore]\n",
      "   --------------- ------------------------ 3/8 [botocore]\n",
      "   --------------- ------------------------ 3/8 [botocore]\n",
      "   --------------- ------------------------ 3/8 [botocore]\n",
      "   --------------- ------------------------ 3/8 [botocore]\n",
      "   --------------- ------------------------ 3/8 [botocore]\n",
      "   --------------- ------------------------ 3/8 [botocore]\n",
      "   --------------- ------------------------ 3/8 [botocore]\n",
      "   --------------- ------------------------ 3/8 [botocore]\n",
      "   --------------- ------------------------ 3/8 [botocore]\n",
      "   --------------- ------------------------ 3/8 [botocore]\n",
      "   --------------- ------------------------ 3/8 [botocore]\n",
      "   --------------- ------------------------ 3/8 [botocore]\n",
      "   --------------- ------------------------ 3/8 [botocore]\n",
      "   --------------- ------------------------ 3/8 [botocore]\n",
      "   --------------- ------------------------ 3/8 [botocore]\n",
      "   --------------- ------------------------ 3/8 [botocore]\n",
      "   --------------- ------------------------ 3/8 [botocore]\n",
      "   --------------- ------------------------ 3/8 [botocore]\n",
      "   --------------- ------------------------ 3/8 [botocore]\n",
      "   --------------- ------------------------ 3/8 [botocore]\n",
      "   --------------- ------------------------ 3/8 [botocore]\n",
      "   --------------- ------------------------ 3/8 [botocore]\n",
      "   --------------- ------------------------ 3/8 [botocore]\n",
      "   --------------- ------------------------ 3/8 [botocore]\n",
      "   --------------- ------------------------ 3/8 [botocore]\n",
      "   --------------- ------------------------ 3/8 [botocore]\n",
      "   --------------- ------------------------ 3/8 [botocore]\n",
      "   --------------- ------------------------ 3/8 [botocore]\n",
      "   --------------- ------------------------ 3/8 [botocore]\n",
      "   --------------- ------------------------ 3/8 [botocore]\n",
      "   --------------- ------------------------ 3/8 [botocore]\n",
      "   --------------- ------------------------ 3/8 [botocore]\n",
      "   --------------- ------------------------ 3/8 [botocore]\n",
      "   --------------- ------------------------ 3/8 [botocore]\n",
      "   --------------- ------------------------ 3/8 [botocore]\n",
      "   --------------- ------------------------ 3/8 [botocore]\n",
      "   --------------- ------------------------ 3/8 [botocore]\n",
      "   --------------- ------------------------ 3/8 [botocore]\n",
      "   --------------- ------------------------ 3/8 [botocore]\n",
      "   --------------- ------------------------ 3/8 [botocore]\n",
      "   --------------- ------------------------ 3/8 [botocore]\n",
      "   --------------- ------------------------ 3/8 [botocore]\n",
      "   --------------- ------------------------ 3/8 [botocore]\n",
      "   --------------- ------------------------ 3/8 [botocore]\n",
      "   -------------------- ------------------- 4/8 [s3transfer]\n",
      "   ------------------------- -------------- 5/8 [pycocoevalcap]\n",
      "   ------------------------- -------------- 5/8 [pycocoevalcap]\n",
      "   ------------------------- -------------- 5/8 [pycocoevalcap]\n",
      "   ------------------------- -------------- 5/8 [pycocoevalcap]\n",
      "   ------------------------- -------------- 5/8 [pycocoevalcap]\n",
      "   ------------------------- -------------- 5/8 [pycocoevalcap]\n",
      "   ------------------------------ --------- 6/8 [boto3]\n",
      "   ------------------------------ --------- 6/8 [boto3]\n",
      "   ------------------------------ --------- 6/8 [boto3]\n",
      "   ----------------------------------- ---- 7/8 [SoccerNet]\n",
      "   ----------------------------------- ---- 7/8 [SoccerNet]\n",
      "   ---------------------------------------- 8/8 [SoccerNet]\n",
      "\n",
      "Successfully installed InquirerPy-0.3.4 SoccerNet-0.1.62 boto3-1.40.30 botocore-1.40.30 google-measurement-protocol-1.1.0 pycocoevalcap-1.2 s3transfer-0.14.0 scikit-video-1.1.11\n",
      "Note: you may need to restart the kernel to use updated packages.\n"
     ]
    },
    {
     "name": "stderr",
     "output_type": "stream",
     "text": [
      "WARNING: Ignoring invalid distribution ~ (c:\\Python312\\Lib\\site-packages)\n",
      "WARNING: Ignoring invalid distribution ~-p (c:\\Python312\\Lib\\site-packages)\n",
      "WARNING: Ignoring invalid distribution ~=p (c:\\Python312\\Lib\\site-packages)\n",
      "WARNING: Ignoring invalid distribution ~ip (c:\\Python312\\Lib\\site-packages)\n",
      "WARNING: Ignoring invalid distribution ~~p (c:\\Python312\\Lib\\site-packages)\n",
      "WARNING: Ignoring invalid distribution ~ (c:\\Python312\\Lib\\site-packages)\n",
      "WARNING: Ignoring invalid distribution ~-p (c:\\Python312\\Lib\\site-packages)\n",
      "WARNING: Ignoring invalid distribution ~=p (c:\\Python312\\Lib\\site-packages)\n",
      "WARNING: Ignoring invalid distribution ~ip (c:\\Python312\\Lib\\site-packages)\n",
      "WARNING: Ignoring invalid distribution ~~p (c:\\Python312\\Lib\\site-packages)\n"
     ]
    },
    {
     "name": "stdout",
     "output_type": "stream",
     "text": [
      "password required for SoccerNet\\england_epl\\2014-2015\\2015-02-21 - 18-00 Chelsea 1 - 1 Burnley\\1_720p.mkv\n"
     ]
    },
    {
     "name": "stderr",
     "output_type": "stream",
     "text": [
      "Downloading SoccerNet\\england_epl\\2014-2015\\2015-02-21 - 18-00 Chelsea 1 - 1 Burnley\\Labels-v2.json...: : 49.2kiB [00:00, 98.2kiB/s]                        \n"
     ]
    },
    {
     "name": "stdout",
     "output_type": "stream",
     "text": [
      "password required for SoccerNet\\england_epl\\2014-2015\\2015-02-21 - 18-00 Crystal Palace 1 - 2 Arsenal\\1_720p.mkv\n"
     ]
    },
    {
     "name": "stderr",
     "output_type": "stream",
     "text": [
      "Downloading SoccerNet\\england_epl\\2014-2015\\2015-02-21 - 18-00 Crystal Palace 1 - 2 Arsenal\\Labels-v2.json...: : 57.3kiB [00:00, 171kiB/s]                          \n"
     ]
    },
    {
     "name": "stdout",
     "output_type": "stream",
     "text": [
      "password required for SoccerNet\\england_epl\\2014-2015\\2015-02-21 - 18-00 Swansea 2 - 1 Manchester United\\1_720p.mkv\n"
     ]
    },
    {
     "name": "stderr",
     "output_type": "stream",
     "text": [
      "Downloading SoccerNet\\england_epl\\2014-2015\\2015-02-21 - 18-00 Swansea 2 - 1 Manchester United\\Labels-v2.json...: : 41.0kiB [00:00, 145kiB/s]                          \n"
     ]
    },
    {
     "name": "stdout",
     "output_type": "stream",
     "text": [
      "password required for SoccerNet\\england_epl\\2014-2015\\2015-02-22 - 19-15 Southampton 0 - 2 Liverpool\\1_720p.mkv\n"
     ]
    },
    {
     "name": "stderr",
     "output_type": "stream",
     "text": [
      "Downloading SoccerNet\\england_epl\\2014-2015\\2015-02-22 - 19-15 Southampton 0 - 2 Liverpool\\Labels-v2.json...: : 49.2kiB [00:00, 100kiB/s]                          \n"
     ]
    },
    {
     "name": "stdout",
     "output_type": "stream",
     "text": [
      "password required for SoccerNet\\england_epl\\2015-2016\\2015-08-08 - 19-30 Chelsea 2 - 2 Swansea\\1_720p.mkv\n"
     ]
    },
    {
     "name": "stderr",
     "output_type": "stream",
     "text": [
      "Downloading SoccerNet\\england_epl\\2015-2016\\2015-08-08 - 19-30 Chelsea 2 - 2 Swansea\\Labels-v2.json...: : 65.5kiB [00:00, 118kiB/s]                          \n"
     ]
    },
    {
     "name": "stdout",
     "output_type": "stream",
     "text": [
      "password required for SoccerNet\\england_epl\\2015-2016\\2015-08-29 - 17-00 Chelsea 1 - 2 Crystal Palace\\1_720p.mkv\n"
     ]
    },
    {
     "name": "stderr",
     "output_type": "stream",
     "text": [
      "Downloading SoccerNet\\england_epl\\2015-2016\\2015-08-29 - 17-00 Chelsea 1 - 2 Crystal Palace\\Labels-v2.json...: : 57.3kiB [00:00, 115kiB/s]                          \n"
     ]
    },
    {
     "name": "stdout",
     "output_type": "stream",
     "text": [
      "password required for SoccerNet\\england_epl\\2015-2016\\2015-08-29 - 17-00 Manchester City 2 - 0 Watford\\1_720p.mkv\n"
     ]
    },
    {
     "name": "stderr",
     "output_type": "stream",
     "text": [
      "Downloading SoccerNet\\england_epl\\2015-2016\\2015-08-29 - 17-00 Manchester City 2 - 0 Watford\\Labels-v2.json...: : 49.2kiB [00:00, 171kiB/s]                          \n"
     ]
    },
    {
     "name": "stdout",
     "output_type": "stream",
     "text": [
      "password required for SoccerNet\\england_epl\\2015-2016\\2015-09-12 - 14-45 Everton 3 - 1 Chelsea\\1_720p.mkv\n"
     ]
    },
    {
     "name": "stderr",
     "output_type": "stream",
     "text": [
      "Downloading SoccerNet\\england_epl\\2015-2016\\2015-09-12 - 14-45 Everton 3 - 1 Chelsea\\Labels-v2.json...: : 57.3kiB [00:00, 105kiB/s]                          \n"
     ]
    },
    {
     "name": "stdout",
     "output_type": "stream",
     "text": [
      "password required for SoccerNet\\england_epl\\2015-2016\\2015-09-12 - 17-00 Crystal Palace 0 - 1 Manchester City\\1_720p.mkv\n"
     ]
    },
    {
     "name": "stderr",
     "output_type": "stream",
     "text": [
      "Downloading SoccerNet\\england_epl\\2015-2016\\2015-09-12 - 17-00 Crystal Palace 0 - 1 Manchester City\\Labels-v2.json...: : 65.5kiB [00:00, 118kiB/s]                          \n"
     ]
    },
    {
     "name": "stdout",
     "output_type": "stream",
     "text": [
      "password required for SoccerNet\\england_epl\\2015-2016\\2015-09-19 - 19-30 Manchester City 1 - 2 West Ham\\1_720p.mkv\n"
     ]
    },
    {
     "name": "stderr",
     "output_type": "stream",
     "text": [
      "Downloading SoccerNet\\england_epl\\2015-2016\\2015-09-19 - 19-30 Manchester City 1 - 2 West Ham\\Labels-v2.json...: : 57.3kiB [00:00, 163kiB/s]                         \n"
     ]
    },
    {
     "name": "stdout",
     "output_type": "stream",
     "text": [
      "password required for SoccerNet\\england_epl\\2015-2016\\2015-09-26 - 17-00 Liverpool 3 - 2 Aston Villa\\1_720p.mkv\n"
     ]
    },
    {
     "name": "stderr",
     "output_type": "stream",
     "text": [
      "Downloading SoccerNet\\england_epl\\2015-2016\\2015-09-26 - 17-00 Liverpool 3 - 2 Aston Villa\\Labels-v2.json...: : 57.3kiB [00:00, 137kiB/s]                          \n"
     ]
    },
    {
     "name": "stdout",
     "output_type": "stream",
     "text": [
      "password required for SoccerNet\\england_epl\\2015-2016\\2015-10-17 - 17-00 Chelsea 2 - 0 Aston Villa\\1_720p.mkv\n"
     ]
    },
    {
     "name": "stderr",
     "output_type": "stream",
     "text": [
      "Downloading SoccerNet\\england_epl\\2015-2016\\2015-10-17 - 17-00 Chelsea 2 - 0 Aston Villa\\Labels-v2.json...: : 65.5kiB [00:00, 116kiB/s]                          \n"
     ]
    },
    {
     "name": "stdout",
     "output_type": "stream",
     "text": [
      "password required for SoccerNet\\england_epl\\2015-2016\\2015-10-31 - 15-45 Chelsea 1 - 3 Liverpool\\1_720p.mkv\n"
     ]
    },
    {
     "name": "stderr",
     "output_type": "stream",
     "text": [
      "Downloading SoccerNet\\england_epl\\2015-2016\\2015-10-31 - 15-45 Chelsea 1 - 3 Liverpool\\Labels-v2.json...: : 65.5kiB [00:00, 118kiB/s]                          \n"
     ]
    },
    {
     "name": "stdout",
     "output_type": "stream",
     "text": [
      "password required for SoccerNet\\england_epl\\2015-2016\\2015-11-07 - 18-00 Manchester United 2 - 0 West Brom\\1_720p.mkv\n"
     ]
    },
    {
     "name": "stderr",
     "output_type": "stream",
     "text": [
      "Downloading SoccerNet\\england_epl\\2015-2016\\2015-11-07 - 18-00 Manchester United 2 - 0 West Brom\\Labels-v2.json...: : 49.2kiB [00:00, 180kiB/s]                          \n"
     ]
    },
    {
     "name": "stdout",
     "output_type": "stream",
     "text": [
      "password required for SoccerNet\\england_epl\\2015-2016\\2015-11-21 - 20-30 Manchester City 1 - 4 Liverpool\\1_720p.mkv\n"
     ]
    },
    {
     "name": "stderr",
     "output_type": "stream",
     "text": [
      "Downloading SoccerNet\\england_epl\\2015-2016\\2015-11-21 - 20-30 Manchester City 1 - 4 Liverpool\\Labels-v2.json...: : 57.3kiB [00:00, 103kiB/s]                          \n"
     ]
    },
    {
     "name": "stdout",
     "output_type": "stream",
     "text": [
      "password required for SoccerNet\\england_epl\\2015-2016\\2015-11-29 - 15-00 Tottenham 0 - 0 Chelsea\\1_720p.mkv\n"
     ]
    },
    {
     "name": "stderr",
     "output_type": "stream",
     "text": [
      "Downloading SoccerNet\\england_epl\\2015-2016\\2015-11-29 - 15-00 Tottenham 0 - 0 Chelsea\\Labels-v2.json...: : 65.5kiB [00:00, 118kiB/s]                          \n"
     ]
    },
    {
     "name": "stdout",
     "output_type": "stream",
     "text": [
      "password required for SoccerNet\\england_epl\\2015-2016\\2015-12-05 - 20-30 Chelsea 0 - 1 Bournemouth\\1_720p.mkv\n"
     ]
    },
    {
     "name": "stderr",
     "output_type": "stream",
     "text": [
      "Downloading SoccerNet\\england_epl\\2015-2016\\2015-12-05 - 20-30 Chelsea 0 - 1 Bournemouth\\Labels-v2.json...: : 57.3kiB [00:00, 132kiB/s]                          \n"
     ]
    },
    {
     "name": "stdout",
     "output_type": "stream",
     "text": [
      "password required for SoccerNet\\england_epl\\2015-2016\\2015-12-19 - 18-00 Chelsea 3 - 1 Sunderland\\1_720p.mkv\n"
     ]
    },
    {
     "name": "stderr",
     "output_type": "stream",
     "text": [
      "Downloading SoccerNet\\england_epl\\2015-2016\\2015-12-19 - 18-00 Chelsea 3 - 1 Sunderland\\Labels-v2.json...: : 57.3kiB [00:00, 139kiB/s]                          \n"
     ]
    },
    {
     "name": "stdout",
     "output_type": "stream",
     "text": [
      "password required for SoccerNet\\england_epl\\2015-2016\\2015-12-26 - 18-00 Manchester City 4 - 1 Sunderland\\1_720p.mkv\n"
     ]
    },
    {
     "name": "stderr",
     "output_type": "stream",
     "text": [
      "Downloading SoccerNet\\england_epl\\2015-2016\\2015-12-26 - 18-00 Manchester City 4 - 1 Sunderland\\Labels-v2.json...: : 49.2kiB [00:00, 175kiB/s]                          \n"
     ]
    },
    {
     "name": "stdout",
     "output_type": "stream",
     "text": [
      "password required for SoccerNet\\england_epl\\2015-2016\\2016-01-03 - 16-30 Crystal Palace 0 - 3 Chelsea\\1_720p.mkv\n"
     ]
    },
    {
     "name": "stderr",
     "output_type": "stream",
     "text": [
      "Downloading SoccerNet\\england_epl\\2015-2016\\2016-01-03 - 16-30 Crystal Palace 0 - 3 Chelsea\\Labels-v2.json...: : 49.2kiB [00:00, 125kiB/s]                         \n"
     ]
    },
    {
     "name": "stdout",
     "output_type": "stream",
     "text": [
      "password required for SoccerNet\\england_epl\\2015-2016\\2016-01-13 - 22-45 Chelsea 2 - 2 West Brom\\1_720p.mkv\n"
     ]
    },
    {
     "name": "stderr",
     "output_type": "stream",
     "text": [
      "Downloading SoccerNet\\england_epl\\2015-2016\\2016-01-13 - 22-45 Chelsea 2 - 2 West Brom\\Labels-v2.json...: : 49.2kiB [00:00, 170kiB/s]                          \n"
     ]
    },
    {
     "name": "stdout",
     "output_type": "stream",
     "text": [
      "password required for SoccerNet\\england_epl\\2015-2016\\2016-02-07 - 19-00 Chelsea 1 - 1 Manchester United\\1_720p.mkv\n"
     ]
    },
    {
     "name": "stderr",
     "output_type": "stream",
     "text": [
      "Downloading SoccerNet\\england_epl\\2015-2016\\2016-02-07 - 19-00 Chelsea 1 - 1 Manchester United\\Labels-v2.json...: : 57.3kiB [00:00, 122kiB/s]                          \n"
     ]
    },
    {
     "name": "stdout",
     "output_type": "stream",
     "text": [
      "password required for SoccerNet\\england_epl\\2015-2016\\2016-02-14 - 19-15 Manchester City 1 - 2 Tottenham\\1_720p.mkv\n"
     ]
    },
    {
     "name": "stderr",
     "output_type": "stream",
     "text": [
      "Downloading SoccerNet\\england_epl\\2015-2016\\2016-02-14 - 19-15 Manchester City 1 - 2 Tottenham\\Labels-v2.json...: : 49.2kiB [00:00, 120kiB/s]                          \n"
     ]
    },
    {
     "name": "stdout",
     "output_type": "stream",
     "text": [
      "password required for SoccerNet\\england_epl\\2015-2016\\2016-03-02 - 23-00 Liverpool 3 - 0 Manchester City\\1_720p.mkv\n"
     ]
    },
    {
     "name": "stderr",
     "output_type": "stream",
     "text": [
      "Downloading SoccerNet\\england_epl\\2015-2016\\2016-03-02 - 23-00 Liverpool 3 - 0 Manchester City\\Labels-v2.json...: : 49.2kiB [00:00, 113kiB/s]                          \n"
     ]
    },
    {
     "name": "stdout",
     "output_type": "stream",
     "text": [
      "password required for SoccerNet\\england_epl\\2015-2016\\2016-03-05 - 18-00 Chelsea 1 - 1 Stoke City\\1_720p.mkv\n"
     ]
    },
    {
     "name": "stderr",
     "output_type": "stream",
     "text": [
      "Downloading SoccerNet\\england_epl\\2015-2016\\2016-03-05 - 18-00 Chelsea 1 - 1 Stoke City\\Labels-v2.json...: : 57.3kiB [00:00, 137kiB/s]                          \n"
     ]
    },
    {
     "name": "stdout",
     "output_type": "stream",
     "text": [
      "password required for SoccerNet\\england_epl\\2015-2016\\2016-03-19 - 18-00 Chelsea 2 - 2 West Ham\\1_720p.mkv\n"
     ]
    },
    {
     "name": "stderr",
     "output_type": "stream",
     "text": [
      "Downloading SoccerNet\\england_epl\\2015-2016\\2016-03-19 - 18-00 Chelsea 2 - 2 West Ham\\Labels-v2.json...: : 57.3kiB [00:00, 140kiB/s]                          \n"
     ]
    },
    {
     "name": "stdout",
     "output_type": "stream",
     "text": [
      "password required for SoccerNet\\england_epl\\2015-2016\\2016-04-09 - 17-00 Swansea 1 - 0 Chelsea\\1_720p.mkv\n"
     ]
    },
    {
     "name": "stderr",
     "output_type": "stream",
     "text": [
      "Downloading SoccerNet\\england_epl\\2015-2016\\2016-04-09 - 17-00 Swansea 1 - 0 Chelsea\\Labels-v2.json...: : 49.2kiB [00:00, 172kiB/s]                          \n"
     ]
    },
    {
     "name": "stdout",
     "output_type": "stream",
     "text": [
      "password required for SoccerNet\\england_epl\\2015-2016\\2016-04-09 - 19-30 Manchester City 2 - 1 West Brom\\1_720p.mkv\n"
     ]
    },
    {
     "name": "stderr",
     "output_type": "stream",
     "text": [
      "Downloading SoccerNet\\england_epl\\2015-2016\\2016-04-09 - 19-30 Manchester City 2 - 1 West Brom\\Labels-v2.json...: : 49.2kiB [00:00, 177kiB/s]                          \n"
     ]
    },
    {
     "name": "stdout",
     "output_type": "stream",
     "text": [
      "password required for SoccerNet\\england_epl\\2015-2016\\2016-05-07 - 17-00 Sunderland 3 - 2 Chelsea\\1_720p.mkv\n"
     ]
    },
    {
     "name": "stderr",
     "output_type": "stream",
     "text": [
      "Downloading SoccerNet\\england_epl\\2015-2016\\2016-05-07 - 17-00 Sunderland 3 - 2 Chelsea\\Labels-v2.json...: : 49.2kiB [00:00, 174kiB/s]                          \n"
     ]
    },
    {
     "name": "stdout",
     "output_type": "stream",
     "text": [
      "password required for SoccerNet\\england_epl\\2016-2017\\2016-08-14 - 18-00 Arsenal 3 - 4 Liverpool\\1_720p.mkv\n"
     ]
    },
    {
     "name": "stderr",
     "output_type": "stream",
     "text": [
      "Downloading SoccerNet\\england_epl\\2016-2017\\2016-08-14 - 18-00 Arsenal 3 - 4 Liverpool\\Labels-v2.json...: : 57.3kiB [00:00, 134kiB/s]                          \n"
     ]
    },
    {
     "name": "stdout",
     "output_type": "stream",
     "text": [
      "password required for SoccerNet\\england_epl\\2016-2017\\2016-08-20 - 17-00 Burnley 2 - 0 Liverpool\\1_720p.mkv\n"
     ]
    },
    {
     "name": "stderr",
     "output_type": "stream",
     "text": [
      "Downloading SoccerNet\\england_epl\\2016-2017\\2016-08-20 - 17-00 Burnley 2 - 0 Liverpool\\Labels-v2.json...: : 57.3kiB [00:00, 134kiB/s]                          \n"
     ]
    },
    {
     "name": "stdout",
     "output_type": "stream",
     "text": [
      "password required for SoccerNet\\england_epl\\2016-2017\\2016-08-20 - 19-30 Leicester 0 - 0 Arsenal\\1_720p.mkv\n"
     ]
    },
    {
     "name": "stderr",
     "output_type": "stream",
     "text": [
      "Downloading SoccerNet\\england_epl\\2016-2017\\2016-08-20 - 19-30 Leicester 0 - 0 Arsenal\\Labels-v2.json...: : 57.3kiB [00:00, 135kiB/s]                          \n"
     ]
    },
    {
     "name": "stdout",
     "output_type": "stream",
     "text": [
      "password required for SoccerNet\\england_epl\\2016-2017\\2016-09-10 - 17-00 Arsenal 2 - 1 Southampton\\1_720p.mkv\n"
     ]
    },
    {
     "name": "stderr",
     "output_type": "stream",
     "text": [
      "Downloading SoccerNet\\england_epl\\2016-2017\\2016-09-10 - 17-00 Arsenal 2 - 1 Southampton\\Labels-v2.json...: : 57.3kiB [00:00, 137kiB/s]                          \n"
     ]
    },
    {
     "name": "stdout",
     "output_type": "stream",
     "text": [
      "password required for SoccerNet\\england_epl\\2016-2017\\2016-09-16 - 22-00 Chelsea 1 - 2 Liverpool\\1_720p.mkv\n"
     ]
    },
    {
     "name": "stderr",
     "output_type": "stream",
     "text": [
      "Downloading SoccerNet\\england_epl\\2016-2017\\2016-09-16 - 22-00 Chelsea 1 - 2 Liverpool\\Labels-v2.json...: : 57.3kiB [00:00, 140kiB/s]                          \n"
     ]
    },
    {
     "name": "stdout",
     "output_type": "stream",
     "text": [
      "password required for SoccerNet\\england_epl\\2016-2017\\2016-09-17 - 17-00 Hull City 1 - 4 Arsenal\\1_720p.mkv\n"
     ]
    },
    {
     "name": "stderr",
     "output_type": "stream",
     "text": [
      "Downloading SoccerNet\\england_epl\\2016-2017\\2016-09-17 - 17-00 Hull City 1 - 4 Arsenal\\Labels-v2.json...: : 49.2kiB [00:00, 175kiB/s]                          \n"
     ]
    },
    {
     "name": "stdout",
     "output_type": "stream",
     "text": [
      "password required for SoccerNet\\england_epl\\2016-2017\\2016-09-24 - 19-30 Arsenal 3 - 0 Chelsea\\1_720p.mkv\n"
     ]
    },
    {
     "name": "stderr",
     "output_type": "stream",
     "text": [
      "Downloading SoccerNet\\england_epl\\2016-2017\\2016-09-24 - 19-30 Arsenal 3 - 0 Chelsea\\Labels-v2.json...: : 49.2kiB [00:00, 121kiB/s]                          \n"
     ]
    },
    {
     "name": "stdout",
     "output_type": "stream",
     "text": [
      "password required for SoccerNet\\england_epl\\2016-2017\\2016-10-17 - 22-00 Liverpool 0 - 0 Manchester United\\1_720p.mkv\n"
     ]
    },
    {
     "name": "stderr",
     "output_type": "stream",
     "text": [
      "Downloading SoccerNet\\england_epl\\2016-2017\\2016-10-17 - 22-00 Liverpool 0 - 0 Manchester United\\Labels-v2.json...: : 65.5kiB [00:00, 114kiB/s]                          \n"
     ]
    },
    {
     "name": "stdout",
     "output_type": "stream",
     "text": [
      "password required for SoccerNet\\england_epl\\2016-2017\\2016-10-22 - 19-30 Liverpool 2 - 1 West Brom\\1_720p.mkv\n"
     ]
    },
    {
     "name": "stderr",
     "output_type": "stream",
     "text": [
      "Downloading SoccerNet\\england_epl\\2016-2017\\2016-10-22 - 19-30 Liverpool 2 - 1 West Brom\\Labels-v2.json...: : 57.3kiB [00:00, 140kiB/s]                          \n"
     ]
    },
    {
     "name": "stdout",
     "output_type": "stream",
     "text": [
      "password required for SoccerNet\\england_epl\\2016-2017\\2016-10-29 - 14-30 Sunderland 1 - 4 Arsenal\\1_720p.mkv\n"
     ]
    },
    {
     "name": "stderr",
     "output_type": "stream",
     "text": [
      "Downloading SoccerNet\\england_epl\\2016-2017\\2016-10-29 - 14-30 Sunderland 1 - 4 Arsenal\\Labels-v2.json...: : 57.3kiB [00:00, 139kiB/s]                          \n"
     ]
    },
    {
     "name": "stdout",
     "output_type": "stream",
     "text": [
      "password required for SoccerNet\\england_epl\\2016-2017\\2016-10-29 - 17-00 Tottenham 1 - 1 Leicester\\1_720p.mkv\n"
     ]
    },
    {
     "name": "stderr",
     "output_type": "stream",
     "text": [
      "Downloading SoccerNet\\england_epl\\2016-2017\\2016-10-29 - 17-00 Tottenham 1 - 1 Leicester\\Labels-v2.json...: : 65.5kiB [00:00, 121kiB/s]                          \n"
     ]
    },
    {
     "name": "stdout",
     "output_type": "stream",
     "text": [
      "password required for SoccerNet\\england_epl\\2016-2017\\2016-11-06 - 17-15 Liverpool 6 - 1 Watford\\1_720p.mkv\n"
     ]
    },
    {
     "name": "stderr",
     "output_type": "stream",
     "text": [
      "Downloading SoccerNet\\england_epl\\2016-2017\\2016-11-06 - 17-15 Liverpool 6 - 1 Watford\\Labels-v2.json...: : 57.3kiB [00:00, 139kiB/s]                          \n"
     ]
    },
    {
     "name": "stdout",
     "output_type": "stream",
     "text": [
      "password required for SoccerNet\\england_epl\\2016-2017\\2016-11-06 - 19-30 Leicester 1 - 2 West Brom\\1_720p.mkv\n"
     ]
    },
    {
     "name": "stderr",
     "output_type": "stream",
     "text": [
      "Downloading SoccerNet\\england_epl\\2016-2017\\2016-11-06 - 19-30 Leicester 1 - 2 West Brom\\Labels-v2.json...: : 57.3kiB [00:00, 112kiB/s]                          \n"
     ]
    },
    {
     "name": "stdout",
     "output_type": "stream",
     "text": [
      "password required for SoccerNet\\england_epl\\2016-2017\\2016-11-19 - 18-00 Southampton 0 - 0 Liverpool\\1_720p.mkv\n"
     ]
    },
    {
     "name": "stderr",
     "output_type": "stream",
     "text": [
      "Downloading SoccerNet\\england_epl\\2016-2017\\2016-11-19 - 18-00 Southampton 0 - 0 Liverpool\\Labels-v2.json...: : 57.3kiB [00:00, 143kiB/s]                          \n"
     ]
    },
    {
     "name": "stdout",
     "output_type": "stream",
     "text": [
      "password required for SoccerNet\\england_epl\\2016-2017\\2016-11-26 - 18-00 Liverpool 2 - 0 Sunderland\\1_720p.mkv\n"
     ]
    },
    {
     "name": "stderr",
     "output_type": "stream",
     "text": [
      "Downloading SoccerNet\\england_epl\\2016-2017\\2016-11-26 - 18-00 Liverpool 2 - 0 Sunderland\\Labels-v2.json...: : 49.2kiB [00:00, 97.4kiB/s]                         \n"
     ]
    },
    {
     "name": "stdout",
     "output_type": "stream",
     "text": [
      "password required for SoccerNet\\england_epl\\2016-2017\\2016-12-10 - 20-30 Leicester 4 - 2 Manchester City\\1_720p.mkv\n"
     ]
    },
    {
     "name": "stderr",
     "output_type": "stream",
     "text": [
      "Downloading SoccerNet\\england_epl\\2016-2017\\2016-12-10 - 20-30 Leicester 4 - 2 Manchester City\\Labels-v2.json...: : 57.3kiB [00:00, 119kiB/s]                          \n"
     ]
    },
    {
     "name": "stdout",
     "output_type": "stream",
     "text": [
      "password required for SoccerNet\\england_epl\\2016-2017\\2016-12-11 - 19-30 Liverpool 2 - 2 West Ham\\1_720p.mkv\n"
     ]
    },
    {
     "name": "stderr",
     "output_type": "stream",
     "text": [
      "Downloading SoccerNet\\england_epl\\2016-2017\\2016-12-11 - 19-30 Liverpool 2 - 2 West Ham\\Labels-v2.json...: : 57.3kiB [00:00, 122kiB/s]                         \n"
     ]
    },
    {
     "name": "stdout",
     "output_type": "stream",
     "text": [
      "password required for SoccerNet\\england_epl\\2016-2017\\2016-12-14 - 22-45 Middlesbrough 0 - 3 Liverpool\\1_720p.mkv\n"
     ]
    },
    {
     "name": "stderr",
     "output_type": "stream",
     "text": [
      "Downloading SoccerNet\\england_epl\\2016-2017\\2016-12-14 - 22-45 Middlesbrough 0 - 3 Liverpool\\Labels-v2.json...: : 49.2kiB [00:00, 101kiB/s]                          \n"
     ]
    },
    {
     "name": "stdout",
     "output_type": "stream",
     "text": [
      "password required for SoccerNet\\england_epl\\2016-2017\\2016-12-19 - 23-00 Everton 0 - 1 Liverpool\\1_720p.mkv\n"
     ]
    },
    {
     "name": "stderr",
     "output_type": "stream",
     "text": [
      "Downloading SoccerNet\\england_epl\\2016-2017\\2016-12-19 - 23-00 Everton 0 - 1 Liverpool\\Labels-v2.json...: : 57.3kiB [00:00, 120kiB/s]                          \n"
     ]
    },
    {
     "name": "stdout",
     "output_type": "stream",
     "text": [
      "password required for SoccerNet\\england_epl\\2016-2017\\2016-12-27 - 20-15 Liverpool 4 - 1 Stoke City\\1_720p.mkv\n"
     ]
    },
    {
     "name": "stderr",
     "output_type": "stream",
     "text": [
      "Downloading SoccerNet\\england_epl\\2016-2017\\2016-12-27 - 20-15 Liverpool 4 - 1 Stoke City\\Labels-v2.json...: : 57.3kiB [00:00, 114kiB/s]                          \n"
     ]
    },
    {
     "name": "stdout",
     "output_type": "stream",
     "text": [
      "password required for SoccerNet\\england_epl\\2016-2017\\2016-12-31 - 20-30 Liverpool 1 - 0 Manchester City\\1_720p.mkv\n"
     ]
    },
    {
     "name": "stderr",
     "output_type": "stream",
     "text": [
      "Downloading SoccerNet\\england_epl\\2016-2017\\2016-12-31 - 20-30 Liverpool 1 - 0 Manchester City\\Labels-v2.json...: : 57.3kiB [00:00, 103kiB/s]                          \n"
     ]
    },
    {
     "name": "stdout",
     "output_type": "stream",
     "text": [
      "password required for SoccerNet\\england_epl\\2016-2017\\2017-01-02 - 15-30 Middlesbrough 0 - 0 Leicester\\1_720p.mkv\n"
     ]
    },
    {
     "name": "stderr",
     "output_type": "stream",
     "text": [
      "Downloading SoccerNet\\england_epl\\2016-2017\\2017-01-02 - 15-30 Middlesbrough 0 - 0 Leicester\\Labels-v2.json...: : 49.2kiB [00:00, 139kiB/s]                          \n"
     ]
    },
    {
     "name": "stdout",
     "output_type": "stream",
     "text": [
      "password required for SoccerNet\\england_epl\\2016-2017\\2017-01-02 - 18-00 Sunderland 2 - 2 Liverpool\\1_720p.mkv\n"
     ]
    },
    {
     "name": "stderr",
     "output_type": "stream",
     "text": [
      "Downloading SoccerNet\\england_epl\\2016-2017\\2017-01-02 - 18-00 Sunderland 2 - 2 Liverpool\\Labels-v2.json...: : 49.2kiB [00:00, 106kiB/s]                          \n"
     ]
    },
    {
     "name": "stdout",
     "output_type": "stream",
     "text": [
      "password required for SoccerNet\\england_epl\\2016-2017\\2017-01-14 - 20-30 Leicester 0 - 3 Chelsea\\1_720p.mkv\n"
     ]
    },
    {
     "name": "stderr",
     "output_type": "stream",
     "text": [
      "Downloading SoccerNet\\england_epl\\2016-2017\\2017-01-14 - 20-30 Leicester 0 - 3 Chelsea\\Labels-v2.json...: : 57.3kiB [00:00, 194kiB/s]                         \n"
     ]
    },
    {
     "name": "stdout",
     "output_type": "stream",
     "text": [
      "password required for SoccerNet\\england_epl\\2016-2017\\2017-01-15 - 19-00 Manchester United 1 - 1 Liverpool\\1_720p.mkv\n"
     ]
    },
    {
     "name": "stderr",
     "output_type": "stream",
     "text": [
      "Downloading SoccerNet\\england_epl\\2016-2017\\2017-01-15 - 19-00 Manchester United 1 - 1 Liverpool\\Labels-v2.json...: : 65.5kiB [00:00, 117kiB/s]                          \n"
     ]
    },
    {
     "name": "stdout",
     "output_type": "stream",
     "text": [
      "password required for SoccerNet\\england_epl\\2016-2017\\2017-01-31 - 23-00 Liverpool 1 - 1 Chelsea\\1_720p.mkv\n"
     ]
    },
    {
     "name": "stderr",
     "output_type": "stream",
     "text": [
      "Downloading SoccerNet\\england_epl\\2016-2017\\2017-01-31 - 23-00 Liverpool 1 - 1 Chelsea\\Labels-v2.json...: : 65.5kiB [00:00, 116kiB/s]                          \n"
     ]
    },
    {
     "name": "stdout",
     "output_type": "stream",
     "text": [
      "password required for SoccerNet\\england_epl\\2016-2017\\2017-02-27 - 23-00 Leicester 3 - 1 Liverpool\\1_720p.mkv\n"
     ]
    },
    {
     "name": "stderr",
     "output_type": "stream",
     "text": [
      "Downloading SoccerNet\\england_epl\\2016-2017\\2017-02-27 - 23-00 Leicester 3 - 1 Liverpool\\Labels-v2.json...: : 57.3kiB [00:00, 96.7kiB/s]                         \n"
     ]
    },
    {
     "name": "stdout",
     "output_type": "stream",
     "text": [
      "password required for SoccerNet\\england_epl\\2016-2017\\2017-04-26 - 21-45 Arsenal 1 - 0 Leicester\\1_720p.mkv\n"
     ]
    },
    {
     "name": "stderr",
     "output_type": "stream",
     "text": [
      "Downloading SoccerNet\\england_epl\\2016-2017\\2017-04-26 - 21-45 Arsenal 1 - 0 Leicester\\Labels-v2.json...: : 57.3kiB [00:00, 130kiB/s]                         \n"
     ]
    },
    {
     "name": "stdout",
     "output_type": "stream",
     "text": [
      "password required for SoccerNet\\england_epl\\2016-2017\\2017-05-13 - 14-30 Manchester City 2 - 1 Leicester\\1_720p.mkv\n"
     ]
    },
    {
     "name": "stderr",
     "output_type": "stream",
     "text": [
      "Downloading SoccerNet\\england_epl\\2016-2017\\2017-05-13 - 14-30 Manchester City 2 - 1 Leicester\\Labels-v2.json...: : 57.3kiB [00:00, 120kiB/s]                          \n"
     ]
    },
    {
     "name": "stdout",
     "output_type": "stream",
     "text": [
      "password required for SoccerNet\\europe_uefa-champions-league\\2014-2015\\2014-11-04 - 22-45 Arsenal 3 - 3 Anderlecht\\1_720p.mkv\n"
     ]
    },
    {
     "name": "stderr",
     "output_type": "stream",
     "text": [
      "Downloading SoccerNet\\europe_uefa-champions-league\\2014-2015\\2014-11-04 - 22-45 Arsenal 3 - 3 Anderlecht\\Labels-v2.json...: : 57.3kiB [00:00, 126kiB/s]                          \n"
     ]
    },
    {
     "name": "stdout",
     "output_type": "stream",
     "text": [
      "password required for SoccerNet\\europe_uefa-champions-league\\2014-2015\\2014-11-04 - 22-45 Dortmund 4 - 1 Galatasaray\\1_720p.mkv\n"
     ]
    },
    {
     "name": "stderr",
     "output_type": "stream",
     "text": [
      "Downloading SoccerNet\\europe_uefa-champions-league\\2014-2015\\2014-11-04 - 22-45 Dortmund 4 - 1 Galatasaray\\Labels-v2.json...: : 57.3kiB [00:00, 140kiB/s]                          \n"
     ]
    },
    {
     "name": "stdout",
     "output_type": "stream",
     "text": [
      "password required for SoccerNet\\europe_uefa-champions-league\\2014-2015\\2014-11-05 - 22-45 Bayern Munich 2 - 0 AS Roma\\1_720p.mkv\n"
     ]
    },
    {
     "name": "stderr",
     "output_type": "stream",
     "text": [
      "Downloading SoccerNet\\europe_uefa-champions-league\\2014-2015\\2014-11-05 - 22-45 Bayern Munich 2 - 0 AS Roma\\Labels-v2.json...: : 49.2kiB [00:00, 109kiB/s]                          \n"
     ]
    },
    {
     "name": "stdout",
     "output_type": "stream",
     "text": [
      "password required for SoccerNet\\europe_uefa-champions-league\\2014-2015\\2014-12-09 - 22-45 Benfica 0 - 0 Bayer Leverkusen\\1_720p.mkv\n"
     ]
    },
    {
     "name": "stderr",
     "output_type": "stream",
     "text": [
      "Downloading SoccerNet\\europe_uefa-champions-league\\2014-2015\\2014-12-09 - 22-45 Benfica 0 - 0 Bayer Leverkusen\\Labels-v2.json...: : 57.3kiB [00:00, 132kiB/s]                          \n"
     ]
    },
    {
     "name": "stdout",
     "output_type": "stream",
     "text": [
      "password required for SoccerNet\\europe_uefa-champions-league\\2014-2015\\2014-12-09 - 22-45 Dortmund 1 - 1 Anderlecht\\1_720p.mkv\n"
     ]
    },
    {
     "name": "stderr",
     "output_type": "stream",
     "text": [
      "Downloading SoccerNet\\europe_uefa-champions-league\\2014-2015\\2014-12-09 - 22-45 Dortmund 1 - 1 Anderlecht\\Labels-v2.json...: : 49.2kiB [00:00, 111kiB/s]                          \n"
     ]
    },
    {
     "name": "stdout",
     "output_type": "stream",
     "text": [
      "password required for SoccerNet\\europe_uefa-champions-league\\2014-2015\\2014-12-09 - 22-45 Liverpool 1 - 1 Basel\\1_720p.mkv\n"
     ]
    },
    {
     "name": "stderr",
     "output_type": "stream",
     "text": [
      "Downloading SoccerNet\\europe_uefa-champions-league\\2014-2015\\2014-12-09 - 22-45 Liverpool 1 - 1 Basel\\Labels-v2.json...: : 57.3kiB [00:00, 129kiB/s]                          \n"
     ]
    },
    {
     "name": "stdout",
     "output_type": "stream",
     "text": [
      "password required for SoccerNet\\europe_uefa-champions-league\\2014-2015\\2014-12-10 - 22-45 Barcelona 3 - 1 Paris SG\\1_720p.mkv\n"
     ]
    },
    {
     "name": "stderr",
     "output_type": "stream",
     "text": [
      "Downloading SoccerNet\\europe_uefa-champions-league\\2014-2015\\2014-12-10 - 22-45 Barcelona 3 - 1 Paris SG\\Labels-v2.json...: : 49.2kiB [00:00, 155kiB/s]                          \n"
     ]
    },
    {
     "name": "stdout",
     "output_type": "stream",
     "text": [
      "password required for SoccerNet\\europe_uefa-champions-league\\2014-2015\\2014-12-10 - 22-45 Bayern Munich 3 - 0 CSKA Moscow\\1_720p.mkv\n"
     ]
    },
    {
     "name": "stderr",
     "output_type": "stream",
     "text": [
      "Downloading SoccerNet\\europe_uefa-champions-league\\2014-2015\\2014-12-10 - 22-45 Bayern Munich 3 - 0 CSKA Moscow\\Labels-v2.json...: : 49.2kiB [00:00, 93.9kiB/s]                         \n"
     ]
    },
    {
     "name": "stdout",
     "output_type": "stream",
     "text": [
      "password required for SoccerNet\\europe_uefa-champions-league\\2014-2015\\2015-02-17 - 22-45 Paris SG 1 - 1 Chelsea\\1_720p.mkv\n"
     ]
    },
    {
     "name": "stderr",
     "output_type": "stream",
     "text": [
      "Downloading SoccerNet\\europe_uefa-champions-league\\2014-2015\\2015-02-17 - 22-45 Paris SG 1 - 1 Chelsea\\Labels-v2.json...: : 49.2kiB [00:00, 96.8kiB/s]                         \n"
     ]
    },
    {
     "name": "stdout",
     "output_type": "stream",
     "text": [
      "password required for SoccerNet\\europe_uefa-champions-league\\2014-2015\\2015-02-17 - 22-45 Shakhtar Donetsk 0 - 0 Bayern Munich\\1_720p.mkv\n"
     ]
    },
    {
     "name": "stderr",
     "output_type": "stream",
     "text": [
      "Downloading SoccerNet\\europe_uefa-champions-league\\2014-2015\\2015-02-17 - 22-45 Shakhtar Donetsk 0 - 0 Bayern Munich\\Labels-v2.json...: : 49.2kiB [00:00, 177kiB/s]                          \n"
     ]
    },
    {
     "name": "stdout",
     "output_type": "stream",
     "text": [
      "password required for SoccerNet\\europe_uefa-champions-league\\2014-2015\\2015-02-18 - 22-45 Schalke 0 - 2 Real Madrid\\1_720p.mkv\n"
     ]
    },
    {
     "name": "stderr",
     "output_type": "stream",
     "text": [
      "Downloading SoccerNet\\europe_uefa-champions-league\\2014-2015\\2015-02-18 - 22-45 Schalke 0 - 2 Real Madrid\\Labels-v2.json...: : 49.2kiB [00:00, 109kiB/s]                          \n"
     ]
    },
    {
     "name": "stdout",
     "output_type": "stream",
     "text": [
      "password required for SoccerNet\\europe_uefa-champions-league\\2014-2015\\2015-02-25 - 22-45 Arsenal 1 - 3 Monaco\\1_720p.mkv\n"
     ]
    },
    {
     "name": "stderr",
     "output_type": "stream",
     "text": [
      "Downloading SoccerNet\\europe_uefa-champions-league\\2014-2015\\2015-02-25 - 22-45 Arsenal 1 - 3 Monaco\\Labels-v2.json...: : 57.3kiB [00:00, 138kiB/s]                          \n"
     ]
    },
    {
     "name": "stdout",
     "output_type": "stream",
     "text": [
      "password required for SoccerNet\\europe_uefa-champions-league\\2014-2015\\2015-02-25 - 22-45 Bayer Leverkusen 1 - 0 Atl. Madrid\\1_720p.mkv\n"
     ]
    },
    {
     "name": "stderr",
     "output_type": "stream",
     "text": [
      "Downloading SoccerNet\\europe_uefa-champions-league\\2014-2015\\2015-02-25 - 22-45 Bayer Leverkusen 1 - 0 Atl. Madrid\\Labels-v2.json...: : 57.3kiB [00:00, 109kiB/s]                          \n"
     ]
    },
    {
     "name": "stdout",
     "output_type": "stream",
     "text": [
      "password required for SoccerNet\\europe_uefa-champions-league\\2014-2015\\2015-03-10 - 22-45 FC Porto 4 - 0 Basel\\1_720p.mkv\n"
     ]
    },
    {
     "name": "stderr",
     "output_type": "stream",
     "text": [
      "Downloading SoccerNet\\europe_uefa-champions-league\\2014-2015\\2015-03-10 - 22-45 FC Porto 4 - 0 Basel\\Labels-v2.json...: : 57.3kiB [00:00, 163kiB/s]                          \n"
     ]
    },
    {
     "name": "stdout",
     "output_type": "stream",
     "text": [
      "password required for SoccerNet\\europe_uefa-champions-league\\2014-2015\\2015-03-18 - 22-45 Barcelona 1 - 0 Manchester City\\1_720p.mkv\n"
     ]
    },
    {
     "name": "stderr",
     "output_type": "stream",
     "text": [
      "Downloading SoccerNet\\europe_uefa-champions-league\\2014-2015\\2015-03-18 - 22-45 Barcelona 1 - 0 Manchester City\\Labels-v2.json...: : 57.3kiB [00:00, 134kiB/s]                          \n"
     ]
    },
    {
     "name": "stdout",
     "output_type": "stream",
     "text": [
      "password required for SoccerNet\\europe_uefa-champions-league\\2014-2015\\2015-03-18 - 22-45 Dortmund 0 - 3 Juventus\\1_720p.mkv\n"
     ]
    },
    {
     "name": "stderr",
     "output_type": "stream",
     "text": [
      "Downloading SoccerNet\\europe_uefa-champions-league\\2014-2015\\2015-03-18 - 22-45 Dortmund 0 - 3 Juventus\\Labels-v2.json...: : 49.2kiB [00:00, 147kiB/s]                          \n"
     ]
    },
    {
     "name": "stdout",
     "output_type": "stream",
     "text": [
      "password required for SoccerNet\\europe_uefa-champions-league\\2014-2015\\2015-04-14 - 21-45 Atl. Madrid 0 - 0 Real Madrid\\1_720p.mkv\n"
     ]
    },
    {
     "name": "stderr",
     "output_type": "stream",
     "text": [
      "Downloading SoccerNet\\europe_uefa-champions-league\\2014-2015\\2015-04-14 - 21-45 Atl. Madrid 0 - 0 Real Madrid\\Labels-v2.json...: : 57.3kiB [00:00, 108kiB/s]                          \n"
     ]
    },
    {
     "name": "stdout",
     "output_type": "stream",
     "text": [
      "password required for SoccerNet\\europe_uefa-champions-league\\2014-2015\\2015-04-14 - 21-45 Juventus 1 - 0 Monaco\\1_720p.mkv\n"
     ]
    },
    {
     "name": "stderr",
     "output_type": "stream",
     "text": [
      "Downloading SoccerNet\\europe_uefa-champions-league\\2014-2015\\2015-04-14 - 21-45 Juventus 1 - 0 Monaco\\Labels-v2.json...: : 57.3kiB [00:00, 132kiB/s]                          \n"
     ]
    },
    {
     "name": "stdout",
     "output_type": "stream",
     "text": [
      "password required for SoccerNet\\europe_uefa-champions-league\\2014-2015\\2015-04-21 - 21-45 Bayern Munich 6 - 1 FC Porto\\1_720p.mkv\n"
     ]
    },
    {
     "name": "stderr",
     "output_type": "stream",
     "text": [
      "Downloading SoccerNet\\europe_uefa-champions-league\\2014-2015\\2015-04-21 - 21-45 Bayern Munich 6 - 1 FC Porto\\Labels-v2.json...: : 57.3kiB [00:00, 116kiB/s]                          \n"
     ]
    },
    {
     "name": "stdout",
     "output_type": "stream",
     "text": [
      "password required for SoccerNet\\europe_uefa-champions-league\\2014-2015\\2015-04-22 - 21-45 Monaco 0 - 0 Juventus\\1_720p.mkv\n"
     ]
    },
    {
     "name": "stderr",
     "output_type": "stream",
     "text": [
      "Downloading SoccerNet\\europe_uefa-champions-league\\2014-2015\\2015-04-22 - 21-45 Monaco 0 - 0 Juventus\\Labels-v2.json...: : 65.5kiB [00:00, 106kiB/s]                          \n"
     ]
    },
    {
     "name": "stdout",
     "output_type": "stream",
     "text": [
      "password required for SoccerNet\\europe_uefa-champions-league\\2014-2015\\2015-05-06 - 21-45 Barcelona 3 - 0 Bayern Munich\\1_720p.mkv\n"
     ]
    },
    {
     "name": "stderr",
     "output_type": "stream",
     "text": [
      "Downloading SoccerNet\\europe_uefa-champions-league\\2014-2015\\2015-05-06 - 21-45 Barcelona 3 - 0 Bayern Munich\\Labels-v2.json...: : 57.3kiB [00:00, 135kiB/s]                          \n"
     ]
    },
    {
     "name": "stdout",
     "output_type": "stream",
     "text": [
      "password required for SoccerNet\\europe_uefa-champions-league\\2014-2015\\2015-05-12 - 21-45 Bayern Munich 3 - 2 Barcelona\\1_720p.mkv\n"
     ]
    },
    {
     "name": "stderr",
     "output_type": "stream",
     "text": [
      "Downloading SoccerNet\\europe_uefa-champions-league\\2014-2015\\2015-05-12 - 21-45 Bayern Munich 3 - 2 Barcelona\\Labels-v2.json...: : 57.3kiB [00:00, 105kiB/s]                          \n"
     ]
    },
    {
     "name": "stdout",
     "output_type": "stream",
     "text": [
      "password required for SoccerNet\\europe_uefa-champions-league\\2015-2016\\2015-09-15 - 21-45 Galatasaray 0 - 2 Atl. Madrid\\1_720p.mkv\n"
     ]
    },
    {
     "name": "stderr",
     "output_type": "stream",
     "text": [
      "Downloading SoccerNet\\europe_uefa-champions-league\\2015-2016\\2015-09-15 - 21-45 Galatasaray 0 - 2 Atl. Madrid\\Labels-v2.json...: : 57.3kiB [00:00, 114kiB/s]                          \n"
     ]
    },
    {
     "name": "stdout",
     "output_type": "stream",
     "text": [
      "password required for SoccerNet\\europe_uefa-champions-league\\2015-2016\\2015-09-15 - 21-45 Manchester City 1 - 2 Juventus\\1_720p.mkv\n"
     ]
    },
    {
     "name": "stderr",
     "output_type": "stream",
     "text": [
      "Downloading SoccerNet\\europe_uefa-champions-league\\2015-2016\\2015-09-15 - 21-45 Manchester City 1 - 2 Juventus\\Labels-v2.json...: : 57.3kiB [00:00, 104kiB/s]                          \n"
     ]
    },
    {
     "name": "stdout",
     "output_type": "stream",
     "text": [
      "password required for SoccerNet\\europe_uefa-champions-league\\2015-2016\\2015-09-15 - 21-45 Paris SG 2 - 0 Malmo FF\\1_720p.mkv\n"
     ]
    },
    {
     "name": "stderr",
     "output_type": "stream",
     "text": [
      "Downloading SoccerNet\\europe_uefa-champions-league\\2015-2016\\2015-09-15 - 21-45 Paris SG 2 - 0 Malmo FF\\Labels-v2.json...: : 49.2kiB [00:00, 111kiB/s]                          \n"
     ]
    },
    {
     "name": "stdout",
     "output_type": "stream",
     "text": [
      "password required for SoccerNet\\europe_uefa-champions-league\\2015-2016\\2015-09-15 - 21-45 Real Madrid 4 - 0 Shakhtar Donetsk\\1_720p.mkv\n"
     ]
    },
    {
     "name": "stderr",
     "output_type": "stream",
     "text": [
      "Downloading SoccerNet\\europe_uefa-champions-league\\2015-2016\\2015-09-15 - 21-45 Real Madrid 4 - 0 Shakhtar Donetsk\\Labels-v2.json...: : 49.2kiB [00:00, 158kiB/s]                          \n"
     ]
    },
    {
     "name": "stdout",
     "output_type": "stream",
     "text": [
      "password required for SoccerNet\\europe_uefa-champions-league\\2015-2016\\2015-09-15 - 21-45 Sevilla 3 - 0 B. Monchengladbach\\1_720p.mkv\n"
     ]
    },
    {
     "name": "stderr",
     "output_type": "stream",
     "text": [
      "Downloading SoccerNet\\europe_uefa-champions-league\\2015-2016\\2015-09-15 - 21-45 Sevilla 3 - 0 B. Monchengladbach\\Labels-v2.json...: : 57.3kiB [00:00, 117kiB/s]                          \n"
     ]
    },
    {
     "name": "stdout",
     "output_type": "stream",
     "text": [
      "password required for SoccerNet\\europe_uefa-champions-league\\2015-2016\\2015-09-16 - 21-45 AS Roma 1 - 1 Barcelona\\1_720p.mkv\n"
     ]
    },
    {
     "name": "stderr",
     "output_type": "stream",
     "text": [
      "Downloading SoccerNet\\europe_uefa-champions-league\\2015-2016\\2015-09-16 - 21-45 AS Roma 1 - 1 Barcelona\\Labels-v2.json...: : 49.2kiB [00:00, 92.0kiB/s]                         \n"
     ]
    },
    {
     "name": "stdout",
     "output_type": "stream",
     "text": [
      "password required for SoccerNet\\europe_uefa-champions-league\\2015-2016\\2015-09-16 - 21-45 Bayer Leverkusen 4 - 1 BATE\\1_720p.mkv\n"
     ]
    },
    {
     "name": "stderr",
     "output_type": "stream",
     "text": [
      "Downloading SoccerNet\\europe_uefa-champions-league\\2015-2016\\2015-09-16 - 21-45 Bayer Leverkusen 4 - 1 BATE\\Labels-v2.json...: : 57.3kiB [00:00, 125kiB/s]                          \n"
     ]
    },
    {
     "name": "stdout",
     "output_type": "stream",
     "text": [
      "password required for SoccerNet\\europe_uefa-champions-league\\2015-2016\\2015-09-16 - 21-45 Gent 1 - 1 Lyon\\1_720p.mkv\n"
     ]
    },
    {
     "name": "stderr",
     "output_type": "stream",
     "text": [
      "Downloading SoccerNet\\europe_uefa-champions-league\\2015-2016\\2015-09-16 - 21-45 Gent 1 - 1 Lyon\\Labels-v2.json...: : 65.5kiB [00:00, 118kiB/s]                          \n"
     ]
    },
    {
     "name": "stdout",
     "output_type": "stream",
     "text": [
      "password required for SoccerNet\\europe_uefa-champions-league\\2015-2016\\2015-09-29 - 21-45 Arsenal 2 - 3 Olympiakos Piraeus\\1_720p.mkv\n"
     ]
    },
    {
     "name": "stderr",
     "output_type": "stream",
     "text": [
      "Downloading SoccerNet\\europe_uefa-champions-league\\2015-2016\\2015-09-29 - 21-45 Arsenal 2 - 3 Olympiakos Piraeus\\Labels-v2.json...: : 57.3kiB [00:00, 138kiB/s]                          \n"
     ]
    },
    {
     "name": "stdout",
     "output_type": "stream",
     "text": [
      "password required for SoccerNet\\europe_uefa-champions-league\\2015-2016\\2015-09-29 - 21-45 Lyon 0 - 1 Valencia\\1_720p.mkv\n"
     ]
    },
    {
     "name": "stderr",
     "output_type": "stream",
     "text": [
      "Downloading SoccerNet\\europe_uefa-champions-league\\2015-2016\\2015-09-29 - 21-45 Lyon 0 - 1 Valencia\\Labels-v2.json...: : 57.3kiB [00:00, 92.9kiB/s]                        \n"
     ]
    },
    {
     "name": "stdout",
     "output_type": "stream",
     "text": [
      "password required for SoccerNet\\europe_uefa-champions-league\\2015-2016\\2015-10-20 - 21-45 Arsenal 2 - 0 Bayern Munich\\1_720p.mkv\n"
     ]
    },
    {
     "name": "stderr",
     "output_type": "stream",
     "text": [
      "Downloading SoccerNet\\europe_uefa-champions-league\\2015-2016\\2015-10-20 - 21-45 Arsenal 2 - 0 Bayern Munich\\Labels-v2.json...: : 57.3kiB [00:00, 164kiB/s]                          \n"
     ]
    },
    {
     "name": "stdout",
     "output_type": "stream",
     "text": [
      "password required for SoccerNet\\europe_uefa-champions-league\\2015-2016\\2015-11-03 - 18-00 FC Astana 0 - 0 Atl. Madrid\\1_720p.mkv\n"
     ]
    },
    {
     "name": "stderr",
     "output_type": "stream",
     "text": [
      "Downloading SoccerNet\\europe_uefa-champions-league\\2015-2016\\2015-11-03 - 18-00 FC Astana 0 - 0 Atl. Madrid\\Labels-v2.json...: : 57.3kiB [00:00, 103kiB/s]                          \n"
     ]
    },
    {
     "name": "stdout",
     "output_type": "stream",
     "text": [
      "password required for SoccerNet\\europe_uefa-champions-league\\2015-2016\\2015-11-03 - 22-45 B. Monchengladbach 1 - 1 Juventus\\1_720p.mkv\n"
     ]
    },
    {
     "name": "stderr",
     "output_type": "stream",
     "text": [
      "Downloading SoccerNet\\europe_uefa-champions-league\\2015-2016\\2015-11-03 - 22-45 B. Monchengladbach 1 - 1 Juventus\\Labels-v2.json...: : 65.5kiB [00:00, 118kiB/s]                          \n"
     ]
    },
    {
     "name": "stdout",
     "output_type": "stream",
     "text": [
      "password required for SoccerNet\\europe_uefa-champions-league\\2015-2016\\2015-11-03 - 22-45 Manchester United 1 - 0 CSKA Moscow\\1_720p.mkv\n"
     ]
    },
    {
     "name": "stderr",
     "output_type": "stream",
     "text": [
      "Downloading SoccerNet\\europe_uefa-champions-league\\2015-2016\\2015-11-03 - 22-45 Manchester United 1 - 0 CSKA Moscow\\Labels-v2.json...: : 57.3kiB [00:00, 131kiB/s]                          \n"
     ]
    },
    {
     "name": "stdout",
     "output_type": "stream",
     "text": [
      "password required for SoccerNet\\europe_uefa-champions-league\\2015-2016\\2015-11-03 - 22-45 PSV 2 - 0 Wolfsburg\\1_720p.mkv\n"
     ]
    },
    {
     "name": "stderr",
     "output_type": "stream",
     "text": [
      "Downloading SoccerNet\\europe_uefa-champions-league\\2015-2016\\2015-11-03 - 22-45 PSV 2 - 0 Wolfsburg\\Labels-v2.json...: : 49.2kiB [00:00, 102kiB/s]                          \n"
     ]
    },
    {
     "name": "stdout",
     "output_type": "stream",
     "text": [
      "password required for SoccerNet\\europe_uefa-champions-league\\2015-2016\\2015-11-04 - 22-45 Bayern Munich 5 - 1 Arsenal\\1_720p.mkv\n"
     ]
    },
    {
     "name": "stderr",
     "output_type": "stream",
     "text": [
      "Downloading SoccerNet\\europe_uefa-champions-league\\2015-2016\\2015-11-04 - 22-45 Bayern Munich 5 - 1 Arsenal\\Labels-v2.json...: : 49.2kiB [00:00, 178kiB/s]                          \n"
     ]
    },
    {
     "name": "stdout",
     "output_type": "stream",
     "text": [
      "password required for SoccerNet\\europe_uefa-champions-league\\2015-2016\\2015-11-04 - 22-45 Gent 1 - 0 Valencia\\1_720p.mkv\n"
     ]
    },
    {
     "name": "stderr",
     "output_type": "stream",
     "text": [
      "Downloading SoccerNet\\europe_uefa-champions-league\\2015-2016\\2015-11-04 - 22-45 Gent 1 - 0 Valencia\\Labels-v2.json...: : 57.3kiB [00:00, 103kiB/s]                          \n"
     ]
    },
    {
     "name": "stdout",
     "output_type": "stream",
     "text": [
      "password required for SoccerNet\\europe_uefa-champions-league\\2015-2016\\2015-11-04 - 22-45 Lyon 0 - 2 Zenit Petersburg\\1_720p.mkv\n"
     ]
    },
    {
     "name": "stderr",
     "output_type": "stream",
     "text": [
      "Downloading SoccerNet\\europe_uefa-champions-league\\2015-2016\\2015-11-04 - 22-45 Lyon 0 - 2 Zenit Petersburg\\Labels-v2.json...: : 57.3kiB [00:00, 97.4kiB/s]                         \n"
     ]
    },
    {
     "name": "stdout",
     "output_type": "stream",
     "text": [
      "password required for SoccerNet\\europe_uefa-champions-league\\2015-2016\\2015-11-04 - 22-45 Maccabi Tel Aviv 1 - 3 FC Porto\\1_720p.mkv\n"
     ]
    },
    {
     "name": "stderr",
     "output_type": "stream",
     "text": [
      "Downloading SoccerNet\\europe_uefa-champions-league\\2015-2016\\2015-11-04 - 22-45 Maccabi Tel Aviv 1 - 3 FC Porto\\Labels-v2.json...: : 57.3kiB [00:00, 122kiB/s]                          \n"
     ]
    },
    {
     "name": "stdout",
     "output_type": "stream",
     "text": [
      "password required for SoccerNet\\europe_uefa-champions-league\\2015-2016\\2015-11-24 - 20-00 Zenit Petersburg 2 - 0 Valencia\\1_720p.mkv\n"
     ]
    },
    {
     "name": "stderr",
     "output_type": "stream",
     "text": [
      "Downloading SoccerNet\\europe_uefa-champions-league\\2015-2016\\2015-11-24 - 20-00 Zenit Petersburg 2 - 0 Valencia\\Labels-v2.json...: : 57.3kiB [00:00, 141kiB/s]                         \n"
     ]
    },
    {
     "name": "stdout",
     "output_type": "stream",
     "text": [
      "password required for SoccerNet\\europe_uefa-champions-league\\2015-2016\\2015-11-24 - 22-45 Barcelona 6 - 1 AS Roma\\1_720p.mkv\n"
     ]
    },
    {
     "name": "stderr",
     "output_type": "stream",
     "text": [
      "Downloading SoccerNet\\europe_uefa-champions-league\\2015-2016\\2015-11-24 - 22-45 Barcelona 6 - 1 AS Roma\\Labels-v2.json...: : 57.3kiB [00:00, 128kiB/s]                          \n"
     ]
    },
    {
     "name": "stdout",
     "output_type": "stream",
     "text": [
      "password required for SoccerNet\\europe_uefa-champions-league\\2015-2016\\2015-11-24 - 22-45 Bayern Munich 4 - 0 Olympiakos Piraeus\\1_720p.mkv\n"
     ]
    },
    {
     "name": "stderr",
     "output_type": "stream",
     "text": [
      "Downloading SoccerNet\\europe_uefa-champions-league\\2015-2016\\2015-11-24 - 22-45 Bayern Munich 4 - 0 Olympiakos Piraeus\\Labels-v2.json...: : 57.3kiB [00:00, 115kiB/s]                          \n"
     ]
    },
    {
     "name": "stdout",
     "output_type": "stream",
     "text": [
      "password required for SoccerNet\\europe_uefa-champions-league\\2015-2016\\2015-11-24 - 22-45 FC Porto 0 - 2 Dyn. Kiev\\1_720p.mkv\n"
     ]
    },
    {
     "name": "stderr",
     "output_type": "stream",
     "text": [
      "Downloading SoccerNet\\europe_uefa-champions-league\\2015-2016\\2015-11-24 - 22-45 FC Porto 0 - 2 Dyn. Kiev\\Labels-v2.json...: : 57.3kiB [00:00, 110kiB/s]                          \n"
     ]
    },
    {
     "name": "stdout",
     "output_type": "stream",
     "text": [
      "password required for SoccerNet\\europe_uefa-champions-league\\2015-2016\\2015-11-24 - 22-45 Maccabi Tel Aviv 0 - 4 Chelsea\\1_720p.mkv\n"
     ]
    },
    {
     "name": "stderr",
     "output_type": "stream",
     "text": [
      "Downloading SoccerNet\\europe_uefa-champions-league\\2015-2016\\2015-11-24 - 22-45 Maccabi Tel Aviv 0 - 4 Chelsea\\Labels-v2.json...: : 57.3kiB [00:00, 128kiB/s]                          \n"
     ]
    },
    {
     "name": "stdout",
     "output_type": "stream",
     "text": [
      "password required for SoccerNet\\europe_uefa-champions-league\\2015-2016\\2015-11-25 - 20-00 CSKA Moscow 0 - 2 Wolfsburg\\1_720p.mkv\n"
     ]
    },
    {
     "name": "stderr",
     "output_type": "stream",
     "text": [
      "Downloading SoccerNet\\europe_uefa-champions-league\\2015-2016\\2015-11-25 - 20-00 CSKA Moscow 0 - 2 Wolfsburg\\Labels-v2.json...: : 57.3kiB [00:00, 108kiB/s]                          \n"
     ]
    },
    {
     "name": "stdout",
     "output_type": "stream",
     "text": [
      "password required for SoccerNet\\europe_uefa-champions-league\\2015-2016\\2015-11-25 - 22-45 Atl. Madrid 2 - 0 Galatasaray\\1_720p.mkv\n"
     ]
    },
    {
     "name": "stderr",
     "output_type": "stream",
     "text": [
      "Downloading SoccerNet\\europe_uefa-champions-league\\2015-2016\\2015-11-25 - 22-45 Atl. Madrid 2 - 0 Galatasaray\\Labels-v2.json...: : 57.3kiB [00:00, 130kiB/s]                          \n"
     ]
    },
    {
     "name": "stdout",
     "output_type": "stream",
     "text": [
      "password required for SoccerNet\\europe_uefa-champions-league\\2015-2016\\2015-11-25 - 22-45 B. Monchengladbach 4 - 2 Sevilla\\1_720p.mkv\n"
     ]
    },
    {
     "name": "stderr",
     "output_type": "stream",
     "text": [
      "Downloading SoccerNet\\europe_uefa-champions-league\\2015-2016\\2015-11-25 - 22-45 B. Monchengladbach 4 - 2 Sevilla\\Labels-v2.json...: : 57.3kiB [00:00, 166kiB/s]                          \n"
     ]
    },
    {
     "name": "stdout",
     "output_type": "stream",
     "text": [
      "password required for SoccerNet\\europe_uefa-champions-league\\2015-2016\\2015-11-25 - 22-45 Malmo FF 0 - 5 Paris SG\\1_720p.mkv\n"
     ]
    },
    {
     "name": "stderr",
     "output_type": "stream",
     "text": [
      "Downloading SoccerNet\\europe_uefa-champions-league\\2015-2016\\2015-11-25 - 22-45 Malmo FF 0 - 5 Paris SG\\Labels-v2.json...: : 49.2kiB [00:00, 103kiB/s]                          \n"
     ]
    },
    {
     "name": "stdout",
     "output_type": "stream",
     "text": [
      "password required for SoccerNet\\europe_uefa-champions-league\\2015-2016\\2015-12-09 - 22-45 D. Zagreb 0 - 2 Bayern Munich\\1_720p.mkv\n"
     ]
    },
    {
     "name": "stderr",
     "output_type": "stream",
     "text": [
      "Downloading SoccerNet\\europe_uefa-champions-league\\2015-2016\\2015-12-09 - 22-45 D. Zagreb 0 - 2 Bayern Munich\\Labels-v2.json...: : 49.2kiB [00:00, 109kiB/s]                          \n"
     ]
    },
    {
     "name": "stdout",
     "output_type": "stream",
     "text": [
      "password required for SoccerNet\\europe_uefa-champions-league\\2016-2017\\2016-09-13 - 21-45 Barcelona 7 - 0 Celtic\\1_720p.mkv\n"
     ]
    },
    {
     "name": "stderr",
     "output_type": "stream",
     "text": [
      "Downloading SoccerNet\\europe_uefa-champions-league\\2016-2017\\2016-09-13 - 21-45 Barcelona 7 - 0 Celtic\\Labels-v2.json...: : 49.2kiB [00:00, 149kiB/s]                          \n"
     ]
    },
    {
     "name": "stdout",
     "output_type": "stream",
     "text": [
      "password required for SoccerNet\\europe_uefa-champions-league\\2016-2017\\2016-09-13 - 21-45 Dyn. Kiev 1 - 2 Napoli\\1_720p.mkv\n"
     ]
    },
    {
     "name": "stderr",
     "output_type": "stream",
     "text": [
      "Downloading SoccerNet\\europe_uefa-champions-league\\2016-2017\\2016-09-13 - 21-45 Dyn. Kiev 1 - 2 Napoli\\Labels-v2.json...: : 57.3kiB [00:00, 120kiB/s]                          \n"
     ]
    },
    {
     "name": "stdout",
     "output_type": "stream",
     "text": [
      "password required for SoccerNet\\europe_uefa-champions-league\\2016-2017\\2016-09-28 - 21-45 Ludogorets 1 - 3 Paris SG\\1_720p.mkv\n"
     ]
    },
    {
     "name": "stderr",
     "output_type": "stream",
     "text": [
      "Downloading SoccerNet\\europe_uefa-champions-league\\2016-2017\\2016-09-28 - 21-45 Ludogorets 1 - 3 Paris SG\\Labels-v2.json...: : 49.2kiB [00:00, 97.4kiB/s]                         \n"
     ]
    },
    {
     "name": "stdout",
     "output_type": "stream",
     "text": [
      "password required for SoccerNet\\europe_uefa-champions-league\\2016-2017\\2016-10-19 - 21-45 Barcelona 4 - 0 Manchester City\\1_720p.mkv\n"
     ]
    },
    {
     "name": "stderr",
     "output_type": "stream",
     "text": [
      "Downloading SoccerNet\\europe_uefa-champions-league\\2016-2017\\2016-10-19 - 21-45 Barcelona 4 - 0 Manchester City\\Labels-v2.json...: : 57.3kiB [00:00, 121kiB/s]                          \n"
     ]
    },
    {
     "name": "stdout",
     "output_type": "stream",
     "text": [
      "password required for SoccerNet\\europe_uefa-champions-league\\2016-2017\\2016-11-23 - 22-45 Celtic 0 - 2 Barcelona\\1_720p.mkv\n"
     ]
    },
    {
     "name": "stderr",
     "output_type": "stream",
     "text": [
      "Downloading SoccerNet\\europe_uefa-champions-league\\2016-2017\\2016-11-23 - 22-45 Celtic 0 - 2 Barcelona\\Labels-v2.json...: : 49.2kiB [00:00, 112kiB/s]                          \n"
     ]
    },
    {
     "name": "stdout",
     "output_type": "stream",
     "text": [
      "password required for SoccerNet\\europe_uefa-champions-league\\2016-2017\\2016-11-23 - 22-45 Napoli 0 - 0 Dyn. Kiev\\1_720p.mkv\n"
     ]
    },
    {
     "name": "stderr",
     "output_type": "stream",
     "text": [
      "Downloading SoccerNet\\europe_uefa-champions-league\\2016-2017\\2016-11-23 - 22-45 Napoli 0 - 0 Dyn. Kiev\\Labels-v2.json...: : 65.5kiB [00:00, 106kiB/s]                          \n"
     ]
    },
    {
     "name": "stdout",
     "output_type": "stream",
     "text": [
      "password required for SoccerNet\\europe_uefa-champions-league\\2016-2017\\2016-12-06 - 22-45 Benfica 1 - 2 Napoli\\1_720p.mkv\n"
     ]
    },
    {
     "name": "stderr",
     "output_type": "stream",
     "text": [
      "Downloading SoccerNet\\europe_uefa-champions-league\\2016-2017\\2016-12-06 - 22-45 Benfica 1 - 2 Napoli\\Labels-v2.json...: : 65.5kiB [00:00, 123kiB/s]                          \n"
     ]
    },
    {
     "name": "stdout",
     "output_type": "stream",
     "text": [
      "password required for SoccerNet\\europe_uefa-champions-league\\2016-2017\\2017-02-14 - 22-45 Paris SG 4 - 0 Barcelona\\1_720p.mkv\n"
     ]
    },
    {
     "name": "stderr",
     "output_type": "stream",
     "text": [
      "Downloading SoccerNet\\europe_uefa-champions-league\\2016-2017\\2017-02-14 - 22-45 Paris SG 4 - 0 Barcelona\\Labels-v2.json...: : 49.2kiB [00:00, 82.1kiB/s]                         \n"
     ]
    },
    {
     "name": "stdout",
     "output_type": "stream",
     "text": [
      "password required for SoccerNet\\europe_uefa-champions-league\\2016-2017\\2017-02-15 - 22-45 Real Madrid 3 - 1 Napoli\\1_720p.mkv\n"
     ]
    },
    {
     "name": "stderr",
     "output_type": "stream",
     "text": [
      "Downloading SoccerNet\\europe_uefa-champions-league\\2016-2017\\2017-02-15 - 22-45 Real Madrid 3 - 1 Napoli\\Labels-v2.json...: : 57.3kiB [00:00, 160kiB/s]                          \n"
     ]
    },
    {
     "name": "stdout",
     "output_type": "stream",
     "text": [
      "password required for SoccerNet\\europe_uefa-champions-league\\2016-2017\\2017-03-07 - 22-45 Napoli 1 - 3 Real Madrid\\1_720p.mkv\n"
     ]
    },
    {
     "name": "stderr",
     "output_type": "stream",
     "text": [
      "Downloading SoccerNet\\europe_uefa-champions-league\\2016-2017\\2017-03-07 - 22-45 Napoli 1 - 3 Real Madrid\\Labels-v2.json...: : 57.3kiB [00:00, 101kiB/s]                          \n"
     ]
    },
    {
     "name": "stdout",
     "output_type": "stream",
     "text": [
      "password required for SoccerNet\\europe_uefa-champions-league\\2016-2017\\2017-04-18 - 21-45 Real Madrid 4 - 2 Bayern Munich\\1_720p.mkv\n"
     ]
    },
    {
     "name": "stderr",
     "output_type": "stream",
     "text": [
      "Downloading SoccerNet\\europe_uefa-champions-league\\2016-2017\\2017-04-18 - 21-45 Real Madrid 4 - 2 Bayern Munich\\Labels-v2.json...: : 57.3kiB [00:00, 132kiB/s]                          \n"
     ]
    },
    {
     "name": "stdout",
     "output_type": "stream",
     "text": [
      "password required for SoccerNet\\france_ligue-1\\2014-2015\\2015-04-05 - 22-00 Marseille 2 - 3 Paris SG\\1_720p.mkv\n"
     ]
    },
    {
     "name": "stderr",
     "output_type": "stream",
     "text": [
      "Downloading SoccerNet\\france_ligue-1\\2014-2015\\2015-04-05 - 22-00 Marseille 2 - 3 Paris SG\\Labels-v2.json...: : 49.2kiB [00:00, 96.2kiB/s]                         \n"
     ]
    },
    {
     "name": "stdout",
     "output_type": "stream",
     "text": [
      "password required for SoccerNet\\france_ligue-1\\2015-2016\\2015-09-26 - 18-30 Nantes 1 - 4 Paris SG\\1_720p.mkv\n"
     ]
    },
    {
     "name": "stderr",
     "output_type": "stream",
     "text": [
      "Downloading SoccerNet\\france_ligue-1\\2015-2016\\2015-09-26 - 18-30 Nantes 1 - 4 Paris SG\\Labels-v2.json...: : 57.3kiB [00:00, 141kiB/s]                          \n"
     ]
    },
    {
     "name": "stdout",
     "output_type": "stream",
     "text": [
      "password required for SoccerNet\\france_ligue-1\\2015-2016\\2015-11-07 - 19-00 Paris SG 5 - 0 Toulouse\\1_720p.mkv\n"
     ]
    },
    {
     "name": "stderr",
     "output_type": "stream",
     "text": [
      "Downloading SoccerNet\\france_ligue-1\\2015-2016\\2015-11-07 - 19-00 Paris SG 5 - 0 Toulouse\\Labels-v2.json...: : 57.3kiB [00:00, 134kiB/s]                          \n"
     ]
    },
    {
     "name": "stdout",
     "output_type": "stream",
     "text": [
      "password required for SoccerNet\\france_ligue-1\\2016-2017\\2016-08-12 - 21-00 Bastia 0 - 1 Paris SG\\1_720p.mkv\n"
     ]
    },
    {
     "name": "stderr",
     "output_type": "stream",
     "text": [
      "Downloading SoccerNet\\france_ligue-1\\2016-2017\\2016-08-12 - 21-00 Bastia 0 - 1 Paris SG\\Labels-v2.json...: : 57.3kiB [00:00, 148kiB/s]                          \n"
     ]
    },
    {
     "name": "stdout",
     "output_type": "stream",
     "text": [
      "password required for SoccerNet\\france_ligue-1\\2016-2017\\2016-09-16 - 21-45 Caen 0 - 6 Paris SG\\1_720p.mkv\n"
     ]
    },
    {
     "name": "stderr",
     "output_type": "stream",
     "text": [
      "Downloading SoccerNet\\france_ligue-1\\2016-2017\\2016-09-16 - 21-45 Caen 0 - 6 Paris SG\\Labels-v2.json...: : 57.3kiB [00:00, 114kiB/s]                          \n"
     ]
    },
    {
     "name": "stdout",
     "output_type": "stream",
     "text": [
      "password required for SoccerNet\\france_ligue-1\\2016-2017\\2016-09-23 - 21-45 Toulouse 2 - 0 Paris SG\\1_720p.mkv\n"
     ]
    },
    {
     "name": "stderr",
     "output_type": "stream",
     "text": [
      "Downloading SoccerNet\\france_ligue-1\\2016-2017\\2016-09-23 - 21-45 Toulouse 2 - 0 Paris SG\\Labels-v2.json...: : 49.2kiB [00:00, 145kiB/s]                          \n"
     ]
    },
    {
     "name": "stdout",
     "output_type": "stream",
     "text": [
      "password required for SoccerNet\\france_ligue-1\\2016-2017\\2016-10-01 - 18-00 Paris SG 2 - 0 Bordeaux\\1_720p.mkv\n"
     ]
    },
    {
     "name": "stderr",
     "output_type": "stream",
     "text": [
      "Downloading SoccerNet\\france_ligue-1\\2016-2017\\2016-10-01 - 18-00 Paris SG 2 - 0 Bordeaux\\Labels-v2.json...: : 57.3kiB [00:00, 116kiB/s]                          \n"
     ]
    },
    {
     "name": "stdout",
     "output_type": "stream",
     "text": [
      "password required for SoccerNet\\france_ligue-1\\2016-2017\\2016-10-15 - 18-00 Nancy 1 - 2 Paris SG\\1_720p.mkv\n"
     ]
    },
    {
     "name": "stderr",
     "output_type": "stream",
     "text": [
      "Downloading SoccerNet\\france_ligue-1\\2016-2017\\2016-10-15 - 18-00 Nancy 1 - 2 Paris SG\\Labels-v2.json...: : 49.2kiB [00:00, 92.9kiB/s]                         \n"
     ]
    },
    {
     "name": "stdout",
     "output_type": "stream",
     "text": [
      "password required for SoccerNet\\france_ligue-1\\2016-2017\\2016-10-28 - 21-45 Lille 0 - 1 Paris SG\\1_720p.mkv\n"
     ]
    },
    {
     "name": "stderr",
     "output_type": "stream",
     "text": [
      "Downloading SoccerNet\\france_ligue-1\\2016-2017\\2016-10-28 - 21-45 Lille 0 - 1 Paris SG\\Labels-v2.json...: : 49.2kiB [00:00, 91.6kiB/s]                         \n"
     ]
    },
    {
     "name": "stdout",
     "output_type": "stream",
     "text": [
      "password required for SoccerNet\\france_ligue-1\\2016-2017\\2016-11-06 - 22-45 Paris SG 4 - 0 Rennes\\1_720p.mkv\n"
     ]
    },
    {
     "name": "stderr",
     "output_type": "stream",
     "text": [
      "Downloading SoccerNet\\france_ligue-1\\2016-2017\\2016-11-06 - 22-45 Paris SG 4 - 0 Rennes\\Labels-v2.json...: : 49.2kiB [00:00, 108kiB/s]                          \n"
     ]
    },
    {
     "name": "stdout",
     "output_type": "stream",
     "text": [
      "password required for SoccerNet\\france_ligue-1\\2016-2017\\2016-11-19 - 19-00 Paris SG 2 - 0 Nantes\\1_720p.mkv\n"
     ]
    },
    {
     "name": "stderr",
     "output_type": "stream",
     "text": [
      "Downloading SoccerNet\\france_ligue-1\\2016-2017\\2016-11-19 - 19-00 Paris SG 2 - 0 Nantes\\Labels-v2.json...: : 57.3kiB [00:00, 120kiB/s]                          \n"
     ]
    },
    {
     "name": "stdout",
     "output_type": "stream",
     "text": [
      "password required for SoccerNet\\france_ligue-1\\2016-2017\\2016-11-27 - 22-45 Lyon 1 - 2 Paris SG\\1_720p.mkv\n"
     ]
    },
    {
     "name": "stderr",
     "output_type": "stream",
     "text": [
      "Downloading SoccerNet\\france_ligue-1\\2016-2017\\2016-11-27 - 22-45 Lyon 1 - 2 Paris SG\\Labels-v2.json...: : 49.2kiB [00:00, 114kiB/s]                          \n"
     ]
    },
    {
     "name": "stdout",
     "output_type": "stream",
     "text": [
      "password required for SoccerNet\\france_ligue-1\\2016-2017\\2016-12-11 - 22-45 Paris SG 2 - 2 Nice\\1_720p.mkv\n"
     ]
    },
    {
     "name": "stderr",
     "output_type": "stream",
     "text": [
      "Downloading SoccerNet\\france_ligue-1\\2016-2017\\2016-12-11 - 22-45 Paris SG 2 - 2 Nice\\Labels-v2.json...: : 57.3kiB [00:00, 150kiB/s]                          \n"
     ]
    },
    {
     "name": "stdout",
     "output_type": "stream",
     "text": [
      "password required for SoccerNet\\france_ligue-1\\2016-2017\\2016-12-17 - 19-00 Guingamp 2 - 1 Paris SG\\1_720p.mkv\n"
     ]
    },
    {
     "name": "stderr",
     "output_type": "stream",
     "text": [
      "Downloading SoccerNet\\france_ligue-1\\2016-2017\\2016-12-17 - 19-00 Guingamp 2 - 1 Paris SG\\Labels-v2.json...: : 57.3kiB [00:00, 118kiB/s]                          \n"
     ]
    },
    {
     "name": "stdout",
     "output_type": "stream",
     "text": [
      "password required for SoccerNet\\france_ligue-1\\2016-2017\\2016-12-21 - 22-50 Paris SG 5 - 0 Lorient\\1_720p.mkv\n"
     ]
    },
    {
     "name": "stderr",
     "output_type": "stream",
     "text": [
      "Downloading SoccerNet\\france_ligue-1\\2016-2017\\2016-12-21 - 22-50 Paris SG 5 - 0 Lorient\\Labels-v2.json...: : 49.2kiB [00:00, 139kiB/s]                          \n"
     ]
    },
    {
     "name": "stdout",
     "output_type": "stream",
     "text": [
      "password required for SoccerNet\\france_ligue-1\\2016-2017\\2017-01-21 - 19-00 Nantes 0 - 2 Paris SG\\1_720p.mkv\n"
     ]
    },
    {
     "name": "stderr",
     "output_type": "stream",
     "text": [
      "Downloading SoccerNet\\france_ligue-1\\2016-2017\\2017-01-21 - 19-00 Nantes 0 - 2 Paris SG\\Labels-v2.json...: : 57.3kiB [00:00, 113kiB/s]                          \n"
     ]
    },
    {
     "name": "stdout",
     "output_type": "stream",
     "text": [
      "password required for SoccerNet\\france_ligue-1\\2016-2017\\2017-02-10 - 22-45 Bordeaux 0 - 3 Paris SG\\1_720p.mkv\n"
     ]
    },
    {
     "name": "stderr",
     "output_type": "stream",
     "text": [
      "Downloading SoccerNet\\france_ligue-1\\2016-2017\\2017-02-10 - 22-45 Bordeaux 0 - 3 Paris SG\\Labels-v2.json...: : 41.0kiB [00:00, 147kiB/s]                          \n"
     ]
    },
    {
     "name": "stdout",
     "output_type": "stream",
     "text": [
      "password required for SoccerNet\\france_ligue-1\\2016-2017\\2017-02-19 - 23-00 Paris SG 0 - 0 Toulouse\\1_720p.mkv\n"
     ]
    },
    {
     "name": "stderr",
     "output_type": "stream",
     "text": [
      "Downloading SoccerNet\\france_ligue-1\\2016-2017\\2017-02-19 - 23-00 Paris SG 0 - 0 Toulouse\\Labels-v2.json...: : 49.2kiB [00:00, 97.9kiB/s]                         \n"
     ]
    },
    {
     "name": "stdout",
     "output_type": "stream",
     "text": [
      "password required for SoccerNet\\france_ligue-1\\2016-2017\\2017-02-26 - 23-00 Marseille 1 - 5 Paris SG\\1_720p.mkv\n"
     ]
    },
    {
     "name": "stderr",
     "output_type": "stream",
     "text": [
      "Downloading SoccerNet\\france_ligue-1\\2016-2017\\2017-02-26 - 23-00 Marseille 1 - 5 Paris SG\\Labels-v2.json...: : 49.2kiB [00:00, 117kiB/s]                          \n"
     ]
    },
    {
     "name": "stdout",
     "output_type": "stream",
     "text": [
      "password required for SoccerNet\\france_ligue-1\\2016-2017\\2017-03-12 - 23-00 Lorient 1 - 2 Paris SG\\1_720p.mkv\n"
     ]
    },
    {
     "name": "stderr",
     "output_type": "stream",
     "text": [
      "Downloading SoccerNet\\france_ligue-1\\2016-2017\\2017-03-12 - 23-00 Lorient 1 - 2 Paris SG\\Labels-v2.json...: : 49.2kiB [00:00, 110kiB/s]                          \n"
     ]
    },
    {
     "name": "stdout",
     "output_type": "stream",
     "text": [
      "password required for SoccerNet\\france_ligue-1\\2016-2017\\2017-03-19 - 23-00 Paris SG 2 - 1 Lyon\\1_720p.mkv\n"
     ]
    },
    {
     "name": "stderr",
     "output_type": "stream",
     "text": [
      "Downloading SoccerNet\\france_ligue-1\\2016-2017\\2017-03-19 - 23-00 Paris SG 2 - 1 Lyon\\Labels-v2.json...: : 49.2kiB [00:00, 102kiB/s]                          \n"
     ]
    },
    {
     "name": "stdout",
     "output_type": "stream",
     "text": [
      "password required for SoccerNet\\france_ligue-1\\2016-2017\\2017-04-14 - 21-45 Angers 0 - 2 Paris SG\\1_720p.mkv\n"
     ]
    },
    {
     "name": "stderr",
     "output_type": "stream",
     "text": [
      "Downloading SoccerNet\\france_ligue-1\\2016-2017\\2017-04-14 - 21-45 Angers 0 - 2 Paris SG\\Labels-v2.json...: : 57.3kiB [00:00, 117kiB/s]                          \n"
     ]
    },
    {
     "name": "stdout",
     "output_type": "stream",
     "text": [
      "password required for SoccerNet\\france_ligue-1\\2016-2017\\2017-04-18 - 19-30 Metz 2 - 3 Paris SG\\1_720p.mkv\n"
     ]
    },
    {
     "name": "stderr",
     "output_type": "stream",
     "text": [
      "Downloading SoccerNet\\france_ligue-1\\2016-2017\\2017-04-18 - 19-30 Metz 2 - 3 Paris SG\\Labels-v2.json...: : 49.2kiB [00:00, 115kiB/s]                          \n"
     ]
    },
    {
     "name": "stdout",
     "output_type": "stream",
     "text": [
      "password required for SoccerNet\\france_ligue-1\\2016-2017\\2017-04-22 - 18-00 Paris SG 2 - 0 Montpellier\\1_720p.mkv\n"
     ]
    },
    {
     "name": "stderr",
     "output_type": "stream",
     "text": [
      "Downloading SoccerNet\\france_ligue-1\\2016-2017\\2017-04-22 - 18-00 Paris SG 2 - 0 Montpellier\\Labels-v2.json...: : 49.2kiB [00:00, 102kiB/s]                          \n"
     ]
    },
    {
     "name": "stdout",
     "output_type": "stream",
     "text": [
      "password required for SoccerNet\\france_ligue-1\\2016-2017\\2017-04-30 - 22-00 Nice 3 - 1 Paris SG\\1_720p.mkv\n"
     ]
    },
    {
     "name": "stderr",
     "output_type": "stream",
     "text": [
      "Downloading SoccerNet\\france_ligue-1\\2016-2017\\2017-04-30 - 22-00 Nice 3 - 1 Paris SG\\Labels-v2.json...: : 57.3kiB [00:00, 110kiB/s]                          \n"
     ]
    },
    {
     "name": "stdout",
     "output_type": "stream",
     "text": [
      "password required for SoccerNet\\france_ligue-1\\2016-2017\\2017-05-06 - 18-00 Paris SG 5 - 0 Bastia\\1_720p.mkv\n"
     ]
    },
    {
     "name": "stderr",
     "output_type": "stream",
     "text": [
      "Downloading SoccerNet\\france_ligue-1\\2016-2017\\2017-05-06 - 18-00 Paris SG 5 - 0 Bastia\\Labels-v2.json...: : 49.2kiB [00:00, 101kiB/s]                          \n"
     ]
    },
    {
     "name": "stdout",
     "output_type": "stream",
     "text": [
      "password required for SoccerNet\\france_ligue-1\\2016-2017\\2017-05-20 - 22-00 Paris SG 1 - 1 Caen\\1_720p.mkv\n"
     ]
    },
    {
     "name": "stderr",
     "output_type": "stream",
     "text": [
      "Downloading SoccerNet\\france_ligue-1\\2016-2017\\2017-05-20 - 22-00 Paris SG 1 - 1 Caen\\Labels-v2.json...: : 41.0kiB [00:00, 124kiB/s]                          \n"
     ]
    },
    {
     "name": "stdout",
     "output_type": "stream",
     "text": [
      "password required for SoccerNet\\germany_bundesliga\\2014-2015\\2015-02-21 - 17-30 Paderborn 0 - 6 Bayern Munich\\1_720p.mkv\n"
     ]
    },
    {
     "name": "stderr",
     "output_type": "stream",
     "text": [
      "Downloading SoccerNet\\germany_bundesliga\\2014-2015\\2015-02-21 - 17-30 Paderborn 0 - 6 Bayern Munich\\Labels-v2.json...: : 57.3kiB [00:00, 114kiB/s]                          \n"
     ]
    },
    {
     "name": "stdout",
     "output_type": "stream",
     "text": [
      "password required for SoccerNet\\germany_bundesliga\\2014-2015\\2015-04-11 - 16-30 Bayern Munich 3 - 0 Eintracht Frankfurt\\1_720p.mkv\n"
     ]
    },
    {
     "name": "stderr",
     "output_type": "stream",
     "text": [
      "Downloading SoccerNet\\germany_bundesliga\\2014-2015\\2015-04-11 - 16-30 Bayern Munich 3 - 0 Eintracht Frankfurt\\Labels-v2.json...: : 49.2kiB [00:00, 144kiB/s]                          \n"
     ]
    },
    {
     "name": "stdout",
     "output_type": "stream",
     "text": [
      "password required for SoccerNet\\germany_bundesliga\\2014-2015\\2015-04-25 - 16-30 Dortmund 2 - 0 Eintracht Frankfurt\\1_720p.mkv\n"
     ]
    },
    {
     "name": "stderr",
     "output_type": "stream",
     "text": [
      "Downloading SoccerNet\\germany_bundesliga\\2014-2015\\2015-04-25 - 16-30 Dortmund 2 - 0 Eintracht Frankfurt\\Labels-v2.json...: : 65.5kiB [00:00, 113kiB/s]                          \n"
     ]
    },
    {
     "name": "stdout",
     "output_type": "stream",
     "text": [
      "password required for SoccerNet\\germany_bundesliga\\2014-2015\\2015-05-09 - 16-30 Dortmund 2 - 0 Hertha Berlin\\1_720p.mkv\n"
     ]
    },
    {
     "name": "stderr",
     "output_type": "stream",
     "text": [
      "Downloading SoccerNet\\germany_bundesliga\\2014-2015\\2015-05-09 - 16-30 Dortmund 2 - 0 Hertha Berlin\\Labels-v2.json...: : 57.3kiB [00:00, 108kiB/s]                          \n"
     ]
    },
    {
     "name": "stdout",
     "output_type": "stream",
     "text": [
      "password required for SoccerNet\\germany_bundesliga\\2014-2015\\2015-05-16 - 16-30 Wolfsburg 2 - 1 Dortmund\\1_720p.mkv\n"
     ]
    },
    {
     "name": "stderr",
     "output_type": "stream",
     "text": [
      "Downloading SoccerNet\\germany_bundesliga\\2014-2015\\2015-05-16 - 16-30 Wolfsburg 2 - 1 Dortmund\\Labels-v2.json...: : 65.5kiB [00:00, 114kiB/s]                          \n"
     ]
    },
    {
     "name": "stdout",
     "output_type": "stream",
     "text": [
      "password required for SoccerNet\\germany_bundesliga\\2015-2016\\2015-08-22 - 16-30 Hoffenheim 1 - 2 Bayern Munich\\1_720p.mkv\n"
     ]
    },
    {
     "name": "stderr",
     "output_type": "stream",
     "text": [
      "Downloading SoccerNet\\germany_bundesliga\\2015-2016\\2015-08-22 - 16-30 Hoffenheim 1 - 2 Bayern Munich\\Labels-v2.json...: : 57.3kiB [00:00, 136kiB/s]                          \n"
     ]
    },
    {
     "name": "stdout",
     "output_type": "stream",
     "text": [
      "password required for SoccerNet\\germany_bundesliga\\2015-2016\\2015-08-30 - 16-30 Dortmund 3 - 1 Hertha Berlin\\1_720p.mkv\n"
     ]
    },
    {
     "name": "stderr",
     "output_type": "stream",
     "text": [
      "Downloading SoccerNet\\germany_bundesliga\\2015-2016\\2015-08-30 - 16-30 Dortmund 3 - 1 Hertha Berlin\\Labels-v2.json...: : 57.3kiB [00:00, 135kiB/s]                          \n"
     ]
    },
    {
     "name": "stdout",
     "output_type": "stream",
     "text": [
      "password required for SoccerNet\\germany_bundesliga\\2015-2016\\2015-09-19 - 16-30 Darmstadt 0 - 3 Bayern Munich\\1_720p.mkv\n"
     ]
    },
    {
     "name": "stderr",
     "output_type": "stream",
     "text": [
      "Downloading SoccerNet\\germany_bundesliga\\2015-2016\\2015-09-19 - 16-30 Darmstadt 0 - 3 Bayern Munich\\Labels-v2.json...: : 57.3kiB [00:00, 145kiB/s]                          \n"
     ]
    },
    {
     "name": "stdout",
     "output_type": "stream",
     "text": [
      "password required for SoccerNet\\germany_bundesliga\\2015-2016\\2015-09-22 - 21-00 Bayern Munich 5 - 1 Wolfsburg\\1_720p.mkv\n"
     ]
    },
    {
     "name": "stderr",
     "output_type": "stream",
     "text": [
      "Downloading SoccerNet\\germany_bundesliga\\2015-2016\\2015-09-22 - 21-00 Bayern Munich 5 - 1 Wolfsburg\\Labels-v2.json...: : 49.2kiB [00:00, 121kiB/s]                          \n"
     ]
    },
    {
     "name": "stdout",
     "output_type": "stream",
     "text": [
      "password required for SoccerNet\\germany_bundesliga\\2015-2016\\2015-09-26 - 16-30 1. FSV Mainz 05 0 - 3 Bayern Munich\\1_720p.mkv\n"
     ]
    },
    {
     "name": "stderr",
     "output_type": "stream",
     "text": [
      "Downloading SoccerNet\\germany_bundesliga\\2015-2016\\2015-09-26 - 16-30 1. FSV Mainz 05 0 - 3 Bayern Munich\\Labels-v2.json...: : 57.3kiB [00:00, 146kiB/s]                          \n"
     ]
    },
    {
     "name": "stdout",
     "output_type": "stream",
     "text": [
      "password required for SoccerNet\\germany_bundesliga\\2015-2016\\2015-12-12 - 17-30 Bayern Munich 2 - 0 Ingolstadt\\1_720p.mkv\n"
     ]
    },
    {
     "name": "stderr",
     "output_type": "stream",
     "text": [
      "Downloading SoccerNet\\germany_bundesliga\\2015-2016\\2015-12-12 - 17-30 Bayern Munich 2 - 0 Ingolstadt\\Labels-v2.json...: : 57.3kiB [00:00, 138kiB/s]                          \n"
     ]
    },
    {
     "name": "stdout",
     "output_type": "stream",
     "text": [
      "password required for SoccerNet\\germany_bundesliga\\2015-2016\\2016-01-31 - 19-30 Bayern Munich 2 - 0 Hoffenheim\\1_720p.mkv\n"
     ]
    },
    {
     "name": "stderr",
     "output_type": "stream",
     "text": [
      "Downloading SoccerNet\\germany_bundesliga\\2015-2016\\2016-01-31 - 19-30 Bayern Munich 2 - 0 Hoffenheim\\Labels-v2.json...: : 57.3kiB [00:00, 150kiB/s]                          \n"
     ]
    },
    {
     "name": "stdout",
     "output_type": "stream",
     "text": [
      "password required for SoccerNet\\germany_bundesliga\\2015-2016\\2016-04-02 - 16-30 Bayern Munich 1 - 0 Eintracht Frankfurt\\1_720p.mkv\n"
     ]
    },
    {
     "name": "stderr",
     "output_type": "stream",
     "text": [
      "Downloading SoccerNet\\germany_bundesliga\\2015-2016\\2016-04-02 - 16-30 Bayern Munich 1 - 0 Eintracht Frankfurt\\Labels-v2.json...: : 57.3kiB [00:00, 139kiB/s]                          \n"
     ]
    },
    {
     "name": "stdout",
     "output_type": "stream",
     "text": [
      "password required for SoccerNet\\germany_bundesliga\\2015-2016\\2016-04-09 - 16-30 VfB Stuttgart 1 - 3 Bayern Munich\\1_720p.mkv\n"
     ]
    },
    {
     "name": "stderr",
     "output_type": "stream",
     "text": [
      "Downloading SoccerNet\\germany_bundesliga\\2015-2016\\2016-04-09 - 16-30 VfB Stuttgart 1 - 3 Bayern Munich\\Labels-v2.json...: : 49.2kiB [00:00, 119kiB/s]                          \n"
     ]
    },
    {
     "name": "stdout",
     "output_type": "stream",
     "text": [
      "password required for SoccerNet\\germany_bundesliga\\2015-2016\\2016-04-16 - 19-30 Bayern Munich 3 - 0 Schalke\\1_720p.mkv\n"
     ]
    },
    {
     "name": "stderr",
     "output_type": "stream",
     "text": [
      "Downloading SoccerNet\\germany_bundesliga\\2015-2016\\2016-04-16 - 19-30 Bayern Munich 3 - 0 Schalke\\Labels-v2.json...: : 49.2kiB [00:00, 175kiB/s]                          \n"
     ]
    },
    {
     "name": "stdout",
     "output_type": "stream",
     "text": [
      "password required for SoccerNet\\germany_bundesliga\\2016-2017\\2016-09-17 - 16-30 Dortmund 6 - 0 Darmstadt\\1_720p.mkv\n"
     ]
    },
    {
     "name": "stderr",
     "output_type": "stream",
     "text": [
      "Downloading SoccerNet\\germany_bundesliga\\2016-2017\\2016-09-17 - 16-30 Dortmund 6 - 0 Darmstadt\\Labels-v2.json...: : 57.3kiB [00:00, 103kiB/s]                          \n"
     ]
    },
    {
     "name": "stdout",
     "output_type": "stream",
     "text": [
      "password required for SoccerNet\\germany_bundesliga\\2016-2017\\2016-09-20 - 21-00 Wolfsburg 1 - 5 Dortmund\\1_720p.mkv\n"
     ]
    },
    {
     "name": "stderr",
     "output_type": "stream",
     "text": [
      "Downloading SoccerNet\\germany_bundesliga\\2016-2017\\2016-09-20 - 21-00 Wolfsburg 1 - 5 Dortmund\\Labels-v2.json...: : 57.3kiB [00:00, 136kiB/s]                          \n"
     ]
    },
    {
     "name": "stdout",
     "output_type": "stream",
     "text": [
      "password required for SoccerNet\\germany_bundesliga\\2016-2017\\2016-09-23 - 21-30 Dortmund 3 - 1 SC Freiburg\\1_720p.mkv\n"
     ]
    },
    {
     "name": "stderr",
     "output_type": "stream",
     "text": [
      "Downloading SoccerNet\\germany_bundesliga\\2016-2017\\2016-09-23 - 21-30 Dortmund 3 - 1 SC Freiburg\\Labels-v2.json...: : 65.5kiB [00:00, 107kiB/s]                          \n"
     ]
    },
    {
     "name": "stdout",
     "output_type": "stream",
     "text": [
      "password required for SoccerNet\\germany_bundesliga\\2016-2017\\2016-10-14 - 21-30 Dortmund 1 - 1 Hertha Berlin\\1_720p.mkv\n"
     ]
    },
    {
     "name": "stderr",
     "output_type": "stream",
     "text": [
      "Downloading SoccerNet\\germany_bundesliga\\2016-2017\\2016-10-14 - 21-30 Dortmund 1 - 1 Hertha Berlin\\Labels-v2.json...: : 57.3kiB [00:00, 104kiB/s]                          \n"
     ]
    },
    {
     "name": "stdout",
     "output_type": "stream",
     "text": [
      "password required for SoccerNet\\germany_bundesliga\\2016-2017\\2016-10-22 - 16-30 Ingolstadt 3 - 3 Dortmund\\1_720p.mkv\n"
     ]
    },
    {
     "name": "stderr",
     "output_type": "stream",
     "text": [
      "Downloading SoccerNet\\germany_bundesliga\\2016-2017\\2016-10-22 - 16-30 Ingolstadt 3 - 3 Dortmund\\Labels-v2.json...: : 65.5kiB [00:00, 118kiB/s]                          \n"
     ]
    },
    {
     "name": "stdout",
     "output_type": "stream",
     "text": [
      "password required for SoccerNet\\germany_bundesliga\\2016-2017\\2016-10-29 - 19-30 Dortmund 0 - 0 Schalke\\1_720p.mkv\n"
     ]
    },
    {
     "name": "stderr",
     "output_type": "stream",
     "text": [
      "Downloading SoccerNet\\germany_bundesliga\\2016-2017\\2016-10-29 - 19-30 Dortmund 0 - 0 Schalke\\Labels-v2.json...: : 57.3kiB [00:00, 139kiB/s]                          \n"
     ]
    },
    {
     "name": "stdout",
     "output_type": "stream",
     "text": [
      "password required for SoccerNet\\germany_bundesliga\\2016-2017\\2016-11-26 - 17-30 Eintracht Frankfurt 2 - 1 Dortmund\\1_720p.mkv\n"
     ]
    },
    {
     "name": "stderr",
     "output_type": "stream",
     "text": [
      "Downloading SoccerNet\\germany_bundesliga\\2016-2017\\2016-11-26 - 17-30 Eintracht Frankfurt 2 - 1 Dortmund\\Labels-v2.json...: : 65.5kiB [00:00, 122kiB/s]                          \n"
     ]
    },
    {
     "name": "stdout",
     "output_type": "stream",
     "text": [
      "password required for SoccerNet\\germany_bundesliga\\2016-2017\\2016-12-10 - 17-30 FC Koln 1 - 1 Dortmund\\1_720p.mkv\n"
     ]
    },
    {
     "name": "stderr",
     "output_type": "stream",
     "text": [
      "Downloading SoccerNet\\germany_bundesliga\\2016-2017\\2016-12-10 - 17-30 FC Koln 1 - 1 Dortmund\\Labels-v2.json...: : 65.5kiB [00:00, 108kiB/s]                          \n"
     ]
    },
    {
     "name": "stdout",
     "output_type": "stream",
     "text": [
      "password required for SoccerNet\\germany_bundesliga\\2016-2017\\2016-12-20 - 22-00 Dortmund 1 - 1 FC Augsburg\\1_720p.mkv\n"
     ]
    },
    {
     "name": "stderr",
     "output_type": "stream",
     "text": [
      "Downloading SoccerNet\\germany_bundesliga\\2016-2017\\2016-12-20 - 22-00 Dortmund 1 - 1 FC Augsburg\\Labels-v2.json...: : 57.3kiB [00:00, 131kiB/s]                          \n"
     ]
    },
    {
     "name": "stdout",
     "output_type": "stream",
     "text": [
      "password required for SoccerNet\\germany_bundesliga\\2016-2017\\2017-02-04 - 20-30 Dortmund 1 - 0 RB Leipzig\\1_720p.mkv\n"
     ]
    },
    {
     "name": "stderr",
     "output_type": "stream",
     "text": [
      "Downloading SoccerNet\\germany_bundesliga\\2016-2017\\2017-02-04 - 20-30 Dortmund 1 - 0 RB Leipzig\\Labels-v2.json...: : 65.5kiB [00:00, 118kiB/s]                          \n"
     ]
    },
    {
     "name": "stdout",
     "output_type": "stream",
     "text": [
      "password required for SoccerNet\\germany_bundesliga\\2016-2017\\2017-02-11 - 17-30 Darmstadt 2 - 1 Dortmund\\1_720p.mkv\n"
     ]
    },
    {
     "name": "stderr",
     "output_type": "stream",
     "text": [
      "Downloading SoccerNet\\germany_bundesliga\\2016-2017\\2017-02-11 - 17-30 Darmstadt 2 - 1 Dortmund\\Labels-v2.json...: : 57.3kiB [00:00, 129kiB/s]                          \n"
     ]
    },
    {
     "name": "stdout",
     "output_type": "stream",
     "text": [
      "password required for SoccerNet\\germany_bundesliga\\2016-2017\\2017-02-18 - 17-30 Dortmund 3 - 0 Wolfsburg\\1_720p.mkv\n"
     ]
    },
    {
     "name": "stderr",
     "output_type": "stream",
     "text": [
      "Downloading SoccerNet\\germany_bundesliga\\2016-2017\\2017-02-18 - 17-30 Dortmund 3 - 0 Wolfsburg\\Labels-v2.json...: : 57.3kiB [00:00, 137kiB/s]                          \n"
     ]
    },
    {
     "name": "stdout",
     "output_type": "stream",
     "text": [
      "password required for SoccerNet\\germany_bundesliga\\2016-2017\\2017-03-17 - 22-30 Dortmund 1 - 0 Ingolstadt\\1_720p.mkv\n"
     ]
    },
    {
     "name": "stderr",
     "output_type": "stream",
     "text": [
      "Downloading SoccerNet\\germany_bundesliga\\2016-2017\\2017-03-17 - 22-30 Dortmund 1 - 0 Ingolstadt\\Labels-v2.json...: : 65.5kiB [00:00, 119kiB/s]                          \n"
     ]
    },
    {
     "name": "stdout",
     "output_type": "stream",
     "text": [
      "password required for SoccerNet\\germany_bundesliga\\2016-2017\\2017-04-01 - 16-30 Schalke 1 - 1 Dortmund\\1_720p.mkv\n"
     ]
    },
    {
     "name": "stderr",
     "output_type": "stream",
     "text": [
      "Downloading SoccerNet\\germany_bundesliga\\2016-2017\\2017-04-01 - 16-30 Schalke 1 - 1 Dortmund\\Labels-v2.json...: : 65.5kiB [00:00, 118kiB/s]                          \n"
     ]
    },
    {
     "name": "stdout",
     "output_type": "stream",
     "text": [
      "password required for SoccerNet\\germany_bundesliga\\2016-2017\\2017-04-15 - 16-30 Dortmund 3 - 1 Eintracht Frankfurt\\1_720p.mkv\n"
     ]
    },
    {
     "name": "stderr",
     "output_type": "stream",
     "text": [
      "Downloading SoccerNet\\germany_bundesliga\\2016-2017\\2017-04-15 - 16-30 Dortmund 3 - 1 Eintracht Frankfurt\\Labels-v2.json...: : 65.5kiB [00:00, 119kiB/s]                          \n"
     ]
    },
    {
     "name": "stdout",
     "output_type": "stream",
     "text": [
      "password required for SoccerNet\\germany_bundesliga\\2016-2017\\2017-05-13 - 16-30 FC Augsburg 1 - 1 Dortmund\\1_720p.mkv\n"
     ]
    },
    {
     "name": "stderr",
     "output_type": "stream",
     "text": [
      "Downloading SoccerNet\\germany_bundesliga\\2016-2017\\2017-05-13 - 16-30 FC Augsburg 1 - 1 Dortmund\\Labels-v2.json...: : 49.2kiB [00:00, 116kiB/s]                          \n"
     ]
    },
    {
     "name": "stdout",
     "output_type": "stream",
     "text": [
      "password required for SoccerNet\\italy_serie-a\\2014-2015\\2015-02-15 - 14-30 AC Milan 1 - 1 Empoli\\1_720p.mkv\n"
     ]
    },
    {
     "name": "stderr",
     "output_type": "stream",
     "text": [
      "Downloading SoccerNet\\italy_serie-a\\2014-2015\\2015-02-15 - 14-30 AC Milan 1 - 1 Empoli\\Labels-v2.json...: : 65.5kiB [00:00, 118kiB/s]                          \n"
     ]
    },
    {
     "name": "stdout",
     "output_type": "stream",
     "text": [
      "password required for SoccerNet\\italy_serie-a\\2014-2015\\2015-04-11 - 21-45 Verona 0 - 3 Inter\\1_720p.mkv\n"
     ]
    },
    {
     "name": "stderr",
     "output_type": "stream",
     "text": [
      "Downloading SoccerNet\\italy_serie-a\\2014-2015\\2015-04-11 - 21-45 Verona 0 - 3 Inter\\Labels-v2.json...: : 49.2kiB [00:00, 143kiB/s]                          \n"
     ]
    },
    {
     "name": "stdout",
     "output_type": "stream",
     "text": [
      "password required for SoccerNet\\italy_serie-a\\2014-2015\\2015-04-19 - 21-45 Inter 0 - 0 AC Milan\\1_720p.mkv\n"
     ]
    },
    {
     "name": "stderr",
     "output_type": "stream",
     "text": [
      "Downloading SoccerNet\\italy_serie-a\\2014-2015\\2015-04-19 - 21-45 Inter 0 - 0 AC Milan\\Labels-v2.json...: : 49.2kiB [00:00, 85.6kiB/s]                         \n"
     ]
    },
    {
     "name": "stdout",
     "output_type": "stream",
     "text": [
      "password required for SoccerNet\\italy_serie-a\\2014-2015\\2015-04-25 - 21-45 Inter 2 - 1 AS Roma\\1_720p.mkv\n"
     ]
    },
    {
     "name": "stderr",
     "output_type": "stream",
     "text": [
      "Downloading SoccerNet\\italy_serie-a\\2014-2015\\2015-04-25 - 21-45 Inter 2 - 1 AS Roma\\Labels-v2.json...: : 65.5kiB [00:00, 120kiB/s]                          \n"
     ]
    },
    {
     "name": "stdout",
     "output_type": "stream",
     "text": [
      "password required for SoccerNet\\italy_serie-a\\2014-2015\\2015-04-26 - 16-00 Torino 2 - 1 Juventus\\1_720p.mkv\n"
     ]
    },
    {
     "name": "stderr",
     "output_type": "stream",
     "text": [
      "Downloading SoccerNet\\italy_serie-a\\2014-2015\\2015-04-26 - 16-00 Torino 2 - 1 Juventus\\Labels-v2.json...: : 57.3kiB [00:00, 110kiB/s]                          \n"
     ]
    },
    {
     "name": "stdout",
     "output_type": "stream",
     "text": [
      "password required for SoccerNet\\italy_serie-a\\2014-2015\\2015-05-03 - 21-45 Napoli 3 - 0 AC Milan\\1_720p.mkv\n"
     ]
    },
    {
     "name": "stderr",
     "output_type": "stream",
     "text": [
      "Downloading SoccerNet\\italy_serie-a\\2014-2015\\2015-05-03 - 21-45 Napoli 3 - 0 AC Milan\\Labels-v2.json...: : 57.3kiB [00:00, 116kiB/s]                          \n"
     ]
    },
    {
     "name": "stdout",
     "output_type": "stream",
     "text": [
      "password required for SoccerNet\\italy_serie-a\\2014-2015\\2015-05-16 - 19-00 Inter 1 - 2 Juventus\\1_720p.mkv\n"
     ]
    },
    {
     "name": "stderr",
     "output_type": "stream",
     "text": [
      "Downloading SoccerNet\\italy_serie-a\\2014-2015\\2015-05-16 - 19-00 Inter 1 - 2 Juventus\\Labels-v2.json...: : 57.3kiB [00:00, 164kiB/s]                          \n"
     ]
    },
    {
     "name": "stdout",
     "output_type": "stream",
     "text": [
      "password required for SoccerNet\\italy_serie-a\\2015-2016\\2015-09-20 - 13-30 Chievo 0 - 1 Inter\\1_720p.mkv\n"
     ]
    },
    {
     "name": "stderr",
     "output_type": "stream",
     "text": [
      "Downloading SoccerNet\\italy_serie-a\\2015-2016\\2015-09-20 - 13-30 Chievo 0 - 1 Inter\\Labels-v2.json...: : 65.5kiB [00:00, 113kiB/s]                          \n"
     ]
    },
    {
     "name": "stdout",
     "output_type": "stream",
     "text": [
      "password required for SoccerNet\\italy_serie-a\\2015-2016\\2015-09-22 - 21-45 Udinese 2 - 3 AC Milan\\1_720p.mkv\n"
     ]
    },
    {
     "name": "stderr",
     "output_type": "stream",
     "text": [
      "Downloading SoccerNet\\italy_serie-a\\2015-2016\\2015-09-22 - 21-45 Udinese 2 - 3 AC Milan\\Labels-v2.json...: : 65.5kiB [00:00, 112kiB/s]                          \n"
     ]
    },
    {
     "name": "stdout",
     "output_type": "stream",
     "text": [
      "password required for SoccerNet\\italy_serie-a\\2015-2016\\2015-11-01 - 22-45 Lazio 1 - 3 AC Milan\\1_720p.mkv\n"
     ]
    },
    {
     "name": "stderr",
     "output_type": "stream",
     "text": [
      "Downloading SoccerNet\\italy_serie-a\\2015-2016\\2015-11-01 - 22-45 Lazio 1 - 3 AC Milan\\Labels-v2.json...: : 65.5kiB [00:00, 118kiB/s]                          \n"
     ]
    },
    {
     "name": "stdout",
     "output_type": "stream",
     "text": [
      "password required for SoccerNet\\italy_serie-a\\2015-2016\\2015-11-07 - 22-45 AC Milan 0 - 0 Atalanta\\1_720p.mkv\n"
     ]
    },
    {
     "name": "stderr",
     "output_type": "stream",
     "text": [
      "Downloading SoccerNet\\italy_serie-a\\2015-2016\\2015-11-07 - 22-45 AC Milan 0 - 0 Atalanta\\Labels-v2.json...: : 65.5kiB [00:00, 118kiB/s]                          \n"
     ]
    },
    {
     "name": "stdout",
     "output_type": "stream",
     "text": [
      "password required for SoccerNet\\italy_serie-a\\2015-2016\\2015-11-22 - 22-45 Inter 4 - 0 Frosinone\\1_720p.mkv\n"
     ]
    },
    {
     "name": "stderr",
     "output_type": "stream",
     "text": [
      "Downloading SoccerNet\\italy_serie-a\\2015-2016\\2015-11-22 - 22-45 Inter 4 - 0 Frosinone\\Labels-v2.json...: : 65.5kiB [00:00, 113kiB/s]                          \n"
     ]
    },
    {
     "name": "stdout",
     "output_type": "stream",
     "text": [
      "password required for SoccerNet\\italy_serie-a\\2016-2017\\2016-08-21 - 21-45 Pescara 2 - 2 Napoli\\1_720p.mkv\n"
     ]
    },
    {
     "name": "stderr",
     "output_type": "stream",
     "text": [
      "Downloading SoccerNet\\italy_serie-a\\2016-2017\\2016-08-21 - 21-45 Pescara 2 - 2 Napoli\\Labels-v2.json...: : 49.2kiB [00:00, 92.4kiB/s]                         \n"
     ]
    },
    {
     "name": "stdout",
     "output_type": "stream",
     "text": [
      "password required for SoccerNet\\italy_serie-a\\2016-2017\\2016-08-28 - 21-45 Cagliari 2 - 2 AS Roma\\1_720p.mkv\n"
     ]
    },
    {
     "name": "stderr",
     "output_type": "stream",
     "text": [
      "Downloading SoccerNet\\italy_serie-a\\2016-2017\\2016-08-28 - 21-45 Cagliari 2 - 2 AS Roma\\Labels-v2.json...: : 57.3kiB [00:00, 102kiB/s]                          \n"
     ]
    },
    {
     "name": "stdout",
     "output_type": "stream",
     "text": [
      "password required for SoccerNet\\italy_serie-a\\2016-2017\\2016-09-10 - 21-45 Palermo 0 - 3 Napoli\\1_720p.mkv\n"
     ]
    },
    {
     "name": "stderr",
     "output_type": "stream",
     "text": [
      "Downloading SoccerNet\\italy_serie-a\\2016-2017\\2016-09-10 - 21-45 Palermo 0 - 3 Napoli\\Labels-v2.json...: : 49.2kiB [00:00, 99.2kiB/s]                         \n"
     ]
    },
    {
     "name": "stdout",
     "output_type": "stream",
     "text": [
      "password required for SoccerNet\\italy_serie-a\\2016-2017\\2016-09-16 - 21-45 Sampdoria 0 - 1 AC Milan\\1_720p.mkv\n"
     ]
    },
    {
     "name": "stderr",
     "output_type": "stream",
     "text": [
      "Downloading SoccerNet\\italy_serie-a\\2016-2017\\2016-09-16 - 21-45 Sampdoria 0 - 1 AC Milan\\Labels-v2.json...: : 65.5kiB [00:00, 112kiB/s]                          \n"
     ]
    },
    {
     "name": "stdout",
     "output_type": "stream",
     "text": [
      "password required for SoccerNet\\italy_serie-a\\2016-2017\\2016-09-17 - 21-45 Napoli 3 - 1 Bologna\\1_720p.mkv\n"
     ]
    },
    {
     "name": "stderr",
     "output_type": "stream",
     "text": [
      "Downloading SoccerNet\\italy_serie-a\\2016-2017\\2016-09-17 - 21-45 Napoli 3 - 1 Bologna\\Labels-v2.json...: : 49.2kiB [00:00, 94.3kiB/s]                         \n"
     ]
    },
    {
     "name": "stdout",
     "output_type": "stream",
     "text": [
      "password required for SoccerNet\\italy_serie-a\\2016-2017\\2016-09-21 - 21-45 AS Roma 4 - 0 Crotone\\1_720p.mkv\n"
     ]
    },
    {
     "name": "stderr",
     "output_type": "stream",
     "text": [
      "Downloading SoccerNet\\italy_serie-a\\2016-2017\\2016-09-21 - 21-45 AS Roma 4 - 0 Crotone\\Labels-v2.json...: : 57.3kiB [00:00, 113kiB/s]                          \n"
     ]
    },
    {
     "name": "stdout",
     "output_type": "stream",
     "text": [
      "password required for SoccerNet\\italy_serie-a\\2016-2017\\2016-10-15 - 16-00 Napoli 1 - 3 AS Roma\\1_720p.mkv\n"
     ]
    },
    {
     "name": "stderr",
     "output_type": "stream",
     "text": [
      "Downloading SoccerNet\\italy_serie-a\\2016-2017\\2016-10-15 - 16-00 Napoli 1 - 3 AS Roma\\Labels-v2.json...: : 57.3kiB [00:00, 170kiB/s]                          \n"
     ]
    },
    {
     "name": "stdout",
     "output_type": "stream",
     "text": [
      "password required for SoccerNet\\italy_serie-a\\2016-2017\\2016-10-23 - 16-00 Crotone 1 - 2 Napoli\\1_720p.mkv\n"
     ]
    },
    {
     "name": "stderr",
     "output_type": "stream",
     "text": [
      "Downloading SoccerNet\\italy_serie-a\\2016-2017\\2016-10-23 - 16-00 Crotone 1 - 2 Napoli\\Labels-v2.json...: : 65.5kiB [00:00, 116kiB/s]                          \n"
     ]
    },
    {
     "name": "stdout",
     "output_type": "stream",
     "text": [
      "password required for SoccerNet\\italy_serie-a\\2016-2017\\2016-10-23 - 21-45 AS Roma 4 - 1 Palermo\\1_720p.mkv\n"
     ]
    },
    {
     "name": "stderr",
     "output_type": "stream",
     "text": [
      "Downloading SoccerNet\\italy_serie-a\\2016-2017\\2016-10-23 - 21-45 AS Roma 4 - 1 Palermo\\Labels-v2.json...: : 57.3kiB [00:00, 169kiB/s]                          \n"
     ]
    },
    {
     "name": "stdout",
     "output_type": "stream",
     "text": [
      "password required for SoccerNet\\italy_serie-a\\2016-2017\\2016-10-25 - 21-45 Genoa 3 - 0 AC Milan\\1_720p.mkv\n"
     ]
    },
    {
     "name": "stderr",
     "output_type": "stream",
     "text": [
      "Downloading SoccerNet\\italy_serie-a\\2016-2017\\2016-10-25 - 21-45 Genoa 3 - 0 AC Milan\\Labels-v2.json...: : 49.2kiB [00:00, 101kiB/s]                          \n"
     ]
    },
    {
     "name": "stdout",
     "output_type": "stream",
     "text": [
      "password required for SoccerNet\\italy_serie-a\\2016-2017\\2016-10-26 - 21-45 Napoli 2 - 0 Empoli\\1_720p.mkv\n"
     ]
    },
    {
     "name": "stderr",
     "output_type": "stream",
     "text": [
      "Downloading SoccerNet\\italy_serie-a\\2016-2017\\2016-10-26 - 21-45 Napoli 2 - 0 Empoli\\Labels-v2.json...: : 57.3kiB [00:00, 161kiB/s]                          \n"
     ]
    },
    {
     "name": "stdout",
     "output_type": "stream",
     "text": [
      "password required for SoccerNet\\italy_serie-a\\2016-2017\\2016-10-26 - 21-45 Sassuolo 1 - 3 AS Roma\\1_720p.mkv\n"
     ]
    },
    {
     "name": "stderr",
     "output_type": "stream",
     "text": [
      "Downloading SoccerNet\\italy_serie-a\\2016-2017\\2016-10-26 - 21-45 Sassuolo 1 - 3 AS Roma\\Labels-v2.json...: : 57.3kiB [00:00, 120kiB/s]                          \n"
     ]
    },
    {
     "name": "stdout",
     "output_type": "stream",
     "text": [
      "password required for SoccerNet\\italy_serie-a\\2016-2017\\2016-10-30 - 17-00 AC Milan 1 - 0 Pescara\\1_720p.mkv\n"
     ]
    },
    {
     "name": "stderr",
     "output_type": "stream",
     "text": [
      "Downloading SoccerNet\\italy_serie-a\\2016-2017\\2016-10-30 - 17-00 AC Milan 1 - 0 Pescara\\Labels-v2.json...: : 57.3kiB [00:00, 162kiB/s]                          \n"
     ]
    },
    {
     "name": "stdout",
     "output_type": "stream",
     "text": [
      "password required for SoccerNet\\italy_serie-a\\2016-2017\\2016-10-30 - 17-00 Empoli 0 - 0 AS Roma\\1_720p.mkv\n"
     ]
    },
    {
     "name": "stderr",
     "output_type": "stream",
     "text": [
      "Downloading SoccerNet\\italy_serie-a\\2016-2017\\2016-10-30 - 17-00 Empoli 0 - 0 AS Roma\\Labels-v2.json...: : 65.5kiB [00:00, 116kiB/s]                          \n"
     ]
    },
    {
     "name": "stdout",
     "output_type": "stream",
     "text": [
      "password required for SoccerNet\\italy_serie-a\\2016-2017\\2016-11-06 - 17-00 Palermo 1 - 2 AC Milan\\1_720p.mkv\n"
     ]
    },
    {
     "name": "stderr",
     "output_type": "stream",
     "text": [
      "Downloading SoccerNet\\italy_serie-a\\2016-2017\\2016-11-06 - 17-00 Palermo 1 - 2 AC Milan\\Labels-v2.json...: : 57.3kiB [00:00, 108kiB/s]                          \n"
     ]
    },
    {
     "name": "stdout",
     "output_type": "stream",
     "text": [
      "password required for SoccerNet\\italy_serie-a\\2016-2017\\2016-11-06 - 22-45 AS Roma 3 - 0 Bologna\\1_720p.mkv\n"
     ]
    },
    {
     "name": "stderr",
     "output_type": "stream",
     "text": [
      "Downloading SoccerNet\\italy_serie-a\\2016-2017\\2016-11-06 - 22-45 AS Roma 3 - 0 Bologna\\Labels-v2.json...: : 57.3kiB [00:00, 128kiB/s]                          \n"
     ]
    },
    {
     "name": "stdout",
     "output_type": "stream",
     "text": [
      "password required for SoccerNet\\italy_serie-a\\2016-2017\\2016-11-20 - 22-45 AC Milan 2 - 2 Inter\\1_720p.mkv\n"
     ]
    },
    {
     "name": "stderr",
     "output_type": "stream",
     "text": [
      "Downloading SoccerNet\\italy_serie-a\\2016-2017\\2016-11-20 - 22-45 AC Milan 2 - 2 Inter\\Labels-v2.json...: : 65.5kiB [00:00, 119kiB/s]                          \n"
     ]
    },
    {
     "name": "stdout",
     "output_type": "stream",
     "text": [
      "password required for SoccerNet\\italy_serie-a\\2016-2017\\2016-11-27 - 22-45 AS Roma 3 - 2 Pescara\\1_720p.mkv\n"
     ]
    },
    {
     "name": "stderr",
     "output_type": "stream",
     "text": [
      "Downloading SoccerNet\\italy_serie-a\\2016-2017\\2016-11-27 - 22-45 AS Roma 3 - 2 Pescara\\Labels-v2.json...: : 65.5kiB [00:00, 118kiB/s]                          \n"
     ]
    },
    {
     "name": "stdout",
     "output_type": "stream",
     "text": [
      "password required for SoccerNet\\italy_serie-a\\2016-2017\\2016-12-04 - 14-30 AC Milan 2 - 1 Crotone\\1_720p.mkv\n"
     ]
    },
    {
     "name": "stderr",
     "output_type": "stream",
     "text": [
      "Downloading SoccerNet\\italy_serie-a\\2016-2017\\2016-12-04 - 14-30 AC Milan 2 - 1 Crotone\\Labels-v2.json...: : 65.5kiB [00:00, 107kiB/s]                          \n"
     ]
    },
    {
     "name": "stdout",
     "output_type": "stream",
     "text": [
      "password required for SoccerNet\\italy_serie-a\\2016-2017\\2016-12-17 - 20-00 AC Milan 0 - 0 Atalanta\\1_720p.mkv\n"
     ]
    },
    {
     "name": "stderr",
     "output_type": "stream",
     "text": [
      "Downloading SoccerNet\\italy_serie-a\\2016-2017\\2016-12-17 - 20-00 AC Milan 0 - 0 Atalanta\\Labels-v2.json...: : 65.5kiB [00:00, 118kiB/s]                          \n"
     ]
    },
    {
     "name": "stdout",
     "output_type": "stream",
     "text": [
      "password required for SoccerNet\\italy_serie-a\\2016-2017\\2016-12-22 - 22-45 AS Roma 3 - 1 Chievo\\1_720p.mkv\n"
     ]
    },
    {
     "name": "stderr",
     "output_type": "stream",
     "text": [
      "Downloading SoccerNet\\italy_serie-a\\2016-2017\\2016-12-22 - 22-45 AS Roma 3 - 1 Chievo\\Labels-v2.json...: : 57.3kiB [00:00, 141kiB/s]                          \n"
     ]
    },
    {
     "name": "stdout",
     "output_type": "stream",
     "text": [
      "password required for SoccerNet\\italy_serie-a\\2016-2017\\2017-01-08 - 20-00 AC Milan 1 - 0 Cagliari\\1_720p.mkv\n"
     ]
    },
    {
     "name": "stderr",
     "output_type": "stream",
     "text": [
      "Downloading SoccerNet\\italy_serie-a\\2016-2017\\2017-01-08 - 20-00 AC Milan 1 - 0 Cagliari\\Labels-v2.json...: : 57.3kiB [00:00, 97.7kiB/s]                         \n"
     ]
    },
    {
     "name": "stdout",
     "output_type": "stream",
     "text": [
      "password required for SoccerNet\\italy_serie-a\\2016-2017\\2017-01-15 - 17-00 Napoli 3 - 1 Pescara\\1_720p.mkv\n"
     ]
    },
    {
     "name": "stderr",
     "output_type": "stream",
     "text": [
      "Downloading SoccerNet\\italy_serie-a\\2016-2017\\2017-01-15 - 17-00 Napoli 3 - 1 Pescara\\Labels-v2.json...: : 57.3kiB [00:00, 135kiB/s]                          \n"
     ]
    },
    {
     "name": "stdout",
     "output_type": "stream",
     "text": [
      "password required for SoccerNet\\italy_serie-a\\2016-2017\\2017-01-15 - 17-00 Udinese 0 - 1 AS Roma\\1_720p.mkv\n"
     ]
    },
    {
     "name": "stderr",
     "output_type": "stream",
     "text": [
      "Downloading SoccerNet\\italy_serie-a\\2016-2017\\2017-01-15 - 17-00 Udinese 0 - 1 AS Roma\\Labels-v2.json...: : 57.3kiB [00:00, 111kiB/s]                          \n"
     ]
    },
    {
     "name": "stdout",
     "output_type": "stream",
     "text": [
      "password required for SoccerNet\\italy_serie-a\\2016-2017\\2017-01-21 - 22-45 AC Milan 1 - 2 Napoli\\1_720p.mkv\n"
     ]
    },
    {
     "name": "stderr",
     "output_type": "stream",
     "text": [
      "Downloading SoccerNet\\italy_serie-a\\2016-2017\\2017-01-21 - 22-45 AC Milan 1 - 2 Napoli\\Labels-v2.json...: : 57.3kiB [00:00, 115kiB/s]                          \n"
     ]
    },
    {
     "name": "stdout",
     "output_type": "stream",
     "text": [
      "password required for SoccerNet\\italy_serie-a\\2016-2017\\2017-02-04 - 22-45 Bologna 1 - 7 Napoli\\1_720p.mkv\n"
     ]
    },
    {
     "name": "stderr",
     "output_type": "stream",
     "text": [
      "Downloading SoccerNet\\italy_serie-a\\2016-2017\\2017-02-04 - 22-45 Bologna 1 - 7 Napoli\\Labels-v2.json...: : 49.2kiB [00:00, 178kiB/s]                          \n"
     ]
    },
    {
     "name": "stdout",
     "output_type": "stream",
     "text": [
      "password required for SoccerNet\\italy_serie-a\\2016-2017\\2017-02-10 - 22-45 Napoli 2 - 0 Genoa\\1_720p.mkv\n"
     ]
    },
    {
     "name": "stderr",
     "output_type": "stream",
     "text": [
      "Downloading SoccerNet\\italy_serie-a\\2016-2017\\2017-02-10 - 22-45 Napoli 2 - 0 Genoa\\Labels-v2.json...: : 57.3kiB [00:00, 121kiB/s]                          \n"
     ]
    },
    {
     "name": "stdout",
     "output_type": "stream",
     "text": [
      "password required for SoccerNet\\italy_serie-a\\2016-2017\\2017-02-12 - 14-30 Crotone 0 - 2 AS Roma\\1_720p.mkv\n"
     ]
    },
    {
     "name": "stderr",
     "output_type": "stream",
     "text": [
      "Downloading SoccerNet\\italy_serie-a\\2016-2017\\2017-02-12 - 14-30 Crotone 0 - 2 AS Roma\\Labels-v2.json...: : 57.3kiB [00:00, 93.4kiB/s]                         \n"
     ]
    },
    {
     "name": "stdout",
     "output_type": "stream",
     "text": [
      "password required for SoccerNet\\italy_serie-a\\2016-2017\\2017-02-19 - 20-00 AS Roma 4 - 1 Torino\\1_720p.mkv\n"
     ]
    },
    {
     "name": "stderr",
     "output_type": "stream",
     "text": [
      "Downloading SoccerNet\\italy_serie-a\\2016-2017\\2017-02-19 - 20-00 AS Roma 4 - 1 Torino\\Labels-v2.json...: : 57.3kiB [00:00, 105kiB/s]                          \n"
     ]
    },
    {
     "name": "stdout",
     "output_type": "stream",
     "text": [
      "password required for SoccerNet\\italy_serie-a\\2016-2017\\2017-03-04 - 17-00 AS Roma 1 - 2 Napoli\\1_720p.mkv\n"
     ]
    },
    {
     "name": "stderr",
     "output_type": "stream",
     "text": [
      "Downloading SoccerNet\\italy_serie-a\\2016-2017\\2017-03-04 - 17-00 AS Roma 1 - 2 Napoli\\Labels-v2.json...: : 65.5kiB [00:00, 95.8kiB/s]                         \n"
     ]
    },
    {
     "name": "stdout",
     "output_type": "stream",
     "text": [
      "password required for SoccerNet\\italy_serie-a\\2016-2017\\2017-03-12 - 17-00 Napoli 3 - 0 Crotone\\1_720p.mkv\n"
     ]
    },
    {
     "name": "stderr",
     "output_type": "stream",
     "text": [
      "Downloading SoccerNet\\italy_serie-a\\2016-2017\\2017-03-12 - 17-00 Napoli 3 - 0 Crotone\\Labels-v2.json...: : 49.2kiB [00:00, 98.7kiB/s]                         \n"
     ]
    },
    {
     "name": "stdout",
     "output_type": "stream",
     "text": [
      "password required for SoccerNet\\italy_serie-a\\2016-2017\\2017-03-19 - 14-30 Empoli 2 - 3 Napoli\\1_720p.mkv\n"
     ]
    },
    {
     "name": "stderr",
     "output_type": "stream",
     "text": [
      "Downloading SoccerNet\\italy_serie-a\\2016-2017\\2017-03-19 - 14-30 Empoli 2 - 3 Napoli\\Labels-v2.json...: : 57.3kiB [00:00, 107kiB/s]                          \n"
     ]
    },
    {
     "name": "stdout",
     "output_type": "stream",
     "text": [
      "password required for SoccerNet\\italy_serie-a\\2016-2017\\2017-03-19 - 22-45 AS Roma 3 - 1 Sassuolo\\1_720p.mkv\n"
     ]
    },
    {
     "name": "stderr",
     "output_type": "stream",
     "text": [
      "Downloading SoccerNet\\italy_serie-a\\2016-2017\\2017-03-19 - 22-45 AS Roma 3 - 1 Sassuolo\\Labels-v2.json...: : 65.5kiB [00:00, 119kiB/s]                          \n"
     ]
    },
    {
     "name": "stdout",
     "output_type": "stream",
     "text": [
      "password required for SoccerNet\\italy_serie-a\\2016-2017\\2017-04-09 - 16-00 Bologna 0 - 3 AS Roma\\1_720p.mkv\n"
     ]
    },
    {
     "name": "stderr",
     "output_type": "stream",
     "text": [
      "Downloading SoccerNet\\italy_serie-a\\2016-2017\\2017-04-09 - 16-00 Bologna 0 - 3 AS Roma\\Labels-v2.json...: : 57.3kiB [00:00, 125kiB/s]                          \n"
     ]
    },
    {
     "name": "stdout",
     "output_type": "stream",
     "text": [
      "password required for SoccerNet\\italy_serie-a\\2016-2017\\2017-04-09 - 21-45 Lazio 0 - 3 Napoli\\1_720p.mkv\n"
     ]
    },
    {
     "name": "stderr",
     "output_type": "stream",
     "text": [
      "Downloading SoccerNet\\italy_serie-a\\2016-2017\\2017-04-09 - 21-45 Lazio 0 - 3 Napoli\\Labels-v2.json...: : 57.3kiB [00:00, 113kiB/s]                          \n"
     ]
    },
    {
     "name": "stdout",
     "output_type": "stream",
     "text": [
      "password required for SoccerNet\\italy_serie-a\\2016-2017\\2017-04-15 - 16-00 AS Roma 1 - 1 Atalanta\\1_720p.mkv\n"
     ]
    },
    {
     "name": "stderr",
     "output_type": "stream",
     "text": [
      "Downloading SoccerNet\\italy_serie-a\\2016-2017\\2017-04-15 - 16-00 AS Roma 1 - 1 Atalanta\\Labels-v2.json...: : 65.5kiB [00:00, 120kiB/s]                          \n"
     ]
    },
    {
     "name": "stdout",
     "output_type": "stream",
     "text": [
      "password required for SoccerNet\\italy_serie-a\\2016-2017\\2017-04-23 - 13-30 Sassuolo 2 - 2 Napoli\\1_720p.mkv\n"
     ]
    },
    {
     "name": "stderr",
     "output_type": "stream",
     "text": [
      "Downloading SoccerNet\\italy_serie-a\\2016-2017\\2017-04-23 - 13-30 Sassuolo 2 - 2 Napoli\\Labels-v2.json...: : 57.3kiB [00:00, 108kiB/s]                          \n"
     ]
    },
    {
     "name": "stdout",
     "output_type": "stream",
     "text": [
      "password required for SoccerNet\\italy_serie-a\\2016-2017\\2017-04-24 - 21-45 Pescara 1 - 4 AS Roma\\1_720p.mkv\n"
     ]
    },
    {
     "name": "stderr",
     "output_type": "stream",
     "text": [
      "Downloading SoccerNet\\italy_serie-a\\2016-2017\\2017-04-24 - 21-45 Pescara 1 - 4 AS Roma\\Labels-v2.json...: : 65.5kiB [00:00, 119kiB/s]                          \n"
     ]
    },
    {
     "name": "stdout",
     "output_type": "stream",
     "text": [
      "password required for SoccerNet\\italy_serie-a\\2016-2017\\2017-05-07 - 21-45 AC Milan 1 - 4 AS Roma\\1_720p.mkv\n"
     ]
    },
    {
     "name": "stderr",
     "output_type": "stream",
     "text": [
      "Downloading SoccerNet\\italy_serie-a\\2016-2017\\2017-05-07 - 21-45 AC Milan 1 - 4 AS Roma\\Labels-v2.json...: : 57.3kiB [00:00, 163kiB/s]                          \n"
     ]
    },
    {
     "name": "stdout",
     "output_type": "stream",
     "text": [
      "password required for SoccerNet\\italy_serie-a\\2016-2017\\2017-05-14 - 16-00 Torino 0 - 5 Napoli\\1_720p.mkv\n"
     ]
    },
    {
     "name": "stderr",
     "output_type": "stream",
     "text": [
      "Downloading SoccerNet\\italy_serie-a\\2016-2017\\2017-05-14 - 16-00 Torino 0 - 5 Napoli\\Labels-v2.json...: : 49.2kiB [00:00, 101kiB/s]                          \n"
     ]
    },
    {
     "name": "stdout",
     "output_type": "stream",
     "text": [
      "password required for SoccerNet\\italy_serie-a\\2016-2017\\2017-05-14 - 21-45 AS Roma 3 - 1 Juventus\\1_720p.mkv\n"
     ]
    },
    {
     "name": "stderr",
     "output_type": "stream",
     "text": [
      "Downloading SoccerNet\\italy_serie-a\\2016-2017\\2017-05-14 - 21-45 AS Roma 3 - 1 Juventus\\Labels-v2.json...: : 57.3kiB [00:00, 166kiB/s]                          \n"
     ]
    },
    {
     "name": "stdout",
     "output_type": "stream",
     "text": [
      "password required for SoccerNet\\italy_serie-a\\2016-2017\\2017-05-20 - 19-00 Chievo 3 - 5 AS Roma\\1_720p.mkv\n"
     ]
    },
    {
     "name": "stderr",
     "output_type": "stream",
     "text": [
      "Downloading SoccerNet\\italy_serie-a\\2016-2017\\2017-05-20 - 19-00 Chievo 3 - 5 AS Roma\\Labels-v2.json...: : 57.3kiB [00:00, 124kiB/s]                          \n"
     ]
    },
    {
     "name": "stdout",
     "output_type": "stream",
     "text": [
      "password required for SoccerNet\\italy_serie-a\\2016-2017\\2017-05-28 - 19-00 AS Roma 3 - 2 Genoa\\1_720p.mkv\n"
     ]
    },
    {
     "name": "stderr",
     "output_type": "stream",
     "text": [
      "Downloading SoccerNet\\italy_serie-a\\2016-2017\\2017-05-28 - 19-00 AS Roma 3 - 2 Genoa\\Labels-v2.json...: : 57.3kiB [00:00, 125kiB/s]                         \n"
     ]
    },
    {
     "name": "stdout",
     "output_type": "stream",
     "text": [
      "password required for SoccerNet\\italy_serie-a\\2016-2017\\2017-05-28 - 19-00 Sampdoria 2 - 4 Napoli\\1_720p.mkv\n"
     ]
    },
    {
     "name": "stderr",
     "output_type": "stream",
     "text": [
      "Downloading SoccerNet\\italy_serie-a\\2016-2017\\2017-05-28 - 19-00 Sampdoria 2 - 4 Napoli\\Labels-v2.json...: : 57.3kiB [00:00, 114kiB/s]                          \n"
     ]
    },
    {
     "name": "stdout",
     "output_type": "stream",
     "text": [
      "password required for SoccerNet\\spain_laliga\\2014-2015\\2015-02-21 - 18-00 Barcelona 0 - 1 Malaga\\1_720p.mkv\n"
     ]
    },
    {
     "name": "stderr",
     "output_type": "stream",
     "text": [
      "Downloading SoccerNet\\spain_laliga\\2014-2015\\2015-02-21 - 18-00 Barcelona 0 - 1 Malaga\\Labels-v2.json...: : 57.3kiB [00:00, 125kiB/s]                          \n"
     ]
    },
    {
     "name": "stdout",
     "output_type": "stream",
     "text": [
      "password required for SoccerNet\\spain_laliga\\2014-2015\\2015-02-22 - 23-00 Elche 0 - 2 Real Madrid\\1_720p.mkv\n"
     ]
    },
    {
     "name": "stderr",
     "output_type": "stream",
     "text": [
      "Downloading SoccerNet\\spain_laliga\\2014-2015\\2015-02-22 - 23-00 Elche 0 - 2 Real Madrid\\Labels-v2.json...: : 49.2kiB [00:00, 108kiB/s]                          \n"
     ]
    },
    {
     "name": "stdout",
     "output_type": "stream",
     "text": [
      "password required for SoccerNet\\spain_laliga\\2014-2015\\2015-05-09 - 21-00 Real Madrid 2 - 2 Valencia\\1_720p.mkv\n"
     ]
    },
    {
     "name": "stderr",
     "output_type": "stream",
     "text": [
      "Downloading SoccerNet\\spain_laliga\\2014-2015\\2015-05-09 - 21-00 Real Madrid 2 - 2 Valencia\\Labels-v2.json...: : 65.5kiB [00:00, 118kiB/s]                          \n"
     ]
    },
    {
     "name": "stdout",
     "output_type": "stream",
     "text": [
      "password required for SoccerNet\\spain_laliga\\2014-2015\\2015-05-17 - 20-00 Atl. Madrid 0 - 1 Barcelona\\1_720p.mkv\n"
     ]
    },
    {
     "name": "stderr",
     "output_type": "stream",
     "text": [
      "Downloading SoccerNet\\spain_laliga\\2014-2015\\2015-05-17 - 20-00 Atl. Madrid 0 - 1 Barcelona\\Labels-v2.json...: : 57.3kiB [00:00, 119kiB/s]                          \n"
     ]
    },
    {
     "name": "stdout",
     "output_type": "stream",
     "text": [
      "password required for SoccerNet\\spain_laliga\\2014-2015\\2015-05-17 - 20-00 Espanyol 1 - 4 Real Madrid\\1_720p.mkv\n"
     ]
    },
    {
     "name": "stderr",
     "output_type": "stream",
     "text": [
      "Downloading SoccerNet\\spain_laliga\\2014-2015\\2015-05-17 - 20-00 Espanyol 1 - 4 Real Madrid\\Labels-v2.json...: : 57.3kiB [00:00, 83.2kiB/s]                         \n"
     ]
    },
    {
     "name": "stdout",
     "output_type": "stream",
     "text": [
      "password required for SoccerNet\\spain_laliga\\2014-2015\\2015-05-23 - 19-30 Barcelona 2 - 2 Dep. La Coruna\\1_720p.mkv\n"
     ]
    },
    {
     "name": "stderr",
     "output_type": "stream",
     "text": [
      "Downloading SoccerNet\\spain_laliga\\2014-2015\\2015-05-23 - 19-30 Barcelona 2 - 2 Dep. La Coruna\\Labels-v2.json...: : 49.2kiB [00:00, 180kiB/s]                          \n"
     ]
    },
    {
     "name": "stdout",
     "output_type": "stream",
     "text": [
      "password required for SoccerNet\\spain_laliga\\2015-2016\\2015-08-29 - 21-30 Barcelona 1 - 0 Malaga\\1_720p.mkv\n"
     ]
    },
    {
     "name": "stderr",
     "output_type": "stream",
     "text": [
      "Downloading SoccerNet\\spain_laliga\\2015-2016\\2015-08-29 - 21-30 Barcelona 1 - 0 Malaga\\Labels-v2.json...: : 57.3kiB [00:00, 137kiB/s]                         \n"
     ]
    },
    {
     "name": "stdout",
     "output_type": "stream",
     "text": [
      "password required for SoccerNet\\spain_laliga\\2015-2016\\2015-09-12 - 17-00 Espanyol 0 - 6 Real Madrid\\1_720p.mkv\n"
     ]
    },
    {
     "name": "stderr",
     "output_type": "stream",
     "text": [
      "Downloading SoccerNet\\spain_laliga\\2015-2016\\2015-09-12 - 17-00 Espanyol 0 - 6 Real Madrid\\Labels-v2.json...: : 57.3kiB [00:00, 115kiB/s]                          \n"
     ]
    },
    {
     "name": "stdout",
     "output_type": "stream",
     "text": [
      "password required for SoccerNet\\spain_laliga\\2015-2016\\2015-09-23 - 22-00 Ath Bilbao 1 - 2 Real Madrid\\1_720p.mkv\n"
     ]
    },
    {
     "name": "stderr",
     "output_type": "stream",
     "text": [
      "Downloading SoccerNet\\spain_laliga\\2015-2016\\2015-09-23 - 22-00 Ath Bilbao 1 - 2 Real Madrid\\Labels-v2.json...: : 57.3kiB [00:00, 125kiB/s]                          \n"
     ]
    },
    {
     "name": "stdout",
     "output_type": "stream",
     "text": [
      "password required for SoccerNet\\spain_laliga\\2015-2016\\2015-09-26 - 19-15 Real Madrid 0 - 0 Malaga\\1_720p.mkv\n"
     ]
    },
    {
     "name": "stderr",
     "output_type": "stream",
     "text": [
      "Downloading SoccerNet\\spain_laliga\\2015-2016\\2015-09-26 - 19-15 Real Madrid 0 - 0 Malaga\\Labels-v2.json...: : 65.5kiB [00:00, 119kiB/s]                          \n"
     ]
    },
    {
     "name": "stdout",
     "output_type": "stream",
     "text": [
      "password required for SoccerNet\\spain_laliga\\2015-2016\\2015-10-04 - 21-30 Atl. Madrid 1 - 1 Real Madrid\\1_720p.mkv\n"
     ]
    },
    {
     "name": "stderr",
     "output_type": "stream",
     "text": [
      "Downloading SoccerNet\\spain_laliga\\2015-2016\\2015-10-04 - 21-30 Atl. Madrid 1 - 1 Real Madrid\\Labels-v2.json...: : 57.3kiB [00:00, 123kiB/s]                          \n"
     ]
    },
    {
     "name": "stdout",
     "output_type": "stream",
     "text": [
      "password required for SoccerNet\\spain_laliga\\2015-2016\\2015-11-21 - 20-15 Real Madrid 0 - 4 Barcelona\\1_720p.mkv\n"
     ]
    },
    {
     "name": "stderr",
     "output_type": "stream",
     "text": [
      "Downloading SoccerNet\\spain_laliga\\2015-2016\\2015-11-21 - 20-15 Real Madrid 0 - 4 Barcelona\\Labels-v2.json...: : 57.3kiB [00:00, 113kiB/s]                          \n"
     ]
    },
    {
     "name": "stdout",
     "output_type": "stream",
     "text": [
      "password required for SoccerNet\\spain_laliga\\2015-2016\\2015-11-29 - 18-00 Eibar 0 - 2 Real Madrid\\1_720p.mkv\n"
     ]
    },
    {
     "name": "stderr",
     "output_type": "stream",
     "text": [
      "Downloading SoccerNet\\spain_laliga\\2015-2016\\2015-11-29 - 18-00 Eibar 0 - 2 Real Madrid\\Labels-v2.json...: : 65.5kiB [00:00, 121kiB/s]                          \n"
     ]
    },
    {
     "name": "stdout",
     "output_type": "stream",
     "text": [
      "password required for SoccerNet\\spain_laliga\\2015-2016\\2016-01-24 - 22-30 Betis 1 - 1 Real Madrid\\1_720p.mkv\n"
     ]
    },
    {
     "name": "stderr",
     "output_type": "stream",
     "text": [
      "Downloading SoccerNet\\spain_laliga\\2015-2016\\2016-01-24 - 22-30 Betis 1 - 1 Real Madrid\\Labels-v2.json...: : 57.3kiB [00:00, 138kiB/s]                          \n"
     ]
    },
    {
     "name": "stdout",
     "output_type": "stream",
     "text": [
      "password required for SoccerNet\\spain_laliga\\2015-2016\\2016-01-31 - 22-30 Real Madrid 6 - 0 Espanyol\\1_720p.mkv\n"
     ]
    },
    {
     "name": "stderr",
     "output_type": "stream",
     "text": [
      "Downloading SoccerNet\\spain_laliga\\2015-2016\\2016-01-31 - 22-30 Real Madrid 6 - 0 Espanyol\\Labels-v2.json...: : 65.5kiB [00:00, 120kiB/s]                          \n"
     ]
    },
    {
     "name": "stdout",
     "output_type": "stream",
     "text": [
      "password required for SoccerNet\\spain_laliga\\2015-2016\\2016-02-07 - 22-30 Granada CF 1 - 2 Real Madrid\\1_720p.mkv\n"
     ]
    },
    {
     "name": "stderr",
     "output_type": "stream",
     "text": [
      "Downloading SoccerNet\\spain_laliga\\2015-2016\\2016-02-07 - 22-30 Granada CF 1 - 2 Real Madrid\\Labels-v2.json...: : 57.3kiB [00:00, 104kiB/s]                          \n"
     ]
    },
    {
     "name": "stdout",
     "output_type": "stream",
     "text": [
      "password required for SoccerNet\\spain_laliga\\2015-2016\\2016-02-21 - 18-00 Malaga 1 - 1 Real Madrid\\1_720p.mkv\n"
     ]
    },
    {
     "name": "stderr",
     "output_type": "stream",
     "text": [
      "Downloading SoccerNet\\spain_laliga\\2015-2016\\2016-02-21 - 18-00 Malaga 1 - 1 Real Madrid\\Labels-v2.json...: : 57.3kiB [00:00, 112kiB/s]                          \n"
     ]
    },
    {
     "name": "stdout",
     "output_type": "stream",
     "text": [
      "password required for SoccerNet\\spain_laliga\\2015-2016\\2016-03-05 - 18-00 Real Madrid 7 - 1 Celta Vigo\\1_720p.mkv\n"
     ]
    },
    {
     "name": "stderr",
     "output_type": "stream",
     "text": [
      "Downloading SoccerNet\\spain_laliga\\2015-2016\\2016-03-05 - 18-00 Real Madrid 7 - 1 Celta Vigo\\Labels-v2.json...: : 49.2kiB [00:00, 94.5kiB/s]                         \n"
     ]
    },
    {
     "name": "stdout",
     "output_type": "stream",
     "text": [
      "password required for SoccerNet\\spain_laliga\\2015-2016\\2016-03-13 - 22-30 Las Palmas 1 - 2 Real Madrid\\1_720p.mkv\n"
     ]
    },
    {
     "name": "stderr",
     "output_type": "stream",
     "text": [
      "Downloading SoccerNet\\spain_laliga\\2015-2016\\2016-03-13 - 22-30 Las Palmas 1 - 2 Real Madrid\\Labels-v2.json...: : 49.2kiB [00:00, 111kiB/s]                         \n"
     ]
    },
    {
     "name": "stdout",
     "output_type": "stream",
     "text": [
      "password required for SoccerNet\\spain_laliga\\2015-2016\\2016-04-02 - 21-30 Barcelona 1 - 2 Real Madrid\\1_720p.mkv\n"
     ]
    },
    {
     "name": "stderr",
     "output_type": "stream",
     "text": [
      "Downloading SoccerNet\\spain_laliga\\2015-2016\\2016-04-02 - 21-30 Barcelona 1 - 2 Real Madrid\\Labels-v2.json...: : 57.3kiB [00:00, 117kiB/s]                          \n"
     ]
    },
    {
     "name": "stdout",
     "output_type": "stream",
     "text": [
      "password required for SoccerNet\\spain_laliga\\2015-2016\\2016-04-09 - 17-00 Real Madrid 4 - 0 Eibar\\1_720p.mkv\n"
     ]
    },
    {
     "name": "stderr",
     "output_type": "stream",
     "text": [
      "Downloading SoccerNet\\spain_laliga\\2015-2016\\2016-04-09 - 17-00 Real Madrid 4 - 0 Eibar\\Labels-v2.json...: : 57.3kiB [00:00, 113kiB/s]                          \n"
     ]
    },
    {
     "name": "stdout",
     "output_type": "stream",
     "text": [
      "password required for SoccerNet\\spain_laliga\\2015-2016\\2016-04-16 - 17-00 Getafe 1 - 5 Real Madrid\\1_720p.mkv\n"
     ]
    },
    {
     "name": "stderr",
     "output_type": "stream",
     "text": [
      "Downloading SoccerNet\\spain_laliga\\2015-2016\\2016-04-16 - 17-00 Getafe 1 - 5 Real Madrid\\Labels-v2.json...: : 57.3kiB [00:00, 119kiB/s]                          \n"
     ]
    },
    {
     "name": "stdout",
     "output_type": "stream",
     "text": [
      "password required for SoccerNet\\spain_laliga\\2015-2016\\2016-04-20 - 23-00 Real Madrid 3 - 0 Villarreal\\1_720p.mkv\n"
     ]
    },
    {
     "name": "stderr",
     "output_type": "stream",
     "text": [
      "Downloading SoccerNet\\spain_laliga\\2015-2016\\2016-04-20 - 23-00 Real Madrid 3 - 0 Villarreal\\Labels-v2.json...: : 49.2kiB [00:00, 195kiB/s]                         \n"
     ]
    },
    {
     "name": "stdout",
     "output_type": "stream",
     "text": [
      "password required for SoccerNet\\spain_laliga\\2015-2016\\2016-04-30 - 17-00 Real Sociedad 0 - 1 Real Madrid\\1_720p.mkv\n"
     ]
    },
    {
     "name": "stderr",
     "output_type": "stream",
     "text": [
      "Downloading SoccerNet\\spain_laliga\\2015-2016\\2016-04-30 - 17-00 Real Sociedad 0 - 1 Real Madrid\\Labels-v2.json...: : 49.2kiB [00:00, 141kiB/s]                          \n"
     ]
    },
    {
     "name": "stdout",
     "output_type": "stream",
     "text": [
      "password required for SoccerNet\\spain_laliga\\2016-2017\\2016-08-20 - 19-15 Barcelona 6 - 2 Betis\\1_720p.mkv\n"
     ]
    },
    {
     "name": "stderr",
     "output_type": "stream",
     "text": [
      "Downloading SoccerNet\\spain_laliga\\2016-2017\\2016-08-20 - 19-15 Barcelona 6 - 2 Betis\\Labels-v2.json...: : 57.3kiB [00:00, 164kiB/s]                          \n"
     ]
    },
    {
     "name": "stdout",
     "output_type": "stream",
     "text": [
      "password required for SoccerNet\\spain_laliga\\2016-2017\\2016-08-27 - 21-15 Real Madrid 2 - 1 Celta Vigo\\1_720p.mkv\n"
     ]
    },
    {
     "name": "stderr",
     "output_type": "stream",
     "text": [
      "Downloading SoccerNet\\spain_laliga\\2016-2017\\2016-08-27 - 21-15 Real Madrid 2 - 1 Celta Vigo\\Labels-v2.json...: : 57.3kiB [00:00, 123kiB/s]                          \n"
     ]
    },
    {
     "name": "stdout",
     "output_type": "stream",
     "text": [
      "password required for SoccerNet\\spain_laliga\\2016-2017\\2016-08-28 - 21-15 Ath Bilbao 0 - 1 Barcelona\\1_720p.mkv\n"
     ]
    },
    {
     "name": "stderr",
     "output_type": "stream",
     "text": [
      "Downloading SoccerNet\\spain_laliga\\2016-2017\\2016-08-28 - 21-15 Ath Bilbao 0 - 1 Barcelona\\Labels-v2.json...: : 57.3kiB [00:00, 122kiB/s]                          \n"
     ]
    },
    {
     "name": "stdout",
     "output_type": "stream",
     "text": [
      "password required for SoccerNet\\spain_laliga\\2016-2017\\2016-09-18 - 21-45 Espanyol 0 - 2 Real Madrid\\1_720p.mkv\n"
     ]
    },
    {
     "name": "stderr",
     "output_type": "stream",
     "text": [
      "Downloading SoccerNet\\spain_laliga\\2016-2017\\2016-09-18 - 21-45 Espanyol 0 - 2 Real Madrid\\Labels-v2.json...: : 49.2kiB [00:00, 119kiB/s]                          \n"
     ]
    },
    {
     "name": "stdout",
     "output_type": "stream",
     "text": [
      "password required for SoccerNet\\spain_laliga\\2016-2017\\2016-09-21 - 23-00 Barcelona 1 - 1 Atl. Madrid\\1_720p.mkv\n"
     ]
    },
    {
     "name": "stderr",
     "output_type": "stream",
     "text": [
      "Downloading SoccerNet\\spain_laliga\\2016-2017\\2016-09-21 - 23-00 Barcelona 1 - 1 Atl. Madrid\\Labels-v2.json...: : 57.3kiB [00:00, 109kiB/s]                          \n"
     ]
    },
    {
     "name": "stdout",
     "output_type": "stream",
     "text": [
      "password required for SoccerNet\\spain_laliga\\2016-2017\\2016-10-02 - 17-15 Real Madrid 1 - 1 Eibar\\1_720p.mkv\n"
     ]
    },
    {
     "name": "stderr",
     "output_type": "stream",
     "text": [
      "Downloading SoccerNet\\spain_laliga\\2016-2017\\2016-10-02 - 17-15 Real Madrid 1 - 1 Eibar\\Labels-v2.json...: : 57.3kiB [00:00, 107kiB/s]                          \n"
     ]
    },
    {
     "name": "stdout",
     "output_type": "stream",
     "text": [
      "password required for SoccerNet\\spain_laliga\\2016-2017\\2016-10-15 - 21-45 Betis 1 - 6 Real Madrid\\1_720p.mkv\n"
     ]
    },
    {
     "name": "stderr",
     "output_type": "stream",
     "text": [
      "Downloading SoccerNet\\spain_laliga\\2016-2017\\2016-10-15 - 21-45 Betis 1 - 6 Real Madrid\\Labels-v2.json...: : 49.2kiB [00:00, 118kiB/s]                          \n"
     ]
    },
    {
     "name": "stdout",
     "output_type": "stream",
     "text": [
      "password required for SoccerNet\\spain_laliga\\2016-2017\\2016-10-22 - 17-15 Valencia 2 - 3 Barcelona\\1_720p.mkv\n"
     ]
    },
    {
     "name": "stderr",
     "output_type": "stream",
     "text": [
      "Downloading SoccerNet\\spain_laliga\\2016-2017\\2016-10-22 - 17-15 Valencia 2 - 3 Barcelona\\Labels-v2.json...: : 57.3kiB [00:00, 118kiB/s]                          \n"
     ]
    },
    {
     "name": "stdout",
     "output_type": "stream",
     "text": [
      "password required for SoccerNet\\spain_laliga\\2016-2017\\2016-10-29 - 17-15 Alaves 1 - 4 Real Madrid\\1_720p.mkv\n"
     ]
    },
    {
     "name": "stderr",
     "output_type": "stream",
     "text": [
      "Downloading SoccerNet\\spain_laliga\\2016-2017\\2016-10-29 - 17-15 Alaves 1 - 4 Real Madrid\\Labels-v2.json...: : 57.3kiB [00:00, 113kiB/s]                          \n"
     ]
    },
    {
     "name": "stdout",
     "output_type": "stream",
     "text": [
      "password required for SoccerNet\\spain_laliga\\2016-2017\\2016-10-29 - 21-45 Barcelona 1 - 0 Granada CF\\1_720p.mkv\n"
     ]
    },
    {
     "name": "stderr",
     "output_type": "stream",
     "text": [
      "Downloading SoccerNet\\spain_laliga\\2016-2017\\2016-10-29 - 21-45 Barcelona 1 - 0 Granada CF\\Labels-v2.json...: : 57.3kiB [00:00, 113kiB/s]                          \n"
     ]
    },
    {
     "name": "stdout",
     "output_type": "stream",
     "text": [
      "password required for SoccerNet\\spain_laliga\\2016-2017\\2016-11-06 - 14-00 Real Madrid 3 - 0 Leganes\\1_720p.mkv\n"
     ]
    },
    {
     "name": "stderr",
     "output_type": "stream",
     "text": [
      "Downloading SoccerNet\\spain_laliga\\2016-2017\\2016-11-06 - 14-00 Real Madrid 3 - 0 Leganes\\Labels-v2.json...: : 57.3kiB [00:00, 114kiB/s]                          \n"
     ]
    },
    {
     "name": "stdout",
     "output_type": "stream",
     "text": [
      "password required for SoccerNet\\spain_laliga\\2016-2017\\2016-11-19 - 18-15 Barcelona 0 - 0 Malaga\\1_720p.mkv\n"
     ]
    },
    {
     "name": "stderr",
     "output_type": "stream",
     "text": [
      "Downloading SoccerNet\\spain_laliga\\2016-2017\\2016-11-19 - 18-15 Barcelona 0 - 0 Malaga\\Labels-v2.json...: : 65.5kiB [00:00, 119kiB/s]                          \n"
     ]
    },
    {
     "name": "stdout",
     "output_type": "stream",
     "text": [
      "password required for SoccerNet\\spain_laliga\\2016-2017\\2016-11-19 - 22-45 Atl. Madrid 0 - 3 Real Madrid\\1_720p.mkv\n"
     ]
    },
    {
     "name": "stderr",
     "output_type": "stream",
     "text": [
      "Downloading SoccerNet\\spain_laliga\\2016-2017\\2016-11-19 - 22-45 Atl. Madrid 0 - 3 Real Madrid\\Labels-v2.json...: : 57.3kiB [00:00, 93.6kiB/s]                         \n"
     ]
    },
    {
     "name": "stdout",
     "output_type": "stream",
     "text": [
      "password required for SoccerNet\\spain_laliga\\2016-2017\\2016-11-27 - 22-45 Real Sociedad 1 - 1 Barcelona\\1_720p.mkv\n"
     ]
    },
    {
     "name": "stderr",
     "output_type": "stream",
     "text": [
      "Downloading SoccerNet\\spain_laliga\\2016-2017\\2016-11-27 - 22-45 Real Sociedad 1 - 1 Barcelona\\Labels-v2.json...: : 65.5kiB [00:00, 97.2kiB/s]                         \n"
     ]
    },
    {
     "name": "stdout",
     "output_type": "stream",
     "text": [
      "password required for SoccerNet\\spain_laliga\\2016-2017\\2016-12-03 - 18-15 Barcelona 1 - 1 Real Madrid\\1_720p.mkv\n"
     ]
    },
    {
     "name": "stderr",
     "output_type": "stream",
     "text": [
      "Downloading SoccerNet\\spain_laliga\\2016-2017\\2016-12-03 - 18-15 Barcelona 1 - 1 Real Madrid\\Labels-v2.json...: : 57.3kiB [00:00, 124kiB/s]                          \n"
     ]
    },
    {
     "name": "stdout",
     "output_type": "stream",
     "text": [
      "password required for SoccerNet\\spain_laliga\\2016-2017\\2016-12-10 - 22-45 Real Madrid 3 - 2 Dep. La Coruna\\1_720p.mkv\n"
     ]
    },
    {
     "name": "stderr",
     "output_type": "stream",
     "text": [
      "Downloading SoccerNet\\spain_laliga\\2016-2017\\2016-12-10 - 22-45 Real Madrid 3 - 2 Dep. La Coruna\\Labels-v2.json...: : 49.2kiB [00:00, 96.7kiB/s]                         \n"
     ]
    },
    {
     "name": "stdout",
     "output_type": "stream",
     "text": [
      "password required for SoccerNet\\spain_laliga\\2016-2017\\2017-01-08 - 22-45 Villarreal 1 - 1 Barcelona\\1_720p.mkv\n"
     ]
    },
    {
     "name": "stderr",
     "output_type": "stream",
     "text": [
      "Downloading SoccerNet\\spain_laliga\\2016-2017\\2017-01-08 - 22-45 Villarreal 1 - 1 Barcelona\\Labels-v2.json...: : 49.2kiB [00:00, 97.9kiB/s]                         \n"
     ]
    },
    {
     "name": "stdout",
     "output_type": "stream",
     "text": [
      "password required for SoccerNet\\spain_laliga\\2016-2017\\2017-01-14 - 18-15 Barcelona 5 - 0 Las Palmas\\1_720p.mkv\n"
     ]
    },
    {
     "name": "stderr",
     "output_type": "stream",
     "text": [
      "Downloading SoccerNet\\spain_laliga\\2016-2017\\2017-01-14 - 18-15 Barcelona 5 - 0 Las Palmas\\Labels-v2.json...: : 57.3kiB [00:00, 163kiB/s]                          \n"
     ]
    },
    {
     "name": "stdout",
     "output_type": "stream",
     "text": [
      "password required for SoccerNet\\spain_laliga\\2016-2017\\2017-01-15 - 22-45 Sevilla 2 - 1 Real Madrid\\1_720p.mkv\n"
     ]
    },
    {
     "name": "stderr",
     "output_type": "stream",
     "text": [
      "Downloading SoccerNet\\spain_laliga\\2016-2017\\2017-01-15 - 22-45 Sevilla 2 - 1 Real Madrid\\Labels-v2.json...: : 57.3kiB [00:00, 136kiB/s]                          \n"
     ]
    },
    {
     "name": "stdout",
     "output_type": "stream",
     "text": [
      "password required for SoccerNet\\spain_laliga\\2016-2017\\2017-01-29 - 14-00 Betis 1 - 1 Barcelona\\1_720p.mkv\n"
     ]
    },
    {
     "name": "stderr",
     "output_type": "stream",
     "text": [
      "Downloading SoccerNet\\spain_laliga\\2016-2017\\2017-01-29 - 14-00 Betis 1 - 1 Barcelona\\Labels-v2.json...: : 57.3kiB [00:00, 117kiB/s]                          \n"
     ]
    },
    {
     "name": "stdout",
     "output_type": "stream",
     "text": [
      "password required for SoccerNet\\spain_laliga\\2016-2017\\2017-01-29 - 22-45 Real Madrid 3 - 0 Real Sociedad\\1_720p.mkv\n"
     ]
    },
    {
     "name": "stderr",
     "output_type": "stream",
     "text": [
      "Downloading SoccerNet\\spain_laliga\\2016-2017\\2017-01-29 - 22-45 Real Madrid 3 - 0 Real Sociedad\\Labels-v2.json...: : 57.3kiB [00:00, 130kiB/s]                          \n"
     ]
    },
    {
     "name": "stdout",
     "output_type": "stream",
     "text": [
      "password required for SoccerNet\\spain_laliga\\2016-2017\\2017-02-19 - 22-45 Barcelona 2 - 1 Leganes\\1_720p.mkv\n"
     ]
    },
    {
     "name": "stderr",
     "output_type": "stream",
     "text": [
      "Downloading SoccerNet\\spain_laliga\\2016-2017\\2017-02-19 - 22-45 Barcelona 2 - 1 Leganes\\Labels-v2.json...: : 49.2kiB [00:00, 95.8kiB/s]                         \n"
     ]
    },
    {
     "name": "stdout",
     "output_type": "stream",
     "text": [
      "password required for SoccerNet\\spain_laliga\\2016-2017\\2017-02-26 - 18-15 Atl. Madrid 1 - 2 Barcelona\\1_720p.mkv\n"
     ]
    },
    {
     "name": "stderr",
     "output_type": "stream",
     "text": [
      "Downloading SoccerNet\\spain_laliga\\2016-2017\\2017-02-26 - 18-15 Atl. Madrid 1 - 2 Barcelona\\Labels-v2.json...: : 57.3kiB [00:00, 106kiB/s]                          \n"
     ]
    },
    {
     "name": "stdout",
     "output_type": "stream",
     "text": [
      "password required for SoccerNet\\spain_laliga\\2016-2017\\2017-02-26 - 22-45 Villarreal 2 - 3 Real Madrid\\1_720p.mkv\n"
     ]
    },
    {
     "name": "stderr",
     "output_type": "stream",
     "text": [
      "Downloading SoccerNet\\spain_laliga\\2016-2017\\2017-02-26 - 22-45 Villarreal 2 - 3 Real Madrid\\Labels-v2.json...: : 49.2kiB [00:00, 142kiB/s]                          \n"
     ]
    },
    {
     "name": "stdout",
     "output_type": "stream",
     "text": [
      "password required for SoccerNet\\spain_laliga\\2016-2017\\2017-03-01 - 21-30 Barcelona 6 - 1 Gijon\\1_720p.mkv\n"
     ]
    },
    {
     "name": "stderr",
     "output_type": "stream",
     "text": [
      "Downloading SoccerNet\\spain_laliga\\2016-2017\\2017-03-01 - 21-30 Barcelona 6 - 1 Gijon\\Labels-v2.json...: : 57.3kiB [00:00, 165kiB/s]                          \n"
     ]
    },
    {
     "name": "stdout",
     "output_type": "stream",
     "text": [
      "password required for SoccerNet\\spain_laliga\\2016-2017\\2017-03-01 - 23-30 Real Madrid 3 - 3 Las Palmas\\1_720p.mkv\n"
     ]
    },
    {
     "name": "stderr",
     "output_type": "stream",
     "text": [
      "Downloading SoccerNet\\spain_laliga\\2016-2017\\2017-03-01 - 23-30 Real Madrid 3 - 3 Las Palmas\\Labels-v2.json...: : 65.5kiB [00:00, 119kiB/s]                          \n"
     ]
    },
    {
     "name": "stdout",
     "output_type": "stream",
     "text": [
      "password required for SoccerNet\\spain_laliga\\2016-2017\\2017-03-04 - 18-15 Eibar 1 - 4 Real Madrid\\1_720p.mkv\n"
     ]
    },
    {
     "name": "stderr",
     "output_type": "stream",
     "text": [
      "Downloading SoccerNet\\spain_laliga\\2016-2017\\2017-03-04 - 18-15 Eibar 1 - 4 Real Madrid\\Labels-v2.json...: : 65.5kiB [00:00, 119kiB/s]                          \n"
     ]
    },
    {
     "name": "stdout",
     "output_type": "stream",
     "text": [
      "password required for SoccerNet\\spain_laliga\\2016-2017\\2017-03-04 - 22-45 Barcelona 5 - 0 Celta Vigo\\1_720p.mkv\n"
     ]
    },
    {
     "name": "stderr",
     "output_type": "stream",
     "text": [
      "Downloading SoccerNet\\spain_laliga\\2016-2017\\2017-03-04 - 22-45 Barcelona 5 - 0 Celta Vigo\\Labels-v2.json...: : 57.3kiB [00:00, 137kiB/s]                          \n"
     ]
    },
    {
     "name": "stdout",
     "output_type": "stream",
     "text": [
      "password required for SoccerNet\\spain_laliga\\2016-2017\\2017-03-12 - 18-15 Dep. La Coruna 2 - 1 Barcelona\\1_720p.mkv\n"
     ]
    },
    {
     "name": "stderr",
     "output_type": "stream",
     "text": [
      "Downloading SoccerNet\\spain_laliga\\2016-2017\\2017-03-12 - 18-15 Dep. La Coruna 2 - 1 Barcelona\\Labels-v2.json...: : 49.2kiB [00:00, 116kiB/s]                          \n"
     ]
    },
    {
     "name": "stdout",
     "output_type": "stream",
     "text": [
      "password required for SoccerNet\\spain_laliga\\2016-2017\\2017-03-18 - 18-15 Ath Bilbao 1 - 2 Real Madrid\\1_720p.mkv\n"
     ]
    },
    {
     "name": "stderr",
     "output_type": "stream",
     "text": [
      "Downloading SoccerNet\\spain_laliga\\2016-2017\\2017-03-18 - 18-15 Ath Bilbao 1 - 2 Real Madrid\\Labels-v2.json...: : 57.3kiB [00:00, 104kiB/s]                          \n"
     ]
    },
    {
     "name": "stdout",
     "output_type": "stream",
     "text": [
      "password required for SoccerNet\\spain_laliga\\2016-2017\\2017-03-19 - 22-45 Barcelona 4 - 2 Valencia\\1_720p.mkv\n"
     ]
    },
    {
     "name": "stderr",
     "output_type": "stream",
     "text": [
      "Downloading SoccerNet\\spain_laliga\\2016-2017\\2017-03-19 - 22-45 Barcelona 4 - 2 Valencia\\Labels-v2.json...: : 57.3kiB [00:00, 103kiB/s]                          \n"
     ]
    },
    {
     "name": "stdout",
     "output_type": "stream",
     "text": [
      "password required for SoccerNet\\spain_laliga\\2016-2017\\2017-04-02 - 21-45 Granada CF 1 - 4 Barcelona\\1_720p.mkv\n"
     ]
    },
    {
     "name": "stderr",
     "output_type": "stream",
     "text": [
      "Downloading SoccerNet\\spain_laliga\\2016-2017\\2017-04-02 - 21-45 Granada CF 1 - 4 Barcelona\\Labels-v2.json...: : 65.5kiB [00:00, 119kiB/s]                          \n"
     ]
    },
    {
     "name": "stdout",
     "output_type": "stream",
     "text": [
      "password required for SoccerNet\\spain_laliga\\2016-2017\\2017-04-05 - 22-30 Leganes 2 - 4 Real Madrid\\1_720p.mkv\n"
     ]
    },
    {
     "name": "stderr",
     "output_type": "stream",
     "text": [
      "Downloading SoccerNet\\spain_laliga\\2016-2017\\2017-04-05 - 22-30 Leganes 2 - 4 Real Madrid\\Labels-v2.json...: : 57.3kiB [00:00, 138kiB/s]                         \n"
     ]
    },
    {
     "name": "stdout",
     "output_type": "stream",
     "text": [
      "password required for SoccerNet\\spain_laliga\\2016-2017\\2017-04-15 - 17-15 Gijon 2 - 3 Real Madrid\\1_720p.mkv\n"
     ]
    },
    {
     "name": "stderr",
     "output_type": "stream",
     "text": [
      "Downloading SoccerNet\\spain_laliga\\2016-2017\\2017-04-15 - 17-15 Gijon 2 - 3 Real Madrid\\Labels-v2.json...: : 57.3kiB [00:00, 104kiB/s]                          \n"
     ]
    },
    {
     "name": "stdout",
     "output_type": "stream",
     "text": [
      "password required for SoccerNet\\spain_laliga\\2016-2017\\2017-04-15 - 21-45 Barcelona 3 - 2 Real Sociedad\\1_720p.mkv\n"
     ]
    },
    {
     "name": "stderr",
     "output_type": "stream",
     "text": [
      "Downloading SoccerNet\\spain_laliga\\2016-2017\\2017-04-15 - 21-45 Barcelona 3 - 2 Real Sociedad\\Labels-v2.json...: : 49.2kiB [00:00, 177kiB/s]                          \n"
     ]
    },
    {
     "name": "stdout",
     "output_type": "stream",
     "text": [
      "password required for SoccerNet\\spain_laliga\\2016-2017\\2017-04-26 - 22-30 Dep. La Coruna 2 - 6 Real Madrid\\1_720p.mkv\n"
     ]
    },
    {
     "name": "stderr",
     "output_type": "stream",
     "text": [
      "Downloading SoccerNet\\spain_laliga\\2016-2017\\2017-04-26 - 22-30 Dep. La Coruna 2 - 6 Real Madrid\\Labels-v2.json...: : 49.2kiB [00:00, 174kiB/s]                          \n"
     ]
    },
    {
     "name": "stdout",
     "output_type": "stream",
     "text": [
      "password required for SoccerNet\\spain_laliga\\2016-2017\\2017-05-06 - 19-30 Barcelona 4 - 1 Villarreal\\1_720p.mkv\n"
     ]
    },
    {
     "name": "stderr",
     "output_type": "stream",
     "text": [
      "Downloading SoccerNet\\spain_laliga\\2016-2017\\2017-05-06 - 19-30 Barcelona 4 - 1 Villarreal\\Labels-v2.json...: : 41.0kiB [00:00, 145kiB/s]                          \n"
     ]
    },
    {
     "name": "stdout",
     "output_type": "stream",
     "text": [
      "password required for SoccerNet\\spain_laliga\\2016-2017\\2017-05-06 - 21-45 Granada CF 0 - 4 Real Madrid\\1_720p.mkv\n"
     ]
    },
    {
     "name": "stderr",
     "output_type": "stream",
     "text": [
      "Downloading SoccerNet\\spain_laliga\\2016-2017\\2017-05-06 - 21-45 Granada CF 0 - 4 Real Madrid\\Labels-v2.json...: : 41.0kiB [00:00, 147kiB/s]                          \n"
     ]
    },
    {
     "name": "stdout",
     "output_type": "stream",
     "text": [
      "password required for SoccerNet\\spain_laliga\\2016-2017\\2017-05-14 - 21-00 Real Madrid 4 - 1 Sevilla\\1_720p.mkv\n"
     ]
    },
    {
     "name": "stderr",
     "output_type": "stream",
     "text": [
      "Downloading SoccerNet\\spain_laliga\\2016-2017\\2017-05-14 - 21-00 Real Madrid 4 - 1 Sevilla\\Labels-v2.json...: : 49.2kiB [00:00, 174kiB/s]                          \n"
     ]
    },
    {
     "name": "stdout",
     "output_type": "stream",
     "text": [
      "password required for SoccerNet\\spain_laliga\\2016-2017\\2017-05-17 - 22-00 Celta Vigo 1 - 4 Real Madrid\\1_720p.mkv\n"
     ]
    },
    {
     "name": "stderr",
     "output_type": "stream",
     "text": [
      "Downloading SoccerNet\\spain_laliga\\2016-2017\\2017-05-17 - 22-00 Celta Vigo 1 - 4 Real Madrid\\Labels-v2.json...: : 41.0kiB [00:00, 148kiB/s]                          \n"
     ]
    },
    {
     "name": "stdout",
     "output_type": "stream",
     "text": [
      "password required for SoccerNet\\spain_laliga\\2016-2017\\2017-05-21 - 21-00 Barcelona 4 - 2 Eibar\\1_720p.mkv\n"
     ]
    },
    {
     "name": "stderr",
     "output_type": "stream",
     "text": [
      "Downloading SoccerNet\\spain_laliga\\2016-2017\\2017-05-21 - 21-00 Barcelona 4 - 2 Eibar\\Labels-v2.json...: : 49.2kiB [00:00, 117kiB/s]                          \n"
     ]
    },
    {
     "name": "stdout",
     "output_type": "stream",
     "text": [
      "password required for SoccerNet\\spain_laliga\\2016-2017\\2017-05-21 - 21-00 Malaga 0 - 2 Real Madrid\\1_720p.mkv\n"
     ]
    },
    {
     "name": "stderr",
     "output_type": "stream",
     "text": [
      "Downloading SoccerNet\\spain_laliga\\2016-2017\\2017-05-21 - 21-00 Malaga 0 - 2 Real Madrid\\Labels-v2.json...: : 41.0kiB [00:00, 149kiB/s]                          \n"
     ]
    },
    {
     "name": "stdout",
     "output_type": "stream",
     "text": [
      "password required for SoccerNet\\england_epl\\2014-2015\\2015-04-11 - 19-30 Burnley 0 - 1 Arsenal\\1_720p.mkv\n"
     ]
    },
    {
     "name": "stderr",
     "output_type": "stream",
     "text": [
      "Downloading SoccerNet\\england_epl\\2014-2015\\2015-04-11 - 19-30 Burnley 0 - 1 Arsenal\\Labels-v2.json...: : 49.2kiB [00:00, 117kiB/s]                          \n"
     ]
    },
    {
     "name": "stdout",
     "output_type": "stream",
     "text": [
      "password required for SoccerNet\\england_epl\\2015-2016\\2015-08-30 - 18-00 Swansea 2 - 1 Manchester United\\1_720p.mkv\n"
     ]
    },
    {
     "name": "stderr",
     "output_type": "stream",
     "text": [
      "Downloading SoccerNet\\england_epl\\2015-2016\\2015-08-30 - 18-00 Swansea 2 - 1 Manchester United\\Labels-v2.json...: : 49.2kiB [00:00, 178kiB/s]                          \n"
     ]
    },
    {
     "name": "stdout",
     "output_type": "stream",
     "text": [
      "password required for SoccerNet\\england_epl\\2015-2016\\2015-09-26 - 17-00 Leicester 2 - 5 Arsenal\\1_720p.mkv\n"
     ]
    },
    {
     "name": "stderr",
     "output_type": "stream",
     "text": [
      "Downloading SoccerNet\\england_epl\\2015-2016\\2015-09-26 - 17-00 Leicester 2 - 5 Arsenal\\Labels-v2.json...: : 57.3kiB [00:00, 142kiB/s]                          \n"
     ]
    },
    {
     "name": "stdout",
     "output_type": "stream",
     "text": [
      "password required for SoccerNet\\england_epl\\2015-2016\\2015-09-26 - 17-00 Manchester United 3 - 0 Sunderland\\1_720p.mkv\n"
     ]
    },
    {
     "name": "stderr",
     "output_type": "stream",
     "text": [
      "Downloading SoccerNet\\england_epl\\2015-2016\\2015-09-26 - 17-00 Manchester United 3 - 0 Sunderland\\Labels-v2.json...: : 49.2kiB [00:00, 117kiB/s]                          \n"
     ]
    },
    {
     "name": "stdout",
     "output_type": "stream",
     "text": [
      "password required for SoccerNet\\england_epl\\2015-2016\\2015-10-03 - 17-00 Manchester City 6 - 1 Newcastle Utd\\1_720p.mkv\n"
     ]
    },
    {
     "name": "stderr",
     "output_type": "stream",
     "text": [
      "Downloading SoccerNet\\england_epl\\2015-2016\\2015-10-03 - 17-00 Manchester City 6 - 1 Newcastle Utd\\Labels-v2.json...: : 49.2kiB [00:00, 121kiB/s]                          \n"
     ]
    },
    {
     "name": "stdout",
     "output_type": "stream",
     "text": [
      "password required for SoccerNet\\england_epl\\2015-2016\\2015-12-26 - 18-00 Chelsea 2 - 2 Watford\\1_720p.mkv\n"
     ]
    },
    {
     "name": "stderr",
     "output_type": "stream",
     "text": [
      "Downloading SoccerNet\\england_epl\\2015-2016\\2015-12-26 - 18-00 Chelsea 2 - 2 Watford\\Labels-v2.json...: : 49.2kiB [00:00, 122kiB/s]                          \n"
     ]
    },
    {
     "name": "stdout",
     "output_type": "stream",
     "text": [
      "password required for SoccerNet\\england_epl\\2015-2016\\2016-01-23 - 20-30 West Ham 2 - 2 Manchester City\\1_720p.mkv\n"
     ]
    },
    {
     "name": "stderr",
     "output_type": "stream",
     "text": [
      "Downloading SoccerNet\\england_epl\\2015-2016\\2016-01-23 - 20-30 West Ham 2 - 2 Manchester City\\Labels-v2.json...: : 49.2kiB [00:00, 177kiB/s]                          \n"
     ]
    },
    {
     "name": "stdout",
     "output_type": "stream",
     "text": [
      "password required for SoccerNet\\england_epl\\2015-2016\\2016-01-24 - 19-00 Arsenal 0 - 1 Chelsea\\1_720p.mkv\n"
     ]
    },
    {
     "name": "stderr",
     "output_type": "stream",
     "text": [
      "Downloading SoccerNet\\england_epl\\2015-2016\\2016-01-24 - 19-00 Arsenal 0 - 1 Chelsea\\Labels-v2.json...: : 49.2kiB [00:00, 173kiB/s]                          \n"
     ]
    },
    {
     "name": "stdout",
     "output_type": "stream",
     "text": [
      "password required for SoccerNet\\england_epl\\2015-2016\\2016-02-13 - 20-30 Chelsea 5 - 1 Newcastle Utd\\1_720p.mkv\n"
     ]
    },
    {
     "name": "stderr",
     "output_type": "stream",
     "text": [
      "Downloading SoccerNet\\england_epl\\2015-2016\\2016-02-13 - 20-30 Chelsea 5 - 1 Newcastle Utd\\Labels-v2.json...: : 49.2kiB [00:00, 125kiB/s]                          \n"
     ]
    },
    {
     "name": "stdout",
     "output_type": "stream",
     "text": [
      "password required for SoccerNet\\england_epl\\2015-2016\\2016-02-27 - 18-00 Southampton 1 - 2 Chelsea\\1_720p.mkv\n"
     ]
    },
    {
     "name": "stderr",
     "output_type": "stream",
     "text": [
      "Downloading SoccerNet\\england_epl\\2015-2016\\2016-02-27 - 18-00 Southampton 1 - 2 Chelsea\\Labels-v2.json...: : 49.2kiB [00:00, 179kiB/s]                          \n"
     ]
    },
    {
     "name": "stdout",
     "output_type": "stream",
     "text": [
      "password required for SoccerNet\\england_epl\\2015-2016\\2016-03-05 - 18-00 Manchester City 4 - 0 Aston Villa\\1_720p.mkv\n"
     ]
    },
    {
     "name": "stderr",
     "output_type": "stream",
     "text": [
      "Downloading SoccerNet\\england_epl\\2015-2016\\2016-03-05 - 18-00 Manchester City 4 - 0 Aston Villa\\Labels-v2.json...: : 41.0kiB [00:00, 147kiB/s]                          \n"
     ]
    },
    {
     "name": "stdout",
     "output_type": "stream",
     "text": [
      "password required for SoccerNet\\england_epl\\2015-2016\\2016-03-20 - 19-00 Manchester City 0 - 1 Manchester United\\1_720p.mkv\n"
     ]
    },
    {
     "name": "stderr",
     "output_type": "stream",
     "text": [
      "Downloading SoccerNet\\england_epl\\2015-2016\\2016-03-20 - 19-00 Manchester City 0 - 1 Manchester United\\Labels-v2.json...: : 57.3kiB [00:00, 145kiB/s]                          \n"
     ]
    },
    {
     "name": "stdout",
     "output_type": "stream",
     "text": [
      "password required for SoccerNet\\england_epl\\2015-2016\\2016-04-23 - 17-00 Bournemouth 1 - 4 Chelsea\\1_720p.mkv\n"
     ]
    },
    {
     "name": "stderr",
     "output_type": "stream",
     "text": [
      "Downloading SoccerNet\\england_epl\\2015-2016\\2016-04-23 - 17-00 Bournemouth 1 - 4 Chelsea\\Labels-v2.json...: : 49.2kiB [00:00, 115kiB/s]                          \n"
     ]
    },
    {
     "name": "stdout",
     "output_type": "stream",
     "text": [
      "password required for SoccerNet\\england_epl\\2016-2017\\2016-10-01 - 14-30 Swansea 1 - 2 Liverpool\\1_720p.mkv\n"
     ]
    },
    {
     "name": "stderr",
     "output_type": "stream",
     "text": [
      "Downloading SoccerNet\\england_epl\\2016-2017\\2016-10-01 - 14-30 Swansea 1 - 2 Liverpool\\Labels-v2.json...: : 57.3kiB [00:00, 139kiB/s]                          \n"
     ]
    },
    {
     "name": "stdout",
     "output_type": "stream",
     "text": [
      "password required for SoccerNet\\england_epl\\2016-2017\\2016-10-02 - 18-30 Burnley 0 - 1 Arsenal\\1_720p.mkv\n"
     ]
    },
    {
     "name": "stderr",
     "output_type": "stream",
     "text": [
      "Downloading SoccerNet\\england_epl\\2016-2017\\2016-10-02 - 18-30 Burnley 0 - 1 Arsenal\\Labels-v2.json...: : 49.2kiB [00:00, 116kiB/s]                          \n"
     ]
    },
    {
     "name": "stdout",
     "output_type": "stream",
     "text": [
      "password required for SoccerNet\\england_epl\\2016-2017\\2016-10-22 - 17-00 Arsenal 0 - 0 Middlesbrough\\1_720p.mkv\n"
     ]
    },
    {
     "name": "stderr",
     "output_type": "stream",
     "text": [
      "Downloading SoccerNet\\england_epl\\2016-2017\\2016-10-22 - 17-00 Arsenal 0 - 0 Middlesbrough\\Labels-v2.json...: : 57.3kiB [00:00, 146kiB/s]                          \n"
     ]
    },
    {
     "name": "stdout",
     "output_type": "stream",
     "text": [
      "password required for SoccerNet\\england_epl\\2016-2017\\2016-10-29 - 19-30 Crystal Palace 2 - 4 Liverpool\\1_720p.mkv\n"
     ]
    },
    {
     "name": "stderr",
     "output_type": "stream",
     "text": [
      "Downloading SoccerNet\\england_epl\\2016-2017\\2016-10-29 - 19-30 Crystal Palace 2 - 4 Liverpool\\Labels-v2.json...: : 57.3kiB [00:00, 140kiB/s]                          \n"
     ]
    },
    {
     "name": "stdout",
     "output_type": "stream",
     "text": [
      "password required for SoccerNet\\england_epl\\2016-2017\\2016-12-04 - 16-30 Bournemouth 4 - 3 Liverpool\\1_720p.mkv\n"
     ]
    },
    {
     "name": "stderr",
     "output_type": "stream",
     "text": [
      "Downloading SoccerNet\\england_epl\\2016-2017\\2016-12-04 - 16-30 Bournemouth 4 - 3 Liverpool\\Labels-v2.json...: : 57.3kiB [00:00, 134kiB/s]                          \n"
     ]
    },
    {
     "name": "stdout",
     "output_type": "stream",
     "text": [
      "password required for SoccerNet\\england_epl\\2016-2017\\2017-04-09 - 18-00 Everton 4 - 2 Leicester\\1_720p.mkv\n"
     ]
    },
    {
     "name": "stderr",
     "output_type": "stream",
     "text": [
      "Downloading SoccerNet\\england_epl\\2016-2017\\2017-04-09 - 18-00 Everton 4 - 2 Leicester\\Labels-v2.json...: : 57.3kiB [00:00, 137kiB/s]                          \n"
     ]
    },
    {
     "name": "stdout",
     "output_type": "stream",
     "text": [
      "password required for SoccerNet\\europe_uefa-champions-league\\2014-2015\\2014-11-04 - 22-45 Real Madrid 1 - 0 Liverpool\\1_720p.mkv\n"
     ]
    },
    {
     "name": "stderr",
     "output_type": "stream",
     "text": [
      "Downloading SoccerNet\\europe_uefa-champions-league\\2014-2015\\2014-11-04 - 22-45 Real Madrid 1 - 0 Liverpool\\Labels-v2.json...: : 49.2kiB [00:00, 168kiB/s]                          \n"
     ]
    },
    {
     "name": "stdout",
     "output_type": "stream",
     "text": [
      "password required for SoccerNet\\europe_uefa-champions-league\\2014-2015\\2014-11-05 - 22-45 Ajax 0 - 2 Barcelona\\1_720p.mkv\n"
     ]
    },
    {
     "name": "stderr",
     "output_type": "stream",
     "text": [
      "Downloading SoccerNet\\europe_uefa-champions-league\\2014-2015\\2014-11-05 - 22-45 Ajax 0 - 2 Barcelona\\Labels-v2.json...: : 49.2kiB [00:00, 172kiB/s]                          \n"
     ]
    },
    {
     "name": "stdout",
     "output_type": "stream",
     "text": [
      "password required for SoccerNet\\europe_uefa-champions-league\\2014-2015\\2014-11-05 - 22-45 Manchester City 1 - 2 CSKA Moscow\\1_720p.mkv\n"
     ]
    },
    {
     "name": "stderr",
     "output_type": "stream",
     "text": [
      "Downloading SoccerNet\\europe_uefa-champions-league\\2014-2015\\2014-11-05 - 22-45 Manchester City 1 - 2 CSKA Moscow\\Labels-v2.json...: : 57.3kiB [00:00, 139kiB/s]                          \n"
     ]
    },
    {
     "name": "stdout",
     "output_type": "stream",
     "text": [
      "password required for SoccerNet\\europe_uefa-champions-league\\2014-2015\\2014-12-09 - 22-45 Galatasaray 1 - 4 Arsenal\\1_720p.mkv\n"
     ]
    },
    {
     "name": "stderr",
     "output_type": "stream",
     "text": [
      "Downloading SoccerNet\\europe_uefa-champions-league\\2014-2015\\2014-12-09 - 22-45 Galatasaray 1 - 4 Arsenal\\Labels-v2.json...: : 57.3kiB [00:00, 135kiB/s]                          \n"
     ]
    },
    {
     "name": "stdout",
     "output_type": "stream",
     "text": [
      "password required for SoccerNet\\europe_uefa-champions-league\\2014-2015\\2014-12-09 - 22-45 Real Madrid 4 - 0 Ludogorets\\1_720p.mkv\n"
     ]
    },
    {
     "name": "stderr",
     "output_type": "stream",
     "text": [
      "Downloading SoccerNet\\europe_uefa-champions-league\\2014-2015\\2014-12-09 - 22-45 Real Madrid 4 - 0 Ludogorets\\Labels-v2.json...: : 49.2kiB [00:00, 117kiB/s]                          \n"
     ]
    },
    {
     "name": "stdout",
     "output_type": "stream",
     "text": [
      "password required for SoccerNet\\europe_uefa-champions-league\\2014-2015\\2015-03-11 - 22-45 Bayern Munich 7 - 0 Shakhtar Donetsk\\1_720p.mkv\n"
     ]
    },
    {
     "name": "stderr",
     "output_type": "stream",
     "text": [
      "Downloading SoccerNet\\europe_uefa-champions-league\\2014-2015\\2015-03-11 - 22-45 Bayern Munich 7 - 0 Shakhtar Donetsk\\Labels-v2.json...: : 57.3kiB [00:00, 142kiB/s]                          \n"
     ]
    },
    {
     "name": "stdout",
     "output_type": "stream",
     "text": [
      "password required for SoccerNet\\europe_uefa-champions-league\\2014-2015\\2015-04-15 - 21-45 Paris SG 1 - 3 Barcelona\\1_720p.mkv\n"
     ]
    },
    {
     "name": "stderr",
     "output_type": "stream",
     "text": [
      "Downloading SoccerNet\\europe_uefa-champions-league\\2014-2015\\2015-04-15 - 21-45 Paris SG 1 - 3 Barcelona\\Labels-v2.json...: : 49.2kiB [00:00, 176kiB/s]                          \n"
     ]
    },
    {
     "name": "stdout",
     "output_type": "stream",
     "text": [
      "password required for SoccerNet\\europe_uefa-champions-league\\2014-2015\\2015-04-21 - 21-45 Barcelona 2 - 0 Paris SG\\1_720p.mkv\n"
     ]
    },
    {
     "name": "stderr",
     "output_type": "stream",
     "text": [
      "Downloading SoccerNet\\europe_uefa-champions-league\\2014-2015\\2015-04-21 - 21-45 Barcelona 2 - 0 Paris SG\\Labels-v2.json...: : 41.0kiB [00:00, 147kiB/s]                          \n"
     ]
    },
    {
     "name": "stdout",
     "output_type": "stream",
     "text": [
      "password required for SoccerNet\\europe_uefa-champions-league\\2015-2016\\2015-09-15 - 21-45 PSV 2 - 1 Manchester United\\1_720p.mkv\n"
     ]
    },
    {
     "name": "stderr",
     "output_type": "stream",
     "text": [
      "Downloading SoccerNet\\europe_uefa-champions-league\\2015-2016\\2015-09-15 - 21-45 PSV 2 - 1 Manchester United\\Labels-v2.json...: : 49.2kiB [00:00, 118kiB/s]                          \n"
     ]
    },
    {
     "name": "stdout",
     "output_type": "stream",
     "text": [
      "password required for SoccerNet\\europe_uefa-champions-league\\2015-2016\\2015-09-16 - 21-45 Chelsea 4 - 0 Maccabi Tel Aviv\\1_720p.mkv\n"
     ]
    },
    {
     "name": "stderr",
     "output_type": "stream",
     "text": [
      "Downloading SoccerNet\\europe_uefa-champions-league\\2015-2016\\2015-09-16 - 21-45 Chelsea 4 - 0 Maccabi Tel Aviv\\Labels-v2.json...: : 65.5kiB [00:00, 117kiB/s]                          \n"
     ]
    },
    {
     "name": "stdout",
     "output_type": "stream",
     "text": [
      "password required for SoccerNet\\europe_uefa-champions-league\\2015-2016\\2015-09-16 - 21-45 Dyn. Kiev 2 - 2 FC Porto\\1_720p.mkv\n"
     ]
    },
    {
     "name": "stderr",
     "output_type": "stream",
     "text": [
      "Downloading SoccerNet\\europe_uefa-champions-league\\2015-2016\\2015-09-16 - 21-45 Dyn. Kiev 2 - 2 FC Porto\\Labels-v2.json...: : 57.3kiB [00:00, 142kiB/s]                          \n"
     ]
    },
    {
     "name": "stdout",
     "output_type": "stream",
     "text": [
      "password required for SoccerNet\\europe_uefa-champions-league\\2015-2016\\2015-09-16 - 21-45 Olympiakos Piraeus 0 - 3 Bayern Munich\\1_720p.mkv\n"
     ]
    },
    {
     "name": "stderr",
     "output_type": "stream",
     "text": [
      "Downloading SoccerNet\\europe_uefa-champions-league\\2015-2016\\2015-09-16 - 21-45 Olympiakos Piraeus 0 - 3 Bayern Munich\\Labels-v2.json...: : 57.3kiB [00:00, 105kiB/s]                          \n"
     ]
    },
    {
     "name": "stdout",
     "output_type": "stream",
     "text": [
      "password required for SoccerNet\\europe_uefa-champions-league\\2015-2016\\2015-09-29 - 21-45 Barcelona 2 - 1 Bayer Leverkusen\\1_720p.mkv\n"
     ]
    },
    {
     "name": "stderr",
     "output_type": "stream",
     "text": [
      "Downloading SoccerNet\\europe_uefa-champions-league\\2015-2016\\2015-09-29 - 21-45 Barcelona 2 - 1 Bayer Leverkusen\\Labels-v2.json...: : 65.5kiB [00:00, 119kiB/s]                          \n"
     ]
    },
    {
     "name": "stdout",
     "output_type": "stream",
     "text": [
      "password required for SoccerNet\\europe_uefa-champions-league\\2015-2016\\2015-09-29 - 21-45 FC Porto 2 - 1 Chelsea\\1_720p.mkv\n"
     ]
    },
    {
     "name": "stderr",
     "output_type": "stream",
     "text": [
      "Downloading SoccerNet\\europe_uefa-champions-league\\2015-2016\\2015-09-29 - 21-45 FC Porto 2 - 1 Chelsea\\Labels-v2.json...: : 57.3kiB [00:00, 105kiB/s]                          \n"
     ]
    },
    {
     "name": "stdout",
     "output_type": "stream",
     "text": [
      "password required for SoccerNet\\europe_uefa-champions-league\\2015-2016\\2015-11-03 - 22-45 Benfica 2 - 1 Galatasaray\\1_720p.mkv\n"
     ]
    },
    {
     "name": "stderr",
     "output_type": "stream",
     "text": [
      "Downloading SoccerNet\\europe_uefa-champions-league\\2015-2016\\2015-11-03 - 22-45 Benfica 2 - 1 Galatasaray\\Labels-v2.json...: : 57.3kiB [00:00, 104kiB/s]                          \n"
     ]
    },
    {
     "name": "stdout",
     "output_type": "stream",
     "text": [
      "password required for SoccerNet\\europe_uefa-champions-league\\2015-2016\\2015-11-04 - 22-45 Barcelona 3 - 0 BATE\\1_720p.mkv\n"
     ]
    },
    {
     "name": "stderr",
     "output_type": "stream",
     "text": [
      "Downloading SoccerNet\\europe_uefa-champions-league\\2015-2016\\2015-11-04 - 22-45 Barcelona 3 - 0 BATE\\Labels-v2.json...: : 49.2kiB [00:00, 120kiB/s]                          \n"
     ]
    },
    {
     "name": "stdout",
     "output_type": "stream",
     "text": [
      "password required for SoccerNet\\europe_uefa-champions-league\\2015-2016\\2015-11-24 - 20-00 BATE 1 - 1 Bayer Leverkusen\\1_720p.mkv\n"
     ]
    },
    {
     "name": "stderr",
     "output_type": "stream",
     "text": [
      "Downloading SoccerNet\\europe_uefa-champions-league\\2015-2016\\2015-11-24 - 20-00 BATE 1 - 1 Bayer Leverkusen\\Labels-v2.json...: : 57.3kiB [00:00, 103kiB/s]                          \n"
     ]
    },
    {
     "name": "stdout",
     "output_type": "stream",
     "text": [
      "password required for SoccerNet\\europe_uefa-champions-league\\2015-2016\\2015-11-25 - 22-45 Juventus 1 - 0 Manchester City\\1_720p.mkv\n"
     ]
    },
    {
     "name": "stderr",
     "output_type": "stream",
     "text": [
      "Downloading SoccerNet\\europe_uefa-champions-league\\2015-2016\\2015-11-25 - 22-45 Juventus 1 - 0 Manchester City\\Labels-v2.json...: : 57.3kiB [00:00, 137kiB/s]                          \n"
     ]
    },
    {
     "name": "stdout",
     "output_type": "stream",
     "text": [
      "password required for SoccerNet\\europe_uefa-champions-league\\2016-2017\\2016-09-28 - 21-45 Napoli 4 - 2 Benfica\\1_720p.mkv\n"
     ]
    },
    {
     "name": "stderr",
     "output_type": "stream",
     "text": [
      "Downloading SoccerNet\\europe_uefa-champions-league\\2016-2017\\2016-09-28 - 21-45 Napoli 4 - 2 Benfica\\Labels-v2.json...: : 57.3kiB [00:00, 138kiB/s]                          \n"
     ]
    },
    {
     "name": "stdout",
     "output_type": "stream",
     "text": [
      "password required for SoccerNet\\europe_uefa-champions-league\\2016-2017\\2016-10-19 - 21-45 Paris SG 3 - 0 Basel\\1_720p.mkv\n"
     ]
    },
    {
     "name": "stderr",
     "output_type": "stream",
     "text": [
      "Downloading SoccerNet\\europe_uefa-champions-league\\2016-2017\\2016-10-19 - 21-45 Paris SG 3 - 0 Basel\\Labels-v2.json...: : 57.3kiB [00:00, 103kiB/s]                          \n"
     ]
    },
    {
     "name": "stdout",
     "output_type": "stream",
     "text": [
      "password required for SoccerNet\\france_ligue-1\\2015-2016\\2015-09-19 - 18-30 Reims 1 - 1 Paris SG\\1_720p.mkv\n"
     ]
    },
    {
     "name": "stderr",
     "output_type": "stream",
     "text": [
      "Downloading SoccerNet\\france_ligue-1\\2015-2016\\2015-09-19 - 18-30 Reims 1 - 1 Paris SG\\Labels-v2.json...: : 49.2kiB [00:00, 118kiB/s]                          \n"
     ]
    },
    {
     "name": "stdout",
     "output_type": "stream",
     "text": [
      "password required for SoccerNet\\france_ligue-1\\2016-2017\\2016-08-21 - 21-45 Paris SG 3 - 0 Metz\\1_720p.mkv\n"
     ]
    },
    {
     "name": "stderr",
     "output_type": "stream",
     "text": [
      "Downloading SoccerNet\\france_ligue-1\\2016-2017\\2016-08-21 - 21-45 Paris SG 3 - 0 Metz\\Labels-v2.json...: : 65.5kiB [00:00, 120kiB/s]                          \n"
     ]
    },
    {
     "name": "stdout",
     "output_type": "stream",
     "text": [
      "password required for SoccerNet\\france_ligue-1\\2016-2017\\2016-09-09 - 21-45 Paris SG 1 - 1 St Etienne\\1_720p.mkv\n"
     ]
    },
    {
     "name": "stderr",
     "output_type": "stream",
     "text": [
      "Downloading SoccerNet\\france_ligue-1\\2016-2017\\2016-09-09 - 21-45 Paris SG 1 - 1 St Etienne\\Labels-v2.json...: : 49.2kiB [00:00, 123kiB/s]                          \n"
     ]
    },
    {
     "name": "stdout",
     "output_type": "stream",
     "text": [
      "password required for SoccerNet\\france_ligue-1\\2016-2017\\2016-09-20 - 22-00 Paris SG 3 - 0 Dijon\\1_720p.mkv\n"
     ]
    },
    {
     "name": "stderr",
     "output_type": "stream",
     "text": [
      "Downloading SoccerNet\\france_ligue-1\\2016-2017\\2016-09-20 - 22-00 Paris SG 3 - 0 Dijon\\Labels-v2.json...: : 41.0kiB [00:00, 149kiB/s]                          \n"
     ]
    },
    {
     "name": "stdout",
     "output_type": "stream",
     "text": [
      "password required for SoccerNet\\france_ligue-1\\2016-2017\\2016-10-23 - 21-45 Paris SG 0 - 0 Marseille\\1_720p.mkv\n"
     ]
    },
    {
     "name": "stderr",
     "output_type": "stream",
     "text": [
      "Downloading SoccerNet\\france_ligue-1\\2016-2017\\2016-10-23 - 21-45 Paris SG 0 - 0 Marseille\\Labels-v2.json...: : 49.2kiB [00:00, 175kiB/s]                          \n"
     ]
    },
    {
     "name": "stdout",
     "output_type": "stream",
     "text": [
      "password required for SoccerNet\\france_ligue-1\\2016-2017\\2016-12-03 - 19-00 Montpellier 3 - 0 Paris SG\\1_720p.mkv\n"
     ]
    },
    {
     "name": "stderr",
     "output_type": "stream",
     "text": [
      "Downloading SoccerNet\\france_ligue-1\\2016-2017\\2016-12-03 - 19-00 Montpellier 3 - 0 Paris SG\\Labels-v2.json...: : 49.2kiB [00:00, 120kiB/s]                          \n"
     ]
    },
    {
     "name": "stdout",
     "output_type": "stream",
     "text": [
      "password required for SoccerNet\\france_ligue-1\\2016-2017\\2017-03-04 - 19-00 Paris SG 1 - 0 Nancy\\1_720p.mkv\n"
     ]
    },
    {
     "name": "stderr",
     "output_type": "stream",
     "text": [
      "Downloading SoccerNet\\france_ligue-1\\2016-2017\\2017-03-04 - 19-00 Paris SG 1 - 0 Nancy\\Labels-v2.json...: : 57.3kiB [00:00, 142kiB/s]                          \n"
     ]
    },
    {
     "name": "stdout",
     "output_type": "stream",
     "text": [
      "password required for SoccerNet\\france_ligue-1\\2016-2017\\2017-04-09 - 22-00 Paris SG 4 - 0 Guingamp\\1_720p.mkv\n"
     ]
    },
    {
     "name": "stderr",
     "output_type": "stream",
     "text": [
      "Downloading SoccerNet\\france_ligue-1\\2016-2017\\2017-04-09 - 22-00 Paris SG 4 - 0 Guingamp\\Labels-v2.json...: : 57.3kiB [00:00, 146kiB/s]                          \n"
     ]
    },
    {
     "name": "stdout",
     "output_type": "stream",
     "text": [
      "password required for SoccerNet\\france_ligue-1\\2016-2017\\2017-05-14 - 22-00 St Etienne 0 - 5 Paris SG\\1_720p.mkv\n"
     ]
    },
    {
     "name": "stderr",
     "output_type": "stream",
     "text": [
      "Downloading SoccerNet\\france_ligue-1\\2016-2017\\2017-05-14 - 22-00 St Etienne 0 - 5 Paris SG\\Labels-v2.json...: : 41.0kiB [00:00, 149kiB/s]                          \n"
     ]
    },
    {
     "name": "stdout",
     "output_type": "stream",
     "text": [
      "password required for SoccerNet\\germany_bundesliga\\2014-2015\\2015-04-25 - 19-30 Bayern Munich 1 - 0 Hertha Berlin\\1_720p.mkv\n"
     ]
    },
    {
     "name": "stderr",
     "output_type": "stream",
     "text": [
      "Downloading SoccerNet\\germany_bundesliga\\2014-2015\\2015-04-25 - 19-30 Bayern Munich 1 - 0 Hertha Berlin\\Labels-v2.json...: : 49.2kiB [00:00, 119kiB/s]                          \n"
     ]
    },
    {
     "name": "stdout",
     "output_type": "stream",
     "text": [
      "password required for SoccerNet\\germany_bundesliga\\2014-2015\\2015-05-02 - 16-30 Hoffenheim 1 - 1 Dortmund\\1_720p.mkv\n"
     ]
    },
    {
     "name": "stderr",
     "output_type": "stream",
     "text": [
      "Downloading SoccerNet\\germany_bundesliga\\2014-2015\\2015-05-02 - 16-30 Hoffenheim 1 - 1 Dortmund\\Labels-v2.json...: : 65.5kiB [00:00, 117kiB/s]                          \n"
     ]
    },
    {
     "name": "stdout",
     "output_type": "stream",
     "text": [
      "password required for SoccerNet\\germany_bundesliga\\2015-2016\\2015-09-20 - 18-30 Dortmund 3 - 0 Bayer Leverkusen\\1_720p.mkv\n"
     ]
    },
    {
     "name": "stderr",
     "output_type": "stream",
     "text": [
      "Downloading SoccerNet\\germany_bundesliga\\2015-2016\\2015-09-20 - 18-30 Dortmund 3 - 0 Bayer Leverkusen\\Labels-v2.json...: : 57.3kiB [00:00, 107kiB/s]                          \n"
     ]
    },
    {
     "name": "stdout",
     "output_type": "stream",
     "text": [
      "password required for SoccerNet\\germany_bundesliga\\2015-2016\\2015-10-04 - 18-30 Bayern Munich 5 - 1 Dortmund\\1_720p.mkv\n"
     ]
    },
    {
     "name": "stderr",
     "output_type": "stream",
     "text": [
      "Downloading SoccerNet\\germany_bundesliga\\2015-2016\\2015-10-04 - 18-30 Bayern Munich 5 - 1 Dortmund\\Labels-v2.json...: : 57.3kiB [00:00, 141kiB/s]                          \n"
     ]
    },
    {
     "name": "stdout",
     "output_type": "stream",
     "text": [
      "password required for SoccerNet\\germany_bundesliga\\2015-2016\\2015-11-07 - 17-30 Bayern Munich 4 - 0 VfB Stuttgart\\1_720p.mkv\n"
     ]
    },
    {
     "name": "stderr",
     "output_type": "stream",
     "text": [
      "Downloading SoccerNet\\germany_bundesliga\\2015-2016\\2015-11-07 - 17-30 Bayern Munich 4 - 0 VfB Stuttgart\\Labels-v2.json...: : 57.3kiB [00:00, 140kiB/s]                          \n"
     ]
    },
    {
     "name": "stdout",
     "output_type": "stream",
     "text": [
      "password required for SoccerNet\\germany_bundesliga\\2015-2016\\2016-04-23 - 16-30 Hertha Berlin 0 - 2 Bayern Munich\\1_720p.mkv\n"
     ]
    },
    {
     "name": "stderr",
     "output_type": "stream",
     "text": [
      "Downloading SoccerNet\\germany_bundesliga\\2015-2016\\2016-04-23 - 16-30 Hertha Berlin 0 - 2 Bayern Munich\\Labels-v2.json...: : 57.3kiB [00:00, 146kiB/s]                          \n"
     ]
    },
    {
     "name": "stdout",
     "output_type": "stream",
     "text": [
      "password required for SoccerNet\\germany_bundesliga\\2016-2017\\2016-12-03 - 17-30 Dortmund 4 - 1 B. Monchengladbach\\1_720p.mkv\n"
     ]
    },
    {
     "name": "stderr",
     "output_type": "stream",
     "text": [
      "Downloading SoccerNet\\germany_bundesliga\\2016-2017\\2016-12-03 - 17-30 Dortmund 4 - 1 B. Monchengladbach\\Labels-v2.json...: : 49.2kiB [00:00, 120kiB/s]                          \n"
     ]
    },
    {
     "name": "stdout",
     "output_type": "stream",
     "text": [
      "password required for SoccerNet\\germany_bundesliga\\2016-2017\\2017-02-25 - 17-30 SC Freiburg 0 - 3 Dortmund\\1_720p.mkv\n"
     ]
    },
    {
     "name": "stderr",
     "output_type": "stream",
     "text": [
      "Downloading SoccerNet\\germany_bundesliga\\2016-2017\\2017-02-25 - 17-30 SC Freiburg 0 - 3 Dortmund\\Labels-v2.json...: : 49.2kiB [00:00, 125kiB/s]                          \n"
     ]
    },
    {
     "name": "stdout",
     "output_type": "stream",
     "text": [
      "password required for SoccerNet\\italy_serie-a\\2014-2015\\2015-04-25 - 19-00 Udinese 2 - 1 AC Milan\\1_720p.mkv\n"
     ]
    },
    {
     "name": "stderr",
     "output_type": "stream",
     "text": [
      "Downloading SoccerNet\\italy_serie-a\\2014-2015\\2015-04-25 - 19-00 Udinese 2 - 1 AC Milan\\Labels-v2.json...: : 65.5kiB [00:00, 114kiB/s]                          \n"
     ]
    },
    {
     "name": "stdout",
     "output_type": "stream",
     "text": [
      "password required for SoccerNet\\italy_serie-a\\2014-2015\\2015-05-10 - 21-45 Lazio 1 - 2 Inter\\1_720p.mkv\n"
     ]
    },
    {
     "name": "stderr",
     "output_type": "stream",
     "text": [
      "Downloading SoccerNet\\italy_serie-a\\2014-2015\\2015-05-10 - 21-45 Lazio 1 - 2 Inter\\Labels-v2.json...: : 57.3kiB [00:00, 140kiB/s]                          \n"
     ]
    },
    {
     "name": "stdout",
     "output_type": "stream",
     "text": [
      "password required for SoccerNet\\italy_serie-a\\2014-2015\\2015-05-17 - 13-30 Sassuolo 3 - 2 AC Milan\\1_720p.mkv\n"
     ]
    },
    {
     "name": "stderr",
     "output_type": "stream",
     "text": [
      "Downloading SoccerNet\\italy_serie-a\\2014-2015\\2015-05-17 - 13-30 Sassuolo 3 - 2 AC Milan\\Labels-v2.json...: : 49.2kiB [00:00, 114kiB/s]                          \n"
     ]
    },
    {
     "name": "stdout",
     "output_type": "stream",
     "text": [
      "password required for SoccerNet\\italy_serie-a\\2015-2016\\2015-09-26 - 21-45 Napoli 2 - 1 Juventus\\1_720p.mkv\n"
     ]
    },
    {
     "name": "stderr",
     "output_type": "stream",
     "text": [
      "Downloading SoccerNet\\italy_serie-a\\2015-2016\\2015-09-26 - 21-45 Napoli 2 - 1 Juventus\\Labels-v2.json...: : 65.5kiB [00:00, 117kiB/s]                          \n"
     ]
    },
    {
     "name": "stdout",
     "output_type": "stream",
     "text": [
      "password required for SoccerNet\\italy_serie-a\\2016-2017\\2016-08-20 - 19-00 AS Roma 4 - 0 Udinese\\1_720p.mkv\n"
     ]
    },
    {
     "name": "stderr",
     "output_type": "stream",
     "text": [
      "Downloading SoccerNet\\italy_serie-a\\2016-2017\\2016-08-20 - 19-00 AS Roma 4 - 0 Udinese\\Labels-v2.json...: : 57.3kiB [00:00, 138kiB/s]                          \n"
     ]
    },
    {
     "name": "stdout",
     "output_type": "stream",
     "text": [
      "password required for SoccerNet\\italy_serie-a\\2016-2017\\2016-09-18 - 21-45 Fiorentina 1 - 0 AS Roma\\1_720p.mkv\n"
     ]
    },
    {
     "name": "stderr",
     "output_type": "stream",
     "text": [
      "Downloading SoccerNet\\italy_serie-a\\2016-2017\\2016-09-18 - 21-45 Fiorentina 1 - 0 AS Roma\\Labels-v2.json...: : 49.2kiB [00:00, 118kiB/s]                          \n"
     ]
    },
    {
     "name": "stdout",
     "output_type": "stream",
     "text": [
      "password required for SoccerNet\\italy_serie-a\\2016-2017\\2016-09-21 - 21-45 Genoa 0 - 0 Napoli\\1_720p.mkv\n"
     ]
    },
    {
     "name": "stderr",
     "output_type": "stream",
     "text": [
      "Downloading SoccerNet\\italy_serie-a\\2016-2017\\2016-09-21 - 21-45 Genoa 0 - 0 Napoli\\Labels-v2.json...: : 57.3kiB [00:00, 141kiB/s]                          \n"
     ]
    },
    {
     "name": "stdout",
     "output_type": "stream",
     "text": [
      "password required for SoccerNet\\italy_serie-a\\2016-2017\\2016-10-02 - 19-00 AC Milan 4 - 3 Sassuolo\\1_720p.mkv\n"
     ]
    },
    {
     "name": "stderr",
     "output_type": "stream",
     "text": [
      "Downloading SoccerNet\\italy_serie-a\\2016-2017\\2016-10-02 - 19-00 AC Milan 4 - 3 Sassuolo\\Labels-v2.json...: : 57.3kiB [00:00, 136kiB/s]                          \n"
     ]
    },
    {
     "name": "stdout",
     "output_type": "stream",
     "text": [
      "password required for SoccerNet\\italy_serie-a\\2016-2017\\2016-10-29 - 21-45 Juventus 2 - 1 Napoli\\1_720p.mkv\n"
     ]
    },
    {
     "name": "stderr",
     "output_type": "stream",
     "text": [
      "Downloading SoccerNet\\italy_serie-a\\2016-2017\\2016-10-29 - 21-45 Juventus 2 - 1 Napoli\\Labels-v2.json...: : 49.2kiB [00:00, 118kiB/s]                          \n"
     ]
    },
    {
     "name": "stdout",
     "output_type": "stream",
     "text": [
      "password required for SoccerNet\\italy_serie-a\\2016-2017\\2016-11-05 - 22-45 Napoli 1 - 1 Lazio\\1_720p.mkv\n"
     ]
    },
    {
     "name": "stderr",
     "output_type": "stream",
     "text": [
      "Downloading SoccerNet\\italy_serie-a\\2016-2017\\2016-11-05 - 22-45 Napoli 1 - 1 Lazio\\Labels-v2.json...: : 57.3kiB [00:00, 146kiB/s]                          \n"
     ]
    },
    {
     "name": "stdout",
     "output_type": "stream",
     "text": [
      "password required for SoccerNet\\italy_serie-a\\2016-2017\\2016-12-12 - 23-00 AS Roma 1 - 0 AC Milan\\1_720p.mkv\n"
     ]
    },
    {
     "name": "stderr",
     "output_type": "stream",
     "text": [
      "Downloading SoccerNet\\italy_serie-a\\2016-2017\\2016-12-12 - 23-00 AS Roma 1 - 0 AC Milan\\Labels-v2.json...: : 65.5kiB [00:00, 116kiB/s]                          \n"
     ]
    },
    {
     "name": "stdout",
     "output_type": "stream",
     "text": [
      "password required for SoccerNet\\italy_serie-a\\2016-2017\\2017-01-22 - 22-45 AS Roma 1 - 0 Cagliari\\1_720p.mkv\n"
     ]
    },
    {
     "name": "stderr",
     "output_type": "stream",
     "text": [
      "Downloading SoccerNet\\italy_serie-a\\2016-2017\\2017-01-22 - 22-45 AS Roma 1 - 0 Cagliari\\Labels-v2.json...: : 57.3kiB [00:00, 139kiB/s]                          \n"
     ]
    },
    {
     "name": "stdout",
     "output_type": "stream",
     "text": [
      "password required for SoccerNet\\italy_serie-a\\2016-2017\\2017-02-19 - 17-00 Chievo 1 - 3 Napoli\\1_720p.mkv\n"
     ]
    },
    {
     "name": "stderr",
     "output_type": "stream",
     "text": [
      "Downloading SoccerNet\\italy_serie-a\\2016-2017\\2017-02-19 - 17-00 Chievo 1 - 3 Napoli\\Labels-v2.json...: : 57.3kiB [00:00, 136kiB/s]                          \n"
     ]
    },
    {
     "name": "stdout",
     "output_type": "stream",
     "text": [
      "password required for SoccerNet\\italy_serie-a\\2016-2017\\2017-03-12 - 22-45 Palermo 0 - 3 AS Roma\\1_720p.mkv\n"
     ]
    },
    {
     "name": "stderr",
     "output_type": "stream",
     "text": [
      "Downloading SoccerNet\\italy_serie-a\\2016-2017\\2017-03-12 - 22-45 Palermo 0 - 3 AS Roma\\Labels-v2.json...: : 57.3kiB [00:00, 139kiB/s]                          \n"
     ]
    },
    {
     "name": "stdout",
     "output_type": "stream",
     "text": [
      "password required for SoccerNet\\italy_serie-a\\2016-2017\\2017-04-02 - 21-45 Napoli 1 - 1 Juventus\\1_720p.mkv\n"
     ]
    },
    {
     "name": "stderr",
     "output_type": "stream",
     "text": [
      "Downloading SoccerNet\\italy_serie-a\\2016-2017\\2017-04-02 - 21-45 Napoli 1 - 1 Juventus\\Labels-v2.json...: : 49.2kiB [00:00, 120kiB/s]                          \n"
     ]
    },
    {
     "name": "stdout",
     "output_type": "stream",
     "text": [
      "password required for SoccerNet\\italy_serie-a\\2016-2017\\2017-04-15 - 21-45 Napoli 3 - 0 Udinese\\1_720p.mkv\n"
     ]
    },
    {
     "name": "stderr",
     "output_type": "stream",
     "text": [
      "Downloading SoccerNet\\italy_serie-a\\2016-2017\\2017-04-15 - 21-45 Napoli 3 - 0 Udinese\\Labels-v2.json...: : 49.2kiB [00:00, 117kiB/s]                          \n"
     ]
    },
    {
     "name": "stdout",
     "output_type": "stream",
     "text": [
      "password required for SoccerNet\\italy_serie-a\\2016-2017\\2017-04-30 - 13-30 AS Roma 1 - 3 Lazio\\1_720p.mkv\n"
     ]
    },
    {
     "name": "stderr",
     "output_type": "stream",
     "text": [
      "Downloading SoccerNet\\italy_serie-a\\2016-2017\\2017-04-30 - 13-30 AS Roma 1 - 3 Lazio\\Labels-v2.json...: : 57.3kiB [00:00, 141kiB/s]                          \n"
     ]
    },
    {
     "name": "stdout",
     "output_type": "stream",
     "text": [
      "password required for SoccerNet\\italy_serie-a\\2016-2017\\2017-05-06 - 19-00 Napoli 3 - 1 Cagliari\\1_720p.mkv\n"
     ]
    },
    {
     "name": "stderr",
     "output_type": "stream",
     "text": [
      "Downloading SoccerNet\\italy_serie-a\\2016-2017\\2017-05-06 - 19-00 Napoli 3 - 1 Cagliari\\Labels-v2.json...: : 49.2kiB [00:00, 121kiB/s]                          \n"
     ]
    },
    {
     "name": "stdout",
     "output_type": "stream",
     "text": [
      "password required for SoccerNet\\spain_laliga\\2014-2015\\2015-04-11 - 17-00 Real Madrid 3 - 0 Eibar\\1_720p.mkv\n"
     ]
    },
    {
     "name": "stderr",
     "output_type": "stream",
     "text": [
      "Downloading SoccerNet\\spain_laliga\\2014-2015\\2015-04-11 - 17-00 Real Madrid 3 - 0 Eibar\\Labels-v2.json...: : 57.3kiB [00:00, 138kiB/s]                          \n"
     ]
    },
    {
     "name": "stdout",
     "output_type": "stream",
     "text": [
      "password required for SoccerNet\\spain_laliga\\2014-2015\\2015-04-11 - 21-00 Sevilla 2 - 2 Barcelona\\1_720p.mkv\n"
     ]
    },
    {
     "name": "stderr",
     "output_type": "stream",
     "text": [
      "Downloading SoccerNet\\spain_laliga\\2014-2015\\2015-04-11 - 21-00 Sevilla 2 - 2 Barcelona\\Labels-v2.json...: : 57.3kiB [00:00, 137kiB/s]                          \n"
     ]
    },
    {
     "name": "stdout",
     "output_type": "stream",
     "text": [
      "password required for SoccerNet\\spain_laliga\\2014-2015\\2015-04-28 - 21-00 Barcelona 6 - 0 Getafe\\1_720p.mkv\n"
     ]
    },
    {
     "name": "stderr",
     "output_type": "stream",
     "text": [
      "Downloading SoccerNet\\spain_laliga\\2014-2015\\2015-04-28 - 21-00 Barcelona 6 - 0 Getafe\\Labels-v2.json...: : 49.2kiB [00:00, 117kiB/s]                          \n"
     ]
    },
    {
     "name": "stdout",
     "output_type": "stream",
     "text": [
      "password required for SoccerNet\\spain_laliga\\2014-2015\\2015-05-02 - 19-00 Atl. Madrid 0 - 0 Ath Bilbao\\1_720p.mkv\n"
     ]
    },
    {
     "name": "stderr",
     "output_type": "stream",
     "text": [
      "Downloading SoccerNet\\spain_laliga\\2014-2015\\2015-05-02 - 19-00 Atl. Madrid 0 - 0 Ath Bilbao\\Labels-v2.json...: : 65.5kiB [00:00, 118kiB/s]                          \n"
     ]
    },
    {
     "name": "stdout",
     "output_type": "stream",
     "text": [
      "password required for SoccerNet\\spain_laliga\\2014-2015\\2015-05-02 - 21-00 Sevilla 2 - 3 Real Madrid\\1_720p.mkv\n"
     ]
    },
    {
     "name": "stderr",
     "output_type": "stream",
     "text": [
      "Downloading SoccerNet\\spain_laliga\\2014-2015\\2015-05-02 - 21-00 Sevilla 2 - 3 Real Madrid\\Labels-v2.json...: : 57.3kiB [00:00, 139kiB/s]                          \n"
     ]
    },
    {
     "name": "stdout",
     "output_type": "stream",
     "text": [
      "password required for SoccerNet\\spain_laliga\\2014-2015\\2015-05-23 - 21-30 Real Madrid 7 - 3 Getafe\\1_720p.mkv\n"
     ]
    },
    {
     "name": "stderr",
     "output_type": "stream",
     "text": [
      "Downloading SoccerNet\\spain_laliga\\2014-2015\\2015-05-23 - 21-30 Real Madrid 7 - 3 Getafe\\Labels-v2.json...: : 57.3kiB [00:00, 102kiB/s]                          \n"
     ]
    },
    {
     "name": "stdout",
     "output_type": "stream",
     "text": [
      "password required for SoccerNet\\spain_laliga\\2015-2016\\2015-09-12 - 21-30 Atl. Madrid 1 - 2 Barcelona\\1_720p.mkv\n"
     ]
    },
    {
     "name": "stderr",
     "output_type": "stream",
     "text": [
      "Downloading SoccerNet\\spain_laliga\\2015-2016\\2015-09-12 - 21-30 Atl. Madrid 1 - 2 Barcelona\\Labels-v2.json...: : 57.3kiB [00:00, 135kiB/s]                          \n"
     ]
    },
    {
     "name": "stdout",
     "output_type": "stream",
     "text": [
      "password required for SoccerNet\\spain_laliga\\2015-2016\\2015-09-26 - 17-00 Barcelona 2 - 1 Las Palmas\\1_720p.mkv\n"
     ]
    },
    {
     "name": "stderr",
     "output_type": "stream",
     "text": [
      "Downloading SoccerNet\\spain_laliga\\2015-2016\\2015-09-26 - 17-00 Barcelona 2 - 1 Las Palmas\\Labels-v2.json...: : 57.3kiB [00:00, 140kiB/s]                          \n"
     ]
    },
    {
     "name": "stdout",
     "output_type": "stream",
     "text": [
      "password required for SoccerNet\\spain_laliga\\2015-2016\\2015-10-24 - 17-00 Celta Vigo 1 - 3 Real Madrid\\1_720p.mkv\n"
     ]
    },
    {
     "name": "stderr",
     "output_type": "stream",
     "text": [
      "Downloading SoccerNet\\spain_laliga\\2015-2016\\2015-10-24 - 17-00 Celta Vigo 1 - 3 Real Madrid\\Labels-v2.json...: : 57.3kiB [00:00, 147kiB/s]                          \n"
     ]
    },
    {
     "name": "stdout",
     "output_type": "stream",
     "text": [
      "password required for SoccerNet\\spain_laliga\\2015-2016\\2015-12-13 - 22-30 Villarreal 1 - 0 Real Madrid\\1_720p.mkv\n"
     ]
    },
    {
     "name": "stderr",
     "output_type": "stream",
     "text": [
      "Downloading SoccerNet\\spain_laliga\\2015-2016\\2015-12-13 - 22-30 Villarreal 1 - 0 Real Madrid\\Labels-v2.json...: : 57.3kiB [00:00, 138kiB/s]                          \n"
     ]
    },
    {
     "name": "stdout",
     "output_type": "stream",
     "text": [
      "password required for SoccerNet\\spain_laliga\\2015-2016\\2015-12-20 - 18-00 Real Madrid 1 - 0 Rayo Vallecano\\1_720p.mkv\n"
     ]
    },
    {
     "name": "stderr",
     "output_type": "stream",
     "text": [
      "Downloading SoccerNet\\spain_laliga\\2015-2016\\2015-12-20 - 18-00 Real Madrid 1 - 0 Rayo Vallecano\\Labels-v2.json...: : 65.5kiB [00:00, 119kiB/s]                          \n"
     ]
    },
    {
     "name": "stdout",
     "output_type": "stream",
     "text": [
      "password required for SoccerNet\\spain_laliga\\2015-2016\\2016-01-03 - 22-30 Valencia 2 - 2 Real Madrid\\1_720p.mkv\n"
     ]
    },
    {
     "name": "stderr",
     "output_type": "stream",
     "text": [
      "Downloading SoccerNet\\spain_laliga\\2015-2016\\2016-01-03 - 22-30 Valencia 2 - 2 Real Madrid\\Labels-v2.json...: : 57.3kiB [00:00, 139kiB/s]                          \n"
     ]
    },
    {
     "name": "stdout",
     "output_type": "stream",
     "text": [
      "password required for SoccerNet\\spain_laliga\\2015-2016\\2016-01-09 - 22-30 Real Madrid 5 - 0 Dep. La Coruna\\1_720p.mkv\n"
     ]
    },
    {
     "name": "stderr",
     "output_type": "stream",
     "text": [
      "Downloading SoccerNet\\spain_laliga\\2015-2016\\2016-01-09 - 22-30 Real Madrid 5 - 0 Dep. La Coruna\\Labels-v2.json...: : 57.3kiB [00:00, 140kiB/s]                          \n"
     ]
    },
    {
     "name": "stdout",
     "output_type": "stream",
     "text": [
      "password required for SoccerNet\\spain_laliga\\2015-2016\\2016-02-13 - 18-00 Real Madrid 4 - 2 Ath Bilbao\\1_720p.mkv\n"
     ]
    },
    {
     "name": "stderr",
     "output_type": "stream",
     "text": [
      "Downloading SoccerNet\\spain_laliga\\2015-2016\\2016-02-13 - 18-00 Real Madrid 4 - 2 Ath Bilbao\\Labels-v2.json...: : 57.3kiB [00:00, 138kiB/s]                          \n"
     ]
    },
    {
     "name": "stdout",
     "output_type": "stream",
     "text": [
      "password required for SoccerNet\\spain_laliga\\2015-2016\\2016-03-20 - 22-30 Real Madrid 4 - 0 Sevilla\\1_720p.mkv\n"
     ]
    },
    {
     "name": "stderr",
     "output_type": "stream",
     "text": [
      "Downloading SoccerNet\\spain_laliga\\2015-2016\\2016-03-20 - 22-30 Real Madrid 4 - 0 Sevilla\\Labels-v2.json...: : 57.3kiB [00:00, 103kiB/s]                          \n"
     ]
    },
    {
     "name": "stdout",
     "output_type": "stream",
     "text": [
      "password required for SoccerNet\\spain_laliga\\2016-2017\\2016-08-21 - 21-15 Real Sociedad 0 - 3 Real Madrid\\1_720p.mkv\n"
     ]
    },
    {
     "name": "stderr",
     "output_type": "stream",
     "text": [
      "Downloading SoccerNet\\spain_laliga\\2016-2017\\2016-08-21 - 21-15 Real Sociedad 0 - 3 Real Madrid\\Labels-v2.json...: : 65.5kiB [00:00, 119kiB/s]                         \n"
     ]
    },
    {
     "name": "stdout",
     "output_type": "stream",
     "text": [
      "password required for SoccerNet\\spain_laliga\\2016-2017\\2016-09-17 - 14-00 Leganes 1 - 5 Barcelona\\1_720p.mkv\n"
     ]
    },
    {
     "name": "stderr",
     "output_type": "stream",
     "text": [
      "Downloading SoccerNet\\spain_laliga\\2016-2017\\2016-09-17 - 14-00 Leganes 1 - 5 Barcelona\\Labels-v2.json...: : 57.3kiB [00:00, 140kiB/s]                          \n"
     ]
    },
    {
     "name": "stdout",
     "output_type": "stream",
     "text": [
      "password required for SoccerNet\\spain_laliga\\2016-2017\\2016-10-02 - 21-45 Celta Vigo 4 - 3 Barcelona\\1_720p.mkv\n"
     ]
    },
    {
     "name": "stderr",
     "output_type": "stream",
     "text": [
      "Downloading SoccerNet\\spain_laliga\\2016-2017\\2016-10-02 - 21-45 Celta Vigo 4 - 3 Barcelona\\Labels-v2.json...: : 57.3kiB [00:00, 139kiB/s]                          \n"
     ]
    },
    {
     "name": "stdout",
     "output_type": "stream",
     "text": [
      "password required for SoccerNet\\spain_laliga\\2016-2017\\2016-10-15 - 17-15 Barcelona 4 - 0 Dep. La Coruna\\1_720p.mkv\n"
     ]
    },
    {
     "name": "stderr",
     "output_type": "stream",
     "text": [
      "Downloading SoccerNet\\spain_laliga\\2016-2017\\2016-10-15 - 17-15 Barcelona 4 - 0 Dep. La Coruna\\Labels-v2.json...: : 57.3kiB [00:00, 141kiB/s]                          \n"
     ]
    },
    {
     "name": "stdout",
     "output_type": "stream",
     "text": [
      "password required for SoccerNet\\spain_laliga\\2016-2017\\2017-01-07 - 15-00 Real Madrid 5 - 0 Granada CF\\1_720p.mkv\n"
     ]
    },
    {
     "name": "stderr",
     "output_type": "stream",
     "text": [
      "Downloading SoccerNet\\spain_laliga\\2016-2017\\2017-01-07 - 15-00 Real Madrid 5 - 0 Granada CF\\Labels-v2.json...: : 57.3kiB [00:00, 136kiB/s]                          \n"
     ]
    },
    {
     "name": "stdout",
     "output_type": "stream",
     "text": [
      "password required for SoccerNet\\spain_laliga\\2016-2017\\2017-01-21 - 18-15 Real Madrid 2 - 1 Malaga\\1_720p.mkv\n"
     ]
    },
    {
     "name": "stderr",
     "output_type": "stream",
     "text": [
      "Downloading SoccerNet\\spain_laliga\\2016-2017\\2017-01-21 - 18-15 Real Madrid 2 - 1 Malaga\\Labels-v2.json...: : 57.3kiB [00:00, 139kiB/s]                          \n"
     ]
    },
    {
     "name": "stdout",
     "output_type": "stream",
     "text": [
      "password required for SoccerNet\\spain_laliga\\2016-2017\\2017-02-18 - 18-15 Real Madrid 2 - 0 Espanyol\\1_720p.mkv\n"
     ]
    },
    {
     "name": "stderr",
     "output_type": "stream",
     "text": [
      "Downloading SoccerNet\\spain_laliga\\2016-2017\\2017-02-18 - 18-15 Real Madrid 2 - 0 Espanyol\\Labels-v2.json...: : 57.3kiB [00:00, 104kiB/s]                          \n"
     ]
    },
    {
     "name": "stdout",
     "output_type": "stream",
     "text": [
      "password required for SoccerNet\\spain_laliga\\2016-2017\\2017-04-23 - 21-45 Real Madrid 2 - 3 Barcelona\\1_720p.mkv\n"
     ]
    },
    {
     "name": "stderr",
     "output_type": "stream",
     "text": [
      "Downloading SoccerNet\\spain_laliga\\2016-2017\\2017-04-23 - 21-45 Real Madrid 2 - 3 Barcelona\\Labels-v2.json...: : 49.2kiB [00:00, 180kiB/s]                          \n"
     ]
    },
    {
     "name": "stdout",
     "output_type": "stream",
     "text": [
      "password required for SoccerNet\\spain_laliga\\2016-2017\\2017-04-29 - 17-15 Real Madrid 2 - 1 Valencia\\1_720p.mkv\n"
     ]
    },
    {
     "name": "stderr",
     "output_type": "stream",
     "text": [
      "Downloading SoccerNet\\spain_laliga\\2016-2017\\2017-04-29 - 17-15 Real Madrid 2 - 1 Valencia\\Labels-v2.json...: : 41.0kiB [00:00, 155kiB/s]                          \n"
     ]
    },
    {
     "name": "stdout",
     "output_type": "stream",
     "text": [
      "password required for SoccerNet\\spain_laliga\\2016-2017\\2017-04-29 - 21-45 Espanyol 0 - 3 Barcelona\\1_720p.mkv\n"
     ]
    },
    {
     "name": "stderr",
     "output_type": "stream",
     "text": [
      "Downloading SoccerNet\\spain_laliga\\2016-2017\\2017-04-29 - 21-45 Espanyol 0 - 3 Barcelona\\Labels-v2.json...: : 41.0kiB [00:00, 141kiB/s]                          \n"
     ]
    },
    {
     "name": "stdout",
     "output_type": "stream",
     "text": [
      "password required for SoccerNet\\spain_laliga\\2016-2017\\2017-05-14 - 21-00 Las Palmas 1 - 4 Barcelona\\1_720p.mkv\n"
     ]
    },
    {
     "name": "stderr",
     "output_type": "stream",
     "text": [
      "Downloading SoccerNet\\spain_laliga\\2016-2017\\2017-05-14 - 21-00 Las Palmas 1 - 4 Barcelona\\Labels-v2.json...: : 41.0kiB [00:00, 144kiB/s]                          \n"
     ]
    }
   ],
   "source": [
    "'''\n",
    "Load SoccerNet Dataset\n",
    "'''\n",
    "# Run this in a notebook cell\n",
    "%pip install SoccerNet --upgrade --user\n",
    "from pathlib import Path\n",
    "from SoccerNet.Downloader import SoccerNetDownloader\n",
    "\n",
    "# Point to a local folder where SoccerNet will be cached\n",
    "SN_ROOT = Path(\"./SoccerNet\")   # or an absolute path on your machine\n",
    "\n",
    "# Initialize downloader\n",
    "mySoccerNetDownloader = SoccerNetDownloader(LocalDirectory=str(SN_ROOT))\n",
    "\n",
    "# Example: download games with events and video (low-res)\n",
    "# This requires free SoccerNet credentials (username/password) from https://www.soccer-net.org/data\n",
    "mySoccerNetDownloader.downloadGames(files=[\"1_720p.mkv\", \"Labels-v2.json\"], split=[\"train\", \"valid\"], verbose=True)\n"
   ]
  },
  {
   "cell_type": "code",
   "execution_count": null,
   "id": "390ce50a",
   "metadata": {},
   "outputs": [
    {
     "name": "stderr",
     "output_type": "stream",
     "text": [
      "C:\\Users\\CYBORG 15\\AppData\\Local\\Temp\\ipykernel_33332\\1006193538.py:24: UserWarning: torchaudio._backend.set_audio_backend has been deprecated. With dispatcher enabled, this function is no-op. You can remove the function call.\n",
      "  torchaudio.set_audio_backend(\"soundfile\")    # safer on Windows\n"
     ]
    }
   ],
   "source": [
    "'''\n",
    "Setup Path and Parameters\n",
    "'''\n",
    "from pathlib import Path\n",
    "import pandas as pd, numpy as np, json, random, subprocess, torch, torchaudio\n",
    "from tqdm import tqdm\n",
    "import matplotlib.pyplot as plt\n",
    "from IPython.display import Audio, display\n",
    "\n",
    "SN_ROOT   = Path(\"./SoccerNet\")           # where SoccerNetDownloader saved data\n",
    "WORK_DIR  = Path(\"./sn_audio_work\")\n",
    "AUDIO_DIR = WORK_DIR / \"full_match_audio_wav\"\n",
    "CLIPS_DIR = WORK_DIR / \"clips\"\n",
    "FEAT_DIR  = WORK_DIR / \"mel64\"\n",
    "for p in [WORK_DIR, AUDIO_DIR, CLIPS_DIR, FEAT_DIR]: \n",
    "    p.mkdir(parents=True, exist_ok=True)\n",
    "\n",
    "TARGET_SR   = 16000\n",
    "TARGET_LABELS = None     # Fill all 17 Labels\n",
    "WINDOWS     = [15, 30]   # 15- and 30-sec windows\n",
    "RANDOM_SEED = 1337\n",
    "\n",
    "torchaudio.set_audio_backend(\"soundfile\")    # safer on Windows\n",
    "random.seed(RANDOM_SEED)\n"
   ]
  },
  {
   "cell_type": "code",
   "execution_count": 21,
   "id": "c4fa0277",
   "metadata": {},
   "outputs": [
    {
     "name": "stdout",
     "output_type": "stream",
     "text": [
      "SN_ROOT: C:\\Users\\CYBORG 15\\Documents\\GitHub\\elec5305-project-520038655\\SoccerNet\n",
      "Exists? -> True\n"
     ]
    }
   ],
   "source": [
    "from pathlib import Path\n",
    "\n",
    "# 🔁 EDIT THIS to your real folder\n",
    "SN_ROOT = Path(r\"C:/Users/CYBORG 15/Documents/GitHub/elec5305-project-520038655/SoccerNet\")\n",
    "\n",
    "print(\"SN_ROOT:\", SN_ROOT)\n",
    "print(\"Exists? ->\", SN_ROOT.exists())\n"
   ]
  },
  {
   "cell_type": "code",
   "execution_count": 22,
   "id": "c40460cc",
   "metadata": {},
   "outputs": [
    {
     "name": "stdout",
     "output_type": "stream",
     "text": [
      "Found label files: 400\n",
      " • C:\\Users\\CYBORG 15\\Documents\\GitHub\\elec5305-project-520038655\\SoccerNet\\england_epl\\2014-2015\\2015-02-21 - 18-00 Chelsea 1 - 1 Burnley\\Labels-v2.json\n",
      " • C:\\Users\\CYBORG 15\\Documents\\GitHub\\elec5305-project-520038655\\SoccerNet\\england_epl\\2014-2015\\2015-02-21 - 18-00 Crystal Palace 1 - 2 Arsenal\\Labels-v2.json\n",
      " • C:\\Users\\CYBORG 15\\Documents\\GitHub\\elec5305-project-520038655\\SoccerNet\\england_epl\\2014-2015\\2015-02-21 - 18-00 Swansea 2 - 1 Manchester United\\Labels-v2.json\n",
      " • C:\\Users\\CYBORG 15\\Documents\\GitHub\\elec5305-project-520038655\\SoccerNet\\england_epl\\2014-2015\\2015-02-22 - 19-15 Southampton 0 - 2 Liverpool\\Labels-v2.json\n",
      " • C:\\Users\\CYBORG 15\\Documents\\GitHub\\elec5305-project-520038655\\SoccerNet\\england_epl\\2014-2015\\2015-04-11 - 19-30 Burnley 0 - 1 Arsenal\\Labels-v2.json\n"
     ]
    }
   ],
   "source": [
    "from pathlib import Path\n",
    "\n",
    "candidates = list(SN_ROOT.rglob(\"Labels-v2.json\")) + list(SN_ROOT.rglob(\"Labels.json\"))\n",
    "print(\"Found label files:\", len(candidates))\n",
    "for p in candidates[:5]:\n",
    "    print(\" •\", p)\n"
   ]
  },
  {
   "cell_type": "code",
   "execution_count": null,
   "id": "aa96d172",
   "metadata": {},
   "outputs": [
    {
     "name": "stdout",
     "output_type": "stream",
     "text": [
      "\n",
      "=== Trying ['1.mkv', '2.mkv', 'Labels-v2.json'] on split=['valid'] ===\n",
      "password required for C:\\Users\\CYBORG 15\\Documents\\GitHub\\elec5305-project-520038655\\SoccerNet\\england_epl\\2014-2015\\2015-04-11 - 19-30 Burnley 0 - 1 Arsenal\\1.mkv\n",
      "password required for C:\\Users\\CYBORG 15\\Documents\\GitHub\\elec5305-project-520038655\\SoccerNet\\england_epl\\2014-2015\\2015-04-11 - 19-30 Burnley 0 - 1 Arsenal\\2.mkv\n",
      "C:\\Users\\CYBORG 15\\Documents\\GitHub\\elec5305-project-520038655\\SoccerNet\\england_epl\\2014-2015\\2015-04-11 - 19-30 Burnley 0 - 1 Arsenal\\Labels-v2.json already exists\n",
      "password required for C:\\Users\\CYBORG 15\\Documents\\GitHub\\elec5305-project-520038655\\SoccerNet\\england_epl\\2015-2016\\2015-08-30 - 18-00 Swansea 2 - 1 Manchester United\\1.mkv\n",
      "password required for C:\\Users\\CYBORG 15\\Documents\\GitHub\\elec5305-project-520038655\\SoccerNet\\england_epl\\2015-2016\\2015-08-30 - 18-00 Swansea 2 - 1 Manchester United\\2.mkv\n",
      "C:\\Users\\CYBORG 15\\Documents\\GitHub\\elec5305-project-520038655\\SoccerNet\\england_epl\\2015-2016\\2015-08-30 - 18-00 Swansea 2 - 1 Manchester United\\Labels-v2.json already exists\n",
      "password required for C:\\Users\\CYBORG 15\\Documents\\GitHub\\elec5305-project-520038655\\SoccerNet\\england_epl\\2015-2016\\2015-09-26 - 17-00 Leicester 2 - 5 Arsenal\\1.mkv\n",
      "password required for C:\\Users\\CYBORG 15\\Documents\\GitHub\\elec5305-project-520038655\\SoccerNet\\england_epl\\2015-2016\\2015-09-26 - 17-00 Leicester 2 - 5 Arsenal\\2.mkv\n",
      "C:\\Users\\CYBORG 15\\Documents\\GitHub\\elec5305-project-520038655\\SoccerNet\\england_epl\\2015-2016\\2015-09-26 - 17-00 Leicester 2 - 5 Arsenal\\Labels-v2.json already exists\n",
      "password required for C:\\Users\\CYBORG 15\\Documents\\GitHub\\elec5305-project-520038655\\SoccerNet\\england_epl\\2015-2016\\2015-09-26 - 17-00 Manchester United 3 - 0 Sunderland\\1.mkv\n",
      "password required for C:\\Users\\CYBORG 15\\Documents\\GitHub\\elec5305-project-520038655\\SoccerNet\\england_epl\\2015-2016\\2015-09-26 - 17-00 Manchester United 3 - 0 Sunderland\\2.mkv\n",
      "C:\\Users\\CYBORG 15\\Documents\\GitHub\\elec5305-project-520038655\\SoccerNet\\england_epl\\2015-2016\\2015-09-26 - 17-00 Manchester United 3 - 0 Sunderland\\Labels-v2.json already exists\n",
      "password required for C:\\Users\\CYBORG 15\\Documents\\GitHub\\elec5305-project-520038655\\SoccerNet\\england_epl\\2015-2016\\2015-10-03 - 17-00 Manchester City 6 - 1 Newcastle Utd\\1.mkv\n",
      "password required for C:\\Users\\CYBORG 15\\Documents\\GitHub\\elec5305-project-520038655\\SoccerNet\\england_epl\\2015-2016\\2015-10-03 - 17-00 Manchester City 6 - 1 Newcastle Utd\\2.mkv\n",
      "C:\\Users\\CYBORG 15\\Documents\\GitHub\\elec5305-project-520038655\\SoccerNet\\england_epl\\2015-2016\\2015-10-03 - 17-00 Manchester City 6 - 1 Newcastle Utd\\Labels-v2.json already exists\n",
      "password required for C:\\Users\\CYBORG 15\\Documents\\GitHub\\elec5305-project-520038655\\SoccerNet\\england_epl\\2015-2016\\2015-12-26 - 18-00 Chelsea 2 - 2 Watford\\1.mkv\n",
      "password required for C:\\Users\\CYBORG 15\\Documents\\GitHub\\elec5305-project-520038655\\SoccerNet\\england_epl\\2015-2016\\2015-12-26 - 18-00 Chelsea 2 - 2 Watford\\2.mkv\n",
      "C:\\Users\\CYBORG 15\\Documents\\GitHub\\elec5305-project-520038655\\SoccerNet\\england_epl\\2015-2016\\2015-12-26 - 18-00 Chelsea 2 - 2 Watford\\Labels-v2.json already exists\n",
      "password required for C:\\Users\\CYBORG 15\\Documents\\GitHub\\elec5305-project-520038655\\SoccerNet\\england_epl\\2015-2016\\2016-01-23 - 20-30 West Ham 2 - 2 Manchester City\\1.mkv\n",
      "password required for C:\\Users\\CYBORG 15\\Documents\\GitHub\\elec5305-project-520038655\\SoccerNet\\england_epl\\2015-2016\\2016-01-23 - 20-30 West Ham 2 - 2 Manchester City\\2.mkv\n",
      "C:\\Users\\CYBORG 15\\Documents\\GitHub\\elec5305-project-520038655\\SoccerNet\\england_epl\\2015-2016\\2016-01-23 - 20-30 West Ham 2 - 2 Manchester City\\Labels-v2.json already exists\n",
      "password required for C:\\Users\\CYBORG 15\\Documents\\GitHub\\elec5305-project-520038655\\SoccerNet\\england_epl\\2015-2016\\2016-01-24 - 19-00 Arsenal 0 - 1 Chelsea\\1.mkv\n",
      "password required for C:\\Users\\CYBORG 15\\Documents\\GitHub\\elec5305-project-520038655\\SoccerNet\\england_epl\\2015-2016\\2016-01-24 - 19-00 Arsenal 0 - 1 Chelsea\\2.mkv\n",
      "C:\\Users\\CYBORG 15\\Documents\\GitHub\\elec5305-project-520038655\\SoccerNet\\england_epl\\2015-2016\\2016-01-24 - 19-00 Arsenal 0 - 1 Chelsea\\Labels-v2.json already exists\n",
      "password required for C:\\Users\\CYBORG 15\\Documents\\GitHub\\elec5305-project-520038655\\SoccerNet\\england_epl\\2015-2016\\2016-02-13 - 20-30 Chelsea 5 - 1 Newcastle Utd\\1.mkv\n",
      "password required for C:\\Users\\CYBORG 15\\Documents\\GitHub\\elec5305-project-520038655\\SoccerNet\\england_epl\\2015-2016\\2016-02-13 - 20-30 Chelsea 5 - 1 Newcastle Utd\\2.mkv\n",
      "C:\\Users\\CYBORG 15\\Documents\\GitHub\\elec5305-project-520038655\\SoccerNet\\england_epl\\2015-2016\\2016-02-13 - 20-30 Chelsea 5 - 1 Newcastle Utd\\Labels-v2.json already exists\n",
      "password required for C:\\Users\\CYBORG 15\\Documents\\GitHub\\elec5305-project-520038655\\SoccerNet\\england_epl\\2015-2016\\2016-02-27 - 18-00 Southampton 1 - 2 Chelsea\\1.mkv\n",
      "password required for C:\\Users\\CYBORG 15\\Documents\\GitHub\\elec5305-project-520038655\\SoccerNet\\england_epl\\2015-2016\\2016-02-27 - 18-00 Southampton 1 - 2 Chelsea\\2.mkv\n",
      "C:\\Users\\CYBORG 15\\Documents\\GitHub\\elec5305-project-520038655\\SoccerNet\\england_epl\\2015-2016\\2016-02-27 - 18-00 Southampton 1 - 2 Chelsea\\Labels-v2.json already exists\n",
      "password required for C:\\Users\\CYBORG 15\\Documents\\GitHub\\elec5305-project-520038655\\SoccerNet\\england_epl\\2015-2016\\2016-03-05 - 18-00 Manchester City 4 - 0 Aston Villa\\1.mkv\n",
      "password required for C:\\Users\\CYBORG 15\\Documents\\GitHub\\elec5305-project-520038655\\SoccerNet\\england_epl\\2015-2016\\2016-03-05 - 18-00 Manchester City 4 - 0 Aston Villa\\2.mkv\n",
      "C:\\Users\\CYBORG 15\\Documents\\GitHub\\elec5305-project-520038655\\SoccerNet\\england_epl\\2015-2016\\2016-03-05 - 18-00 Manchester City 4 - 0 Aston Villa\\Labels-v2.json already exists\n",
      "password required for C:\\Users\\CYBORG 15\\Documents\\GitHub\\elec5305-project-520038655\\SoccerNet\\england_epl\\2015-2016\\2016-03-20 - 19-00 Manchester City 0 - 1 Manchester United\\1.mkv\n",
      "password required for C:\\Users\\CYBORG 15\\Documents\\GitHub\\elec5305-project-520038655\\SoccerNet\\england_epl\\2015-2016\\2016-03-20 - 19-00 Manchester City 0 - 1 Manchester United\\2.mkv\n",
      "C:\\Users\\CYBORG 15\\Documents\\GitHub\\elec5305-project-520038655\\SoccerNet\\england_epl\\2015-2016\\2016-03-20 - 19-00 Manchester City 0 - 1 Manchester United\\Labels-v2.json already exists\n",
      "password required for C:\\Users\\CYBORG 15\\Documents\\GitHub\\elec5305-project-520038655\\SoccerNet\\england_epl\\2015-2016\\2016-04-23 - 17-00 Bournemouth 1 - 4 Chelsea\\1.mkv\n",
      "password required for C:\\Users\\CYBORG 15\\Documents\\GitHub\\elec5305-project-520038655\\SoccerNet\\england_epl\\2015-2016\\2016-04-23 - 17-00 Bournemouth 1 - 4 Chelsea\\2.mkv\n",
      "C:\\Users\\CYBORG 15\\Documents\\GitHub\\elec5305-project-520038655\\SoccerNet\\england_epl\\2015-2016\\2016-04-23 - 17-00 Bournemouth 1 - 4 Chelsea\\Labels-v2.json already exists\n",
      "password required for C:\\Users\\CYBORG 15\\Documents\\GitHub\\elec5305-project-520038655\\SoccerNet\\england_epl\\2016-2017\\2016-10-01 - 14-30 Swansea 1 - 2 Liverpool\\1.mkv\n",
      "password required for C:\\Users\\CYBORG 15\\Documents\\GitHub\\elec5305-project-520038655\\SoccerNet\\england_epl\\2016-2017\\2016-10-01 - 14-30 Swansea 1 - 2 Liverpool\\2.mkv\n",
      "C:\\Users\\CYBORG 15\\Documents\\GitHub\\elec5305-project-520038655\\SoccerNet\\england_epl\\2016-2017\\2016-10-01 - 14-30 Swansea 1 - 2 Liverpool\\Labels-v2.json already exists\n",
      "password required for C:\\Users\\CYBORG 15\\Documents\\GitHub\\elec5305-project-520038655\\SoccerNet\\england_epl\\2016-2017\\2016-10-02 - 18-30 Burnley 0 - 1 Arsenal\\1.mkv\n",
      "password required for C:\\Users\\CYBORG 15\\Documents\\GitHub\\elec5305-project-520038655\\SoccerNet\\england_epl\\2016-2017\\2016-10-02 - 18-30 Burnley 0 - 1 Arsenal\\2.mkv\n",
      "C:\\Users\\CYBORG 15\\Documents\\GitHub\\elec5305-project-520038655\\SoccerNet\\england_epl\\2016-2017\\2016-10-02 - 18-30 Burnley 0 - 1 Arsenal\\Labels-v2.json already exists\n",
      "password required for C:\\Users\\CYBORG 15\\Documents\\GitHub\\elec5305-project-520038655\\SoccerNet\\england_epl\\2016-2017\\2016-10-22 - 17-00 Arsenal 0 - 0 Middlesbrough\\1.mkv\n",
      "password required for C:\\Users\\CYBORG 15\\Documents\\GitHub\\elec5305-project-520038655\\SoccerNet\\england_epl\\2016-2017\\2016-10-22 - 17-00 Arsenal 0 - 0 Middlesbrough\\2.mkv\n",
      "C:\\Users\\CYBORG 15\\Documents\\GitHub\\elec5305-project-520038655\\SoccerNet\\england_epl\\2016-2017\\2016-10-22 - 17-00 Arsenal 0 - 0 Middlesbrough\\Labels-v2.json already exists\n",
      "password required for C:\\Users\\CYBORG 15\\Documents\\GitHub\\elec5305-project-520038655\\SoccerNet\\england_epl\\2016-2017\\2016-10-29 - 19-30 Crystal Palace 2 - 4 Liverpool\\1.mkv\n",
      "password required for C:\\Users\\CYBORG 15\\Documents\\GitHub\\elec5305-project-520038655\\SoccerNet\\england_epl\\2016-2017\\2016-10-29 - 19-30 Crystal Palace 2 - 4 Liverpool\\2.mkv\n",
      "C:\\Users\\CYBORG 15\\Documents\\GitHub\\elec5305-project-520038655\\SoccerNet\\england_epl\\2016-2017\\2016-10-29 - 19-30 Crystal Palace 2 - 4 Liverpool\\Labels-v2.json already exists\n",
      "password required for C:\\Users\\CYBORG 15\\Documents\\GitHub\\elec5305-project-520038655\\SoccerNet\\england_epl\\2016-2017\\2016-12-04 - 16-30 Bournemouth 4 - 3 Liverpool\\1.mkv\n",
      "password required for C:\\Users\\CYBORG 15\\Documents\\GitHub\\elec5305-project-520038655\\SoccerNet\\england_epl\\2016-2017\\2016-12-04 - 16-30 Bournemouth 4 - 3 Liverpool\\2.mkv\n",
      "C:\\Users\\CYBORG 15\\Documents\\GitHub\\elec5305-project-520038655\\SoccerNet\\england_epl\\2016-2017\\2016-12-04 - 16-30 Bournemouth 4 - 3 Liverpool\\Labels-v2.json already exists\n",
      "password required for C:\\Users\\CYBORG 15\\Documents\\GitHub\\elec5305-project-520038655\\SoccerNet\\england_epl\\2016-2017\\2017-04-09 - 18-00 Everton 4 - 2 Leicester\\1.mkv\n",
      "password required for C:\\Users\\CYBORG 15\\Documents\\GitHub\\elec5305-project-520038655\\SoccerNet\\england_epl\\2016-2017\\2017-04-09 - 18-00 Everton 4 - 2 Leicester\\2.mkv\n",
      "C:\\Users\\CYBORG 15\\Documents\\GitHub\\elec5305-project-520038655\\SoccerNet\\england_epl\\2016-2017\\2017-04-09 - 18-00 Everton 4 - 2 Leicester\\Labels-v2.json already exists\n",
      "password required for C:\\Users\\CYBORG 15\\Documents\\GitHub\\elec5305-project-520038655\\SoccerNet\\europe_uefa-champions-league\\2014-2015\\2014-11-04 - 22-45 Real Madrid 1 - 0 Liverpool\\1.mkv\n",
      "password required for C:\\Users\\CYBORG 15\\Documents\\GitHub\\elec5305-project-520038655\\SoccerNet\\europe_uefa-champions-league\\2014-2015\\2014-11-04 - 22-45 Real Madrid 1 - 0 Liverpool\\2.mkv\n",
      "C:\\Users\\CYBORG 15\\Documents\\GitHub\\elec5305-project-520038655\\SoccerNet\\europe_uefa-champions-league\\2014-2015\\2014-11-04 - 22-45 Real Madrid 1 - 0 Liverpool\\Labels-v2.json already exists\n",
      "password required for C:\\Users\\CYBORG 15\\Documents\\GitHub\\elec5305-project-520038655\\SoccerNet\\europe_uefa-champions-league\\2014-2015\\2014-11-05 - 22-45 Ajax 0 - 2 Barcelona\\1.mkv\n",
      "password required for C:\\Users\\CYBORG 15\\Documents\\GitHub\\elec5305-project-520038655\\SoccerNet\\europe_uefa-champions-league\\2014-2015\\2014-11-05 - 22-45 Ajax 0 - 2 Barcelona\\2.mkv\n",
      "C:\\Users\\CYBORG 15\\Documents\\GitHub\\elec5305-project-520038655\\SoccerNet\\europe_uefa-champions-league\\2014-2015\\2014-11-05 - 22-45 Ajax 0 - 2 Barcelona\\Labels-v2.json already exists\n",
      "password required for C:\\Users\\CYBORG 15\\Documents\\GitHub\\elec5305-project-520038655\\SoccerNet\\europe_uefa-champions-league\\2014-2015\\2014-11-05 - 22-45 Manchester City 1 - 2 CSKA Moscow\\1.mkv\n",
      "password required for C:\\Users\\CYBORG 15\\Documents\\GitHub\\elec5305-project-520038655\\SoccerNet\\europe_uefa-champions-league\\2014-2015\\2014-11-05 - 22-45 Manchester City 1 - 2 CSKA Moscow\\2.mkv\n",
      "C:\\Users\\CYBORG 15\\Documents\\GitHub\\elec5305-project-520038655\\SoccerNet\\europe_uefa-champions-league\\2014-2015\\2014-11-05 - 22-45 Manchester City 1 - 2 CSKA Moscow\\Labels-v2.json already exists\n",
      "password required for C:\\Users\\CYBORG 15\\Documents\\GitHub\\elec5305-project-520038655\\SoccerNet\\europe_uefa-champions-league\\2014-2015\\2014-12-09 - 22-45 Galatasaray 1 - 4 Arsenal\\1.mkv\n",
      "password required for C:\\Users\\CYBORG 15\\Documents\\GitHub\\elec5305-project-520038655\\SoccerNet\\europe_uefa-champions-league\\2014-2015\\2014-12-09 - 22-45 Galatasaray 1 - 4 Arsenal\\2.mkv\n",
      "C:\\Users\\CYBORG 15\\Documents\\GitHub\\elec5305-project-520038655\\SoccerNet\\europe_uefa-champions-league\\2014-2015\\2014-12-09 - 22-45 Galatasaray 1 - 4 Arsenal\\Labels-v2.json already exists\n",
      "password required for C:\\Users\\CYBORG 15\\Documents\\GitHub\\elec5305-project-520038655\\SoccerNet\\europe_uefa-champions-league\\2014-2015\\2014-12-09 - 22-45 Real Madrid 4 - 0 Ludogorets\\1.mkv\n",
      "password required for C:\\Users\\CYBORG 15\\Documents\\GitHub\\elec5305-project-520038655\\SoccerNet\\europe_uefa-champions-league\\2014-2015\\2014-12-09 - 22-45 Real Madrid 4 - 0 Ludogorets\\2.mkv\n",
      "C:\\Users\\CYBORG 15\\Documents\\GitHub\\elec5305-project-520038655\\SoccerNet\\europe_uefa-champions-league\\2014-2015\\2014-12-09 - 22-45 Real Madrid 4 - 0 Ludogorets\\Labels-v2.json already exists\n",
      "password required for C:\\Users\\CYBORG 15\\Documents\\GitHub\\elec5305-project-520038655\\SoccerNet\\europe_uefa-champions-league\\2014-2015\\2015-03-11 - 22-45 Bayern Munich 7 - 0 Shakhtar Donetsk\\1.mkv\n",
      "password required for C:\\Users\\CYBORG 15\\Documents\\GitHub\\elec5305-project-520038655\\SoccerNet\\europe_uefa-champions-league\\2014-2015\\2015-03-11 - 22-45 Bayern Munich 7 - 0 Shakhtar Donetsk\\2.mkv\n",
      "C:\\Users\\CYBORG 15\\Documents\\GitHub\\elec5305-project-520038655\\SoccerNet\\europe_uefa-champions-league\\2014-2015\\2015-03-11 - 22-45 Bayern Munich 7 - 0 Shakhtar Donetsk\\Labels-v2.json already exists\n",
      "password required for C:\\Users\\CYBORG 15\\Documents\\GitHub\\elec5305-project-520038655\\SoccerNet\\europe_uefa-champions-league\\2014-2015\\2015-04-15 - 21-45 Paris SG 1 - 3 Barcelona\\1.mkv\n",
      "password required for C:\\Users\\CYBORG 15\\Documents\\GitHub\\elec5305-project-520038655\\SoccerNet\\europe_uefa-champions-league\\2014-2015\\2015-04-15 - 21-45 Paris SG 1 - 3 Barcelona\\2.mkv\n",
      "C:\\Users\\CYBORG 15\\Documents\\GitHub\\elec5305-project-520038655\\SoccerNet\\europe_uefa-champions-league\\2014-2015\\2015-04-15 - 21-45 Paris SG 1 - 3 Barcelona\\Labels-v2.json already exists\n",
      "password required for C:\\Users\\CYBORG 15\\Documents\\GitHub\\elec5305-project-520038655\\SoccerNet\\europe_uefa-champions-league\\2014-2015\\2015-04-21 - 21-45 Barcelona 2 - 0 Paris SG\\1.mkv\n",
      "password required for C:\\Users\\CYBORG 15\\Documents\\GitHub\\elec5305-project-520038655\\SoccerNet\\europe_uefa-champions-league\\2014-2015\\2015-04-21 - 21-45 Barcelona 2 - 0 Paris SG\\2.mkv\n",
      "C:\\Users\\CYBORG 15\\Documents\\GitHub\\elec5305-project-520038655\\SoccerNet\\europe_uefa-champions-league\\2014-2015\\2015-04-21 - 21-45 Barcelona 2 - 0 Paris SG\\Labels-v2.json already exists\n",
      "password required for C:\\Users\\CYBORG 15\\Documents\\GitHub\\elec5305-project-520038655\\SoccerNet\\europe_uefa-champions-league\\2015-2016\\2015-09-15 - 21-45 PSV 2 - 1 Manchester United\\1.mkv\n",
      "password required for C:\\Users\\CYBORG 15\\Documents\\GitHub\\elec5305-project-520038655\\SoccerNet\\europe_uefa-champions-league\\2015-2016\\2015-09-15 - 21-45 PSV 2 - 1 Manchester United\\2.mkv\n",
      "C:\\Users\\CYBORG 15\\Documents\\GitHub\\elec5305-project-520038655\\SoccerNet\\europe_uefa-champions-league\\2015-2016\\2015-09-15 - 21-45 PSV 2 - 1 Manchester United\\Labels-v2.json already exists\n",
      "password required for C:\\Users\\CYBORG 15\\Documents\\GitHub\\elec5305-project-520038655\\SoccerNet\\europe_uefa-champions-league\\2015-2016\\2015-09-16 - 21-45 Chelsea 4 - 0 Maccabi Tel Aviv\\1.mkv\n",
      "password required for C:\\Users\\CYBORG 15\\Documents\\GitHub\\elec5305-project-520038655\\SoccerNet\\europe_uefa-champions-league\\2015-2016\\2015-09-16 - 21-45 Chelsea 4 - 0 Maccabi Tel Aviv\\2.mkv\n",
      "C:\\Users\\CYBORG 15\\Documents\\GitHub\\elec5305-project-520038655\\SoccerNet\\europe_uefa-champions-league\\2015-2016\\2015-09-16 - 21-45 Chelsea 4 - 0 Maccabi Tel Aviv\\Labels-v2.json already exists\n",
      "password required for C:\\Users\\CYBORG 15\\Documents\\GitHub\\elec5305-project-520038655\\SoccerNet\\europe_uefa-champions-league\\2015-2016\\2015-09-16 - 21-45 Dyn. Kiev 2 - 2 FC Porto\\1.mkv\n",
      "password required for C:\\Users\\CYBORG 15\\Documents\\GitHub\\elec5305-project-520038655\\SoccerNet\\europe_uefa-champions-league\\2015-2016\\2015-09-16 - 21-45 Dyn. Kiev 2 - 2 FC Porto\\2.mkv\n",
      "C:\\Users\\CYBORG 15\\Documents\\GitHub\\elec5305-project-520038655\\SoccerNet\\europe_uefa-champions-league\\2015-2016\\2015-09-16 - 21-45 Dyn. Kiev 2 - 2 FC Porto\\Labels-v2.json already exists\n",
      "password required for C:\\Users\\CYBORG 15\\Documents\\GitHub\\elec5305-project-520038655\\SoccerNet\\europe_uefa-champions-league\\2015-2016\\2015-09-16 - 21-45 Olympiakos Piraeus 0 - 3 Bayern Munich\\1.mkv\n",
      "password required for C:\\Users\\CYBORG 15\\Documents\\GitHub\\elec5305-project-520038655\\SoccerNet\\europe_uefa-champions-league\\2015-2016\\2015-09-16 - 21-45 Olympiakos Piraeus 0 - 3 Bayern Munich\\2.mkv\n",
      "C:\\Users\\CYBORG 15\\Documents\\GitHub\\elec5305-project-520038655\\SoccerNet\\europe_uefa-champions-league\\2015-2016\\2015-09-16 - 21-45 Olympiakos Piraeus 0 - 3 Bayern Munich\\Labels-v2.json already exists\n",
      "password required for C:\\Users\\CYBORG 15\\Documents\\GitHub\\elec5305-project-520038655\\SoccerNet\\europe_uefa-champions-league\\2015-2016\\2015-09-29 - 21-45 Barcelona 2 - 1 Bayer Leverkusen\\1.mkv\n",
      "password required for C:\\Users\\CYBORG 15\\Documents\\GitHub\\elec5305-project-520038655\\SoccerNet\\europe_uefa-champions-league\\2015-2016\\2015-09-29 - 21-45 Barcelona 2 - 1 Bayer Leverkusen\\2.mkv\n",
      "C:\\Users\\CYBORG 15\\Documents\\GitHub\\elec5305-project-520038655\\SoccerNet\\europe_uefa-champions-league\\2015-2016\\2015-09-29 - 21-45 Barcelona 2 - 1 Bayer Leverkusen\\Labels-v2.json already exists\n",
      "password required for C:\\Users\\CYBORG 15\\Documents\\GitHub\\elec5305-project-520038655\\SoccerNet\\europe_uefa-champions-league\\2015-2016\\2015-09-29 - 21-45 FC Porto 2 - 1 Chelsea\\1.mkv\n",
      "password required for C:\\Users\\CYBORG 15\\Documents\\GitHub\\elec5305-project-520038655\\SoccerNet\\europe_uefa-champions-league\\2015-2016\\2015-09-29 - 21-45 FC Porto 2 - 1 Chelsea\\2.mkv\n",
      "C:\\Users\\CYBORG 15\\Documents\\GitHub\\elec5305-project-520038655\\SoccerNet\\europe_uefa-champions-league\\2015-2016\\2015-09-29 - 21-45 FC Porto 2 - 1 Chelsea\\Labels-v2.json already exists\n",
      "password required for C:\\Users\\CYBORG 15\\Documents\\GitHub\\elec5305-project-520038655\\SoccerNet\\europe_uefa-champions-league\\2015-2016\\2015-11-03 - 22-45 Benfica 2 - 1 Galatasaray\\1.mkv\n",
      "password required for C:\\Users\\CYBORG 15\\Documents\\GitHub\\elec5305-project-520038655\\SoccerNet\\europe_uefa-champions-league\\2015-2016\\2015-11-03 - 22-45 Benfica 2 - 1 Galatasaray\\2.mkv\n",
      "C:\\Users\\CYBORG 15\\Documents\\GitHub\\elec5305-project-520038655\\SoccerNet\\europe_uefa-champions-league\\2015-2016\\2015-11-03 - 22-45 Benfica 2 - 1 Galatasaray\\Labels-v2.json already exists\n",
      "password required for C:\\Users\\CYBORG 15\\Documents\\GitHub\\elec5305-project-520038655\\SoccerNet\\europe_uefa-champions-league\\2015-2016\\2015-11-04 - 22-45 Barcelona 3 - 0 BATE\\1.mkv\n",
      "password required for C:\\Users\\CYBORG 15\\Documents\\GitHub\\elec5305-project-520038655\\SoccerNet\\europe_uefa-champions-league\\2015-2016\\2015-11-04 - 22-45 Barcelona 3 - 0 BATE\\2.mkv\n",
      "C:\\Users\\CYBORG 15\\Documents\\GitHub\\elec5305-project-520038655\\SoccerNet\\europe_uefa-champions-league\\2015-2016\\2015-11-04 - 22-45 Barcelona 3 - 0 BATE\\Labels-v2.json already exists\n",
      "password required for C:\\Users\\CYBORG 15\\Documents\\GitHub\\elec5305-project-520038655\\SoccerNet\\europe_uefa-champions-league\\2015-2016\\2015-11-24 - 20-00 BATE 1 - 1 Bayer Leverkusen\\1.mkv\n",
      "password required for C:\\Users\\CYBORG 15\\Documents\\GitHub\\elec5305-project-520038655\\SoccerNet\\europe_uefa-champions-league\\2015-2016\\2015-11-24 - 20-00 BATE 1 - 1 Bayer Leverkusen\\2.mkv\n",
      "C:\\Users\\CYBORG 15\\Documents\\GitHub\\elec5305-project-520038655\\SoccerNet\\europe_uefa-champions-league\\2015-2016\\2015-11-24 - 20-00 BATE 1 - 1 Bayer Leverkusen\\Labels-v2.json already exists\n",
      "password required for C:\\Users\\CYBORG 15\\Documents\\GitHub\\elec5305-project-520038655\\SoccerNet\\europe_uefa-champions-league\\2015-2016\\2015-11-25 - 22-45 Juventus 1 - 0 Manchester City\\1.mkv\n",
      "password required for C:\\Users\\CYBORG 15\\Documents\\GitHub\\elec5305-project-520038655\\SoccerNet\\europe_uefa-champions-league\\2015-2016\\2015-11-25 - 22-45 Juventus 1 - 0 Manchester City\\2.mkv\n",
      "C:\\Users\\CYBORG 15\\Documents\\GitHub\\elec5305-project-520038655\\SoccerNet\\europe_uefa-champions-league\\2015-2016\\2015-11-25 - 22-45 Juventus 1 - 0 Manchester City\\Labels-v2.json already exists\n",
      "password required for C:\\Users\\CYBORG 15\\Documents\\GitHub\\elec5305-project-520038655\\SoccerNet\\europe_uefa-champions-league\\2016-2017\\2016-09-28 - 21-45 Napoli 4 - 2 Benfica\\1.mkv\n",
      "password required for C:\\Users\\CYBORG 15\\Documents\\GitHub\\elec5305-project-520038655\\SoccerNet\\europe_uefa-champions-league\\2016-2017\\2016-09-28 - 21-45 Napoli 4 - 2 Benfica\\2.mkv\n",
      "C:\\Users\\CYBORG 15\\Documents\\GitHub\\elec5305-project-520038655\\SoccerNet\\europe_uefa-champions-league\\2016-2017\\2016-09-28 - 21-45 Napoli 4 - 2 Benfica\\Labels-v2.json already exists\n",
      "password required for C:\\Users\\CYBORG 15\\Documents\\GitHub\\elec5305-project-520038655\\SoccerNet\\europe_uefa-champions-league\\2016-2017\\2016-10-19 - 21-45 Paris SG 3 - 0 Basel\\1.mkv\n",
      "password required for C:\\Users\\CYBORG 15\\Documents\\GitHub\\elec5305-project-520038655\\SoccerNet\\europe_uefa-champions-league\\2016-2017\\2016-10-19 - 21-45 Paris SG 3 - 0 Basel\\2.mkv\n",
      "C:\\Users\\CYBORG 15\\Documents\\GitHub\\elec5305-project-520038655\\SoccerNet\\europe_uefa-champions-league\\2016-2017\\2016-10-19 - 21-45 Paris SG 3 - 0 Basel\\Labels-v2.json already exists\n",
      "password required for C:\\Users\\CYBORG 15\\Documents\\GitHub\\elec5305-project-520038655\\SoccerNet\\france_ligue-1\\2015-2016\\2015-09-19 - 18-30 Reims 1 - 1 Paris SG\\1.mkv\n",
      "password required for C:\\Users\\CYBORG 15\\Documents\\GitHub\\elec5305-project-520038655\\SoccerNet\\france_ligue-1\\2015-2016\\2015-09-19 - 18-30 Reims 1 - 1 Paris SG\\2.mkv\n",
      "C:\\Users\\CYBORG 15\\Documents\\GitHub\\elec5305-project-520038655\\SoccerNet\\france_ligue-1\\2015-2016\\2015-09-19 - 18-30 Reims 1 - 1 Paris SG\\Labels-v2.json already exists\n",
      "password required for C:\\Users\\CYBORG 15\\Documents\\GitHub\\elec5305-project-520038655\\SoccerNet\\france_ligue-1\\2016-2017\\2016-08-21 - 21-45 Paris SG 3 - 0 Metz\\1.mkv\n",
      "password required for C:\\Users\\CYBORG 15\\Documents\\GitHub\\elec5305-project-520038655\\SoccerNet\\france_ligue-1\\2016-2017\\2016-08-21 - 21-45 Paris SG 3 - 0 Metz\\2.mkv\n",
      "C:\\Users\\CYBORG 15\\Documents\\GitHub\\elec5305-project-520038655\\SoccerNet\\france_ligue-1\\2016-2017\\2016-08-21 - 21-45 Paris SG 3 - 0 Metz\\Labels-v2.json already exists\n",
      "password required for C:\\Users\\CYBORG 15\\Documents\\GitHub\\elec5305-project-520038655\\SoccerNet\\france_ligue-1\\2016-2017\\2016-09-09 - 21-45 Paris SG 1 - 1 St Etienne\\1.mkv\n",
      "password required for C:\\Users\\CYBORG 15\\Documents\\GitHub\\elec5305-project-520038655\\SoccerNet\\france_ligue-1\\2016-2017\\2016-09-09 - 21-45 Paris SG 1 - 1 St Etienne\\2.mkv\n",
      "C:\\Users\\CYBORG 15\\Documents\\GitHub\\elec5305-project-520038655\\SoccerNet\\france_ligue-1\\2016-2017\\2016-09-09 - 21-45 Paris SG 1 - 1 St Etienne\\Labels-v2.json already exists\n",
      "password required for C:\\Users\\CYBORG 15\\Documents\\GitHub\\elec5305-project-520038655\\SoccerNet\\france_ligue-1\\2016-2017\\2016-09-20 - 22-00 Paris SG 3 - 0 Dijon\\1.mkv\n",
      "password required for C:\\Users\\CYBORG 15\\Documents\\GitHub\\elec5305-project-520038655\\SoccerNet\\france_ligue-1\\2016-2017\\2016-09-20 - 22-00 Paris SG 3 - 0 Dijon\\2.mkv\n",
      "C:\\Users\\CYBORG 15\\Documents\\GitHub\\elec5305-project-520038655\\SoccerNet\\france_ligue-1\\2016-2017\\2016-09-20 - 22-00 Paris SG 3 - 0 Dijon\\Labels-v2.json already exists\n",
      "password required for C:\\Users\\CYBORG 15\\Documents\\GitHub\\elec5305-project-520038655\\SoccerNet\\france_ligue-1\\2016-2017\\2016-10-23 - 21-45 Paris SG 0 - 0 Marseille\\1.mkv\n",
      "password required for C:\\Users\\CYBORG 15\\Documents\\GitHub\\elec5305-project-520038655\\SoccerNet\\france_ligue-1\\2016-2017\\2016-10-23 - 21-45 Paris SG 0 - 0 Marseille\\2.mkv\n",
      "C:\\Users\\CYBORG 15\\Documents\\GitHub\\elec5305-project-520038655\\SoccerNet\\france_ligue-1\\2016-2017\\2016-10-23 - 21-45 Paris SG 0 - 0 Marseille\\Labels-v2.json already exists\n",
      "password required for C:\\Users\\CYBORG 15\\Documents\\GitHub\\elec5305-project-520038655\\SoccerNet\\france_ligue-1\\2016-2017\\2016-12-03 - 19-00 Montpellier 3 - 0 Paris SG\\1.mkv\n",
      "password required for C:\\Users\\CYBORG 15\\Documents\\GitHub\\elec5305-project-520038655\\SoccerNet\\france_ligue-1\\2016-2017\\2016-12-03 - 19-00 Montpellier 3 - 0 Paris SG\\2.mkv\n",
      "C:\\Users\\CYBORG 15\\Documents\\GitHub\\elec5305-project-520038655\\SoccerNet\\france_ligue-1\\2016-2017\\2016-12-03 - 19-00 Montpellier 3 - 0 Paris SG\\Labels-v2.json already exists\n",
      "password required for C:\\Users\\CYBORG 15\\Documents\\GitHub\\elec5305-project-520038655\\SoccerNet\\france_ligue-1\\2016-2017\\2017-03-04 - 19-00 Paris SG 1 - 0 Nancy\\1.mkv\n",
      "password required for C:\\Users\\CYBORG 15\\Documents\\GitHub\\elec5305-project-520038655\\SoccerNet\\france_ligue-1\\2016-2017\\2017-03-04 - 19-00 Paris SG 1 - 0 Nancy\\2.mkv\n",
      "C:\\Users\\CYBORG 15\\Documents\\GitHub\\elec5305-project-520038655\\SoccerNet\\france_ligue-1\\2016-2017\\2017-03-04 - 19-00 Paris SG 1 - 0 Nancy\\Labels-v2.json already exists\n",
      "password required for C:\\Users\\CYBORG 15\\Documents\\GitHub\\elec5305-project-520038655\\SoccerNet\\france_ligue-1\\2016-2017\\2017-04-09 - 22-00 Paris SG 4 - 0 Guingamp\\1.mkv\n",
      "password required for C:\\Users\\CYBORG 15\\Documents\\GitHub\\elec5305-project-520038655\\SoccerNet\\france_ligue-1\\2016-2017\\2017-04-09 - 22-00 Paris SG 4 - 0 Guingamp\\2.mkv\n",
      "C:\\Users\\CYBORG 15\\Documents\\GitHub\\elec5305-project-520038655\\SoccerNet\\france_ligue-1\\2016-2017\\2017-04-09 - 22-00 Paris SG 4 - 0 Guingamp\\Labels-v2.json already exists\n",
      "password required for C:\\Users\\CYBORG 15\\Documents\\GitHub\\elec5305-project-520038655\\SoccerNet\\france_ligue-1\\2016-2017\\2017-05-14 - 22-00 St Etienne 0 - 5 Paris SG\\1.mkv\n",
      "password required for C:\\Users\\CYBORG 15\\Documents\\GitHub\\elec5305-project-520038655\\SoccerNet\\france_ligue-1\\2016-2017\\2017-05-14 - 22-00 St Etienne 0 - 5 Paris SG\\2.mkv\n",
      "C:\\Users\\CYBORG 15\\Documents\\GitHub\\elec5305-project-520038655\\SoccerNet\\france_ligue-1\\2016-2017\\2017-05-14 - 22-00 St Etienne 0 - 5 Paris SG\\Labels-v2.json already exists\n",
      "password required for C:\\Users\\CYBORG 15\\Documents\\GitHub\\elec5305-project-520038655\\SoccerNet\\germany_bundesliga\\2014-2015\\2015-04-25 - 19-30 Bayern Munich 1 - 0 Hertha Berlin\\1.mkv\n",
      "password required for C:\\Users\\CYBORG 15\\Documents\\GitHub\\elec5305-project-520038655\\SoccerNet\\germany_bundesliga\\2014-2015\\2015-04-25 - 19-30 Bayern Munich 1 - 0 Hertha Berlin\\2.mkv\n",
      "C:\\Users\\CYBORG 15\\Documents\\GitHub\\elec5305-project-520038655\\SoccerNet\\germany_bundesliga\\2014-2015\\2015-04-25 - 19-30 Bayern Munich 1 - 0 Hertha Berlin\\Labels-v2.json already exists\n",
      "password required for C:\\Users\\CYBORG 15\\Documents\\GitHub\\elec5305-project-520038655\\SoccerNet\\germany_bundesliga\\2014-2015\\2015-05-02 - 16-30 Hoffenheim 1 - 1 Dortmund\\1.mkv\n",
      "password required for C:\\Users\\CYBORG 15\\Documents\\GitHub\\elec5305-project-520038655\\SoccerNet\\germany_bundesliga\\2014-2015\\2015-05-02 - 16-30 Hoffenheim 1 - 1 Dortmund\\2.mkv\n",
      "C:\\Users\\CYBORG 15\\Documents\\GitHub\\elec5305-project-520038655\\SoccerNet\\germany_bundesliga\\2014-2015\\2015-05-02 - 16-30 Hoffenheim 1 - 1 Dortmund\\Labels-v2.json already exists\n",
      "password required for C:\\Users\\CYBORG 15\\Documents\\GitHub\\elec5305-project-520038655\\SoccerNet\\germany_bundesliga\\2015-2016\\2015-09-20 - 18-30 Dortmund 3 - 0 Bayer Leverkusen\\1.mkv\n",
      "password required for C:\\Users\\CYBORG 15\\Documents\\GitHub\\elec5305-project-520038655\\SoccerNet\\germany_bundesliga\\2015-2016\\2015-09-20 - 18-30 Dortmund 3 - 0 Bayer Leverkusen\\2.mkv\n",
      "C:\\Users\\CYBORG 15\\Documents\\GitHub\\elec5305-project-520038655\\SoccerNet\\germany_bundesliga\\2015-2016\\2015-09-20 - 18-30 Dortmund 3 - 0 Bayer Leverkusen\\Labels-v2.json already exists\n",
      "password required for C:\\Users\\CYBORG 15\\Documents\\GitHub\\elec5305-project-520038655\\SoccerNet\\germany_bundesliga\\2015-2016\\2015-10-04 - 18-30 Bayern Munich 5 - 1 Dortmund\\1.mkv\n",
      "password required for C:\\Users\\CYBORG 15\\Documents\\GitHub\\elec5305-project-520038655\\SoccerNet\\germany_bundesliga\\2015-2016\\2015-10-04 - 18-30 Bayern Munich 5 - 1 Dortmund\\2.mkv\n",
      "C:\\Users\\CYBORG 15\\Documents\\GitHub\\elec5305-project-520038655\\SoccerNet\\germany_bundesliga\\2015-2016\\2015-10-04 - 18-30 Bayern Munich 5 - 1 Dortmund\\Labels-v2.json already exists\n",
      "password required for C:\\Users\\CYBORG 15\\Documents\\GitHub\\elec5305-project-520038655\\SoccerNet\\germany_bundesliga\\2015-2016\\2015-11-07 - 17-30 Bayern Munich 4 - 0 VfB Stuttgart\\1.mkv\n",
      "password required for C:\\Users\\CYBORG 15\\Documents\\GitHub\\elec5305-project-520038655\\SoccerNet\\germany_bundesliga\\2015-2016\\2015-11-07 - 17-30 Bayern Munich 4 - 0 VfB Stuttgart\\2.mkv\n",
      "C:\\Users\\CYBORG 15\\Documents\\GitHub\\elec5305-project-520038655\\SoccerNet\\germany_bundesliga\\2015-2016\\2015-11-07 - 17-30 Bayern Munich 4 - 0 VfB Stuttgart\\Labels-v2.json already exists\n",
      "password required for C:\\Users\\CYBORG 15\\Documents\\GitHub\\elec5305-project-520038655\\SoccerNet\\germany_bundesliga\\2015-2016\\2016-04-23 - 16-30 Hertha Berlin 0 - 2 Bayern Munich\\1.mkv\n",
      "password required for C:\\Users\\CYBORG 15\\Documents\\GitHub\\elec5305-project-520038655\\SoccerNet\\germany_bundesliga\\2015-2016\\2016-04-23 - 16-30 Hertha Berlin 0 - 2 Bayern Munich\\2.mkv\n",
      "C:\\Users\\CYBORG 15\\Documents\\GitHub\\elec5305-project-520038655\\SoccerNet\\germany_bundesliga\\2015-2016\\2016-04-23 - 16-30 Hertha Berlin 0 - 2 Bayern Munich\\Labels-v2.json already exists\n",
      "password required for C:\\Users\\CYBORG 15\\Documents\\GitHub\\elec5305-project-520038655\\SoccerNet\\germany_bundesliga\\2016-2017\\2016-12-03 - 17-30 Dortmund 4 - 1 B. Monchengladbach\\1.mkv\n",
      "password required for C:\\Users\\CYBORG 15\\Documents\\GitHub\\elec5305-project-520038655\\SoccerNet\\germany_bundesliga\\2016-2017\\2016-12-03 - 17-30 Dortmund 4 - 1 B. Monchengladbach\\2.mkv\n",
      "C:\\Users\\CYBORG 15\\Documents\\GitHub\\elec5305-project-520038655\\SoccerNet\\germany_bundesliga\\2016-2017\\2016-12-03 - 17-30 Dortmund 4 - 1 B. Monchengladbach\\Labels-v2.json already exists\n",
      "password required for C:\\Users\\CYBORG 15\\Documents\\GitHub\\elec5305-project-520038655\\SoccerNet\\germany_bundesliga\\2016-2017\\2017-02-25 - 17-30 SC Freiburg 0 - 3 Dortmund\\1.mkv\n",
      "password required for C:\\Users\\CYBORG 15\\Documents\\GitHub\\elec5305-project-520038655\\SoccerNet\\germany_bundesliga\\2016-2017\\2017-02-25 - 17-30 SC Freiburg 0 - 3 Dortmund\\2.mkv\n",
      "C:\\Users\\CYBORG 15\\Documents\\GitHub\\elec5305-project-520038655\\SoccerNet\\germany_bundesliga\\2016-2017\\2017-02-25 - 17-30 SC Freiburg 0 - 3 Dortmund\\Labels-v2.json already exists\n",
      "password required for C:\\Users\\CYBORG 15\\Documents\\GitHub\\elec5305-project-520038655\\SoccerNet\\italy_serie-a\\2014-2015\\2015-04-25 - 19-00 Udinese 2 - 1 AC Milan\\1.mkv\n",
      "password required for C:\\Users\\CYBORG 15\\Documents\\GitHub\\elec5305-project-520038655\\SoccerNet\\italy_serie-a\\2014-2015\\2015-04-25 - 19-00 Udinese 2 - 1 AC Milan\\2.mkv\n",
      "C:\\Users\\CYBORG 15\\Documents\\GitHub\\elec5305-project-520038655\\SoccerNet\\italy_serie-a\\2014-2015\\2015-04-25 - 19-00 Udinese 2 - 1 AC Milan\\Labels-v2.json already exists\n",
      "password required for C:\\Users\\CYBORG 15\\Documents\\GitHub\\elec5305-project-520038655\\SoccerNet\\italy_serie-a\\2014-2015\\2015-05-10 - 21-45 Lazio 1 - 2 Inter\\1.mkv\n",
      "password required for C:\\Users\\CYBORG 15\\Documents\\GitHub\\elec5305-project-520038655\\SoccerNet\\italy_serie-a\\2014-2015\\2015-05-10 - 21-45 Lazio 1 - 2 Inter\\2.mkv\n",
      "C:\\Users\\CYBORG 15\\Documents\\GitHub\\elec5305-project-520038655\\SoccerNet\\italy_serie-a\\2014-2015\\2015-05-10 - 21-45 Lazio 1 - 2 Inter\\Labels-v2.json already exists\n",
      "password required for C:\\Users\\CYBORG 15\\Documents\\GitHub\\elec5305-project-520038655\\SoccerNet\\italy_serie-a\\2014-2015\\2015-05-17 - 13-30 Sassuolo 3 - 2 AC Milan\\1.mkv\n",
      "password required for C:\\Users\\CYBORG 15\\Documents\\GitHub\\elec5305-project-520038655\\SoccerNet\\italy_serie-a\\2014-2015\\2015-05-17 - 13-30 Sassuolo 3 - 2 AC Milan\\2.mkv\n",
      "C:\\Users\\CYBORG 15\\Documents\\GitHub\\elec5305-project-520038655\\SoccerNet\\italy_serie-a\\2014-2015\\2015-05-17 - 13-30 Sassuolo 3 - 2 AC Milan\\Labels-v2.json already exists\n",
      "password required for C:\\Users\\CYBORG 15\\Documents\\GitHub\\elec5305-project-520038655\\SoccerNet\\italy_serie-a\\2015-2016\\2015-09-26 - 21-45 Napoli 2 - 1 Juventus\\1.mkv\n",
      "password required for C:\\Users\\CYBORG 15\\Documents\\GitHub\\elec5305-project-520038655\\SoccerNet\\italy_serie-a\\2015-2016\\2015-09-26 - 21-45 Napoli 2 - 1 Juventus\\2.mkv\n",
      "C:\\Users\\CYBORG 15\\Documents\\GitHub\\elec5305-project-520038655\\SoccerNet\\italy_serie-a\\2015-2016\\2015-09-26 - 21-45 Napoli 2 - 1 Juventus\\Labels-v2.json already exists\n",
      "password required for C:\\Users\\CYBORG 15\\Documents\\GitHub\\elec5305-project-520038655\\SoccerNet\\italy_serie-a\\2016-2017\\2016-08-20 - 19-00 AS Roma 4 - 0 Udinese\\1.mkv\n",
      "password required for C:\\Users\\CYBORG 15\\Documents\\GitHub\\elec5305-project-520038655\\SoccerNet\\italy_serie-a\\2016-2017\\2016-08-20 - 19-00 AS Roma 4 - 0 Udinese\\2.mkv\n",
      "C:\\Users\\CYBORG 15\\Documents\\GitHub\\elec5305-project-520038655\\SoccerNet\\italy_serie-a\\2016-2017\\2016-08-20 - 19-00 AS Roma 4 - 0 Udinese\\Labels-v2.json already exists\n",
      "password required for C:\\Users\\CYBORG 15\\Documents\\GitHub\\elec5305-project-520038655\\SoccerNet\\italy_serie-a\\2016-2017\\2016-09-18 - 21-45 Fiorentina 1 - 0 AS Roma\\1.mkv\n",
      "password required for C:\\Users\\CYBORG 15\\Documents\\GitHub\\elec5305-project-520038655\\SoccerNet\\italy_serie-a\\2016-2017\\2016-09-18 - 21-45 Fiorentina 1 - 0 AS Roma\\2.mkv\n",
      "C:\\Users\\CYBORG 15\\Documents\\GitHub\\elec5305-project-520038655\\SoccerNet\\italy_serie-a\\2016-2017\\2016-09-18 - 21-45 Fiorentina 1 - 0 AS Roma\\Labels-v2.json already exists\n",
      "password required for C:\\Users\\CYBORG 15\\Documents\\GitHub\\elec5305-project-520038655\\SoccerNet\\italy_serie-a\\2016-2017\\2016-09-21 - 21-45 Genoa 0 - 0 Napoli\\1.mkv\n",
      "password required for C:\\Users\\CYBORG 15\\Documents\\GitHub\\elec5305-project-520038655\\SoccerNet\\italy_serie-a\\2016-2017\\2016-09-21 - 21-45 Genoa 0 - 0 Napoli\\2.mkv\n",
      "C:\\Users\\CYBORG 15\\Documents\\GitHub\\elec5305-project-520038655\\SoccerNet\\italy_serie-a\\2016-2017\\2016-09-21 - 21-45 Genoa 0 - 0 Napoli\\Labels-v2.json already exists\n",
      "password required for C:\\Users\\CYBORG 15\\Documents\\GitHub\\elec5305-project-520038655\\SoccerNet\\italy_serie-a\\2016-2017\\2016-10-02 - 19-00 AC Milan 4 - 3 Sassuolo\\1.mkv\n",
      "password required for C:\\Users\\CYBORG 15\\Documents\\GitHub\\elec5305-project-520038655\\SoccerNet\\italy_serie-a\\2016-2017\\2016-10-02 - 19-00 AC Milan 4 - 3 Sassuolo\\2.mkv\n",
      "C:\\Users\\CYBORG 15\\Documents\\GitHub\\elec5305-project-520038655\\SoccerNet\\italy_serie-a\\2016-2017\\2016-10-02 - 19-00 AC Milan 4 - 3 Sassuolo\\Labels-v2.json already exists\n",
      "password required for C:\\Users\\CYBORG 15\\Documents\\GitHub\\elec5305-project-520038655\\SoccerNet\\italy_serie-a\\2016-2017\\2016-10-29 - 21-45 Juventus 2 - 1 Napoli\\1.mkv\n",
      "password required for C:\\Users\\CYBORG 15\\Documents\\GitHub\\elec5305-project-520038655\\SoccerNet\\italy_serie-a\\2016-2017\\2016-10-29 - 21-45 Juventus 2 - 1 Napoli\\2.mkv\n",
      "C:\\Users\\CYBORG 15\\Documents\\GitHub\\elec5305-project-520038655\\SoccerNet\\italy_serie-a\\2016-2017\\2016-10-29 - 21-45 Juventus 2 - 1 Napoli\\Labels-v2.json already exists\n",
      "password required for C:\\Users\\CYBORG 15\\Documents\\GitHub\\elec5305-project-520038655\\SoccerNet\\italy_serie-a\\2016-2017\\2016-11-05 - 22-45 Napoli 1 - 1 Lazio\\1.mkv\n",
      "password required for C:\\Users\\CYBORG 15\\Documents\\GitHub\\elec5305-project-520038655\\SoccerNet\\italy_serie-a\\2016-2017\\2016-11-05 - 22-45 Napoli 1 - 1 Lazio\\2.mkv\n",
      "C:\\Users\\CYBORG 15\\Documents\\GitHub\\elec5305-project-520038655\\SoccerNet\\italy_serie-a\\2016-2017\\2016-11-05 - 22-45 Napoli 1 - 1 Lazio\\Labels-v2.json already exists\n",
      "password required for C:\\Users\\CYBORG 15\\Documents\\GitHub\\elec5305-project-520038655\\SoccerNet\\italy_serie-a\\2016-2017\\2016-12-12 - 23-00 AS Roma 1 - 0 AC Milan\\1.mkv\n",
      "password required for C:\\Users\\CYBORG 15\\Documents\\GitHub\\elec5305-project-520038655\\SoccerNet\\italy_serie-a\\2016-2017\\2016-12-12 - 23-00 AS Roma 1 - 0 AC Milan\\2.mkv\n",
      "C:\\Users\\CYBORG 15\\Documents\\GitHub\\elec5305-project-520038655\\SoccerNet\\italy_serie-a\\2016-2017\\2016-12-12 - 23-00 AS Roma 1 - 0 AC Milan\\Labels-v2.json already exists\n",
      "password required for C:\\Users\\CYBORG 15\\Documents\\GitHub\\elec5305-project-520038655\\SoccerNet\\italy_serie-a\\2016-2017\\2017-01-22 - 22-45 AS Roma 1 - 0 Cagliari\\1.mkv\n",
      "password required for C:\\Users\\CYBORG 15\\Documents\\GitHub\\elec5305-project-520038655\\SoccerNet\\italy_serie-a\\2016-2017\\2017-01-22 - 22-45 AS Roma 1 - 0 Cagliari\\2.mkv\n",
      "C:\\Users\\CYBORG 15\\Documents\\GitHub\\elec5305-project-520038655\\SoccerNet\\italy_serie-a\\2016-2017\\2017-01-22 - 22-45 AS Roma 1 - 0 Cagliari\\Labels-v2.json already exists\n",
      "password required for C:\\Users\\CYBORG 15\\Documents\\GitHub\\elec5305-project-520038655\\SoccerNet\\italy_serie-a\\2016-2017\\2017-02-19 - 17-00 Chievo 1 - 3 Napoli\\1.mkv\n",
      "password required for C:\\Users\\CYBORG 15\\Documents\\GitHub\\elec5305-project-520038655\\SoccerNet\\italy_serie-a\\2016-2017\\2017-02-19 - 17-00 Chievo 1 - 3 Napoli\\2.mkv\n",
      "C:\\Users\\CYBORG 15\\Documents\\GitHub\\elec5305-project-520038655\\SoccerNet\\italy_serie-a\\2016-2017\\2017-02-19 - 17-00 Chievo 1 - 3 Napoli\\Labels-v2.json already exists\n",
      "password required for C:\\Users\\CYBORG 15\\Documents\\GitHub\\elec5305-project-520038655\\SoccerNet\\italy_serie-a\\2016-2017\\2017-03-12 - 22-45 Palermo 0 - 3 AS Roma\\1.mkv\n",
      "password required for C:\\Users\\CYBORG 15\\Documents\\GitHub\\elec5305-project-520038655\\SoccerNet\\italy_serie-a\\2016-2017\\2017-03-12 - 22-45 Palermo 0 - 3 AS Roma\\2.mkv\n",
      "C:\\Users\\CYBORG 15\\Documents\\GitHub\\elec5305-project-520038655\\SoccerNet\\italy_serie-a\\2016-2017\\2017-03-12 - 22-45 Palermo 0 - 3 AS Roma\\Labels-v2.json already exists\n",
      "password required for C:\\Users\\CYBORG 15\\Documents\\GitHub\\elec5305-project-520038655\\SoccerNet\\italy_serie-a\\2016-2017\\2017-04-02 - 21-45 Napoli 1 - 1 Juventus\\1.mkv\n",
      "password required for C:\\Users\\CYBORG 15\\Documents\\GitHub\\elec5305-project-520038655\\SoccerNet\\italy_serie-a\\2016-2017\\2017-04-02 - 21-45 Napoli 1 - 1 Juventus\\2.mkv\n",
      "C:\\Users\\CYBORG 15\\Documents\\GitHub\\elec5305-project-520038655\\SoccerNet\\italy_serie-a\\2016-2017\\2017-04-02 - 21-45 Napoli 1 - 1 Juventus\\Labels-v2.json already exists\n",
      "password required for C:\\Users\\CYBORG 15\\Documents\\GitHub\\elec5305-project-520038655\\SoccerNet\\italy_serie-a\\2016-2017\\2017-04-15 - 21-45 Napoli 3 - 0 Udinese\\1.mkv\n",
      "password required for C:\\Users\\CYBORG 15\\Documents\\GitHub\\elec5305-project-520038655\\SoccerNet\\italy_serie-a\\2016-2017\\2017-04-15 - 21-45 Napoli 3 - 0 Udinese\\2.mkv\n",
      "C:\\Users\\CYBORG 15\\Documents\\GitHub\\elec5305-project-520038655\\SoccerNet\\italy_serie-a\\2016-2017\\2017-04-15 - 21-45 Napoli 3 - 0 Udinese\\Labels-v2.json already exists\n",
      "password required for C:\\Users\\CYBORG 15\\Documents\\GitHub\\elec5305-project-520038655\\SoccerNet\\italy_serie-a\\2016-2017\\2017-04-30 - 13-30 AS Roma 1 - 3 Lazio\\1.mkv\n",
      "password required for C:\\Users\\CYBORG 15\\Documents\\GitHub\\elec5305-project-520038655\\SoccerNet\\italy_serie-a\\2016-2017\\2017-04-30 - 13-30 AS Roma 1 - 3 Lazio\\2.mkv\n",
      "C:\\Users\\CYBORG 15\\Documents\\GitHub\\elec5305-project-520038655\\SoccerNet\\italy_serie-a\\2016-2017\\2017-04-30 - 13-30 AS Roma 1 - 3 Lazio\\Labels-v2.json already exists\n",
      "password required for C:\\Users\\CYBORG 15\\Documents\\GitHub\\elec5305-project-520038655\\SoccerNet\\italy_serie-a\\2016-2017\\2017-05-06 - 19-00 Napoli 3 - 1 Cagliari\\1.mkv\n",
      "password required for C:\\Users\\CYBORG 15\\Documents\\GitHub\\elec5305-project-520038655\\SoccerNet\\italy_serie-a\\2016-2017\\2017-05-06 - 19-00 Napoli 3 - 1 Cagliari\\2.mkv\n",
      "C:\\Users\\CYBORG 15\\Documents\\GitHub\\elec5305-project-520038655\\SoccerNet\\italy_serie-a\\2016-2017\\2017-05-06 - 19-00 Napoli 3 - 1 Cagliari\\Labels-v2.json already exists\n",
      "password required for C:\\Users\\CYBORG 15\\Documents\\GitHub\\elec5305-project-520038655\\SoccerNet\\spain_laliga\\2014-2015\\2015-04-11 - 17-00 Real Madrid 3 - 0 Eibar\\1.mkv\n",
      "password required for C:\\Users\\CYBORG 15\\Documents\\GitHub\\elec5305-project-520038655\\SoccerNet\\spain_laliga\\2014-2015\\2015-04-11 - 17-00 Real Madrid 3 - 0 Eibar\\2.mkv\n",
      "C:\\Users\\CYBORG 15\\Documents\\GitHub\\elec5305-project-520038655\\SoccerNet\\spain_laliga\\2014-2015\\2015-04-11 - 17-00 Real Madrid 3 - 0 Eibar\\Labels-v2.json already exists\n",
      "password required for C:\\Users\\CYBORG 15\\Documents\\GitHub\\elec5305-project-520038655\\SoccerNet\\spain_laliga\\2014-2015\\2015-04-11 - 21-00 Sevilla 2 - 2 Barcelona\\1.mkv\n",
      "password required for C:\\Users\\CYBORG 15\\Documents\\GitHub\\elec5305-project-520038655\\SoccerNet\\spain_laliga\\2014-2015\\2015-04-11 - 21-00 Sevilla 2 - 2 Barcelona\\2.mkv\n",
      "C:\\Users\\CYBORG 15\\Documents\\GitHub\\elec5305-project-520038655\\SoccerNet\\spain_laliga\\2014-2015\\2015-04-11 - 21-00 Sevilla 2 - 2 Barcelona\\Labels-v2.json already exists\n",
      "password required for C:\\Users\\CYBORG 15\\Documents\\GitHub\\elec5305-project-520038655\\SoccerNet\\spain_laliga\\2014-2015\\2015-04-28 - 21-00 Barcelona 6 - 0 Getafe\\1.mkv\n",
      "password required for C:\\Users\\CYBORG 15\\Documents\\GitHub\\elec5305-project-520038655\\SoccerNet\\spain_laliga\\2014-2015\\2015-04-28 - 21-00 Barcelona 6 - 0 Getafe\\2.mkv\n",
      "C:\\Users\\CYBORG 15\\Documents\\GitHub\\elec5305-project-520038655\\SoccerNet\\spain_laliga\\2014-2015\\2015-04-28 - 21-00 Barcelona 6 - 0 Getafe\\Labels-v2.json already exists\n",
      "password required for C:\\Users\\CYBORG 15\\Documents\\GitHub\\elec5305-project-520038655\\SoccerNet\\spain_laliga\\2014-2015\\2015-05-02 - 19-00 Atl. Madrid 0 - 0 Ath Bilbao\\1.mkv\n",
      "password required for C:\\Users\\CYBORG 15\\Documents\\GitHub\\elec5305-project-520038655\\SoccerNet\\spain_laliga\\2014-2015\\2015-05-02 - 19-00 Atl. Madrid 0 - 0 Ath Bilbao\\2.mkv\n",
      "C:\\Users\\CYBORG 15\\Documents\\GitHub\\elec5305-project-520038655\\SoccerNet\\spain_laliga\\2014-2015\\2015-05-02 - 19-00 Atl. Madrid 0 - 0 Ath Bilbao\\Labels-v2.json already exists\n",
      "password required for C:\\Users\\CYBORG 15\\Documents\\GitHub\\elec5305-project-520038655\\SoccerNet\\spain_laliga\\2014-2015\\2015-05-02 - 21-00 Sevilla 2 - 3 Real Madrid\\1.mkv\n",
      "password required for C:\\Users\\CYBORG 15\\Documents\\GitHub\\elec5305-project-520038655\\SoccerNet\\spain_laliga\\2014-2015\\2015-05-02 - 21-00 Sevilla 2 - 3 Real Madrid\\2.mkv\n",
      "C:\\Users\\CYBORG 15\\Documents\\GitHub\\elec5305-project-520038655\\SoccerNet\\spain_laliga\\2014-2015\\2015-05-02 - 21-00 Sevilla 2 - 3 Real Madrid\\Labels-v2.json already exists\n",
      "password required for C:\\Users\\CYBORG 15\\Documents\\GitHub\\elec5305-project-520038655\\SoccerNet\\spain_laliga\\2014-2015\\2015-05-23 - 21-30 Real Madrid 7 - 3 Getafe\\1.mkv\n",
      "password required for C:\\Users\\CYBORG 15\\Documents\\GitHub\\elec5305-project-520038655\\SoccerNet\\spain_laliga\\2014-2015\\2015-05-23 - 21-30 Real Madrid 7 - 3 Getafe\\2.mkv\n",
      "C:\\Users\\CYBORG 15\\Documents\\GitHub\\elec5305-project-520038655\\SoccerNet\\spain_laliga\\2014-2015\\2015-05-23 - 21-30 Real Madrid 7 - 3 Getafe\\Labels-v2.json already exists\n",
      "password required for C:\\Users\\CYBORG 15\\Documents\\GitHub\\elec5305-project-520038655\\SoccerNet\\spain_laliga\\2015-2016\\2015-09-12 - 21-30 Atl. Madrid 1 - 2 Barcelona\\1.mkv\n",
      "password required for C:\\Users\\CYBORG 15\\Documents\\GitHub\\elec5305-project-520038655\\SoccerNet\\spain_laliga\\2015-2016\\2015-09-12 - 21-30 Atl. Madrid 1 - 2 Barcelona\\2.mkv\n",
      "C:\\Users\\CYBORG 15\\Documents\\GitHub\\elec5305-project-520038655\\SoccerNet\\spain_laliga\\2015-2016\\2015-09-12 - 21-30 Atl. Madrid 1 - 2 Barcelona\\Labels-v2.json already exists\n",
      "password required for C:\\Users\\CYBORG 15\\Documents\\GitHub\\elec5305-project-520038655\\SoccerNet\\spain_laliga\\2015-2016\\2015-09-26 - 17-00 Barcelona 2 - 1 Las Palmas\\1.mkv\n",
      "password required for C:\\Users\\CYBORG 15\\Documents\\GitHub\\elec5305-project-520038655\\SoccerNet\\spain_laliga\\2015-2016\\2015-09-26 - 17-00 Barcelona 2 - 1 Las Palmas\\2.mkv\n",
      "C:\\Users\\CYBORG 15\\Documents\\GitHub\\elec5305-project-520038655\\SoccerNet\\spain_laliga\\2015-2016\\2015-09-26 - 17-00 Barcelona 2 - 1 Las Palmas\\Labels-v2.json already exists\n",
      "password required for C:\\Users\\CYBORG 15\\Documents\\GitHub\\elec5305-project-520038655\\SoccerNet\\spain_laliga\\2015-2016\\2015-10-24 - 17-00 Celta Vigo 1 - 3 Real Madrid\\1.mkv\n",
      "password required for C:\\Users\\CYBORG 15\\Documents\\GitHub\\elec5305-project-520038655\\SoccerNet\\spain_laliga\\2015-2016\\2015-10-24 - 17-00 Celta Vigo 1 - 3 Real Madrid\\2.mkv\n",
      "C:\\Users\\CYBORG 15\\Documents\\GitHub\\elec5305-project-520038655\\SoccerNet\\spain_laliga\\2015-2016\\2015-10-24 - 17-00 Celta Vigo 1 - 3 Real Madrid\\Labels-v2.json already exists\n",
      "password required for C:\\Users\\CYBORG 15\\Documents\\GitHub\\elec5305-project-520038655\\SoccerNet\\spain_laliga\\2015-2016\\2015-12-13 - 22-30 Villarreal 1 - 0 Real Madrid\\1.mkv\n",
      "password required for C:\\Users\\CYBORG 15\\Documents\\GitHub\\elec5305-project-520038655\\SoccerNet\\spain_laliga\\2015-2016\\2015-12-13 - 22-30 Villarreal 1 - 0 Real Madrid\\2.mkv\n",
      "C:\\Users\\CYBORG 15\\Documents\\GitHub\\elec5305-project-520038655\\SoccerNet\\spain_laliga\\2015-2016\\2015-12-13 - 22-30 Villarreal 1 - 0 Real Madrid\\Labels-v2.json already exists\n",
      "password required for C:\\Users\\CYBORG 15\\Documents\\GitHub\\elec5305-project-520038655\\SoccerNet\\spain_laliga\\2015-2016\\2015-12-20 - 18-00 Real Madrid 1 - 0 Rayo Vallecano\\1.mkv\n",
      "password required for C:\\Users\\CYBORG 15\\Documents\\GitHub\\elec5305-project-520038655\\SoccerNet\\spain_laliga\\2015-2016\\2015-12-20 - 18-00 Real Madrid 1 - 0 Rayo Vallecano\\2.mkv\n",
      "C:\\Users\\CYBORG 15\\Documents\\GitHub\\elec5305-project-520038655\\SoccerNet\\spain_laliga\\2015-2016\\2015-12-20 - 18-00 Real Madrid 1 - 0 Rayo Vallecano\\Labels-v2.json already exists\n",
      "password required for C:\\Users\\CYBORG 15\\Documents\\GitHub\\elec5305-project-520038655\\SoccerNet\\spain_laliga\\2015-2016\\2016-01-03 - 22-30 Valencia 2 - 2 Real Madrid\\1.mkv\n",
      "password required for C:\\Users\\CYBORG 15\\Documents\\GitHub\\elec5305-project-520038655\\SoccerNet\\spain_laliga\\2015-2016\\2016-01-03 - 22-30 Valencia 2 - 2 Real Madrid\\2.mkv\n",
      "C:\\Users\\CYBORG 15\\Documents\\GitHub\\elec5305-project-520038655\\SoccerNet\\spain_laliga\\2015-2016\\2016-01-03 - 22-30 Valencia 2 - 2 Real Madrid\\Labels-v2.json already exists\n",
      "password required for C:\\Users\\CYBORG 15\\Documents\\GitHub\\elec5305-project-520038655\\SoccerNet\\spain_laliga\\2015-2016\\2016-01-09 - 22-30 Real Madrid 5 - 0 Dep. La Coruna\\1.mkv\n",
      "password required for C:\\Users\\CYBORG 15\\Documents\\GitHub\\elec5305-project-520038655\\SoccerNet\\spain_laliga\\2015-2016\\2016-01-09 - 22-30 Real Madrid 5 - 0 Dep. La Coruna\\2.mkv\n",
      "C:\\Users\\CYBORG 15\\Documents\\GitHub\\elec5305-project-520038655\\SoccerNet\\spain_laliga\\2015-2016\\2016-01-09 - 22-30 Real Madrid 5 - 0 Dep. La Coruna\\Labels-v2.json already exists\n",
      "password required for C:\\Users\\CYBORG 15\\Documents\\GitHub\\elec5305-project-520038655\\SoccerNet\\spain_laliga\\2015-2016\\2016-02-13 - 18-00 Real Madrid 4 - 2 Ath Bilbao\\1.mkv\n",
      "password required for C:\\Users\\CYBORG 15\\Documents\\GitHub\\elec5305-project-520038655\\SoccerNet\\spain_laliga\\2015-2016\\2016-02-13 - 18-00 Real Madrid 4 - 2 Ath Bilbao\\2.mkv\n",
      "C:\\Users\\CYBORG 15\\Documents\\GitHub\\elec5305-project-520038655\\SoccerNet\\spain_laliga\\2015-2016\\2016-02-13 - 18-00 Real Madrid 4 - 2 Ath Bilbao\\Labels-v2.json already exists\n",
      "password required for C:\\Users\\CYBORG 15\\Documents\\GitHub\\elec5305-project-520038655\\SoccerNet\\spain_laliga\\2015-2016\\2016-03-20 - 22-30 Real Madrid 4 - 0 Sevilla\\1.mkv\n",
      "password required for C:\\Users\\CYBORG 15\\Documents\\GitHub\\elec5305-project-520038655\\SoccerNet\\spain_laliga\\2015-2016\\2016-03-20 - 22-30 Real Madrid 4 - 0 Sevilla\\2.mkv\n",
      "C:\\Users\\CYBORG 15\\Documents\\GitHub\\elec5305-project-520038655\\SoccerNet\\spain_laliga\\2015-2016\\2016-03-20 - 22-30 Real Madrid 4 - 0 Sevilla\\Labels-v2.json already exists\n",
      "password required for C:\\Users\\CYBORG 15\\Documents\\GitHub\\elec5305-project-520038655\\SoccerNet\\spain_laliga\\2016-2017\\2016-08-21 - 21-15 Real Sociedad 0 - 3 Real Madrid\\1.mkv\n",
      "password required for C:\\Users\\CYBORG 15\\Documents\\GitHub\\elec5305-project-520038655\\SoccerNet\\spain_laliga\\2016-2017\\2016-08-21 - 21-15 Real Sociedad 0 - 3 Real Madrid\\2.mkv\n",
      "C:\\Users\\CYBORG 15\\Documents\\GitHub\\elec5305-project-520038655\\SoccerNet\\spain_laliga\\2016-2017\\2016-08-21 - 21-15 Real Sociedad 0 - 3 Real Madrid\\Labels-v2.json already exists\n",
      "password required for C:\\Users\\CYBORG 15\\Documents\\GitHub\\elec5305-project-520038655\\SoccerNet\\spain_laliga\\2016-2017\\2016-09-17 - 14-00 Leganes 1 - 5 Barcelona\\1.mkv\n",
      "password required for C:\\Users\\CYBORG 15\\Documents\\GitHub\\elec5305-project-520038655\\SoccerNet\\spain_laliga\\2016-2017\\2016-09-17 - 14-00 Leganes 1 - 5 Barcelona\\2.mkv\n",
      "C:\\Users\\CYBORG 15\\Documents\\GitHub\\elec5305-project-520038655\\SoccerNet\\spain_laliga\\2016-2017\\2016-09-17 - 14-00 Leganes 1 - 5 Barcelona\\Labels-v2.json already exists\n",
      "password required for C:\\Users\\CYBORG 15\\Documents\\GitHub\\elec5305-project-520038655\\SoccerNet\\spain_laliga\\2016-2017\\2016-10-02 - 21-45 Celta Vigo 4 - 3 Barcelona\\1.mkv\n",
      "password required for C:\\Users\\CYBORG 15\\Documents\\GitHub\\elec5305-project-520038655\\SoccerNet\\spain_laliga\\2016-2017\\2016-10-02 - 21-45 Celta Vigo 4 - 3 Barcelona\\2.mkv\n",
      "C:\\Users\\CYBORG 15\\Documents\\GitHub\\elec5305-project-520038655\\SoccerNet\\spain_laliga\\2016-2017\\2016-10-02 - 21-45 Celta Vigo 4 - 3 Barcelona\\Labels-v2.json already exists\n",
      "password required for C:\\Users\\CYBORG 15\\Documents\\GitHub\\elec5305-project-520038655\\SoccerNet\\spain_laliga\\2016-2017\\2016-10-15 - 17-15 Barcelona 4 - 0 Dep. La Coruna\\1.mkv\n",
      "password required for C:\\Users\\CYBORG 15\\Documents\\GitHub\\elec5305-project-520038655\\SoccerNet\\spain_laliga\\2016-2017\\2016-10-15 - 17-15 Barcelona 4 - 0 Dep. La Coruna\\2.mkv\n",
      "C:\\Users\\CYBORG 15\\Documents\\GitHub\\elec5305-project-520038655\\SoccerNet\\spain_laliga\\2016-2017\\2016-10-15 - 17-15 Barcelona 4 - 0 Dep. La Coruna\\Labels-v2.json already exists\n",
      "password required for C:\\Users\\CYBORG 15\\Documents\\GitHub\\elec5305-project-520038655\\SoccerNet\\spain_laliga\\2016-2017\\2017-01-07 - 15-00 Real Madrid 5 - 0 Granada CF\\1.mkv\n",
      "password required for C:\\Users\\CYBORG 15\\Documents\\GitHub\\elec5305-project-520038655\\SoccerNet\\spain_laliga\\2016-2017\\2017-01-07 - 15-00 Real Madrid 5 - 0 Granada CF\\2.mkv\n",
      "C:\\Users\\CYBORG 15\\Documents\\GitHub\\elec5305-project-520038655\\SoccerNet\\spain_laliga\\2016-2017\\2017-01-07 - 15-00 Real Madrid 5 - 0 Granada CF\\Labels-v2.json already exists\n",
      "password required for C:\\Users\\CYBORG 15\\Documents\\GitHub\\elec5305-project-520038655\\SoccerNet\\spain_laliga\\2016-2017\\2017-01-21 - 18-15 Real Madrid 2 - 1 Malaga\\1.mkv\n",
      "password required for C:\\Users\\CYBORG 15\\Documents\\GitHub\\elec5305-project-520038655\\SoccerNet\\spain_laliga\\2016-2017\\2017-01-21 - 18-15 Real Madrid 2 - 1 Malaga\\2.mkv\n",
      "C:\\Users\\CYBORG 15\\Documents\\GitHub\\elec5305-project-520038655\\SoccerNet\\spain_laliga\\2016-2017\\2017-01-21 - 18-15 Real Madrid 2 - 1 Malaga\\Labels-v2.json already exists\n",
      "password required for C:\\Users\\CYBORG 15\\Documents\\GitHub\\elec5305-project-520038655\\SoccerNet\\spain_laliga\\2016-2017\\2017-02-18 - 18-15 Real Madrid 2 - 0 Espanyol\\1.mkv\n",
      "password required for C:\\Users\\CYBORG 15\\Documents\\GitHub\\elec5305-project-520038655\\SoccerNet\\spain_laliga\\2016-2017\\2017-02-18 - 18-15 Real Madrid 2 - 0 Espanyol\\2.mkv\n",
      "C:\\Users\\CYBORG 15\\Documents\\GitHub\\elec5305-project-520038655\\SoccerNet\\spain_laliga\\2016-2017\\2017-02-18 - 18-15 Real Madrid 2 - 0 Espanyol\\Labels-v2.json already exists\n",
      "password required for C:\\Users\\CYBORG 15\\Documents\\GitHub\\elec5305-project-520038655\\SoccerNet\\spain_laliga\\2016-2017\\2017-04-23 - 21-45 Real Madrid 2 - 3 Barcelona\\1.mkv\n",
      "password required for C:\\Users\\CYBORG 15\\Documents\\GitHub\\elec5305-project-520038655\\SoccerNet\\spain_laliga\\2016-2017\\2017-04-23 - 21-45 Real Madrid 2 - 3 Barcelona\\2.mkv\n",
      "C:\\Users\\CYBORG 15\\Documents\\GitHub\\elec5305-project-520038655\\SoccerNet\\spain_laliga\\2016-2017\\2017-04-23 - 21-45 Real Madrid 2 - 3 Barcelona\\Labels-v2.json already exists\n",
      "password required for C:\\Users\\CYBORG 15\\Documents\\GitHub\\elec5305-project-520038655\\SoccerNet\\spain_laliga\\2016-2017\\2017-04-29 - 17-15 Real Madrid 2 - 1 Valencia\\1.mkv\n",
      "password required for C:\\Users\\CYBORG 15\\Documents\\GitHub\\elec5305-project-520038655\\SoccerNet\\spain_laliga\\2016-2017\\2017-04-29 - 17-15 Real Madrid 2 - 1 Valencia\\2.mkv\n",
      "C:\\Users\\CYBORG 15\\Documents\\GitHub\\elec5305-project-520038655\\SoccerNet\\spain_laliga\\2016-2017\\2017-04-29 - 17-15 Real Madrid 2 - 1 Valencia\\Labels-v2.json already exists\n",
      "password required for C:\\Users\\CYBORG 15\\Documents\\GitHub\\elec5305-project-520038655\\SoccerNet\\spain_laliga\\2016-2017\\2017-04-29 - 21-45 Espanyol 0 - 3 Barcelona\\1.mkv\n",
      "password required for C:\\Users\\CYBORG 15\\Documents\\GitHub\\elec5305-project-520038655\\SoccerNet\\spain_laliga\\2016-2017\\2017-04-29 - 21-45 Espanyol 0 - 3 Barcelona\\2.mkv\n",
      "C:\\Users\\CYBORG 15\\Documents\\GitHub\\elec5305-project-520038655\\SoccerNet\\spain_laliga\\2016-2017\\2017-04-29 - 21-45 Espanyol 0 - 3 Barcelona\\Labels-v2.json already exists\n",
      "password required for C:\\Users\\CYBORG 15\\Documents\\GitHub\\elec5305-project-520038655\\SoccerNet\\spain_laliga\\2016-2017\\2017-05-14 - 21-00 Las Palmas 1 - 4 Barcelona\\1.mkv\n",
      "password required for C:\\Users\\CYBORG 15\\Documents\\GitHub\\elec5305-project-520038655\\SoccerNet\\spain_laliga\\2016-2017\\2017-05-14 - 21-00 Las Palmas 1 - 4 Barcelona\\2.mkv\n",
      "C:\\Users\\CYBORG 15\\Documents\\GitHub\\elec5305-project-520038655\\SoccerNet\\spain_laliga\\2016-2017\\2017-05-14 - 21-00 Las Palmas 1 - 4 Barcelona\\Labels-v2.json already exists\n",
      "✅ Attempt finished.\n",
      "\n",
      "=== Trying ['1_720p.mkv', '2_720p.mkv', 'Labels-v2.json'] on split=['valid'] ===\n",
      "password required for C:\\Users\\CYBORG 15\\Documents\\GitHub\\elec5305-project-520038655\\SoccerNet\\england_epl\\2014-2015\\2015-04-11 - 19-30 Burnley 0 - 1 Arsenal\\1_720p.mkv\n",
      "password required for C:\\Users\\CYBORG 15\\Documents\\GitHub\\elec5305-project-520038655\\SoccerNet\\england_epl\\2014-2015\\2015-04-11 - 19-30 Burnley 0 - 1 Arsenal\\2_720p.mkv\n",
      "C:\\Users\\CYBORG 15\\Documents\\GitHub\\elec5305-project-520038655\\SoccerNet\\england_epl\\2014-2015\\2015-04-11 - 19-30 Burnley 0 - 1 Arsenal\\Labels-v2.json already exists\n",
      "password required for C:\\Users\\CYBORG 15\\Documents\\GitHub\\elec5305-project-520038655\\SoccerNet\\england_epl\\2015-2016\\2015-08-30 - 18-00 Swansea 2 - 1 Manchester United\\1_720p.mkv\n",
      "password required for C:\\Users\\CYBORG 15\\Documents\\GitHub\\elec5305-project-520038655\\SoccerNet\\england_epl\\2015-2016\\2015-08-30 - 18-00 Swansea 2 - 1 Manchester United\\2_720p.mkv\n",
      "C:\\Users\\CYBORG 15\\Documents\\GitHub\\elec5305-project-520038655\\SoccerNet\\england_epl\\2015-2016\\2015-08-30 - 18-00 Swansea 2 - 1 Manchester United\\Labels-v2.json already exists\n",
      "password required for C:\\Users\\CYBORG 15\\Documents\\GitHub\\elec5305-project-520038655\\SoccerNet\\england_epl\\2015-2016\\2015-09-26 - 17-00 Leicester 2 - 5 Arsenal\\1_720p.mkv\n",
      "password required for C:\\Users\\CYBORG 15\\Documents\\GitHub\\elec5305-project-520038655\\SoccerNet\\england_epl\\2015-2016\\2015-09-26 - 17-00 Leicester 2 - 5 Arsenal\\2_720p.mkv\n",
      "C:\\Users\\CYBORG 15\\Documents\\GitHub\\elec5305-project-520038655\\SoccerNet\\england_epl\\2015-2016\\2015-09-26 - 17-00 Leicester 2 - 5 Arsenal\\Labels-v2.json already exists\n",
      "password required for C:\\Users\\CYBORG 15\\Documents\\GitHub\\elec5305-project-520038655\\SoccerNet\\england_epl\\2015-2016\\2015-09-26 - 17-00 Manchester United 3 - 0 Sunderland\\1_720p.mkv\n",
      "password required for C:\\Users\\CYBORG 15\\Documents\\GitHub\\elec5305-project-520038655\\SoccerNet\\england_epl\\2015-2016\\2015-09-26 - 17-00 Manchester United 3 - 0 Sunderland\\2_720p.mkv\n",
      "C:\\Users\\CYBORG 15\\Documents\\GitHub\\elec5305-project-520038655\\SoccerNet\\england_epl\\2015-2016\\2015-09-26 - 17-00 Manchester United 3 - 0 Sunderland\\Labels-v2.json already exists\n",
      "password required for C:\\Users\\CYBORG 15\\Documents\\GitHub\\elec5305-project-520038655\\SoccerNet\\england_epl\\2015-2016\\2015-10-03 - 17-00 Manchester City 6 - 1 Newcastle Utd\\1_720p.mkv\n",
      "password required for C:\\Users\\CYBORG 15\\Documents\\GitHub\\elec5305-project-520038655\\SoccerNet\\england_epl\\2015-2016\\2015-10-03 - 17-00 Manchester City 6 - 1 Newcastle Utd\\2_720p.mkv\n",
      "C:\\Users\\CYBORG 15\\Documents\\GitHub\\elec5305-project-520038655\\SoccerNet\\england_epl\\2015-2016\\2015-10-03 - 17-00 Manchester City 6 - 1 Newcastle Utd\\Labels-v2.json already exists\n",
      "password required for C:\\Users\\CYBORG 15\\Documents\\GitHub\\elec5305-project-520038655\\SoccerNet\\england_epl\\2015-2016\\2015-12-26 - 18-00 Chelsea 2 - 2 Watford\\1_720p.mkv\n",
      "password required for C:\\Users\\CYBORG 15\\Documents\\GitHub\\elec5305-project-520038655\\SoccerNet\\england_epl\\2015-2016\\2015-12-26 - 18-00 Chelsea 2 - 2 Watford\\2_720p.mkv\n",
      "C:\\Users\\CYBORG 15\\Documents\\GitHub\\elec5305-project-520038655\\SoccerNet\\england_epl\\2015-2016\\2015-12-26 - 18-00 Chelsea 2 - 2 Watford\\Labels-v2.json already exists\n",
      "password required for C:\\Users\\CYBORG 15\\Documents\\GitHub\\elec5305-project-520038655\\SoccerNet\\england_epl\\2015-2016\\2016-01-23 - 20-30 West Ham 2 - 2 Manchester City\\1_720p.mkv\n",
      "password required for C:\\Users\\CYBORG 15\\Documents\\GitHub\\elec5305-project-520038655\\SoccerNet\\england_epl\\2015-2016\\2016-01-23 - 20-30 West Ham 2 - 2 Manchester City\\2_720p.mkv\n",
      "C:\\Users\\CYBORG 15\\Documents\\GitHub\\elec5305-project-520038655\\SoccerNet\\england_epl\\2015-2016\\2016-01-23 - 20-30 West Ham 2 - 2 Manchester City\\Labels-v2.json already exists\n",
      "password required for C:\\Users\\CYBORG 15\\Documents\\GitHub\\elec5305-project-520038655\\SoccerNet\\england_epl\\2015-2016\\2016-01-24 - 19-00 Arsenal 0 - 1 Chelsea\\1_720p.mkv\n",
      "password required for C:\\Users\\CYBORG 15\\Documents\\GitHub\\elec5305-project-520038655\\SoccerNet\\england_epl\\2015-2016\\2016-01-24 - 19-00 Arsenal 0 - 1 Chelsea\\2_720p.mkv\n",
      "C:\\Users\\CYBORG 15\\Documents\\GitHub\\elec5305-project-520038655\\SoccerNet\\england_epl\\2015-2016\\2016-01-24 - 19-00 Arsenal 0 - 1 Chelsea\\Labels-v2.json already exists\n",
      "password required for C:\\Users\\CYBORG 15\\Documents\\GitHub\\elec5305-project-520038655\\SoccerNet\\england_epl\\2015-2016\\2016-02-13 - 20-30 Chelsea 5 - 1 Newcastle Utd\\1_720p.mkv\n",
      "password required for C:\\Users\\CYBORG 15\\Documents\\GitHub\\elec5305-project-520038655\\SoccerNet\\england_epl\\2015-2016\\2016-02-13 - 20-30 Chelsea 5 - 1 Newcastle Utd\\2_720p.mkv\n",
      "C:\\Users\\CYBORG 15\\Documents\\GitHub\\elec5305-project-520038655\\SoccerNet\\england_epl\\2015-2016\\2016-02-13 - 20-30 Chelsea 5 - 1 Newcastle Utd\\Labels-v2.json already exists\n",
      "password required for C:\\Users\\CYBORG 15\\Documents\\GitHub\\elec5305-project-520038655\\SoccerNet\\england_epl\\2015-2016\\2016-02-27 - 18-00 Southampton 1 - 2 Chelsea\\1_720p.mkv\n",
      "password required for C:\\Users\\CYBORG 15\\Documents\\GitHub\\elec5305-project-520038655\\SoccerNet\\england_epl\\2015-2016\\2016-02-27 - 18-00 Southampton 1 - 2 Chelsea\\2_720p.mkv\n",
      "C:\\Users\\CYBORG 15\\Documents\\GitHub\\elec5305-project-520038655\\SoccerNet\\england_epl\\2015-2016\\2016-02-27 - 18-00 Southampton 1 - 2 Chelsea\\Labels-v2.json already exists\n",
      "password required for C:\\Users\\CYBORG 15\\Documents\\GitHub\\elec5305-project-520038655\\SoccerNet\\england_epl\\2015-2016\\2016-03-05 - 18-00 Manchester City 4 - 0 Aston Villa\\1_720p.mkv\n",
      "password required for C:\\Users\\CYBORG 15\\Documents\\GitHub\\elec5305-project-520038655\\SoccerNet\\england_epl\\2015-2016\\2016-03-05 - 18-00 Manchester City 4 - 0 Aston Villa\\2_720p.mkv\n",
      "C:\\Users\\CYBORG 15\\Documents\\GitHub\\elec5305-project-520038655\\SoccerNet\\england_epl\\2015-2016\\2016-03-05 - 18-00 Manchester City 4 - 0 Aston Villa\\Labels-v2.json already exists\n",
      "password required for C:\\Users\\CYBORG 15\\Documents\\GitHub\\elec5305-project-520038655\\SoccerNet\\england_epl\\2015-2016\\2016-03-20 - 19-00 Manchester City 0 - 1 Manchester United\\1_720p.mkv\n",
      "password required for C:\\Users\\CYBORG 15\\Documents\\GitHub\\elec5305-project-520038655\\SoccerNet\\england_epl\\2015-2016\\2016-03-20 - 19-00 Manchester City 0 - 1 Manchester United\\2_720p.mkv\n",
      "C:\\Users\\CYBORG 15\\Documents\\GitHub\\elec5305-project-520038655\\SoccerNet\\england_epl\\2015-2016\\2016-03-20 - 19-00 Manchester City 0 - 1 Manchester United\\Labels-v2.json already exists\n",
      "password required for C:\\Users\\CYBORG 15\\Documents\\GitHub\\elec5305-project-520038655\\SoccerNet\\england_epl\\2015-2016\\2016-04-23 - 17-00 Bournemouth 1 - 4 Chelsea\\1_720p.mkv\n",
      "password required for C:\\Users\\CYBORG 15\\Documents\\GitHub\\elec5305-project-520038655\\SoccerNet\\england_epl\\2015-2016\\2016-04-23 - 17-00 Bournemouth 1 - 4 Chelsea\\2_720p.mkv\n",
      "C:\\Users\\CYBORG 15\\Documents\\GitHub\\elec5305-project-520038655\\SoccerNet\\england_epl\\2015-2016\\2016-04-23 - 17-00 Bournemouth 1 - 4 Chelsea\\Labels-v2.json already exists\n",
      "password required for C:\\Users\\CYBORG 15\\Documents\\GitHub\\elec5305-project-520038655\\SoccerNet\\england_epl\\2016-2017\\2016-10-01 - 14-30 Swansea 1 - 2 Liverpool\\1_720p.mkv\n",
      "password required for C:\\Users\\CYBORG 15\\Documents\\GitHub\\elec5305-project-520038655\\SoccerNet\\england_epl\\2016-2017\\2016-10-01 - 14-30 Swansea 1 - 2 Liverpool\\2_720p.mkv\n",
      "C:\\Users\\CYBORG 15\\Documents\\GitHub\\elec5305-project-520038655\\SoccerNet\\england_epl\\2016-2017\\2016-10-01 - 14-30 Swansea 1 - 2 Liverpool\\Labels-v2.json already exists\n",
      "password required for C:\\Users\\CYBORG 15\\Documents\\GitHub\\elec5305-project-520038655\\SoccerNet\\england_epl\\2016-2017\\2016-10-02 - 18-30 Burnley 0 - 1 Arsenal\\1_720p.mkv\n",
      "password required for C:\\Users\\CYBORG 15\\Documents\\GitHub\\elec5305-project-520038655\\SoccerNet\\england_epl\\2016-2017\\2016-10-02 - 18-30 Burnley 0 - 1 Arsenal\\2_720p.mkv\n",
      "C:\\Users\\CYBORG 15\\Documents\\GitHub\\elec5305-project-520038655\\SoccerNet\\england_epl\\2016-2017\\2016-10-02 - 18-30 Burnley 0 - 1 Arsenal\\Labels-v2.json already exists\n",
      "password required for C:\\Users\\CYBORG 15\\Documents\\GitHub\\elec5305-project-520038655\\SoccerNet\\england_epl\\2016-2017\\2016-10-22 - 17-00 Arsenal 0 - 0 Middlesbrough\\1_720p.mkv\n",
      "password required for C:\\Users\\CYBORG 15\\Documents\\GitHub\\elec5305-project-520038655\\SoccerNet\\england_epl\\2016-2017\\2016-10-22 - 17-00 Arsenal 0 - 0 Middlesbrough\\2_720p.mkv\n",
      "C:\\Users\\CYBORG 15\\Documents\\GitHub\\elec5305-project-520038655\\SoccerNet\\england_epl\\2016-2017\\2016-10-22 - 17-00 Arsenal 0 - 0 Middlesbrough\\Labels-v2.json already exists\n",
      "password required for C:\\Users\\CYBORG 15\\Documents\\GitHub\\elec5305-project-520038655\\SoccerNet\\england_epl\\2016-2017\\2016-10-29 - 19-30 Crystal Palace 2 - 4 Liverpool\\1_720p.mkv\n",
      "password required for C:\\Users\\CYBORG 15\\Documents\\GitHub\\elec5305-project-520038655\\SoccerNet\\england_epl\\2016-2017\\2016-10-29 - 19-30 Crystal Palace 2 - 4 Liverpool\\2_720p.mkv\n",
      "C:\\Users\\CYBORG 15\\Documents\\GitHub\\elec5305-project-520038655\\SoccerNet\\england_epl\\2016-2017\\2016-10-29 - 19-30 Crystal Palace 2 - 4 Liverpool\\Labels-v2.json already exists\n",
      "password required for C:\\Users\\CYBORG 15\\Documents\\GitHub\\elec5305-project-520038655\\SoccerNet\\england_epl\\2016-2017\\2016-12-04 - 16-30 Bournemouth 4 - 3 Liverpool\\1_720p.mkv\n",
      "password required for C:\\Users\\CYBORG 15\\Documents\\GitHub\\elec5305-project-520038655\\SoccerNet\\england_epl\\2016-2017\\2016-12-04 - 16-30 Bournemouth 4 - 3 Liverpool\\2_720p.mkv\n",
      "C:\\Users\\CYBORG 15\\Documents\\GitHub\\elec5305-project-520038655\\SoccerNet\\england_epl\\2016-2017\\2016-12-04 - 16-30 Bournemouth 4 - 3 Liverpool\\Labels-v2.json already exists\n",
      "password required for C:\\Users\\CYBORG 15\\Documents\\GitHub\\elec5305-project-520038655\\SoccerNet\\england_epl\\2016-2017\\2017-04-09 - 18-00 Everton 4 - 2 Leicester\\1_720p.mkv\n",
      "password required for C:\\Users\\CYBORG 15\\Documents\\GitHub\\elec5305-project-520038655\\SoccerNet\\england_epl\\2016-2017\\2017-04-09 - 18-00 Everton 4 - 2 Leicester\\2_720p.mkv\n",
      "C:\\Users\\CYBORG 15\\Documents\\GitHub\\elec5305-project-520038655\\SoccerNet\\england_epl\\2016-2017\\2017-04-09 - 18-00 Everton 4 - 2 Leicester\\Labels-v2.json already exists\n",
      "password required for C:\\Users\\CYBORG 15\\Documents\\GitHub\\elec5305-project-520038655\\SoccerNet\\europe_uefa-champions-league\\2014-2015\\2014-11-04 - 22-45 Real Madrid 1 - 0 Liverpool\\1_720p.mkv\n",
      "password required for C:\\Users\\CYBORG 15\\Documents\\GitHub\\elec5305-project-520038655\\SoccerNet\\europe_uefa-champions-league\\2014-2015\\2014-11-04 - 22-45 Real Madrid 1 - 0 Liverpool\\2_720p.mkv\n",
      "C:\\Users\\CYBORG 15\\Documents\\GitHub\\elec5305-project-520038655\\SoccerNet\\europe_uefa-champions-league\\2014-2015\\2014-11-04 - 22-45 Real Madrid 1 - 0 Liverpool\\Labels-v2.json already exists\n",
      "password required for C:\\Users\\CYBORG 15\\Documents\\GitHub\\elec5305-project-520038655\\SoccerNet\\europe_uefa-champions-league\\2014-2015\\2014-11-05 - 22-45 Ajax 0 - 2 Barcelona\\1_720p.mkv\n",
      "password required for C:\\Users\\CYBORG 15\\Documents\\GitHub\\elec5305-project-520038655\\SoccerNet\\europe_uefa-champions-league\\2014-2015\\2014-11-05 - 22-45 Ajax 0 - 2 Barcelona\\2_720p.mkv\n",
      "C:\\Users\\CYBORG 15\\Documents\\GitHub\\elec5305-project-520038655\\SoccerNet\\europe_uefa-champions-league\\2014-2015\\2014-11-05 - 22-45 Ajax 0 - 2 Barcelona\\Labels-v2.json already exists\n",
      "password required for C:\\Users\\CYBORG 15\\Documents\\GitHub\\elec5305-project-520038655\\SoccerNet\\europe_uefa-champions-league\\2014-2015\\2014-11-05 - 22-45 Manchester City 1 - 2 CSKA Moscow\\1_720p.mkv\n",
      "password required for C:\\Users\\CYBORG 15\\Documents\\GitHub\\elec5305-project-520038655\\SoccerNet\\europe_uefa-champions-league\\2014-2015\\2014-11-05 - 22-45 Manchester City 1 - 2 CSKA Moscow\\2_720p.mkv\n",
      "C:\\Users\\CYBORG 15\\Documents\\GitHub\\elec5305-project-520038655\\SoccerNet\\europe_uefa-champions-league\\2014-2015\\2014-11-05 - 22-45 Manchester City 1 - 2 CSKA Moscow\\Labels-v2.json already exists\n",
      "password required for C:\\Users\\CYBORG 15\\Documents\\GitHub\\elec5305-project-520038655\\SoccerNet\\europe_uefa-champions-league\\2014-2015\\2014-12-09 - 22-45 Galatasaray 1 - 4 Arsenal\\1_720p.mkv\n",
      "password required for C:\\Users\\CYBORG 15\\Documents\\GitHub\\elec5305-project-520038655\\SoccerNet\\europe_uefa-champions-league\\2014-2015\\2014-12-09 - 22-45 Galatasaray 1 - 4 Arsenal\\2_720p.mkv\n",
      "C:\\Users\\CYBORG 15\\Documents\\GitHub\\elec5305-project-520038655\\SoccerNet\\europe_uefa-champions-league\\2014-2015\\2014-12-09 - 22-45 Galatasaray 1 - 4 Arsenal\\Labels-v2.json already exists\n",
      "password required for C:\\Users\\CYBORG 15\\Documents\\GitHub\\elec5305-project-520038655\\SoccerNet\\europe_uefa-champions-league\\2014-2015\\2014-12-09 - 22-45 Real Madrid 4 - 0 Ludogorets\\1_720p.mkv\n",
      "password required for C:\\Users\\CYBORG 15\\Documents\\GitHub\\elec5305-project-520038655\\SoccerNet\\europe_uefa-champions-league\\2014-2015\\2014-12-09 - 22-45 Real Madrid 4 - 0 Ludogorets\\2_720p.mkv\n",
      "C:\\Users\\CYBORG 15\\Documents\\GitHub\\elec5305-project-520038655\\SoccerNet\\europe_uefa-champions-league\\2014-2015\\2014-12-09 - 22-45 Real Madrid 4 - 0 Ludogorets\\Labels-v2.json already exists\n",
      "password required for C:\\Users\\CYBORG 15\\Documents\\GitHub\\elec5305-project-520038655\\SoccerNet\\europe_uefa-champions-league\\2014-2015\\2015-03-11 - 22-45 Bayern Munich 7 - 0 Shakhtar Donetsk\\1_720p.mkv\n",
      "password required for C:\\Users\\CYBORG 15\\Documents\\GitHub\\elec5305-project-520038655\\SoccerNet\\europe_uefa-champions-league\\2014-2015\\2015-03-11 - 22-45 Bayern Munich 7 - 0 Shakhtar Donetsk\\2_720p.mkv\n",
      "C:\\Users\\CYBORG 15\\Documents\\GitHub\\elec5305-project-520038655\\SoccerNet\\europe_uefa-champions-league\\2014-2015\\2015-03-11 - 22-45 Bayern Munich 7 - 0 Shakhtar Donetsk\\Labels-v2.json already exists\n",
      "password required for C:\\Users\\CYBORG 15\\Documents\\GitHub\\elec5305-project-520038655\\SoccerNet\\europe_uefa-champions-league\\2014-2015\\2015-04-15 - 21-45 Paris SG 1 - 3 Barcelona\\1_720p.mkv\n",
      "password required for C:\\Users\\CYBORG 15\\Documents\\GitHub\\elec5305-project-520038655\\SoccerNet\\europe_uefa-champions-league\\2014-2015\\2015-04-15 - 21-45 Paris SG 1 - 3 Barcelona\\2_720p.mkv\n",
      "C:\\Users\\CYBORG 15\\Documents\\GitHub\\elec5305-project-520038655\\SoccerNet\\europe_uefa-champions-league\\2014-2015\\2015-04-15 - 21-45 Paris SG 1 - 3 Barcelona\\Labels-v2.json already exists\n",
      "password required for C:\\Users\\CYBORG 15\\Documents\\GitHub\\elec5305-project-520038655\\SoccerNet\\europe_uefa-champions-league\\2014-2015\\2015-04-21 - 21-45 Barcelona 2 - 0 Paris SG\\1_720p.mkv\n",
      "password required for C:\\Users\\CYBORG 15\\Documents\\GitHub\\elec5305-project-520038655\\SoccerNet\\europe_uefa-champions-league\\2014-2015\\2015-04-21 - 21-45 Barcelona 2 - 0 Paris SG\\2_720p.mkv\n",
      "C:\\Users\\CYBORG 15\\Documents\\GitHub\\elec5305-project-520038655\\SoccerNet\\europe_uefa-champions-league\\2014-2015\\2015-04-21 - 21-45 Barcelona 2 - 0 Paris SG\\Labels-v2.json already exists\n",
      "password required for C:\\Users\\CYBORG 15\\Documents\\GitHub\\elec5305-project-520038655\\SoccerNet\\europe_uefa-champions-league\\2015-2016\\2015-09-15 - 21-45 PSV 2 - 1 Manchester United\\1_720p.mkv\n",
      "password required for C:\\Users\\CYBORG 15\\Documents\\GitHub\\elec5305-project-520038655\\SoccerNet\\europe_uefa-champions-league\\2015-2016\\2015-09-15 - 21-45 PSV 2 - 1 Manchester United\\2_720p.mkv\n",
      "C:\\Users\\CYBORG 15\\Documents\\GitHub\\elec5305-project-520038655\\SoccerNet\\europe_uefa-champions-league\\2015-2016\\2015-09-15 - 21-45 PSV 2 - 1 Manchester United\\Labels-v2.json already exists\n",
      "password required for C:\\Users\\CYBORG 15\\Documents\\GitHub\\elec5305-project-520038655\\SoccerNet\\europe_uefa-champions-league\\2015-2016\\2015-09-16 - 21-45 Chelsea 4 - 0 Maccabi Tel Aviv\\1_720p.mkv\n",
      "password required for C:\\Users\\CYBORG 15\\Documents\\GitHub\\elec5305-project-520038655\\SoccerNet\\europe_uefa-champions-league\\2015-2016\\2015-09-16 - 21-45 Chelsea 4 - 0 Maccabi Tel Aviv\\2_720p.mkv\n",
      "C:\\Users\\CYBORG 15\\Documents\\GitHub\\elec5305-project-520038655\\SoccerNet\\europe_uefa-champions-league\\2015-2016\\2015-09-16 - 21-45 Chelsea 4 - 0 Maccabi Tel Aviv\\Labels-v2.json already exists\n",
      "password required for C:\\Users\\CYBORG 15\\Documents\\GitHub\\elec5305-project-520038655\\SoccerNet\\europe_uefa-champions-league\\2015-2016\\2015-09-16 - 21-45 Dyn. Kiev 2 - 2 FC Porto\\1_720p.mkv\n",
      "password required for C:\\Users\\CYBORG 15\\Documents\\GitHub\\elec5305-project-520038655\\SoccerNet\\europe_uefa-champions-league\\2015-2016\\2015-09-16 - 21-45 Dyn. Kiev 2 - 2 FC Porto\\2_720p.mkv\n",
      "C:\\Users\\CYBORG 15\\Documents\\GitHub\\elec5305-project-520038655\\SoccerNet\\europe_uefa-champions-league\\2015-2016\\2015-09-16 - 21-45 Dyn. Kiev 2 - 2 FC Porto\\Labels-v2.json already exists\n",
      "password required for C:\\Users\\CYBORG 15\\Documents\\GitHub\\elec5305-project-520038655\\SoccerNet\\europe_uefa-champions-league\\2015-2016\\2015-09-16 - 21-45 Olympiakos Piraeus 0 - 3 Bayern Munich\\1_720p.mkv\n",
      "password required for C:\\Users\\CYBORG 15\\Documents\\GitHub\\elec5305-project-520038655\\SoccerNet\\europe_uefa-champions-league\\2015-2016\\2015-09-16 - 21-45 Olympiakos Piraeus 0 - 3 Bayern Munich\\2_720p.mkv\n",
      "C:\\Users\\CYBORG 15\\Documents\\GitHub\\elec5305-project-520038655\\SoccerNet\\europe_uefa-champions-league\\2015-2016\\2015-09-16 - 21-45 Olympiakos Piraeus 0 - 3 Bayern Munich\\Labels-v2.json already exists\n",
      "password required for C:\\Users\\CYBORG 15\\Documents\\GitHub\\elec5305-project-520038655\\SoccerNet\\europe_uefa-champions-league\\2015-2016\\2015-09-29 - 21-45 Barcelona 2 - 1 Bayer Leverkusen\\1_720p.mkv\n",
      "password required for C:\\Users\\CYBORG 15\\Documents\\GitHub\\elec5305-project-520038655\\SoccerNet\\europe_uefa-champions-league\\2015-2016\\2015-09-29 - 21-45 Barcelona 2 - 1 Bayer Leverkusen\\2_720p.mkv\n",
      "C:\\Users\\CYBORG 15\\Documents\\GitHub\\elec5305-project-520038655\\SoccerNet\\europe_uefa-champions-league\\2015-2016\\2015-09-29 - 21-45 Barcelona 2 - 1 Bayer Leverkusen\\Labels-v2.json already exists\n",
      "password required for C:\\Users\\CYBORG 15\\Documents\\GitHub\\elec5305-project-520038655\\SoccerNet\\europe_uefa-champions-league\\2015-2016\\2015-09-29 - 21-45 FC Porto 2 - 1 Chelsea\\1_720p.mkv\n",
      "password required for C:\\Users\\CYBORG 15\\Documents\\GitHub\\elec5305-project-520038655\\SoccerNet\\europe_uefa-champions-league\\2015-2016\\2015-09-29 - 21-45 FC Porto 2 - 1 Chelsea\\2_720p.mkv\n",
      "C:\\Users\\CYBORG 15\\Documents\\GitHub\\elec5305-project-520038655\\SoccerNet\\europe_uefa-champions-league\\2015-2016\\2015-09-29 - 21-45 FC Porto 2 - 1 Chelsea\\Labels-v2.json already exists\n",
      "password required for C:\\Users\\CYBORG 15\\Documents\\GitHub\\elec5305-project-520038655\\SoccerNet\\europe_uefa-champions-league\\2015-2016\\2015-11-03 - 22-45 Benfica 2 - 1 Galatasaray\\1_720p.mkv\n",
      "password required for C:\\Users\\CYBORG 15\\Documents\\GitHub\\elec5305-project-520038655\\SoccerNet\\europe_uefa-champions-league\\2015-2016\\2015-11-03 - 22-45 Benfica 2 - 1 Galatasaray\\2_720p.mkv\n",
      "C:\\Users\\CYBORG 15\\Documents\\GitHub\\elec5305-project-520038655\\SoccerNet\\europe_uefa-champions-league\\2015-2016\\2015-11-03 - 22-45 Benfica 2 - 1 Galatasaray\\Labels-v2.json already exists\n",
      "password required for C:\\Users\\CYBORG 15\\Documents\\GitHub\\elec5305-project-520038655\\SoccerNet\\europe_uefa-champions-league\\2015-2016\\2015-11-04 - 22-45 Barcelona 3 - 0 BATE\\1_720p.mkv\n",
      "password required for C:\\Users\\CYBORG 15\\Documents\\GitHub\\elec5305-project-520038655\\SoccerNet\\europe_uefa-champions-league\\2015-2016\\2015-11-04 - 22-45 Barcelona 3 - 0 BATE\\2_720p.mkv\n",
      "C:\\Users\\CYBORG 15\\Documents\\GitHub\\elec5305-project-520038655\\SoccerNet\\europe_uefa-champions-league\\2015-2016\\2015-11-04 - 22-45 Barcelona 3 - 0 BATE\\Labels-v2.json already exists\n",
      "password required for C:\\Users\\CYBORG 15\\Documents\\GitHub\\elec5305-project-520038655\\SoccerNet\\europe_uefa-champions-league\\2015-2016\\2015-11-24 - 20-00 BATE 1 - 1 Bayer Leverkusen\\1_720p.mkv\n",
      "password required for C:\\Users\\CYBORG 15\\Documents\\GitHub\\elec5305-project-520038655\\SoccerNet\\europe_uefa-champions-league\\2015-2016\\2015-11-24 - 20-00 BATE 1 - 1 Bayer Leverkusen\\2_720p.mkv\n",
      "C:\\Users\\CYBORG 15\\Documents\\GitHub\\elec5305-project-520038655\\SoccerNet\\europe_uefa-champions-league\\2015-2016\\2015-11-24 - 20-00 BATE 1 - 1 Bayer Leverkusen\\Labels-v2.json already exists\n",
      "password required for C:\\Users\\CYBORG 15\\Documents\\GitHub\\elec5305-project-520038655\\SoccerNet\\europe_uefa-champions-league\\2015-2016\\2015-11-25 - 22-45 Juventus 1 - 0 Manchester City\\1_720p.mkv\n",
      "password required for C:\\Users\\CYBORG 15\\Documents\\GitHub\\elec5305-project-520038655\\SoccerNet\\europe_uefa-champions-league\\2015-2016\\2015-11-25 - 22-45 Juventus 1 - 0 Manchester City\\2_720p.mkv\n",
      "C:\\Users\\CYBORG 15\\Documents\\GitHub\\elec5305-project-520038655\\SoccerNet\\europe_uefa-champions-league\\2015-2016\\2015-11-25 - 22-45 Juventus 1 - 0 Manchester City\\Labels-v2.json already exists\n",
      "password required for C:\\Users\\CYBORG 15\\Documents\\GitHub\\elec5305-project-520038655\\SoccerNet\\europe_uefa-champions-league\\2016-2017\\2016-09-28 - 21-45 Napoli 4 - 2 Benfica\\1_720p.mkv\n",
      "password required for C:\\Users\\CYBORG 15\\Documents\\GitHub\\elec5305-project-520038655\\SoccerNet\\europe_uefa-champions-league\\2016-2017\\2016-09-28 - 21-45 Napoli 4 - 2 Benfica\\2_720p.mkv\n",
      "C:\\Users\\CYBORG 15\\Documents\\GitHub\\elec5305-project-520038655\\SoccerNet\\europe_uefa-champions-league\\2016-2017\\2016-09-28 - 21-45 Napoli 4 - 2 Benfica\\Labels-v2.json already exists\n",
      "password required for C:\\Users\\CYBORG 15\\Documents\\GitHub\\elec5305-project-520038655\\SoccerNet\\europe_uefa-champions-league\\2016-2017\\2016-10-19 - 21-45 Paris SG 3 - 0 Basel\\1_720p.mkv\n",
      "password required for C:\\Users\\CYBORG 15\\Documents\\GitHub\\elec5305-project-520038655\\SoccerNet\\europe_uefa-champions-league\\2016-2017\\2016-10-19 - 21-45 Paris SG 3 - 0 Basel\\2_720p.mkv\n",
      "C:\\Users\\CYBORG 15\\Documents\\GitHub\\elec5305-project-520038655\\SoccerNet\\europe_uefa-champions-league\\2016-2017\\2016-10-19 - 21-45 Paris SG 3 - 0 Basel\\Labels-v2.json already exists\n",
      "password required for C:\\Users\\CYBORG 15\\Documents\\GitHub\\elec5305-project-520038655\\SoccerNet\\france_ligue-1\\2015-2016\\2015-09-19 - 18-30 Reims 1 - 1 Paris SG\\1_720p.mkv\n",
      "password required for C:\\Users\\CYBORG 15\\Documents\\GitHub\\elec5305-project-520038655\\SoccerNet\\france_ligue-1\\2015-2016\\2015-09-19 - 18-30 Reims 1 - 1 Paris SG\\2_720p.mkv\n",
      "C:\\Users\\CYBORG 15\\Documents\\GitHub\\elec5305-project-520038655\\SoccerNet\\france_ligue-1\\2015-2016\\2015-09-19 - 18-30 Reims 1 - 1 Paris SG\\Labels-v2.json already exists\n",
      "password required for C:\\Users\\CYBORG 15\\Documents\\GitHub\\elec5305-project-520038655\\SoccerNet\\france_ligue-1\\2016-2017\\2016-08-21 - 21-45 Paris SG 3 - 0 Metz\\1_720p.mkv\n",
      "password required for C:\\Users\\CYBORG 15\\Documents\\GitHub\\elec5305-project-520038655\\SoccerNet\\france_ligue-1\\2016-2017\\2016-08-21 - 21-45 Paris SG 3 - 0 Metz\\2_720p.mkv\n",
      "C:\\Users\\CYBORG 15\\Documents\\GitHub\\elec5305-project-520038655\\SoccerNet\\france_ligue-1\\2016-2017\\2016-08-21 - 21-45 Paris SG 3 - 0 Metz\\Labels-v2.json already exists\n",
      "password required for C:\\Users\\CYBORG 15\\Documents\\GitHub\\elec5305-project-520038655\\SoccerNet\\france_ligue-1\\2016-2017\\2016-09-09 - 21-45 Paris SG 1 - 1 St Etienne\\1_720p.mkv\n",
      "password required for C:\\Users\\CYBORG 15\\Documents\\GitHub\\elec5305-project-520038655\\SoccerNet\\france_ligue-1\\2016-2017\\2016-09-09 - 21-45 Paris SG 1 - 1 St Etienne\\2_720p.mkv\n",
      "C:\\Users\\CYBORG 15\\Documents\\GitHub\\elec5305-project-520038655\\SoccerNet\\france_ligue-1\\2016-2017\\2016-09-09 - 21-45 Paris SG 1 - 1 St Etienne\\Labels-v2.json already exists\n",
      "password required for C:\\Users\\CYBORG 15\\Documents\\GitHub\\elec5305-project-520038655\\SoccerNet\\france_ligue-1\\2016-2017\\2016-09-20 - 22-00 Paris SG 3 - 0 Dijon\\1_720p.mkv\n",
      "password required for C:\\Users\\CYBORG 15\\Documents\\GitHub\\elec5305-project-520038655\\SoccerNet\\france_ligue-1\\2016-2017\\2016-09-20 - 22-00 Paris SG 3 - 0 Dijon\\2_720p.mkv\n",
      "C:\\Users\\CYBORG 15\\Documents\\GitHub\\elec5305-project-520038655\\SoccerNet\\france_ligue-1\\2016-2017\\2016-09-20 - 22-00 Paris SG 3 - 0 Dijon\\Labels-v2.json already exists\n",
      "password required for C:\\Users\\CYBORG 15\\Documents\\GitHub\\elec5305-project-520038655\\SoccerNet\\france_ligue-1\\2016-2017\\2016-10-23 - 21-45 Paris SG 0 - 0 Marseille\\1_720p.mkv\n",
      "password required for C:\\Users\\CYBORG 15\\Documents\\GitHub\\elec5305-project-520038655\\SoccerNet\\france_ligue-1\\2016-2017\\2016-10-23 - 21-45 Paris SG 0 - 0 Marseille\\2_720p.mkv\n",
      "C:\\Users\\CYBORG 15\\Documents\\GitHub\\elec5305-project-520038655\\SoccerNet\\france_ligue-1\\2016-2017\\2016-10-23 - 21-45 Paris SG 0 - 0 Marseille\\Labels-v2.json already exists\n",
      "password required for C:\\Users\\CYBORG 15\\Documents\\GitHub\\elec5305-project-520038655\\SoccerNet\\france_ligue-1\\2016-2017\\2016-12-03 - 19-00 Montpellier 3 - 0 Paris SG\\1_720p.mkv\n",
      "password required for C:\\Users\\CYBORG 15\\Documents\\GitHub\\elec5305-project-520038655\\SoccerNet\\france_ligue-1\\2016-2017\\2016-12-03 - 19-00 Montpellier 3 - 0 Paris SG\\2_720p.mkv\n",
      "C:\\Users\\CYBORG 15\\Documents\\GitHub\\elec5305-project-520038655\\SoccerNet\\france_ligue-1\\2016-2017\\2016-12-03 - 19-00 Montpellier 3 - 0 Paris SG\\Labels-v2.json already exists\n",
      "password required for C:\\Users\\CYBORG 15\\Documents\\GitHub\\elec5305-project-520038655\\SoccerNet\\france_ligue-1\\2016-2017\\2017-03-04 - 19-00 Paris SG 1 - 0 Nancy\\1_720p.mkv\n",
      "password required for C:\\Users\\CYBORG 15\\Documents\\GitHub\\elec5305-project-520038655\\SoccerNet\\france_ligue-1\\2016-2017\\2017-03-04 - 19-00 Paris SG 1 - 0 Nancy\\2_720p.mkv\n",
      "C:\\Users\\CYBORG 15\\Documents\\GitHub\\elec5305-project-520038655\\SoccerNet\\france_ligue-1\\2016-2017\\2017-03-04 - 19-00 Paris SG 1 - 0 Nancy\\Labels-v2.json already exists\n",
      "password required for C:\\Users\\CYBORG 15\\Documents\\GitHub\\elec5305-project-520038655\\SoccerNet\\france_ligue-1\\2016-2017\\2017-04-09 - 22-00 Paris SG 4 - 0 Guingamp\\1_720p.mkv\n",
      "password required for C:\\Users\\CYBORG 15\\Documents\\GitHub\\elec5305-project-520038655\\SoccerNet\\france_ligue-1\\2016-2017\\2017-04-09 - 22-00 Paris SG 4 - 0 Guingamp\\2_720p.mkv\n",
      "C:\\Users\\CYBORG 15\\Documents\\GitHub\\elec5305-project-520038655\\SoccerNet\\france_ligue-1\\2016-2017\\2017-04-09 - 22-00 Paris SG 4 - 0 Guingamp\\Labels-v2.json already exists\n",
      "password required for C:\\Users\\CYBORG 15\\Documents\\GitHub\\elec5305-project-520038655\\SoccerNet\\france_ligue-1\\2016-2017\\2017-05-14 - 22-00 St Etienne 0 - 5 Paris SG\\1_720p.mkv\n",
      "password required for C:\\Users\\CYBORG 15\\Documents\\GitHub\\elec5305-project-520038655\\SoccerNet\\france_ligue-1\\2016-2017\\2017-05-14 - 22-00 St Etienne 0 - 5 Paris SG\\2_720p.mkv\n",
      "C:\\Users\\CYBORG 15\\Documents\\GitHub\\elec5305-project-520038655\\SoccerNet\\france_ligue-1\\2016-2017\\2017-05-14 - 22-00 St Etienne 0 - 5 Paris SG\\Labels-v2.json already exists\n",
      "password required for C:\\Users\\CYBORG 15\\Documents\\GitHub\\elec5305-project-520038655\\SoccerNet\\germany_bundesliga\\2014-2015\\2015-04-25 - 19-30 Bayern Munich 1 - 0 Hertha Berlin\\1_720p.mkv\n",
      "password required for C:\\Users\\CYBORG 15\\Documents\\GitHub\\elec5305-project-520038655\\SoccerNet\\germany_bundesliga\\2014-2015\\2015-04-25 - 19-30 Bayern Munich 1 - 0 Hertha Berlin\\2_720p.mkv\n",
      "C:\\Users\\CYBORG 15\\Documents\\GitHub\\elec5305-project-520038655\\SoccerNet\\germany_bundesliga\\2014-2015\\2015-04-25 - 19-30 Bayern Munich 1 - 0 Hertha Berlin\\Labels-v2.json already exists\n",
      "password required for C:\\Users\\CYBORG 15\\Documents\\GitHub\\elec5305-project-520038655\\SoccerNet\\germany_bundesliga\\2014-2015\\2015-05-02 - 16-30 Hoffenheim 1 - 1 Dortmund\\1_720p.mkv\n",
      "password required for C:\\Users\\CYBORG 15\\Documents\\GitHub\\elec5305-project-520038655\\SoccerNet\\germany_bundesliga\\2014-2015\\2015-05-02 - 16-30 Hoffenheim 1 - 1 Dortmund\\2_720p.mkv\n",
      "C:\\Users\\CYBORG 15\\Documents\\GitHub\\elec5305-project-520038655\\SoccerNet\\germany_bundesliga\\2014-2015\\2015-05-02 - 16-30 Hoffenheim 1 - 1 Dortmund\\Labels-v2.json already exists\n",
      "password required for C:\\Users\\CYBORG 15\\Documents\\GitHub\\elec5305-project-520038655\\SoccerNet\\germany_bundesliga\\2015-2016\\2015-09-20 - 18-30 Dortmund 3 - 0 Bayer Leverkusen\\1_720p.mkv\n",
      "password required for C:\\Users\\CYBORG 15\\Documents\\GitHub\\elec5305-project-520038655\\SoccerNet\\germany_bundesliga\\2015-2016\\2015-09-20 - 18-30 Dortmund 3 - 0 Bayer Leverkusen\\2_720p.mkv\n",
      "C:\\Users\\CYBORG 15\\Documents\\GitHub\\elec5305-project-520038655\\SoccerNet\\germany_bundesliga\\2015-2016\\2015-09-20 - 18-30 Dortmund 3 - 0 Bayer Leverkusen\\Labels-v2.json already exists\n",
      "password required for C:\\Users\\CYBORG 15\\Documents\\GitHub\\elec5305-project-520038655\\SoccerNet\\germany_bundesliga\\2015-2016\\2015-10-04 - 18-30 Bayern Munich 5 - 1 Dortmund\\1_720p.mkv\n",
      "password required for C:\\Users\\CYBORG 15\\Documents\\GitHub\\elec5305-project-520038655\\SoccerNet\\germany_bundesliga\\2015-2016\\2015-10-04 - 18-30 Bayern Munich 5 - 1 Dortmund\\2_720p.mkv\n",
      "C:\\Users\\CYBORG 15\\Documents\\GitHub\\elec5305-project-520038655\\SoccerNet\\germany_bundesliga\\2015-2016\\2015-10-04 - 18-30 Bayern Munich 5 - 1 Dortmund\\Labels-v2.json already exists\n",
      "password required for C:\\Users\\CYBORG 15\\Documents\\GitHub\\elec5305-project-520038655\\SoccerNet\\germany_bundesliga\\2015-2016\\2015-11-07 - 17-30 Bayern Munich 4 - 0 VfB Stuttgart\\1_720p.mkv\n",
      "password required for C:\\Users\\CYBORG 15\\Documents\\GitHub\\elec5305-project-520038655\\SoccerNet\\germany_bundesliga\\2015-2016\\2015-11-07 - 17-30 Bayern Munich 4 - 0 VfB Stuttgart\\2_720p.mkv\n",
      "C:\\Users\\CYBORG 15\\Documents\\GitHub\\elec5305-project-520038655\\SoccerNet\\germany_bundesliga\\2015-2016\\2015-11-07 - 17-30 Bayern Munich 4 - 0 VfB Stuttgart\\Labels-v2.json already exists\n",
      "password required for C:\\Users\\CYBORG 15\\Documents\\GitHub\\elec5305-project-520038655\\SoccerNet\\germany_bundesliga\\2015-2016\\2016-04-23 - 16-30 Hertha Berlin 0 - 2 Bayern Munich\\1_720p.mkv\n",
      "password required for C:\\Users\\CYBORG 15\\Documents\\GitHub\\elec5305-project-520038655\\SoccerNet\\germany_bundesliga\\2015-2016\\2016-04-23 - 16-30 Hertha Berlin 0 - 2 Bayern Munich\\2_720p.mkv\n",
      "C:\\Users\\CYBORG 15\\Documents\\GitHub\\elec5305-project-520038655\\SoccerNet\\germany_bundesliga\\2015-2016\\2016-04-23 - 16-30 Hertha Berlin 0 - 2 Bayern Munich\\Labels-v2.json already exists\n",
      "password required for C:\\Users\\CYBORG 15\\Documents\\GitHub\\elec5305-project-520038655\\SoccerNet\\germany_bundesliga\\2016-2017\\2016-12-03 - 17-30 Dortmund 4 - 1 B. Monchengladbach\\1_720p.mkv\n",
      "password required for C:\\Users\\CYBORG 15\\Documents\\GitHub\\elec5305-project-520038655\\SoccerNet\\germany_bundesliga\\2016-2017\\2016-12-03 - 17-30 Dortmund 4 - 1 B. Monchengladbach\\2_720p.mkv\n",
      "C:\\Users\\CYBORG 15\\Documents\\GitHub\\elec5305-project-520038655\\SoccerNet\\germany_bundesliga\\2016-2017\\2016-12-03 - 17-30 Dortmund 4 - 1 B. Monchengladbach\\Labels-v2.json already exists\n",
      "password required for C:\\Users\\CYBORG 15\\Documents\\GitHub\\elec5305-project-520038655\\SoccerNet\\germany_bundesliga\\2016-2017\\2017-02-25 - 17-30 SC Freiburg 0 - 3 Dortmund\\1_720p.mkv\n",
      "password required for C:\\Users\\CYBORG 15\\Documents\\GitHub\\elec5305-project-520038655\\SoccerNet\\germany_bundesliga\\2016-2017\\2017-02-25 - 17-30 SC Freiburg 0 - 3 Dortmund\\2_720p.mkv\n",
      "C:\\Users\\CYBORG 15\\Documents\\GitHub\\elec5305-project-520038655\\SoccerNet\\germany_bundesliga\\2016-2017\\2017-02-25 - 17-30 SC Freiburg 0 - 3 Dortmund\\Labels-v2.json already exists\n",
      "password required for C:\\Users\\CYBORG 15\\Documents\\GitHub\\elec5305-project-520038655\\SoccerNet\\italy_serie-a\\2014-2015\\2015-04-25 - 19-00 Udinese 2 - 1 AC Milan\\1_720p.mkv\n",
      "password required for C:\\Users\\CYBORG 15\\Documents\\GitHub\\elec5305-project-520038655\\SoccerNet\\italy_serie-a\\2014-2015\\2015-04-25 - 19-00 Udinese 2 - 1 AC Milan\\2_720p.mkv\n",
      "C:\\Users\\CYBORG 15\\Documents\\GitHub\\elec5305-project-520038655\\SoccerNet\\italy_serie-a\\2014-2015\\2015-04-25 - 19-00 Udinese 2 - 1 AC Milan\\Labels-v2.json already exists\n",
      "password required for C:\\Users\\CYBORG 15\\Documents\\GitHub\\elec5305-project-520038655\\SoccerNet\\italy_serie-a\\2014-2015\\2015-05-10 - 21-45 Lazio 1 - 2 Inter\\1_720p.mkv\n",
      "password required for C:\\Users\\CYBORG 15\\Documents\\GitHub\\elec5305-project-520038655\\SoccerNet\\italy_serie-a\\2014-2015\\2015-05-10 - 21-45 Lazio 1 - 2 Inter\\2_720p.mkv\n",
      "C:\\Users\\CYBORG 15\\Documents\\GitHub\\elec5305-project-520038655\\SoccerNet\\italy_serie-a\\2014-2015\\2015-05-10 - 21-45 Lazio 1 - 2 Inter\\Labels-v2.json already exists\n",
      "password required for C:\\Users\\CYBORG 15\\Documents\\GitHub\\elec5305-project-520038655\\SoccerNet\\italy_serie-a\\2014-2015\\2015-05-17 - 13-30 Sassuolo 3 - 2 AC Milan\\1_720p.mkv\n",
      "password required for C:\\Users\\CYBORG 15\\Documents\\GitHub\\elec5305-project-520038655\\SoccerNet\\italy_serie-a\\2014-2015\\2015-05-17 - 13-30 Sassuolo 3 - 2 AC Milan\\2_720p.mkv\n",
      "C:\\Users\\CYBORG 15\\Documents\\GitHub\\elec5305-project-520038655\\SoccerNet\\italy_serie-a\\2014-2015\\2015-05-17 - 13-30 Sassuolo 3 - 2 AC Milan\\Labels-v2.json already exists\n",
      "password required for C:\\Users\\CYBORG 15\\Documents\\GitHub\\elec5305-project-520038655\\SoccerNet\\italy_serie-a\\2015-2016\\2015-09-26 - 21-45 Napoli 2 - 1 Juventus\\1_720p.mkv\n",
      "password required for C:\\Users\\CYBORG 15\\Documents\\GitHub\\elec5305-project-520038655\\SoccerNet\\italy_serie-a\\2015-2016\\2015-09-26 - 21-45 Napoli 2 - 1 Juventus\\2_720p.mkv\n",
      "C:\\Users\\CYBORG 15\\Documents\\GitHub\\elec5305-project-520038655\\SoccerNet\\italy_serie-a\\2015-2016\\2015-09-26 - 21-45 Napoli 2 - 1 Juventus\\Labels-v2.json already exists\n",
      "password required for C:\\Users\\CYBORG 15\\Documents\\GitHub\\elec5305-project-520038655\\SoccerNet\\italy_serie-a\\2016-2017\\2016-08-20 - 19-00 AS Roma 4 - 0 Udinese\\1_720p.mkv\n",
      "password required for C:\\Users\\CYBORG 15\\Documents\\GitHub\\elec5305-project-520038655\\SoccerNet\\italy_serie-a\\2016-2017\\2016-08-20 - 19-00 AS Roma 4 - 0 Udinese\\2_720p.mkv\n",
      "C:\\Users\\CYBORG 15\\Documents\\GitHub\\elec5305-project-520038655\\SoccerNet\\italy_serie-a\\2016-2017\\2016-08-20 - 19-00 AS Roma 4 - 0 Udinese\\Labels-v2.json already exists\n",
      "password required for C:\\Users\\CYBORG 15\\Documents\\GitHub\\elec5305-project-520038655\\SoccerNet\\italy_serie-a\\2016-2017\\2016-09-18 - 21-45 Fiorentina 1 - 0 AS Roma\\1_720p.mkv\n",
      "password required for C:\\Users\\CYBORG 15\\Documents\\GitHub\\elec5305-project-520038655\\SoccerNet\\italy_serie-a\\2016-2017\\2016-09-18 - 21-45 Fiorentina 1 - 0 AS Roma\\2_720p.mkv\n",
      "C:\\Users\\CYBORG 15\\Documents\\GitHub\\elec5305-project-520038655\\SoccerNet\\italy_serie-a\\2016-2017\\2016-09-18 - 21-45 Fiorentina 1 - 0 AS Roma\\Labels-v2.json already exists\n",
      "password required for C:\\Users\\CYBORG 15\\Documents\\GitHub\\elec5305-project-520038655\\SoccerNet\\italy_serie-a\\2016-2017\\2016-09-21 - 21-45 Genoa 0 - 0 Napoli\\1_720p.mkv\n",
      "password required for C:\\Users\\CYBORG 15\\Documents\\GitHub\\elec5305-project-520038655\\SoccerNet\\italy_serie-a\\2016-2017\\2016-09-21 - 21-45 Genoa 0 - 0 Napoli\\2_720p.mkv\n",
      "C:\\Users\\CYBORG 15\\Documents\\GitHub\\elec5305-project-520038655\\SoccerNet\\italy_serie-a\\2016-2017\\2016-09-21 - 21-45 Genoa 0 - 0 Napoli\\Labels-v2.json already exists\n",
      "password required for C:\\Users\\CYBORG 15\\Documents\\GitHub\\elec5305-project-520038655\\SoccerNet\\italy_serie-a\\2016-2017\\2016-10-02 - 19-00 AC Milan 4 - 3 Sassuolo\\1_720p.mkv\n",
      "password required for C:\\Users\\CYBORG 15\\Documents\\GitHub\\elec5305-project-520038655\\SoccerNet\\italy_serie-a\\2016-2017\\2016-10-02 - 19-00 AC Milan 4 - 3 Sassuolo\\2_720p.mkv\n",
      "C:\\Users\\CYBORG 15\\Documents\\GitHub\\elec5305-project-520038655\\SoccerNet\\italy_serie-a\\2016-2017\\2016-10-02 - 19-00 AC Milan 4 - 3 Sassuolo\\Labels-v2.json already exists\n",
      "password required for C:\\Users\\CYBORG 15\\Documents\\GitHub\\elec5305-project-520038655\\SoccerNet\\italy_serie-a\\2016-2017\\2016-10-29 - 21-45 Juventus 2 - 1 Napoli\\1_720p.mkv\n",
      "password required for C:\\Users\\CYBORG 15\\Documents\\GitHub\\elec5305-project-520038655\\SoccerNet\\italy_serie-a\\2016-2017\\2016-10-29 - 21-45 Juventus 2 - 1 Napoli\\2_720p.mkv\n",
      "C:\\Users\\CYBORG 15\\Documents\\GitHub\\elec5305-project-520038655\\SoccerNet\\italy_serie-a\\2016-2017\\2016-10-29 - 21-45 Juventus 2 - 1 Napoli\\Labels-v2.json already exists\n",
      "password required for C:\\Users\\CYBORG 15\\Documents\\GitHub\\elec5305-project-520038655\\SoccerNet\\italy_serie-a\\2016-2017\\2016-11-05 - 22-45 Napoli 1 - 1 Lazio\\1_720p.mkv\n",
      "password required for C:\\Users\\CYBORG 15\\Documents\\GitHub\\elec5305-project-520038655\\SoccerNet\\italy_serie-a\\2016-2017\\2016-11-05 - 22-45 Napoli 1 - 1 Lazio\\2_720p.mkv\n",
      "C:\\Users\\CYBORG 15\\Documents\\GitHub\\elec5305-project-520038655\\SoccerNet\\italy_serie-a\\2016-2017\\2016-11-05 - 22-45 Napoli 1 - 1 Lazio\\Labels-v2.json already exists\n",
      "password required for C:\\Users\\CYBORG 15\\Documents\\GitHub\\elec5305-project-520038655\\SoccerNet\\italy_serie-a\\2016-2017\\2016-12-12 - 23-00 AS Roma 1 - 0 AC Milan\\1_720p.mkv\n",
      "password required for C:\\Users\\CYBORG 15\\Documents\\GitHub\\elec5305-project-520038655\\SoccerNet\\italy_serie-a\\2016-2017\\2016-12-12 - 23-00 AS Roma 1 - 0 AC Milan\\2_720p.mkv\n",
      "C:\\Users\\CYBORG 15\\Documents\\GitHub\\elec5305-project-520038655\\SoccerNet\\italy_serie-a\\2016-2017\\2016-12-12 - 23-00 AS Roma 1 - 0 AC Milan\\Labels-v2.json already exists\n",
      "password required for C:\\Users\\CYBORG 15\\Documents\\GitHub\\elec5305-project-520038655\\SoccerNet\\italy_serie-a\\2016-2017\\2017-01-22 - 22-45 AS Roma 1 - 0 Cagliari\\1_720p.mkv\n",
      "password required for C:\\Users\\CYBORG 15\\Documents\\GitHub\\elec5305-project-520038655\\SoccerNet\\italy_serie-a\\2016-2017\\2017-01-22 - 22-45 AS Roma 1 - 0 Cagliari\\2_720p.mkv\n",
      "C:\\Users\\CYBORG 15\\Documents\\GitHub\\elec5305-project-520038655\\SoccerNet\\italy_serie-a\\2016-2017\\2017-01-22 - 22-45 AS Roma 1 - 0 Cagliari\\Labels-v2.json already exists\n",
      "password required for C:\\Users\\CYBORG 15\\Documents\\GitHub\\elec5305-project-520038655\\SoccerNet\\italy_serie-a\\2016-2017\\2017-02-19 - 17-00 Chievo 1 - 3 Napoli\\1_720p.mkv\n",
      "password required for C:\\Users\\CYBORG 15\\Documents\\GitHub\\elec5305-project-520038655\\SoccerNet\\italy_serie-a\\2016-2017\\2017-02-19 - 17-00 Chievo 1 - 3 Napoli\\2_720p.mkv\n",
      "C:\\Users\\CYBORG 15\\Documents\\GitHub\\elec5305-project-520038655\\SoccerNet\\italy_serie-a\\2016-2017\\2017-02-19 - 17-00 Chievo 1 - 3 Napoli\\Labels-v2.json already exists\n",
      "password required for C:\\Users\\CYBORG 15\\Documents\\GitHub\\elec5305-project-520038655\\SoccerNet\\italy_serie-a\\2016-2017\\2017-03-12 - 22-45 Palermo 0 - 3 AS Roma\\1_720p.mkv\n",
      "password required for C:\\Users\\CYBORG 15\\Documents\\GitHub\\elec5305-project-520038655\\SoccerNet\\italy_serie-a\\2016-2017\\2017-03-12 - 22-45 Palermo 0 - 3 AS Roma\\2_720p.mkv\n",
      "C:\\Users\\CYBORG 15\\Documents\\GitHub\\elec5305-project-520038655\\SoccerNet\\italy_serie-a\\2016-2017\\2017-03-12 - 22-45 Palermo 0 - 3 AS Roma\\Labels-v2.json already exists\n",
      "password required for C:\\Users\\CYBORG 15\\Documents\\GitHub\\elec5305-project-520038655\\SoccerNet\\italy_serie-a\\2016-2017\\2017-04-02 - 21-45 Napoli 1 - 1 Juventus\\1_720p.mkv\n",
      "password required for C:\\Users\\CYBORG 15\\Documents\\GitHub\\elec5305-project-520038655\\SoccerNet\\italy_serie-a\\2016-2017\\2017-04-02 - 21-45 Napoli 1 - 1 Juventus\\2_720p.mkv\n",
      "C:\\Users\\CYBORG 15\\Documents\\GitHub\\elec5305-project-520038655\\SoccerNet\\italy_serie-a\\2016-2017\\2017-04-02 - 21-45 Napoli 1 - 1 Juventus\\Labels-v2.json already exists\n",
      "password required for C:\\Users\\CYBORG 15\\Documents\\GitHub\\elec5305-project-520038655\\SoccerNet\\italy_serie-a\\2016-2017\\2017-04-15 - 21-45 Napoli 3 - 0 Udinese\\1_720p.mkv\n",
      "password required for C:\\Users\\CYBORG 15\\Documents\\GitHub\\elec5305-project-520038655\\SoccerNet\\italy_serie-a\\2016-2017\\2017-04-15 - 21-45 Napoli 3 - 0 Udinese\\2_720p.mkv\n",
      "C:\\Users\\CYBORG 15\\Documents\\GitHub\\elec5305-project-520038655\\SoccerNet\\italy_serie-a\\2016-2017\\2017-04-15 - 21-45 Napoli 3 - 0 Udinese\\Labels-v2.json already exists\n",
      "password required for C:\\Users\\CYBORG 15\\Documents\\GitHub\\elec5305-project-520038655\\SoccerNet\\italy_serie-a\\2016-2017\\2017-04-30 - 13-30 AS Roma 1 - 3 Lazio\\1_720p.mkv\n",
      "password required for C:\\Users\\CYBORG 15\\Documents\\GitHub\\elec5305-project-520038655\\SoccerNet\\italy_serie-a\\2016-2017\\2017-04-30 - 13-30 AS Roma 1 - 3 Lazio\\2_720p.mkv\n",
      "C:\\Users\\CYBORG 15\\Documents\\GitHub\\elec5305-project-520038655\\SoccerNet\\italy_serie-a\\2016-2017\\2017-04-30 - 13-30 AS Roma 1 - 3 Lazio\\Labels-v2.json already exists\n",
      "password required for C:\\Users\\CYBORG 15\\Documents\\GitHub\\elec5305-project-520038655\\SoccerNet\\italy_serie-a\\2016-2017\\2017-05-06 - 19-00 Napoli 3 - 1 Cagliari\\1_720p.mkv\n",
      "password required for C:\\Users\\CYBORG 15\\Documents\\GitHub\\elec5305-project-520038655\\SoccerNet\\italy_serie-a\\2016-2017\\2017-05-06 - 19-00 Napoli 3 - 1 Cagliari\\2_720p.mkv\n",
      "C:\\Users\\CYBORG 15\\Documents\\GitHub\\elec5305-project-520038655\\SoccerNet\\italy_serie-a\\2016-2017\\2017-05-06 - 19-00 Napoli 3 - 1 Cagliari\\Labels-v2.json already exists\n",
      "password required for C:\\Users\\CYBORG 15\\Documents\\GitHub\\elec5305-project-520038655\\SoccerNet\\spain_laliga\\2014-2015\\2015-04-11 - 17-00 Real Madrid 3 - 0 Eibar\\1_720p.mkv\n",
      "password required for C:\\Users\\CYBORG 15\\Documents\\GitHub\\elec5305-project-520038655\\SoccerNet\\spain_laliga\\2014-2015\\2015-04-11 - 17-00 Real Madrid 3 - 0 Eibar\\2_720p.mkv\n",
      "C:\\Users\\CYBORG 15\\Documents\\GitHub\\elec5305-project-520038655\\SoccerNet\\spain_laliga\\2014-2015\\2015-04-11 - 17-00 Real Madrid 3 - 0 Eibar\\Labels-v2.json already exists\n",
      "password required for C:\\Users\\CYBORG 15\\Documents\\GitHub\\elec5305-project-520038655\\SoccerNet\\spain_laliga\\2014-2015\\2015-04-11 - 21-00 Sevilla 2 - 2 Barcelona\\1_720p.mkv\n",
      "password required for C:\\Users\\CYBORG 15\\Documents\\GitHub\\elec5305-project-520038655\\SoccerNet\\spain_laliga\\2014-2015\\2015-04-11 - 21-00 Sevilla 2 - 2 Barcelona\\2_720p.mkv\n",
      "C:\\Users\\CYBORG 15\\Documents\\GitHub\\elec5305-project-520038655\\SoccerNet\\spain_laliga\\2014-2015\\2015-04-11 - 21-00 Sevilla 2 - 2 Barcelona\\Labels-v2.json already exists\n",
      "password required for C:\\Users\\CYBORG 15\\Documents\\GitHub\\elec5305-project-520038655\\SoccerNet\\spain_laliga\\2014-2015\\2015-04-28 - 21-00 Barcelona 6 - 0 Getafe\\1_720p.mkv\n",
      "password required for C:\\Users\\CYBORG 15\\Documents\\GitHub\\elec5305-project-520038655\\SoccerNet\\spain_laliga\\2014-2015\\2015-04-28 - 21-00 Barcelona 6 - 0 Getafe\\2_720p.mkv\n",
      "C:\\Users\\CYBORG 15\\Documents\\GitHub\\elec5305-project-520038655\\SoccerNet\\spain_laliga\\2014-2015\\2015-04-28 - 21-00 Barcelona 6 - 0 Getafe\\Labels-v2.json already exists\n",
      "password required for C:\\Users\\CYBORG 15\\Documents\\GitHub\\elec5305-project-520038655\\SoccerNet\\spain_laliga\\2014-2015\\2015-05-02 - 19-00 Atl. Madrid 0 - 0 Ath Bilbao\\1_720p.mkv\n",
      "password required for C:\\Users\\CYBORG 15\\Documents\\GitHub\\elec5305-project-520038655\\SoccerNet\\spain_laliga\\2014-2015\\2015-05-02 - 19-00 Atl. Madrid 0 - 0 Ath Bilbao\\2_720p.mkv\n",
      "C:\\Users\\CYBORG 15\\Documents\\GitHub\\elec5305-project-520038655\\SoccerNet\\spain_laliga\\2014-2015\\2015-05-02 - 19-00 Atl. Madrid 0 - 0 Ath Bilbao\\Labels-v2.json already exists\n",
      "password required for C:\\Users\\CYBORG 15\\Documents\\GitHub\\elec5305-project-520038655\\SoccerNet\\spain_laliga\\2014-2015\\2015-05-02 - 21-00 Sevilla 2 - 3 Real Madrid\\1_720p.mkv\n",
      "password required for C:\\Users\\CYBORG 15\\Documents\\GitHub\\elec5305-project-520038655\\SoccerNet\\spain_laliga\\2014-2015\\2015-05-02 - 21-00 Sevilla 2 - 3 Real Madrid\\2_720p.mkv\n",
      "C:\\Users\\CYBORG 15\\Documents\\GitHub\\elec5305-project-520038655\\SoccerNet\\spain_laliga\\2014-2015\\2015-05-02 - 21-00 Sevilla 2 - 3 Real Madrid\\Labels-v2.json already exists\n",
      "password required for C:\\Users\\CYBORG 15\\Documents\\GitHub\\elec5305-project-520038655\\SoccerNet\\spain_laliga\\2014-2015\\2015-05-23 - 21-30 Real Madrid 7 - 3 Getafe\\1_720p.mkv\n",
      "password required for C:\\Users\\CYBORG 15\\Documents\\GitHub\\elec5305-project-520038655\\SoccerNet\\spain_laliga\\2014-2015\\2015-05-23 - 21-30 Real Madrid 7 - 3 Getafe\\2_720p.mkv\n",
      "C:\\Users\\CYBORG 15\\Documents\\GitHub\\elec5305-project-520038655\\SoccerNet\\spain_laliga\\2014-2015\\2015-05-23 - 21-30 Real Madrid 7 - 3 Getafe\\Labels-v2.json already exists\n",
      "password required for C:\\Users\\CYBORG 15\\Documents\\GitHub\\elec5305-project-520038655\\SoccerNet\\spain_laliga\\2015-2016\\2015-09-12 - 21-30 Atl. Madrid 1 - 2 Barcelona\\1_720p.mkv\n",
      "password required for C:\\Users\\CYBORG 15\\Documents\\GitHub\\elec5305-project-520038655\\SoccerNet\\spain_laliga\\2015-2016\\2015-09-12 - 21-30 Atl. Madrid 1 - 2 Barcelona\\2_720p.mkv\n",
      "C:\\Users\\CYBORG 15\\Documents\\GitHub\\elec5305-project-520038655\\SoccerNet\\spain_laliga\\2015-2016\\2015-09-12 - 21-30 Atl. Madrid 1 - 2 Barcelona\\Labels-v2.json already exists\n",
      "password required for C:\\Users\\CYBORG 15\\Documents\\GitHub\\elec5305-project-520038655\\SoccerNet\\spain_laliga\\2015-2016\\2015-09-26 - 17-00 Barcelona 2 - 1 Las Palmas\\1_720p.mkv\n",
      "password required for C:\\Users\\CYBORG 15\\Documents\\GitHub\\elec5305-project-520038655\\SoccerNet\\spain_laliga\\2015-2016\\2015-09-26 - 17-00 Barcelona 2 - 1 Las Palmas\\2_720p.mkv\n",
      "C:\\Users\\CYBORG 15\\Documents\\GitHub\\elec5305-project-520038655\\SoccerNet\\spain_laliga\\2015-2016\\2015-09-26 - 17-00 Barcelona 2 - 1 Las Palmas\\Labels-v2.json already exists\n",
      "password required for C:\\Users\\CYBORG 15\\Documents\\GitHub\\elec5305-project-520038655\\SoccerNet\\spain_laliga\\2015-2016\\2015-10-24 - 17-00 Celta Vigo 1 - 3 Real Madrid\\1_720p.mkv\n",
      "password required for C:\\Users\\CYBORG 15\\Documents\\GitHub\\elec5305-project-520038655\\SoccerNet\\spain_laliga\\2015-2016\\2015-10-24 - 17-00 Celta Vigo 1 - 3 Real Madrid\\2_720p.mkv\n",
      "C:\\Users\\CYBORG 15\\Documents\\GitHub\\elec5305-project-520038655\\SoccerNet\\spain_laliga\\2015-2016\\2015-10-24 - 17-00 Celta Vigo 1 - 3 Real Madrid\\Labels-v2.json already exists\n",
      "password required for C:\\Users\\CYBORG 15\\Documents\\GitHub\\elec5305-project-520038655\\SoccerNet\\spain_laliga\\2015-2016\\2015-12-13 - 22-30 Villarreal 1 - 0 Real Madrid\\1_720p.mkv\n",
      "password required for C:\\Users\\CYBORG 15\\Documents\\GitHub\\elec5305-project-520038655\\SoccerNet\\spain_laliga\\2015-2016\\2015-12-13 - 22-30 Villarreal 1 - 0 Real Madrid\\2_720p.mkv\n",
      "C:\\Users\\CYBORG 15\\Documents\\GitHub\\elec5305-project-520038655\\SoccerNet\\spain_laliga\\2015-2016\\2015-12-13 - 22-30 Villarreal 1 - 0 Real Madrid\\Labels-v2.json already exists\n",
      "password required for C:\\Users\\CYBORG 15\\Documents\\GitHub\\elec5305-project-520038655\\SoccerNet\\spain_laliga\\2015-2016\\2015-12-20 - 18-00 Real Madrid 1 - 0 Rayo Vallecano\\1_720p.mkv\n",
      "password required for C:\\Users\\CYBORG 15\\Documents\\GitHub\\elec5305-project-520038655\\SoccerNet\\spain_laliga\\2015-2016\\2015-12-20 - 18-00 Real Madrid 1 - 0 Rayo Vallecano\\2_720p.mkv\n",
      "C:\\Users\\CYBORG 15\\Documents\\GitHub\\elec5305-project-520038655\\SoccerNet\\spain_laliga\\2015-2016\\2015-12-20 - 18-00 Real Madrid 1 - 0 Rayo Vallecano\\Labels-v2.json already exists\n",
      "password required for C:\\Users\\CYBORG 15\\Documents\\GitHub\\elec5305-project-520038655\\SoccerNet\\spain_laliga\\2015-2016\\2016-01-03 - 22-30 Valencia 2 - 2 Real Madrid\\1_720p.mkv\n",
      "password required for C:\\Users\\CYBORG 15\\Documents\\GitHub\\elec5305-project-520038655\\SoccerNet\\spain_laliga\\2015-2016\\2016-01-03 - 22-30 Valencia 2 - 2 Real Madrid\\2_720p.mkv\n",
      "C:\\Users\\CYBORG 15\\Documents\\GitHub\\elec5305-project-520038655\\SoccerNet\\spain_laliga\\2015-2016\\2016-01-03 - 22-30 Valencia 2 - 2 Real Madrid\\Labels-v2.json already exists\n",
      "password required for C:\\Users\\CYBORG 15\\Documents\\GitHub\\elec5305-project-520038655\\SoccerNet\\spain_laliga\\2015-2016\\2016-01-09 - 22-30 Real Madrid 5 - 0 Dep. La Coruna\\1_720p.mkv\n",
      "password required for C:\\Users\\CYBORG 15\\Documents\\GitHub\\elec5305-project-520038655\\SoccerNet\\spain_laliga\\2015-2016\\2016-01-09 - 22-30 Real Madrid 5 - 0 Dep. La Coruna\\2_720p.mkv\n",
      "C:\\Users\\CYBORG 15\\Documents\\GitHub\\elec5305-project-520038655\\SoccerNet\\spain_laliga\\2015-2016\\2016-01-09 - 22-30 Real Madrid 5 - 0 Dep. La Coruna\\Labels-v2.json already exists\n",
      "password required for C:\\Users\\CYBORG 15\\Documents\\GitHub\\elec5305-project-520038655\\SoccerNet\\spain_laliga\\2015-2016\\2016-02-13 - 18-00 Real Madrid 4 - 2 Ath Bilbao\\1_720p.mkv\n",
      "password required for C:\\Users\\CYBORG 15\\Documents\\GitHub\\elec5305-project-520038655\\SoccerNet\\spain_laliga\\2015-2016\\2016-02-13 - 18-00 Real Madrid 4 - 2 Ath Bilbao\\2_720p.mkv\n",
      "C:\\Users\\CYBORG 15\\Documents\\GitHub\\elec5305-project-520038655\\SoccerNet\\spain_laliga\\2015-2016\\2016-02-13 - 18-00 Real Madrid 4 - 2 Ath Bilbao\\Labels-v2.json already exists\n",
      "password required for C:\\Users\\CYBORG 15\\Documents\\GitHub\\elec5305-project-520038655\\SoccerNet\\spain_laliga\\2015-2016\\2016-03-20 - 22-30 Real Madrid 4 - 0 Sevilla\\1_720p.mkv\n",
      "password required for C:\\Users\\CYBORG 15\\Documents\\GitHub\\elec5305-project-520038655\\SoccerNet\\spain_laliga\\2015-2016\\2016-03-20 - 22-30 Real Madrid 4 - 0 Sevilla\\2_720p.mkv\n",
      "C:\\Users\\CYBORG 15\\Documents\\GitHub\\elec5305-project-520038655\\SoccerNet\\spain_laliga\\2015-2016\\2016-03-20 - 22-30 Real Madrid 4 - 0 Sevilla\\Labels-v2.json already exists\n",
      "password required for C:\\Users\\CYBORG 15\\Documents\\GitHub\\elec5305-project-520038655\\SoccerNet\\spain_laliga\\2016-2017\\2016-08-21 - 21-15 Real Sociedad 0 - 3 Real Madrid\\1_720p.mkv\n",
      "password required for C:\\Users\\CYBORG 15\\Documents\\GitHub\\elec5305-project-520038655\\SoccerNet\\spain_laliga\\2016-2017\\2016-08-21 - 21-15 Real Sociedad 0 - 3 Real Madrid\\2_720p.mkv\n",
      "C:\\Users\\CYBORG 15\\Documents\\GitHub\\elec5305-project-520038655\\SoccerNet\\spain_laliga\\2016-2017\\2016-08-21 - 21-15 Real Sociedad 0 - 3 Real Madrid\\Labels-v2.json already exists\n",
      "password required for C:\\Users\\CYBORG 15\\Documents\\GitHub\\elec5305-project-520038655\\SoccerNet\\spain_laliga\\2016-2017\\2016-09-17 - 14-00 Leganes 1 - 5 Barcelona\\1_720p.mkv\n",
      "password required for C:\\Users\\CYBORG 15\\Documents\\GitHub\\elec5305-project-520038655\\SoccerNet\\spain_laliga\\2016-2017\\2016-09-17 - 14-00 Leganes 1 - 5 Barcelona\\2_720p.mkv\n",
      "C:\\Users\\CYBORG 15\\Documents\\GitHub\\elec5305-project-520038655\\SoccerNet\\spain_laliga\\2016-2017\\2016-09-17 - 14-00 Leganes 1 - 5 Barcelona\\Labels-v2.json already exists\n",
      "password required for C:\\Users\\CYBORG 15\\Documents\\GitHub\\elec5305-project-520038655\\SoccerNet\\spain_laliga\\2016-2017\\2016-10-02 - 21-45 Celta Vigo 4 - 3 Barcelona\\1_720p.mkv\n",
      "password required for C:\\Users\\CYBORG 15\\Documents\\GitHub\\elec5305-project-520038655\\SoccerNet\\spain_laliga\\2016-2017\\2016-10-02 - 21-45 Celta Vigo 4 - 3 Barcelona\\2_720p.mkv\n",
      "C:\\Users\\CYBORG 15\\Documents\\GitHub\\elec5305-project-520038655\\SoccerNet\\spain_laliga\\2016-2017\\2016-10-02 - 21-45 Celta Vigo 4 - 3 Barcelona\\Labels-v2.json already exists\n",
      "password required for C:\\Users\\CYBORG 15\\Documents\\GitHub\\elec5305-project-520038655\\SoccerNet\\spain_laliga\\2016-2017\\2016-10-15 - 17-15 Barcelona 4 - 0 Dep. La Coruna\\1_720p.mkv\n",
      "password required for C:\\Users\\CYBORG 15\\Documents\\GitHub\\elec5305-project-520038655\\SoccerNet\\spain_laliga\\2016-2017\\2016-10-15 - 17-15 Barcelona 4 - 0 Dep. La Coruna\\2_720p.mkv\n",
      "C:\\Users\\CYBORG 15\\Documents\\GitHub\\elec5305-project-520038655\\SoccerNet\\spain_laliga\\2016-2017\\2016-10-15 - 17-15 Barcelona 4 - 0 Dep. La Coruna\\Labels-v2.json already exists\n",
      "password required for C:\\Users\\CYBORG 15\\Documents\\GitHub\\elec5305-project-520038655\\SoccerNet\\spain_laliga\\2016-2017\\2017-01-07 - 15-00 Real Madrid 5 - 0 Granada CF\\1_720p.mkv\n",
      "password required for C:\\Users\\CYBORG 15\\Documents\\GitHub\\elec5305-project-520038655\\SoccerNet\\spain_laliga\\2016-2017\\2017-01-07 - 15-00 Real Madrid 5 - 0 Granada CF\\2_720p.mkv\n",
      "C:\\Users\\CYBORG 15\\Documents\\GitHub\\elec5305-project-520038655\\SoccerNet\\spain_laliga\\2016-2017\\2017-01-07 - 15-00 Real Madrid 5 - 0 Granada CF\\Labels-v2.json already exists\n",
      "password required for C:\\Users\\CYBORG 15\\Documents\\GitHub\\elec5305-project-520038655\\SoccerNet\\spain_laliga\\2016-2017\\2017-01-21 - 18-15 Real Madrid 2 - 1 Malaga\\1_720p.mkv\n",
      "password required for C:\\Users\\CYBORG 15\\Documents\\GitHub\\elec5305-project-520038655\\SoccerNet\\spain_laliga\\2016-2017\\2017-01-21 - 18-15 Real Madrid 2 - 1 Malaga\\2_720p.mkv\n",
      "C:\\Users\\CYBORG 15\\Documents\\GitHub\\elec5305-project-520038655\\SoccerNet\\spain_laliga\\2016-2017\\2017-01-21 - 18-15 Real Madrid 2 - 1 Malaga\\Labels-v2.json already exists\n",
      "password required for C:\\Users\\CYBORG 15\\Documents\\GitHub\\elec5305-project-520038655\\SoccerNet\\spain_laliga\\2016-2017\\2017-02-18 - 18-15 Real Madrid 2 - 0 Espanyol\\1_720p.mkv\n",
      "password required for C:\\Users\\CYBORG 15\\Documents\\GitHub\\elec5305-project-520038655\\SoccerNet\\spain_laliga\\2016-2017\\2017-02-18 - 18-15 Real Madrid 2 - 0 Espanyol\\2_720p.mkv\n",
      "C:\\Users\\CYBORG 15\\Documents\\GitHub\\elec5305-project-520038655\\SoccerNet\\spain_laliga\\2016-2017\\2017-02-18 - 18-15 Real Madrid 2 - 0 Espanyol\\Labels-v2.json already exists\n",
      "password required for C:\\Users\\CYBORG 15\\Documents\\GitHub\\elec5305-project-520038655\\SoccerNet\\spain_laliga\\2016-2017\\2017-04-23 - 21-45 Real Madrid 2 - 3 Barcelona\\1_720p.mkv\n",
      "password required for C:\\Users\\CYBORG 15\\Documents\\GitHub\\elec5305-project-520038655\\SoccerNet\\spain_laliga\\2016-2017\\2017-04-23 - 21-45 Real Madrid 2 - 3 Barcelona\\2_720p.mkv\n",
      "C:\\Users\\CYBORG 15\\Documents\\GitHub\\elec5305-project-520038655\\SoccerNet\\spain_laliga\\2016-2017\\2017-04-23 - 21-45 Real Madrid 2 - 3 Barcelona\\Labels-v2.json already exists\n",
      "password required for C:\\Users\\CYBORG 15\\Documents\\GitHub\\elec5305-project-520038655\\SoccerNet\\spain_laliga\\2016-2017\\2017-04-29 - 17-15 Real Madrid 2 - 1 Valencia\\1_720p.mkv\n",
      "password required for C:\\Users\\CYBORG 15\\Documents\\GitHub\\elec5305-project-520038655\\SoccerNet\\spain_laliga\\2016-2017\\2017-04-29 - 17-15 Real Madrid 2 - 1 Valencia\\2_720p.mkv\n",
      "C:\\Users\\CYBORG 15\\Documents\\GitHub\\elec5305-project-520038655\\SoccerNet\\spain_laliga\\2016-2017\\2017-04-29 - 17-15 Real Madrid 2 - 1 Valencia\\Labels-v2.json already exists\n",
      "password required for C:\\Users\\CYBORG 15\\Documents\\GitHub\\elec5305-project-520038655\\SoccerNet\\spain_laliga\\2016-2017\\2017-04-29 - 21-45 Espanyol 0 - 3 Barcelona\\1_720p.mkv\n",
      "password required for C:\\Users\\CYBORG 15\\Documents\\GitHub\\elec5305-project-520038655\\SoccerNet\\spain_laliga\\2016-2017\\2017-04-29 - 21-45 Espanyol 0 - 3 Barcelona\\2_720p.mkv\n",
      "C:\\Users\\CYBORG 15\\Documents\\GitHub\\elec5305-project-520038655\\SoccerNet\\spain_laliga\\2016-2017\\2017-04-29 - 21-45 Espanyol 0 - 3 Barcelona\\Labels-v2.json already exists\n",
      "password required for C:\\Users\\CYBORG 15\\Documents\\GitHub\\elec5305-project-520038655\\SoccerNet\\spain_laliga\\2016-2017\\2017-05-14 - 21-00 Las Palmas 1 - 4 Barcelona\\1_720p.mkv\n",
      "password required for C:\\Users\\CYBORG 15\\Documents\\GitHub\\elec5305-project-520038655\\SoccerNet\\spain_laliga\\2016-2017\\2017-05-14 - 21-00 Las Palmas 1 - 4 Barcelona\\2_720p.mkv\n",
      "C:\\Users\\CYBORG 15\\Documents\\GitHub\\elec5305-project-520038655\\SoccerNet\\spain_laliga\\2016-2017\\2017-05-14 - 21-00 Las Palmas 1 - 4 Barcelona\\Labels-v2.json already exists\n",
      "✅ Attempt finished.\n",
      "\n",
      "=== Trying ['1.mp4', '2.mp4', 'Labels-v2.json'] on split=['valid'] ===\n",
      "C:\\Users\\CYBORG 15\\Documents\\GitHub\\elec5305-project-520038655\\SoccerNet\\england_epl\\2014-2015\\2015-04-11 - 19-30 Burnley 0 - 1 Arsenal\\Labels-v2.json already exists\n",
      "C:\\Users\\CYBORG 15\\Documents\\GitHub\\elec5305-project-520038655\\SoccerNet\\england_epl\\2015-2016\\2015-08-30 - 18-00 Swansea 2 - 1 Manchester United\\Labels-v2.json already exists\n",
      "C:\\Users\\CYBORG 15\\Documents\\GitHub\\elec5305-project-520038655\\SoccerNet\\england_epl\\2015-2016\\2015-09-26 - 17-00 Leicester 2 - 5 Arsenal\\Labels-v2.json already exists\n",
      "C:\\Users\\CYBORG 15\\Documents\\GitHub\\elec5305-project-520038655\\SoccerNet\\england_epl\\2015-2016\\2015-09-26 - 17-00 Manchester United 3 - 0 Sunderland\\Labels-v2.json already exists\n",
      "C:\\Users\\CYBORG 15\\Documents\\GitHub\\elec5305-project-520038655\\SoccerNet\\england_epl\\2015-2016\\2015-10-03 - 17-00 Manchester City 6 - 1 Newcastle Utd\\Labels-v2.json already exists\n",
      "C:\\Users\\CYBORG 15\\Documents\\GitHub\\elec5305-project-520038655\\SoccerNet\\england_epl\\2015-2016\\2015-12-26 - 18-00 Chelsea 2 - 2 Watford\\Labels-v2.json already exists\n",
      "C:\\Users\\CYBORG 15\\Documents\\GitHub\\elec5305-project-520038655\\SoccerNet\\england_epl\\2015-2016\\2016-01-23 - 20-30 West Ham 2 - 2 Manchester City\\Labels-v2.json already exists\n",
      "C:\\Users\\CYBORG 15\\Documents\\GitHub\\elec5305-project-520038655\\SoccerNet\\england_epl\\2015-2016\\2016-01-24 - 19-00 Arsenal 0 - 1 Chelsea\\Labels-v2.json already exists\n",
      "C:\\Users\\CYBORG 15\\Documents\\GitHub\\elec5305-project-520038655\\SoccerNet\\england_epl\\2015-2016\\2016-02-13 - 20-30 Chelsea 5 - 1 Newcastle Utd\\Labels-v2.json already exists\n",
      "C:\\Users\\CYBORG 15\\Documents\\GitHub\\elec5305-project-520038655\\SoccerNet\\england_epl\\2015-2016\\2016-02-27 - 18-00 Southampton 1 - 2 Chelsea\\Labels-v2.json already exists\n",
      "C:\\Users\\CYBORG 15\\Documents\\GitHub\\elec5305-project-520038655\\SoccerNet\\england_epl\\2015-2016\\2016-03-05 - 18-00 Manchester City 4 - 0 Aston Villa\\Labels-v2.json already exists\n",
      "C:\\Users\\CYBORG 15\\Documents\\GitHub\\elec5305-project-520038655\\SoccerNet\\england_epl\\2015-2016\\2016-03-20 - 19-00 Manchester City 0 - 1 Manchester United\\Labels-v2.json already exists\n",
      "C:\\Users\\CYBORG 15\\Documents\\GitHub\\elec5305-project-520038655\\SoccerNet\\england_epl\\2015-2016\\2016-04-23 - 17-00 Bournemouth 1 - 4 Chelsea\\Labels-v2.json already exists\n",
      "C:\\Users\\CYBORG 15\\Documents\\GitHub\\elec5305-project-520038655\\SoccerNet\\england_epl\\2016-2017\\2016-10-01 - 14-30 Swansea 1 - 2 Liverpool\\Labels-v2.json already exists\n",
      "C:\\Users\\CYBORG 15\\Documents\\GitHub\\elec5305-project-520038655\\SoccerNet\\england_epl\\2016-2017\\2016-10-02 - 18-30 Burnley 0 - 1 Arsenal\\Labels-v2.json already exists\n",
      "C:\\Users\\CYBORG 15\\Documents\\GitHub\\elec5305-project-520038655\\SoccerNet\\england_epl\\2016-2017\\2016-10-22 - 17-00 Arsenal 0 - 0 Middlesbrough\\Labels-v2.json already exists\n",
      "C:\\Users\\CYBORG 15\\Documents\\GitHub\\elec5305-project-520038655\\SoccerNet\\england_epl\\2016-2017\\2016-10-29 - 19-30 Crystal Palace 2 - 4 Liverpool\\Labels-v2.json already exists\n",
      "C:\\Users\\CYBORG 15\\Documents\\GitHub\\elec5305-project-520038655\\SoccerNet\\england_epl\\2016-2017\\2016-12-04 - 16-30 Bournemouth 4 - 3 Liverpool\\Labels-v2.json already exists\n",
      "C:\\Users\\CYBORG 15\\Documents\\GitHub\\elec5305-project-520038655\\SoccerNet\\england_epl\\2016-2017\\2017-04-09 - 18-00 Everton 4 - 2 Leicester\\Labels-v2.json already exists\n",
      "C:\\Users\\CYBORG 15\\Documents\\GitHub\\elec5305-project-520038655\\SoccerNet\\europe_uefa-champions-league\\2014-2015\\2014-11-04 - 22-45 Real Madrid 1 - 0 Liverpool\\Labels-v2.json already exists\n",
      "C:\\Users\\CYBORG 15\\Documents\\GitHub\\elec5305-project-520038655\\SoccerNet\\europe_uefa-champions-league\\2014-2015\\2014-11-05 - 22-45 Ajax 0 - 2 Barcelona\\Labels-v2.json already exists\n",
      "C:\\Users\\CYBORG 15\\Documents\\GitHub\\elec5305-project-520038655\\SoccerNet\\europe_uefa-champions-league\\2014-2015\\2014-11-05 - 22-45 Manchester City 1 - 2 CSKA Moscow\\Labels-v2.json already exists\n",
      "C:\\Users\\CYBORG 15\\Documents\\GitHub\\elec5305-project-520038655\\SoccerNet\\europe_uefa-champions-league\\2014-2015\\2014-12-09 - 22-45 Galatasaray 1 - 4 Arsenal\\Labels-v2.json already exists\n",
      "C:\\Users\\CYBORG 15\\Documents\\GitHub\\elec5305-project-520038655\\SoccerNet\\europe_uefa-champions-league\\2014-2015\\2014-12-09 - 22-45 Real Madrid 4 - 0 Ludogorets\\Labels-v2.json already exists\n",
      "C:\\Users\\CYBORG 15\\Documents\\GitHub\\elec5305-project-520038655\\SoccerNet\\europe_uefa-champions-league\\2014-2015\\2015-03-11 - 22-45 Bayern Munich 7 - 0 Shakhtar Donetsk\\Labels-v2.json already exists\n",
      "C:\\Users\\CYBORG 15\\Documents\\GitHub\\elec5305-project-520038655\\SoccerNet\\europe_uefa-champions-league\\2014-2015\\2015-04-15 - 21-45 Paris SG 1 - 3 Barcelona\\Labels-v2.json already exists\n",
      "C:\\Users\\CYBORG 15\\Documents\\GitHub\\elec5305-project-520038655\\SoccerNet\\europe_uefa-champions-league\\2014-2015\\2015-04-21 - 21-45 Barcelona 2 - 0 Paris SG\\Labels-v2.json already exists\n",
      "C:\\Users\\CYBORG 15\\Documents\\GitHub\\elec5305-project-520038655\\SoccerNet\\europe_uefa-champions-league\\2015-2016\\2015-09-15 - 21-45 PSV 2 - 1 Manchester United\\Labels-v2.json already exists\n",
      "C:\\Users\\CYBORG 15\\Documents\\GitHub\\elec5305-project-520038655\\SoccerNet\\europe_uefa-champions-league\\2015-2016\\2015-09-16 - 21-45 Chelsea 4 - 0 Maccabi Tel Aviv\\Labels-v2.json already exists\n",
      "C:\\Users\\CYBORG 15\\Documents\\GitHub\\elec5305-project-520038655\\SoccerNet\\europe_uefa-champions-league\\2015-2016\\2015-09-16 - 21-45 Dyn. Kiev 2 - 2 FC Porto\\Labels-v2.json already exists\n",
      "C:\\Users\\CYBORG 15\\Documents\\GitHub\\elec5305-project-520038655\\SoccerNet\\europe_uefa-champions-league\\2015-2016\\2015-09-16 - 21-45 Olympiakos Piraeus 0 - 3 Bayern Munich\\Labels-v2.json already exists\n",
      "C:\\Users\\CYBORG 15\\Documents\\GitHub\\elec5305-project-520038655\\SoccerNet\\europe_uefa-champions-league\\2015-2016\\2015-09-29 - 21-45 Barcelona 2 - 1 Bayer Leverkusen\\Labels-v2.json already exists\n",
      "C:\\Users\\CYBORG 15\\Documents\\GitHub\\elec5305-project-520038655\\SoccerNet\\europe_uefa-champions-league\\2015-2016\\2015-09-29 - 21-45 FC Porto 2 - 1 Chelsea\\Labels-v2.json already exists\n",
      "C:\\Users\\CYBORG 15\\Documents\\GitHub\\elec5305-project-520038655\\SoccerNet\\europe_uefa-champions-league\\2015-2016\\2015-11-03 - 22-45 Benfica 2 - 1 Galatasaray\\Labels-v2.json already exists\n",
      "C:\\Users\\CYBORG 15\\Documents\\GitHub\\elec5305-project-520038655\\SoccerNet\\europe_uefa-champions-league\\2015-2016\\2015-11-04 - 22-45 Barcelona 3 - 0 BATE\\Labels-v2.json already exists\n",
      "C:\\Users\\CYBORG 15\\Documents\\GitHub\\elec5305-project-520038655\\SoccerNet\\europe_uefa-champions-league\\2015-2016\\2015-11-24 - 20-00 BATE 1 - 1 Bayer Leverkusen\\Labels-v2.json already exists\n",
      "C:\\Users\\CYBORG 15\\Documents\\GitHub\\elec5305-project-520038655\\SoccerNet\\europe_uefa-champions-league\\2015-2016\\2015-11-25 - 22-45 Juventus 1 - 0 Manchester City\\Labels-v2.json already exists\n",
      "C:\\Users\\CYBORG 15\\Documents\\GitHub\\elec5305-project-520038655\\SoccerNet\\europe_uefa-champions-league\\2016-2017\\2016-09-28 - 21-45 Napoli 4 - 2 Benfica\\Labels-v2.json already exists\n",
      "C:\\Users\\CYBORG 15\\Documents\\GitHub\\elec5305-project-520038655\\SoccerNet\\europe_uefa-champions-league\\2016-2017\\2016-10-19 - 21-45 Paris SG 3 - 0 Basel\\Labels-v2.json already exists\n",
      "C:\\Users\\CYBORG 15\\Documents\\GitHub\\elec5305-project-520038655\\SoccerNet\\france_ligue-1\\2015-2016\\2015-09-19 - 18-30 Reims 1 - 1 Paris SG\\Labels-v2.json already exists\n",
      "C:\\Users\\CYBORG 15\\Documents\\GitHub\\elec5305-project-520038655\\SoccerNet\\france_ligue-1\\2016-2017\\2016-08-21 - 21-45 Paris SG 3 - 0 Metz\\Labels-v2.json already exists\n",
      "C:\\Users\\CYBORG 15\\Documents\\GitHub\\elec5305-project-520038655\\SoccerNet\\france_ligue-1\\2016-2017\\2016-09-09 - 21-45 Paris SG 1 - 1 St Etienne\\Labels-v2.json already exists\n",
      "C:\\Users\\CYBORG 15\\Documents\\GitHub\\elec5305-project-520038655\\SoccerNet\\france_ligue-1\\2016-2017\\2016-09-20 - 22-00 Paris SG 3 - 0 Dijon\\Labels-v2.json already exists\n",
      "C:\\Users\\CYBORG 15\\Documents\\GitHub\\elec5305-project-520038655\\SoccerNet\\france_ligue-1\\2016-2017\\2016-10-23 - 21-45 Paris SG 0 - 0 Marseille\\Labels-v2.json already exists\n",
      "C:\\Users\\CYBORG 15\\Documents\\GitHub\\elec5305-project-520038655\\SoccerNet\\france_ligue-1\\2016-2017\\2016-12-03 - 19-00 Montpellier 3 - 0 Paris SG\\Labels-v2.json already exists\n",
      "C:\\Users\\CYBORG 15\\Documents\\GitHub\\elec5305-project-520038655\\SoccerNet\\france_ligue-1\\2016-2017\\2017-03-04 - 19-00 Paris SG 1 - 0 Nancy\\Labels-v2.json already exists\n",
      "C:\\Users\\CYBORG 15\\Documents\\GitHub\\elec5305-project-520038655\\SoccerNet\\france_ligue-1\\2016-2017\\2017-04-09 - 22-00 Paris SG 4 - 0 Guingamp\\Labels-v2.json already exists\n",
      "C:\\Users\\CYBORG 15\\Documents\\GitHub\\elec5305-project-520038655\\SoccerNet\\france_ligue-1\\2016-2017\\2017-05-14 - 22-00 St Etienne 0 - 5 Paris SG\\Labels-v2.json already exists\n",
      "C:\\Users\\CYBORG 15\\Documents\\GitHub\\elec5305-project-520038655\\SoccerNet\\germany_bundesliga\\2014-2015\\2015-04-25 - 19-30 Bayern Munich 1 - 0 Hertha Berlin\\Labels-v2.json already exists\n",
      "C:\\Users\\CYBORG 15\\Documents\\GitHub\\elec5305-project-520038655\\SoccerNet\\germany_bundesliga\\2014-2015\\2015-05-02 - 16-30 Hoffenheim 1 - 1 Dortmund\\Labels-v2.json already exists\n",
      "C:\\Users\\CYBORG 15\\Documents\\GitHub\\elec5305-project-520038655\\SoccerNet\\germany_bundesliga\\2015-2016\\2015-09-20 - 18-30 Dortmund 3 - 0 Bayer Leverkusen\\Labels-v2.json already exists\n",
      "C:\\Users\\CYBORG 15\\Documents\\GitHub\\elec5305-project-520038655\\SoccerNet\\germany_bundesliga\\2015-2016\\2015-10-04 - 18-30 Bayern Munich 5 - 1 Dortmund\\Labels-v2.json already exists\n",
      "C:\\Users\\CYBORG 15\\Documents\\GitHub\\elec5305-project-520038655\\SoccerNet\\germany_bundesliga\\2015-2016\\2015-11-07 - 17-30 Bayern Munich 4 - 0 VfB Stuttgart\\Labels-v2.json already exists\n",
      "C:\\Users\\CYBORG 15\\Documents\\GitHub\\elec5305-project-520038655\\SoccerNet\\germany_bundesliga\\2015-2016\\2016-04-23 - 16-30 Hertha Berlin 0 - 2 Bayern Munich\\Labels-v2.json already exists\n",
      "C:\\Users\\CYBORG 15\\Documents\\GitHub\\elec5305-project-520038655\\SoccerNet\\germany_bundesliga\\2016-2017\\2016-12-03 - 17-30 Dortmund 4 - 1 B. Monchengladbach\\Labels-v2.json already exists\n",
      "C:\\Users\\CYBORG 15\\Documents\\GitHub\\elec5305-project-520038655\\SoccerNet\\germany_bundesliga\\2016-2017\\2017-02-25 - 17-30 SC Freiburg 0 - 3 Dortmund\\Labels-v2.json already exists\n",
      "C:\\Users\\CYBORG 15\\Documents\\GitHub\\elec5305-project-520038655\\SoccerNet\\italy_serie-a\\2014-2015\\2015-04-25 - 19-00 Udinese 2 - 1 AC Milan\\Labels-v2.json already exists\n",
      "C:\\Users\\CYBORG 15\\Documents\\GitHub\\elec5305-project-520038655\\SoccerNet\\italy_serie-a\\2014-2015\\2015-05-10 - 21-45 Lazio 1 - 2 Inter\\Labels-v2.json already exists\n",
      "C:\\Users\\CYBORG 15\\Documents\\GitHub\\elec5305-project-520038655\\SoccerNet\\italy_serie-a\\2014-2015\\2015-05-17 - 13-30 Sassuolo 3 - 2 AC Milan\\Labels-v2.json already exists\n",
      "C:\\Users\\CYBORG 15\\Documents\\GitHub\\elec5305-project-520038655\\SoccerNet\\italy_serie-a\\2015-2016\\2015-09-26 - 21-45 Napoli 2 - 1 Juventus\\Labels-v2.json already exists\n",
      "C:\\Users\\CYBORG 15\\Documents\\GitHub\\elec5305-project-520038655\\SoccerNet\\italy_serie-a\\2016-2017\\2016-08-20 - 19-00 AS Roma 4 - 0 Udinese\\Labels-v2.json already exists\n",
      "C:\\Users\\CYBORG 15\\Documents\\GitHub\\elec5305-project-520038655\\SoccerNet\\italy_serie-a\\2016-2017\\2016-09-18 - 21-45 Fiorentina 1 - 0 AS Roma\\Labels-v2.json already exists\n",
      "C:\\Users\\CYBORG 15\\Documents\\GitHub\\elec5305-project-520038655\\SoccerNet\\italy_serie-a\\2016-2017\\2016-09-21 - 21-45 Genoa 0 - 0 Napoli\\Labels-v2.json already exists\n",
      "C:\\Users\\CYBORG 15\\Documents\\GitHub\\elec5305-project-520038655\\SoccerNet\\italy_serie-a\\2016-2017\\2016-10-02 - 19-00 AC Milan 4 - 3 Sassuolo\\Labels-v2.json already exists\n",
      "C:\\Users\\CYBORG 15\\Documents\\GitHub\\elec5305-project-520038655\\SoccerNet\\italy_serie-a\\2016-2017\\2016-10-29 - 21-45 Juventus 2 - 1 Napoli\\Labels-v2.json already exists\n",
      "C:\\Users\\CYBORG 15\\Documents\\GitHub\\elec5305-project-520038655\\SoccerNet\\italy_serie-a\\2016-2017\\2016-11-05 - 22-45 Napoli 1 - 1 Lazio\\Labels-v2.json already exists\n",
      "C:\\Users\\CYBORG 15\\Documents\\GitHub\\elec5305-project-520038655\\SoccerNet\\italy_serie-a\\2016-2017\\2016-12-12 - 23-00 AS Roma 1 - 0 AC Milan\\Labels-v2.json already exists\n",
      "C:\\Users\\CYBORG 15\\Documents\\GitHub\\elec5305-project-520038655\\SoccerNet\\italy_serie-a\\2016-2017\\2017-01-22 - 22-45 AS Roma 1 - 0 Cagliari\\Labels-v2.json already exists\n",
      "C:\\Users\\CYBORG 15\\Documents\\GitHub\\elec5305-project-520038655\\SoccerNet\\italy_serie-a\\2016-2017\\2017-02-19 - 17-00 Chievo 1 - 3 Napoli\\Labels-v2.json already exists\n",
      "C:\\Users\\CYBORG 15\\Documents\\GitHub\\elec5305-project-520038655\\SoccerNet\\italy_serie-a\\2016-2017\\2017-03-12 - 22-45 Palermo 0 - 3 AS Roma\\Labels-v2.json already exists\n",
      "C:\\Users\\CYBORG 15\\Documents\\GitHub\\elec5305-project-520038655\\SoccerNet\\italy_serie-a\\2016-2017\\2017-04-02 - 21-45 Napoli 1 - 1 Juventus\\Labels-v2.json already exists\n",
      "C:\\Users\\CYBORG 15\\Documents\\GitHub\\elec5305-project-520038655\\SoccerNet\\italy_serie-a\\2016-2017\\2017-04-15 - 21-45 Napoli 3 - 0 Udinese\\Labels-v2.json already exists\n",
      "C:\\Users\\CYBORG 15\\Documents\\GitHub\\elec5305-project-520038655\\SoccerNet\\italy_serie-a\\2016-2017\\2017-04-30 - 13-30 AS Roma 1 - 3 Lazio\\Labels-v2.json already exists\n",
      "C:\\Users\\CYBORG 15\\Documents\\GitHub\\elec5305-project-520038655\\SoccerNet\\italy_serie-a\\2016-2017\\2017-05-06 - 19-00 Napoli 3 - 1 Cagliari\\Labels-v2.json already exists\n",
      "C:\\Users\\CYBORG 15\\Documents\\GitHub\\elec5305-project-520038655\\SoccerNet\\spain_laliga\\2014-2015\\2015-04-11 - 17-00 Real Madrid 3 - 0 Eibar\\Labels-v2.json already exists\n",
      "C:\\Users\\CYBORG 15\\Documents\\GitHub\\elec5305-project-520038655\\SoccerNet\\spain_laliga\\2014-2015\\2015-04-11 - 21-00 Sevilla 2 - 2 Barcelona\\Labels-v2.json already exists\n",
      "C:\\Users\\CYBORG 15\\Documents\\GitHub\\elec5305-project-520038655\\SoccerNet\\spain_laliga\\2014-2015\\2015-04-28 - 21-00 Barcelona 6 - 0 Getafe\\Labels-v2.json already exists\n",
      "C:\\Users\\CYBORG 15\\Documents\\GitHub\\elec5305-project-520038655\\SoccerNet\\spain_laliga\\2014-2015\\2015-05-02 - 19-00 Atl. Madrid 0 - 0 Ath Bilbao\\Labels-v2.json already exists\n",
      "C:\\Users\\CYBORG 15\\Documents\\GitHub\\elec5305-project-520038655\\SoccerNet\\spain_laliga\\2014-2015\\2015-05-02 - 21-00 Sevilla 2 - 3 Real Madrid\\Labels-v2.json already exists\n",
      "C:\\Users\\CYBORG 15\\Documents\\GitHub\\elec5305-project-520038655\\SoccerNet\\spain_laliga\\2014-2015\\2015-05-23 - 21-30 Real Madrid 7 - 3 Getafe\\Labels-v2.json already exists\n",
      "C:\\Users\\CYBORG 15\\Documents\\GitHub\\elec5305-project-520038655\\SoccerNet\\spain_laliga\\2015-2016\\2015-09-12 - 21-30 Atl. Madrid 1 - 2 Barcelona\\Labels-v2.json already exists\n",
      "C:\\Users\\CYBORG 15\\Documents\\GitHub\\elec5305-project-520038655\\SoccerNet\\spain_laliga\\2015-2016\\2015-09-26 - 17-00 Barcelona 2 - 1 Las Palmas\\Labels-v2.json already exists\n",
      "C:\\Users\\CYBORG 15\\Documents\\GitHub\\elec5305-project-520038655\\SoccerNet\\spain_laliga\\2015-2016\\2015-10-24 - 17-00 Celta Vigo 1 - 3 Real Madrid\\Labels-v2.json already exists\n",
      "C:\\Users\\CYBORG 15\\Documents\\GitHub\\elec5305-project-520038655\\SoccerNet\\spain_laliga\\2015-2016\\2015-12-13 - 22-30 Villarreal 1 - 0 Real Madrid\\Labels-v2.json already exists\n",
      "C:\\Users\\CYBORG 15\\Documents\\GitHub\\elec5305-project-520038655\\SoccerNet\\spain_laliga\\2015-2016\\2015-12-20 - 18-00 Real Madrid 1 - 0 Rayo Vallecano\\Labels-v2.json already exists\n",
      "C:\\Users\\CYBORG 15\\Documents\\GitHub\\elec5305-project-520038655\\SoccerNet\\spain_laliga\\2015-2016\\2016-01-03 - 22-30 Valencia 2 - 2 Real Madrid\\Labels-v2.json already exists\n",
      "C:\\Users\\CYBORG 15\\Documents\\GitHub\\elec5305-project-520038655\\SoccerNet\\spain_laliga\\2015-2016\\2016-01-09 - 22-30 Real Madrid 5 - 0 Dep. La Coruna\\Labels-v2.json already exists\n",
      "C:\\Users\\CYBORG 15\\Documents\\GitHub\\elec5305-project-520038655\\SoccerNet\\spain_laliga\\2015-2016\\2016-02-13 - 18-00 Real Madrid 4 - 2 Ath Bilbao\\Labels-v2.json already exists\n",
      "C:\\Users\\CYBORG 15\\Documents\\GitHub\\elec5305-project-520038655\\SoccerNet\\spain_laliga\\2015-2016\\2016-03-20 - 22-30 Real Madrid 4 - 0 Sevilla\\Labels-v2.json already exists\n",
      "C:\\Users\\CYBORG 15\\Documents\\GitHub\\elec5305-project-520038655\\SoccerNet\\spain_laliga\\2016-2017\\2016-08-21 - 21-15 Real Sociedad 0 - 3 Real Madrid\\Labels-v2.json already exists\n",
      "C:\\Users\\CYBORG 15\\Documents\\GitHub\\elec5305-project-520038655\\SoccerNet\\spain_laliga\\2016-2017\\2016-09-17 - 14-00 Leganes 1 - 5 Barcelona\\Labels-v2.json already exists\n",
      "C:\\Users\\CYBORG 15\\Documents\\GitHub\\elec5305-project-520038655\\SoccerNet\\spain_laliga\\2016-2017\\2016-10-02 - 21-45 Celta Vigo 4 - 3 Barcelona\\Labels-v2.json already exists\n",
      "C:\\Users\\CYBORG 15\\Documents\\GitHub\\elec5305-project-520038655\\SoccerNet\\spain_laliga\\2016-2017\\2016-10-15 - 17-15 Barcelona 4 - 0 Dep. La Coruna\\Labels-v2.json already exists\n",
      "C:\\Users\\CYBORG 15\\Documents\\GitHub\\elec5305-project-520038655\\SoccerNet\\spain_laliga\\2016-2017\\2017-01-07 - 15-00 Real Madrid 5 - 0 Granada CF\\Labels-v2.json already exists\n",
      "C:\\Users\\CYBORG 15\\Documents\\GitHub\\elec5305-project-520038655\\SoccerNet\\spain_laliga\\2016-2017\\2017-01-21 - 18-15 Real Madrid 2 - 1 Malaga\\Labels-v2.json already exists\n",
      "C:\\Users\\CYBORG 15\\Documents\\GitHub\\elec5305-project-520038655\\SoccerNet\\spain_laliga\\2016-2017\\2017-02-18 - 18-15 Real Madrid 2 - 0 Espanyol\\Labels-v2.json already exists\n",
      "C:\\Users\\CYBORG 15\\Documents\\GitHub\\elec5305-project-520038655\\SoccerNet\\spain_laliga\\2016-2017\\2017-04-23 - 21-45 Real Madrid 2 - 3 Barcelona\\Labels-v2.json already exists\n",
      "C:\\Users\\CYBORG 15\\Documents\\GitHub\\elec5305-project-520038655\\SoccerNet\\spain_laliga\\2016-2017\\2017-04-29 - 17-15 Real Madrid 2 - 1 Valencia\\Labels-v2.json already exists\n",
      "C:\\Users\\CYBORG 15\\Documents\\GitHub\\elec5305-project-520038655\\SoccerNet\\spain_laliga\\2016-2017\\2017-04-29 - 21-45 Espanyol 0 - 3 Barcelona\\Labels-v2.json already exists\n",
      "C:\\Users\\CYBORG 15\\Documents\\GitHub\\elec5305-project-520038655\\SoccerNet\\spain_laliga\\2016-2017\\2017-05-14 - 21-00 Las Palmas 1 - 4 Barcelona\\Labels-v2.json already exists\n",
      "✅ Attempt finished.\n",
      "Videos found in 'valid': 0\n"
     ]
    }
   ],
   "source": [
    "# --- Parse labels + pair with the correct video (per-half) ---\n",
    "\n",
    "from pathlib import Path\n",
    "import json\n",
    "import pandas as pd\n",
    "from tqdm import tqdm\n",
    "\n",
    "def find_label_files(root: Path):\n",
    "    \"\"\"Find SoccerNet label files under root (v2 preferred, fallback to legacy).\"\"\"\n",
    "    files = list(root.rglob(\"Labels-v2.json\"))\n",
    "    if not files:\n",
    "        files = list(root.rglob(\"Labels.json\"))\n",
    "    if files:\n",
    "        print(f\"✅ Found {len(files)} label files (showing up to 3):\")\n",
    "        for f in files[:3]:\n",
    "            print(\"   •\", f)\n",
    "    else:\n",
    "        print(f\"⚠️ No label files found under: {root}\")\n",
    "    return files\n",
    "\n",
    "def find_half_videos(match_dir: Path):\n",
    "    \"\"\"\n",
    "    Return dict mapping half->Path and 'any' fallback:\n",
    "      {'1': Path|None, '2': Path|None, 'any': Path|None}\n",
    "    Tries common names first, then any mkv/mp4 in folder.\n",
    "    \"\"\"\n",
    "    half_map = {1: None, 2: None}\n",
    "    any_vid = None\n",
    "    preferred = [\n",
    "        (\"1_720p.mkv\", 1), (\"2_720p.mkv\", 2),\n",
    "        (\"1.mkv\", 1),     (\"2.mkv\", 2),\n",
    "        (\"1.mp4\", 1),     (\"2.mp4\", 2),\n",
    "    ]\n",
    "    for name, half in preferred:\n",
    "        p = match_dir / name\n",
    "        if p.exists():\n",
    "            half_map[half] = p\n",
    "            if any_vid is None:\n",
    "                any_vid = p\n",
    "    if any_vid is None:\n",
    "        for ext in (\".mkv\", \".mp4\", \".m4v\", \".mov\"):\n",
    "            found = list(match_dir.glob(f\"*{ext}\"))\n",
    "            if found:\n",
    "                any_vid = found[0]\n",
    "                break\n",
    "    return {\"1\": half_map[1], \"2\": half_map[2], \"any\": any_vid}\n",
    "\n",
    "def _parse_time_mmss(s: str):\n",
    "    # Supports \"HH:MM:SS\" or \"MM:SS\"\n",
    "    parts = s.split(\":\")\n",
    "    try:\n",
    "        if len(parts) == 3:\n",
    "            hh, mm, ss = parts\n",
    "            return int(hh)*3600 + int(mm)*60 + float(ss)\n",
    "        if len(parts) == 2:\n",
    "            mm, ss = parts\n",
    "            return int(mm)*60 + float(ss)\n",
    "    except Exception:\n",
    "        return None\n",
    "    return None\n",
    "\n",
    "def load_labels_with_half(labels_path: Path):\n",
    "    \"\"\"\n",
    "    Read label JSON and return list of dicts:\n",
    "      {'time_s': float, 'label': str, 'half': int|0}\n",
    "    Half is inferred from 'half' or 'gameTime' if present.\n",
    "    Time is taken from 'position' (seconds) or parsed from 'gameTime'.\n",
    "    \"\"\"\n",
    "    try:\n",
    "        with open(labels_path, \"r\", encoding=\"utf-8\") as f:\n",
    "            data = json.load(f)\n",
    "    except Exception as e:\n",
    "        print(f\"⚠️ Failed to read JSON: {labels_path} | {e}\")\n",
    "        return []\n",
    "\n",
    "    ann = data.get(\"annotations\") or data.get(\"events\") or data.get(\"labels\") or []\n",
    "    events = []\n",
    "    for ev in ann:\n",
    "        lab = ev.get(\"label\") or ev.get(\"event\") or ev.get(\"type\")\n",
    "        if not lab:\n",
    "            continue\n",
    "\n",
    "        # infer half\n",
    "        half = ev.get(\"half\")\n",
    "        if half not in (1, 2):\n",
    "            gt = ev.get(\"gameTime\")\n",
    "            if isinstance(gt, str) and \" - \" in gt:\n",
    "                try:\n",
    "                    half = int(gt.split(\" - \")[0].strip())\n",
    "                except Exception:\n",
    "                    half = None\n",
    "\n",
    "        # infer time (seconds from half start)\n",
    "        pos = ev.get(\"position\")\n",
    "        t = None\n",
    "        if isinstance(pos, (int, float)):\n",
    "            t = float(pos)\n",
    "        elif isinstance(pos, str):\n",
    "            t = _parse_time_mmss(pos)\n",
    "\n",
    "        if t is None:\n",
    "            gt = ev.get(\"gameTime\")\n",
    "            if isinstance(gt, str) and \" - \" in gt:\n",
    "                t = _parse_time_mmss(gt.split(\" - \")[1].strip())\n",
    "\n",
    "        if t is None:\n",
    "            continue\n",
    "\n",
    "        events.append({\"time_s\": t, \"label\": lab, \"half\": (half if half in (1, 2) else 0)})\n",
    "    return events\n",
    "\n",
    "# ---- Build dataframe ----\n",
    "\n",
    "rows = []\n",
    "label_files = find_label_files(SN_ROOT)\n",
    "print(\"📄 Label files found:\", len(label_files))\n",
    "\n",
    "for lf in tqdm(label_files, desc=\"Index matches (per-half)\"):\n",
    "    match_dir = lf.parent\n",
    "    vids = find_half_videos(match_dir)           # {'1': Path|None, '2': Path|None, 'any': Path|None}\n",
    "    evs  = load_labels_with_half(lf)\n",
    "    if not evs:\n",
    "        continue\n",
    "\n",
    "    for e in evs:\n",
    "        # choose video by half when available, else fallback to any\n",
    "        video = vids[str(e[\"half\"])] if e[\"half\"] in (1, 2) else vids[\"any\"]\n",
    "        if video is None:\n",
    "            # no video in this match directory → skip (audio pipeline needs a video/audio file)\n",
    "            continue\n",
    "\n",
    "        rows.append({\n",
    "            \"split\": match_dir.parent.name,   # train/valid/test\n",
    "            \"match_dir\": str(match_dir),\n",
    "            \"labels_json\": str(lf),\n",
    "            \"video_path\": str(video),\n",
    "            \"event_time_s\": float(e[\"time_s\"]),\n",
    "            \"event_label\": e[\"label\"],\n",
    "            \"half\": int(e[\"half\"])\n",
    "        })\n",
    "\n",
    "if not rows:\n",
    "    raise RuntimeError(\n",
    "        \"No events paired to videos.\\n\"\n",
    "        \"- If labels exist but videos don't, your account likely has labels-only access.\\n\"\n",
    "        \"- Otherwise verify SN_ROOT and that video halves (1/2) are present.\"\n",
    "    )\n",
    "\n",
    "df_events = pd.DataFrame(rows).drop_duplicates(\n",
    "    subset=[\"match_dir\", \"video_path\", \"event_time_s\", \"event_label\"]\n",
    ").reset_index(drop=True)\n",
    "\n",
    "print(\"✅ Indexed events:\", len(df_events))\n",
    "print(\"🎥 Unique videos:\", df_events['video_path'].nunique())\n",
    "ALL_LABELS = sorted(df_events[\"event_label\"].unique().tolist())\n",
    "print(\"🏷️ Labels found:\", ALL_LABELS)\n",
    "print(\"🧮 Total classes:\", len(ALL_LABELS))\n",
    "\n",
    "# Use all labels present in your split\n",
    "TARGET_LABELS = set(ALL_LABELS)\n"
   ]
  }
 ],
 "metadata": {
  "kernelspec": {
   "display_name": "Python 3",
   "language": "python",
   "name": "python3"
  },
  "language_info": {
   "codemirror_mode": {
    "name": "ipython",
    "version": 3
   },
   "file_extension": ".py",
   "mimetype": "text/x-python",
   "name": "python",
   "nbconvert_exporter": "python",
   "pygments_lexer": "ipython3",
   "version": "3.12.3"
  }
 },
 "nbformat": 4,
 "nbformat_minor": 5
}
